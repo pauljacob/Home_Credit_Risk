{
 "cells": [
  {
   "cell_type": "code",
   "execution_count": 1,
   "id": "20200ed8",
   "metadata": {},
   "outputs": [
    {
     "name": "stdout",
     "output_type": "stream",
     "text": [
      "Package installed successfully.\n"
     ]
    }
   ],
   "source": [
    "# import subprocess; command = \"yes | pip3.9 install psycopg2-binary --force-reinstall --no-cache-dir\"; subprocess.run(command, shell=True)\n",
    "\n",
    "import subprocess; result = subprocess.run(['pip3', 'install', 'ipython-autotime'], capture_output=True)\n",
    "print(f\"There was a problem installing the package.\\nError output:\\n{result.stderr.decode('utf-8')}\") if result.returncode != 0 else print(\"Package installed successfully.\")\n"
   ]
  },
  {
   "cell_type": "code",
   "execution_count": 2,
   "id": "0b10bbe4",
   "metadata": {},
   "outputs": [
    {
     "name": "stdout",
     "output_type": "stream",
     "text": [
      "time: 147 µs (started: 2024-04-02 18:37:15 -07:00)\n"
     ]
    }
   ],
   "source": [
    "%load_ext autotime\n"
   ]
  },
  {
   "cell_type": "code",
   "execution_count": 3,
   "id": "9ddd31e0",
   "metadata": {},
   "outputs": [
    {
     "name": "stdout",
     "output_type": "stream",
     "text": [
      "time: 239 µs (started: 2024-04-02 18:37:15 -07:00)\n"
     ]
    }
   ],
   "source": [
    "import sys; source_directory = \"/Users/pauljacob/Library/Python/3.9/lib/python/site-packages\"; sys.path.append(source_directory)\n"
   ]
  },
  {
   "cell_type": "code",
   "execution_count": 4,
   "id": "41fbaa62",
   "metadata": {},
   "outputs": [
    {
     "name": "stderr",
     "output_type": "stream",
     "text": [
      "/var/folders/77/y4hv4_s9751293nzv4yrfrtm0000gn/T/ipykernel_36611/1440535251.py:10: DeprecationWarning: Importing display from IPython.core.display is deprecated since IPython 7.14, please import from IPython display\n",
      "  from IPython.core.display import display, HTML\n"
     ]
    },
    {
     "data": {
      "text/html": [
       "<style>.container { width:99.9% !important; }</style>"
      ],
      "text/plain": [
       "<IPython.core.display.HTML object>"
      ]
     },
     "metadata": {},
     "output_type": "display_data"
    },
    {
     "name": "stdout",
     "output_type": "stream",
     "text": [
      "time: 1.13 s (started: 2024-04-02 18:37:15 -07:00)\n"
     ]
    }
   ],
   "source": [
    "import pandas as pd\n",
    "import os\n",
    "\n",
    "import psycopg2\n",
    "from psycopg2 import OperationalError\n",
    "\n",
    "import time\n",
    "\n",
    "\n",
    "from IPython.core.display import display, HTML\n",
    "display(HTML(\"<style>.container { width:99.9% !important; }</style>\"))\n",
    "pd.options.display.max_columns = 3999\n",
    "pd.options.display.max_rows = 999\n",
    "\n",
    "pd.set_option('display.max_colwidth', None)\n",
    "pd.options.display.max_info_columns = 3999\n",
    "\n"
   ]
  },
  {
   "cell_type": "code",
   "execution_count": 5,
   "id": "dfd986d4",
   "metadata": {},
   "outputs": [
    {
     "name": "stdout",
     "output_type": "stream",
     "text": [
      "time: 2.84 ms (started: 2024-04-02 18:37:16 -07:00)\n"
     ]
    }
   ],
   "source": [
    "def generate_parent_paths_from(filename_path):\n",
    "    components = filename_path.split(os.sep)\n",
    "    parent_paths = [os.sep.join(components[:i+1]) for i in range(len(components))]\n",
    "    return '/ '.join(parent_paths[2:])\n",
    "\n",
    "\n",
    "\n",
    "def create_connection(db_name, db_user, db_password, db_host, db_port):\n",
    "    '''\n",
    "    Source: https://realpython.com/python-sql-libraries/#postgresql\n",
    "    '''\n",
    "    connection = None\n",
    "    try:\n",
    "        connection = psycopg2.connect(database=db_name, user=db_user, password=db_password, host=db_host, port=db_port,)\n",
    "        print(\"Connection to PostgreSQL DB successful\")\n",
    "    except OperationalError as e:\n",
    "        print(f\"The error '{e}' occurred\")\n",
    "    return connection\n",
    "\n",
    "\n",
    "\n",
    "\n",
    "def get_the_column_name_list_from_table_name(table_name, connection,):\n",
    "\n",
    "    query = \"SELECT column_name FROM information_schema.columns WHERE table_name = '{}';\".format(table_name)\n",
    "    cur = connection.cursor()\n",
    "    cur.execute(query)\n",
    "    column_name_list = cur.fetchall()\n",
    "    cur.close()\n",
    "\n",
    "    return [row[0] for row in column_name_list]\n",
    "\n",
    "\n",
    "\n",
    "def execute_query(connection, query, table_name=None, column_name_list=None):\n",
    "    connection.autocommit = True\n",
    "    cursor = connection.cursor()\n",
    "    try:\n",
    "        cursor.execute(query); print(\"Query executed successfully\")\n",
    "        if \"SELECT\" in query:\n",
    "            result=cursor.fetchall()\n",
    "            cursor.close()\n",
    "            if table_name != None and column_name_list != None:\n",
    "                return pd.DataFrame(result, columns=column_name_list)\n",
    "            \n",
    "            elif table_name != None and column_name_list == None:\n",
    "                column_name_list=get_the_column_name_list_from_table_name(table_name=table_name, connection=connection)\n",
    "                return pd.DataFrame(result, columns=column_name_list)\n",
    "            \n",
    "            elif table_name == None:\n",
    "                return pd.DataFrame(result)\n",
    "        else:\n",
    "            cursor.close()\n",
    "            return None\n",
    "\n",
    "    except OperationalError as e:\n",
    "        print(f\"The error '{e}' occurred\")\n",
    "\n",
    "\n",
    "\n",
    "# Source: https://planetscale.com/blog/using-mysql-with-sql-alchemy-hands-on-examples\n",
    "# With SQLAlchemy, you can do things like send raw queries to a database, programmatically\n",
    "# construct SQL statements, and even map Python classes to database tables with\n",
    "# the object-relational mapper (ORM).\n",
    "\n",
    "\n",
    "\n",
    "def preview_df(df):\n",
    "    \"\"\"Of this DataFrame, prints the row and column count and then returns the concatenated first 5 and last % rows.\n",
    "\n",
    "    Args:\n",
    "        df (DataFrame): This pandas DataFrame object.\n",
    "    Returns:\n",
    "        df (DataFrame): The concatenated first 5 and last 5 rows of this pandas DataFrame.\n",
    "    \"\"\"\n",
    "    if df.shape[0] > 9:\n",
    "        print(df.shape)\n",
    "        return pd.DataFrame(pd.concat([df.head(5), df.tail(5)]))\n",
    "    else:\n",
    "        return df\n",
    "\n",
    "\n",
    "def preview_list(list_):\n",
    "    \"\"\"Print the list length and return the list.\n",
    "    \n",
    "    Args:\n",
    "        list_ (list): The list object to return.\n",
    "    \n",
    "    Returns:\n",
    "        list_ (list): The same list object.\n",
    "    \"\"\"\n",
    "    print(len(list_))\n",
    "    return list_\n",
    "\n",
    "\n",
    "\n",
    "def filter_this_data_frame_by_column_name_and_value_list(df, column_name, value_list):\n",
    "    return df.loc[df.loc[:, column_name].isin(value_list), :]\n",
    "\n",
    "\n",
    "def occupy_the_kernel():\n",
    "    time.sleep(1000000)\n",
    "\n",
    "\n",
    "    \n",
    "def construct_query_from_table_name_column_name_list_and_data_type_list(table_name, column_name_list, data_type_list):\n",
    "\n",
    "    query = f\"CREATE TABLE {table_name} (\"\n",
    "\n",
    "    for column_name, data_type in zip(column_name_list, data_type_list):\n",
    "        query += f\"{column_name} {data_type}, \"\n",
    "    #query += ', '.join([f\"{column_name} {data_type}\" for column_name, data_type in zip(column_name_list, data_type_list)])\n",
    "\n",
    "    query = query[:-2]; query += \")\"\n",
    "    return query\n",
    "\n",
    "\n",
    "def get_the_table_column_values_and_value_counts(table_name, column_name):\n",
    "    #Print the Column Name 'approvaldate_319D' Value Counts\n",
    "    query=\\\n",
    "    \"SELECT {}, COUNT({}) AS value_count \\\n",
    "    FROM {} GROUP BY {} ORDER BY value_count DESC;\".format(column_name, column_name, table_name, column_name)\n",
    "    df_value_counts=execute_query(connection, query=query, table_name=table_name, column_name_list=[column_name, 'value_count'])\n",
    "    print(df_value_counts.head(20))\n",
    "\n",
    "    #Select the Values of Column Name 'annuity_853A'\n",
    "    query=\"SELECT {} FROM {}\".format(column_name, table_name)\n",
    "    return execute_query(connection, query=query, table_name=table_name, column_name_list=[column_name])\n",
    "\n",
    "\n",
    "def get_the_table_column_data_types_and_value_count(table_name, column_name, data_type):\n",
    "    #print the Data Type Count of Column Name ' '\n",
    "    query=\"SELECT pg_typeof({}) AS {}, COUNT(*) AS count FROM {} GROUP BY {};\".format(column_name, data_type, table_name, data_type)\n",
    "    data_type_value_count=execute_query(connection, query=query, table_name=table_name, column_name_list=[column_name, 'value_count'])\n",
    "    print(data_type_value_count)\n",
    "    \n",
    "    #Get the Data Type of Column Name ' '\n",
    "    query=\"SELECT pg_typeof({}) AS {} FROM {};\".format(column_name, data_type, table_name)\n",
    "    return execute_query(connection, query=query, table_name=table_name, column_name_list=[column_name])\n",
    "\n"
   ]
  },
  {
   "cell_type": "code",
   "execution_count": null,
   "id": "361bd4ac",
   "metadata": {},
   "outputs": [],
   "source": [
    "\n"
   ]
  },
  {
   "cell_type": "code",
   "execution_count": 6,
   "id": "652022d8",
   "metadata": {},
   "outputs": [
    {
     "name": "stdout",
     "output_type": "stream",
     "text": [
      "(39, 2)\n"
     ]
    },
    {
     "data": {
      "text/html": [
       "<div>\n",
       "<style scoped>\n",
       "    .dataframe tbody tr th:only-of-type {\n",
       "        vertical-align: middle;\n",
       "    }\n",
       "\n",
       "    .dataframe tbody tr th {\n",
       "        vertical-align: top;\n",
       "    }\n",
       "\n",
       "    .dataframe thead th {\n",
       "        text-align: right;\n",
       "    }\n",
       "</style>\n",
       "<table border=\"1\" class=\"dataframe\">\n",
       "  <thead>\n",
       "    <tr style=\"text-align: right;\">\n",
       "      <th></th>\n",
       "      <th>Variable</th>\n",
       "      <th>Description</th>\n",
       "    </tr>\n",
       "  </thead>\n",
       "  <tbody>\n",
       "    <tr>\n",
       "      <th>0</th>\n",
       "      <td>actualdpd_943P</td>\n",
       "      <td>Days Past Due (DPD) of previous contract (actual).</td>\n",
       "    </tr>\n",
       "    <tr>\n",
       "      <th>18</th>\n",
       "      <td>annuity_853A</td>\n",
       "      <td>Monthly annuity for previous applications.</td>\n",
       "    </tr>\n",
       "    <tr>\n",
       "      <th>26</th>\n",
       "      <td>approvaldate_319D</td>\n",
       "      <td>Approval Date of Previous Application</td>\n",
       "    </tr>\n",
       "    <tr>\n",
       "      <th>43</th>\n",
       "      <td>byoccupationinc_3656910L</td>\n",
       "      <td>Applicant's income from previous applications.</td>\n",
       "    </tr>\n",
       "    <tr>\n",
       "      <th>45</th>\n",
       "      <td>cancelreason_3545846M</td>\n",
       "      <td>Application cancellation reason.</td>\n",
       "    </tr>\n",
       "    <tr>\n",
       "      <th>48</th>\n",
       "      <td>childnum_21L</td>\n",
       "      <td>Number of children in the previous application.</td>\n",
       "    </tr>\n",
       "    <tr>\n",
       "      <th>92</th>\n",
       "      <td>creationdate_885D</td>\n",
       "      <td>Date when previous application was created.</td>\n",
       "    </tr>\n",
       "    <tr>\n",
       "      <th>93</th>\n",
       "      <td>credacc_actualbalance_314A</td>\n",
       "      <td>Actual balance on credit account.</td>\n",
       "    </tr>\n",
       "    <tr>\n",
       "      <th>95</th>\n",
       "      <td>credacc_credlmt_575A</td>\n",
       "      <td>Credit card credit limit provided for previous applications.</td>\n",
       "    </tr>\n",
       "    <tr>\n",
       "      <th>96</th>\n",
       "      <td>credacc_maxhisbal_375A</td>\n",
       "      <td>Maximal historical balance of previous credit account</td>\n",
       "    </tr>\n",
       "    <tr>\n",
       "      <th>97</th>\n",
       "      <td>credacc_minhisbal_90A</td>\n",
       "      <td>Minimum historical balance of previous credit accounts.</td>\n",
       "    </tr>\n",
       "    <tr>\n",
       "      <th>98</th>\n",
       "      <td>credacc_status_367L</td>\n",
       "      <td>Account status of previous credit applications.</td>\n",
       "    </tr>\n",
       "    <tr>\n",
       "      <th>99</th>\n",
       "      <td>credacc_transactions_402L</td>\n",
       "      <td>Number of transactions made with the previous credit account of the applicant.</td>\n",
       "    </tr>\n",
       "    <tr>\n",
       "      <th>100</th>\n",
       "      <td>credamount_590A</td>\n",
       "      <td>Loan amount or card limit of previous applications.</td>\n",
       "    </tr>\n",
       "    <tr>\n",
       "      <th>111</th>\n",
       "      <td>credtype_587L</td>\n",
       "      <td>Credit type of previous application.</td>\n",
       "    </tr>\n",
       "    <tr>\n",
       "      <th>113</th>\n",
       "      <td>currdebt_94A</td>\n",
       "      <td>Previous application's current debt.</td>\n",
       "    </tr>\n",
       "    <tr>\n",
       "      <th>115</th>\n",
       "      <td>dateactivated_425D</td>\n",
       "      <td>Contract activation date of the applicant's previous application.</td>\n",
       "    </tr>\n",
       "    <tr>\n",
       "      <th>142</th>\n",
       "      <td>district_544M</td>\n",
       "      <td>District of the address used in the previous loan application.</td>\n",
       "    </tr>\n",
       "    <tr>\n",
       "      <th>144</th>\n",
       "      <td>downpmt_134A</td>\n",
       "      <td>Previous application downpayment amount.</td>\n",
       "    </tr>\n",
       "    <tr>\n",
       "      <th>156</th>\n",
       "      <td>dtlastpmt_581D</td>\n",
       "      <td>Date of last payment made by the applicant.</td>\n",
       "    </tr>\n",
       "    <tr>\n",
       "      <th>157</th>\n",
       "      <td>dtlastpmtallstes_3545839D</td>\n",
       "      <td>Date of the applicant's last payment.</td>\n",
       "    </tr>\n",
       "    <tr>\n",
       "      <th>160</th>\n",
       "      <td>education_1138M</td>\n",
       "      <td>Applicant's education level from their previous application.</td>\n",
       "    </tr>\n",
       "    <tr>\n",
       "      <th>169</th>\n",
       "      <td>employedfrom_700D</td>\n",
       "      <td>Employment start date from the previous application.</td>\n",
       "    </tr>\n",
       "    <tr>\n",
       "      <th>177</th>\n",
       "      <td>familystate_726L</td>\n",
       "      <td>Family State in previous application of applicant.</td>\n",
       "    </tr>\n",
       "    <tr>\n",
       "      <th>182</th>\n",
       "      <td>firstnonzeroinstldate_307D</td>\n",
       "      <td>Date of first instalment in the previous application.</td>\n",
       "    </tr>\n",
       "    <tr>\n",
       "      <th>208</th>\n",
       "      <td>inittransactioncode_279L</td>\n",
       "      <td>Type of the initial transaction made in the previous application of the client.</td>\n",
       "    </tr>\n",
       "    <tr>\n",
       "      <th>220</th>\n",
       "      <td>isbidproduct_390L</td>\n",
       "      <td>Flag for determining if the product is a cross-sell in previous applications.</td>\n",
       "    </tr>\n",
       "    <tr>\n",
       "      <th>222</th>\n",
       "      <td>isdebitcard_527L</td>\n",
       "      <td>Previous application flag indicating if product being applied for is a debit card.</td>\n",
       "    </tr>\n",
       "    <tr>\n",
       "      <th>253</th>\n",
       "      <td>mainoccupationinc_437A</td>\n",
       "      <td>Client's main income amount in their previous application.</td>\n",
       "    </tr>\n",
       "    <tr>\n",
       "      <th>275</th>\n",
       "      <td>maxdpdtolerance_577P</td>\n",
       "      <td>Maximum DPD with tolerance (on previous application/s).</td>\n",
       "    </tr>\n",
       "    <tr>\n",
       "      <th>340</th>\n",
       "      <td>outstandingdebt_522A</td>\n",
       "      <td>Amount of outstanding debt on the client's previous application.</td>\n",
       "    </tr>\n",
       "    <tr>\n",
       "      <th>381</th>\n",
       "      <td>pmtnum_8L</td>\n",
       "      <td>Number of payments made for the previous application.</td>\n",
       "    </tr>\n",
       "    <tr>\n",
       "      <th>399</th>\n",
       "      <td>postype_4733339M</td>\n",
       "      <td>Type of point of sale.</td>\n",
       "    </tr>\n",
       "    <tr>\n",
       "      <th>403</th>\n",
       "      <td>profession_152M</td>\n",
       "      <td>Profession of the client during their previous loan application.</td>\n",
       "    </tr>\n",
       "    <tr>\n",
       "      <th>413</th>\n",
       "      <td>rejectreason_755M</td>\n",
       "      <td>Reason for previous application rejection.</td>\n",
       "    </tr>\n",
       "    <tr>\n",
       "      <th>414</th>\n",
       "      <td>rejectreasonclient_4145042M</td>\n",
       "      <td>Reason for rejection of the client's previous application.</td>\n",
       "    </tr>\n",
       "    <tr>\n",
       "      <th>428</th>\n",
       "      <td>revolvingaccount_394A</td>\n",
       "      <td>Revolving account that was present in the applicant's previous application.</td>\n",
       "    </tr>\n",
       "    <tr>\n",
       "      <th>439</th>\n",
       "      <td>status_219L</td>\n",
       "      <td>Previous application status.</td>\n",
       "    </tr>\n",
       "    <tr>\n",
       "      <th>448</th>\n",
       "      <td>tenor_203L</td>\n",
       "      <td>Number of instalments in the previous application.</td>\n",
       "    </tr>\n",
       "  </tbody>\n",
       "</table>\n",
       "</div>"
      ],
      "text/plain": [
       "                        Variable  \\\n",
       "0                 actualdpd_943P   \n",
       "18                  annuity_853A   \n",
       "26             approvaldate_319D   \n",
       "43      byoccupationinc_3656910L   \n",
       "45         cancelreason_3545846M   \n",
       "48                  childnum_21L   \n",
       "92             creationdate_885D   \n",
       "93    credacc_actualbalance_314A   \n",
       "95          credacc_credlmt_575A   \n",
       "96        credacc_maxhisbal_375A   \n",
       "97         credacc_minhisbal_90A   \n",
       "98           credacc_status_367L   \n",
       "99     credacc_transactions_402L   \n",
       "100              credamount_590A   \n",
       "111                credtype_587L   \n",
       "113                 currdebt_94A   \n",
       "115           dateactivated_425D   \n",
       "142                district_544M   \n",
       "144                 downpmt_134A   \n",
       "156               dtlastpmt_581D   \n",
       "157    dtlastpmtallstes_3545839D   \n",
       "160              education_1138M   \n",
       "169            employedfrom_700D   \n",
       "177             familystate_726L   \n",
       "182   firstnonzeroinstldate_307D   \n",
       "208     inittransactioncode_279L   \n",
       "220            isbidproduct_390L   \n",
       "222             isdebitcard_527L   \n",
       "253       mainoccupationinc_437A   \n",
       "275         maxdpdtolerance_577P   \n",
       "340         outstandingdebt_522A   \n",
       "381                    pmtnum_8L   \n",
       "399             postype_4733339M   \n",
       "403              profession_152M   \n",
       "413            rejectreason_755M   \n",
       "414  rejectreasonclient_4145042M   \n",
       "428        revolvingaccount_394A   \n",
       "439                  status_219L   \n",
       "448                   tenor_203L   \n",
       "\n",
       "                                                                            Description  \n",
       "0                                    Days Past Due (DPD) of previous contract (actual).  \n",
       "18                                           Monthly annuity for previous applications.  \n",
       "26                                                Approval Date of Previous Application  \n",
       "43                                       Applicant's income from previous applications.  \n",
       "45                                                     Application cancellation reason.  \n",
       "48                                      Number of children in the previous application.  \n",
       "92                                          Date when previous application was created.  \n",
       "93                                                    Actual balance on credit account.  \n",
       "95                         Credit card credit limit provided for previous applications.  \n",
       "96                                Maximal historical balance of previous credit account  \n",
       "97                              Minimum historical balance of previous credit accounts.  \n",
       "98                                      Account status of previous credit applications.  \n",
       "99       Number of transactions made with the previous credit account of the applicant.  \n",
       "100                                 Loan amount or card limit of previous applications.  \n",
       "111                                                Credit type of previous application.  \n",
       "113                                                Previous application's current debt.  \n",
       "115                   Contract activation date of the applicant's previous application.  \n",
       "142                      District of the address used in the previous loan application.  \n",
       "144                                            Previous application downpayment amount.  \n",
       "156                                         Date of last payment made by the applicant.  \n",
       "157                                               Date of the applicant's last payment.  \n",
       "160                        Applicant's education level from their previous application.  \n",
       "169                                Employment start date from the previous application.  \n",
       "177                                  Family State in previous application of applicant.  \n",
       "182                               Date of first instalment in the previous application.  \n",
       "208     Type of the initial transaction made in the previous application of the client.  \n",
       "220       Flag for determining if the product is a cross-sell in previous applications.  \n",
       "222  Previous application flag indicating if product being applied for is a debit card.  \n",
       "253                          Client's main income amount in their previous application.  \n",
       "275                             Maximum DPD with tolerance (on previous application/s).  \n",
       "340                    Amount of outstanding debt on the client's previous application.  \n",
       "381                               Number of payments made for the previous application.  \n",
       "399                                                              Type of point of sale.  \n",
       "403                    Profession of the client during their previous loan application.  \n",
       "413                                          Reason for previous application rejection.  \n",
       "414                          Reason for rejection of the client's previous application.  \n",
       "428         Revolving account that was present in the applicant's previous application.  \n",
       "439                                                        Previous application status.  \n",
       "448                                  Number of instalments in the previous application.  "
      ]
     },
     "execution_count": 6,
     "metadata": {},
     "output_type": "execute_result"
    },
    {
     "name": "stdout",
     "output_type": "stream",
     "text": [
      "time: 11.3 ms (started: 2024-04-02 18:37:16 -07:00)\n"
     ]
    }
   ],
   "source": [
    "\n",
    "df_collection={}\n",
    "\n",
    "#Read in Feature Definitions as a DataFrame\n",
    "key='feature_definitions'\n",
    "relative_filename_path=os.path.join(\"..\", \"data\", \"raw\", str(key)+\".csv\")\n",
    "df_collection[key]=pd.read_csv(relative_filename_path)\n",
    "\n",
    "#Filter for Select (i.e. 'train_applprev_1_0') features\n",
    "column_name_list=['case_id', 'actualdpd_943P', 'annuity_853A', 'approvaldate_319D', 'byoccupationinc_3656910L', 'cancelreason_3545846M', 'childnum_21L', 'creationdate_885D', 'credacc_actualbalance_314A', 'credacc_credlmt_575A', 'credacc_maxhisbal_375A', 'credacc_minhisbal_90A', 'credacc_status_367L', 'credacc_transactions_402L', 'credamount_590A', 'credtype_587L', 'currdebt_94A', 'dateactivated_425D', 'district_544M', 'downpmt_134A', 'dtlastpmt_581D', 'dtlastpmtallstes_3545839D', 'education_1138M', 'employedfrom_700D', 'familystate_726L', 'firstnonzeroinstldate_307D', 'inittransactioncode_279L', 'isbidproduct_390L', 'isdebitcard_527L', 'mainoccupationinc_437A', 'maxdpdtolerance_577P', 'num_group1', 'outstandingdebt_522A', 'pmtnum_8L', 'postype_4733339M', 'profession_152M', 'rejectreason_755M', 'rejectreasonclient_4145042M', 'revolvingaccount_394A', 'status_219L', 'tenor_203L']\n",
    "df_variable_description=filter_this_data_frame_by_column_name_and_value_list(df=df_collection['feature_definitions'], column_name='Variable', value_list=column_name_list)\n",
    "print(df_variable_description.shape)\n",
    "df_variable_description\n"
   ]
  },
  {
   "cell_type": "code",
   "execution_count": 7,
   "id": "328adf33",
   "metadata": {},
   "outputs": [
    {
     "data": {
      "text/plain": [
       "['case_id', 'num_group1']"
      ]
     },
     "execution_count": 7,
     "metadata": {},
     "output_type": "execute_result"
    },
    {
     "name": "stdout",
     "output_type": "stream",
     "text": [
      "time: 1.95 ms (started: 2024-04-02 18:37:16 -07:00)\n"
     ]
    }
   ],
   "source": [
    "column_name_list_2=list(df_variable_description.loc[:, 'Variable'].values)\n",
    "[column_name for column_name in column_name_list if not column_name in column_name_list_2]\n",
    "\n",
    "#case_id - This is the unique identifier for each credit case. You'll need this ID to join relevant tables to the base table. #Source: https://www.kaggle.com/competitions/home-credit-credit-risk-model-stability/data\n",
    "\n",
    "#num_group1 - This is an indexing column used for the historical records of case_id in both depth=1 and depth=2 tables.\n",
    "\n"
   ]
  },
  {
   "cell_type": "code",
   "execution_count": null,
   "id": "57ae464e",
   "metadata": {},
   "outputs": [],
   "source": []
  },
  {
   "cell_type": "code",
   "execution_count": 8,
   "id": "feb8b55d",
   "metadata": {},
   "outputs": [
    {
     "name": "stderr",
     "output_type": "stream",
     "text": [
      "/var/folders/77/y4hv4_s9751293nzv4yrfrtm0000gn/T/ipykernel_36611/300772002.py:3: DtypeWarning: Columns (27) have mixed types. Specify dtype option on import or set low_memory=False.\n",
      "  df_collection[key]=pd.read_csv(relative_filename_path)\n"
     ]
    },
    {
     "name": "stdout",
     "output_type": "stream",
     "text": [
      "(3887684, 41)\n"
     ]
    },
    {
     "data": {
      "text/html": [
       "<div>\n",
       "<style scoped>\n",
       "    .dataframe tbody tr th:only-of-type {\n",
       "        vertical-align: middle;\n",
       "    }\n",
       "\n",
       "    .dataframe tbody tr th {\n",
       "        vertical-align: top;\n",
       "    }\n",
       "\n",
       "    .dataframe thead th {\n",
       "        text-align: right;\n",
       "    }\n",
       "</style>\n",
       "<table border=\"1\" class=\"dataframe\">\n",
       "  <thead>\n",
       "    <tr style=\"text-align: right;\">\n",
       "      <th></th>\n",
       "      <th>case_id</th>\n",
       "      <th>actualdpd_943P</th>\n",
       "      <th>annuity_853A</th>\n",
       "      <th>approvaldate_319D</th>\n",
       "      <th>byoccupationinc_3656910L</th>\n",
       "      <th>cancelreason_3545846M</th>\n",
       "      <th>childnum_21L</th>\n",
       "      <th>creationdate_885D</th>\n",
       "      <th>credacc_actualbalance_314A</th>\n",
       "      <th>credacc_credlmt_575A</th>\n",
       "      <th>credacc_maxhisbal_375A</th>\n",
       "      <th>credacc_minhisbal_90A</th>\n",
       "      <th>credacc_status_367L</th>\n",
       "      <th>credacc_transactions_402L</th>\n",
       "      <th>credamount_590A</th>\n",
       "      <th>credtype_587L</th>\n",
       "      <th>currdebt_94A</th>\n",
       "      <th>dateactivated_425D</th>\n",
       "      <th>district_544M</th>\n",
       "      <th>downpmt_134A</th>\n",
       "      <th>dtlastpmt_581D</th>\n",
       "      <th>dtlastpmtallstes_3545839D</th>\n",
       "      <th>education_1138M</th>\n",
       "      <th>employedfrom_700D</th>\n",
       "      <th>familystate_726L</th>\n",
       "      <th>firstnonzeroinstldate_307D</th>\n",
       "      <th>inittransactioncode_279L</th>\n",
       "      <th>isbidproduct_390L</th>\n",
       "      <th>isdebitcard_527L</th>\n",
       "      <th>mainoccupationinc_437A</th>\n",
       "      <th>maxdpdtolerance_577P</th>\n",
       "      <th>num_group1</th>\n",
       "      <th>outstandingdebt_522A</th>\n",
       "      <th>pmtnum_8L</th>\n",
       "      <th>postype_4733339M</th>\n",
       "      <th>profession_152M</th>\n",
       "      <th>rejectreason_755M</th>\n",
       "      <th>rejectreasonclient_4145042M</th>\n",
       "      <th>revolvingaccount_394A</th>\n",
       "      <th>status_219L</th>\n",
       "      <th>tenor_203L</th>\n",
       "    </tr>\n",
       "  </thead>\n",
       "  <tbody>\n",
       "    <tr>\n",
       "      <th>0</th>\n",
       "      <td>2</td>\n",
       "      <td>0.0</td>\n",
       "      <td>640.2</td>\n",
       "      <td>NaN</td>\n",
       "      <td>NaN</td>\n",
       "      <td>a55475b1</td>\n",
       "      <td>0.0</td>\n",
       "      <td>2013-04-03</td>\n",
       "      <td>NaN</td>\n",
       "      <td>0.0</td>\n",
       "      <td>NaN</td>\n",
       "      <td>NaN</td>\n",
       "      <td>NaN</td>\n",
       "      <td>NaN</td>\n",
       "      <td>10000.0</td>\n",
       "      <td>CAL</td>\n",
       "      <td>NaN</td>\n",
       "      <td>NaN</td>\n",
       "      <td>P136_108_173</td>\n",
       "      <td>0.0</td>\n",
       "      <td>NaN</td>\n",
       "      <td>NaN</td>\n",
       "      <td>P97_36_170</td>\n",
       "      <td>2010-02-15</td>\n",
       "      <td>SINGLE</td>\n",
       "      <td>2013-05-04</td>\n",
       "      <td>CASH</td>\n",
       "      <td>False</td>\n",
       "      <td>NaN</td>\n",
       "      <td>8200.0</td>\n",
       "      <td>NaN</td>\n",
       "      <td>0</td>\n",
       "      <td>NaN</td>\n",
       "      <td>24.0</td>\n",
       "      <td>a55475b1</td>\n",
       "      <td>a55475b1</td>\n",
       "      <td>a55475b1</td>\n",
       "      <td>a55475b1</td>\n",
       "      <td>NaN</td>\n",
       "      <td>D</td>\n",
       "      <td>24.0</td>\n",
       "    </tr>\n",
       "    <tr>\n",
       "      <th>1</th>\n",
       "      <td>2</td>\n",
       "      <td>0.0</td>\n",
       "      <td>1682.4</td>\n",
       "      <td>NaN</td>\n",
       "      <td>NaN</td>\n",
       "      <td>a55475b1</td>\n",
       "      <td>0.0</td>\n",
       "      <td>2013-04-03</td>\n",
       "      <td>NaN</td>\n",
       "      <td>0.0</td>\n",
       "      <td>NaN</td>\n",
       "      <td>NaN</td>\n",
       "      <td>NaN</td>\n",
       "      <td>NaN</td>\n",
       "      <td>16000.0</td>\n",
       "      <td>CAL</td>\n",
       "      <td>NaN</td>\n",
       "      <td>NaN</td>\n",
       "      <td>P136_108_173</td>\n",
       "      <td>0.0</td>\n",
       "      <td>NaN</td>\n",
       "      <td>NaN</td>\n",
       "      <td>P97_36_170</td>\n",
       "      <td>2010-02-15</td>\n",
       "      <td>SINGLE</td>\n",
       "      <td>2013-05-04</td>\n",
       "      <td>CASH</td>\n",
       "      <td>False</td>\n",
       "      <td>NaN</td>\n",
       "      <td>8200.0</td>\n",
       "      <td>NaN</td>\n",
       "      <td>1</td>\n",
       "      <td>NaN</td>\n",
       "      <td>12.0</td>\n",
       "      <td>a55475b1</td>\n",
       "      <td>a55475b1</td>\n",
       "      <td>a55475b1</td>\n",
       "      <td>a55475b1</td>\n",
       "      <td>NaN</td>\n",
       "      <td>D</td>\n",
       "      <td>12.0</td>\n",
       "    </tr>\n",
       "    <tr>\n",
       "      <th>2</th>\n",
       "      <td>3</td>\n",
       "      <td>0.0</td>\n",
       "      <td>6140.0</td>\n",
       "      <td>NaN</td>\n",
       "      <td>NaN</td>\n",
       "      <td>P94_109_143</td>\n",
       "      <td>NaN</td>\n",
       "      <td>2019-01-07</td>\n",
       "      <td>NaN</td>\n",
       "      <td>0.0</td>\n",
       "      <td>NaN</td>\n",
       "      <td>NaN</td>\n",
       "      <td>NaN</td>\n",
       "      <td>NaN</td>\n",
       "      <td>59999.8</td>\n",
       "      <td>CAL</td>\n",
       "      <td>NaN</td>\n",
       "      <td>NaN</td>\n",
       "      <td>P131_33_167</td>\n",
       "      <td>0.0</td>\n",
       "      <td>NaN</td>\n",
       "      <td>NaN</td>\n",
       "      <td>P97_36_170</td>\n",
       "      <td>2018-05-15</td>\n",
       "      <td>MARRIED</td>\n",
       "      <td>2019-02-07</td>\n",
       "      <td>CASH</td>\n",
       "      <td>False</td>\n",
       "      <td>NaN</td>\n",
       "      <td>11000.0</td>\n",
       "      <td>NaN</td>\n",
       "      <td>0</td>\n",
       "      <td>NaN</td>\n",
       "      <td>12.0</td>\n",
       "      <td>a55475b1</td>\n",
       "      <td>a55475b1</td>\n",
       "      <td>P94_109_143</td>\n",
       "      <td>a55475b1</td>\n",
       "      <td>NaN</td>\n",
       "      <td>D</td>\n",
       "      <td>12.0</td>\n",
       "    </tr>\n",
       "    <tr>\n",
       "      <th>3</th>\n",
       "      <td>4</td>\n",
       "      <td>0.0</td>\n",
       "      <td>2556.6</td>\n",
       "      <td>NaN</td>\n",
       "      <td>NaN</td>\n",
       "      <td>P24_27_36</td>\n",
       "      <td>NaN</td>\n",
       "      <td>2019-01-08</td>\n",
       "      <td>NaN</td>\n",
       "      <td>0.0</td>\n",
       "      <td>NaN</td>\n",
       "      <td>NaN</td>\n",
       "      <td>NaN</td>\n",
       "      <td>NaN</td>\n",
       "      <td>40000.0</td>\n",
       "      <td>CAL</td>\n",
       "      <td>NaN</td>\n",
       "      <td>NaN</td>\n",
       "      <td>P194_82_174</td>\n",
       "      <td>0.0</td>\n",
       "      <td>NaN</td>\n",
       "      <td>NaN</td>\n",
       "      <td>a55475b1</td>\n",
       "      <td>NaN</td>\n",
       "      <td>NaN</td>\n",
       "      <td>2019-02-08</td>\n",
       "      <td>CASH</td>\n",
       "      <td>False</td>\n",
       "      <td>NaN</td>\n",
       "      <td>16000.0</td>\n",
       "      <td>NaN</td>\n",
       "      <td>0</td>\n",
       "      <td>NaN</td>\n",
       "      <td>24.0</td>\n",
       "      <td>a55475b1</td>\n",
       "      <td>a55475b1</td>\n",
       "      <td>a55475b1</td>\n",
       "      <td>a55475b1</td>\n",
       "      <td>NaN</td>\n",
       "      <td>T</td>\n",
       "      <td>24.0</td>\n",
       "    </tr>\n",
       "    <tr>\n",
       "      <th>4</th>\n",
       "      <td>5</td>\n",
       "      <td>0.0</td>\n",
       "      <td>NaN</td>\n",
       "      <td>NaN</td>\n",
       "      <td>NaN</td>\n",
       "      <td>P85_114_140</td>\n",
       "      <td>NaN</td>\n",
       "      <td>2019-01-16</td>\n",
       "      <td>NaN</td>\n",
       "      <td>NaN</td>\n",
       "      <td>NaN</td>\n",
       "      <td>NaN</td>\n",
       "      <td>NaN</td>\n",
       "      <td>NaN</td>\n",
       "      <td>NaN</td>\n",
       "      <td>NaN</td>\n",
       "      <td>NaN</td>\n",
       "      <td>NaN</td>\n",
       "      <td>P54_133_26</td>\n",
       "      <td>NaN</td>\n",
       "      <td>NaN</td>\n",
       "      <td>NaN</td>\n",
       "      <td>a55475b1</td>\n",
       "      <td>NaN</td>\n",
       "      <td>NaN</td>\n",
       "      <td>NaN</td>\n",
       "      <td>NaN</td>\n",
       "      <td>False</td>\n",
       "      <td>NaN</td>\n",
       "      <td>62000.0</td>\n",
       "      <td>NaN</td>\n",
       "      <td>0</td>\n",
       "      <td>NaN</td>\n",
       "      <td>NaN</td>\n",
       "      <td>a55475b1</td>\n",
       "      <td>a55475b1</td>\n",
       "      <td>a55475b1</td>\n",
       "      <td>a55475b1</td>\n",
       "      <td>NaN</td>\n",
       "      <td>T</td>\n",
       "      <td>NaN</td>\n",
       "    </tr>\n",
       "    <tr>\n",
       "      <th>3887679</th>\n",
       "      <td>2651092</td>\n",
       "      <td>0.0</td>\n",
       "      <td>3000.0</td>\n",
       "      <td>2019-12-30</td>\n",
       "      <td>NaN</td>\n",
       "      <td>a55475b1</td>\n",
       "      <td>NaN</td>\n",
       "      <td>2019-12-30</td>\n",
       "      <td>53300.0</td>\n",
       "      <td>53300.0</td>\n",
       "      <td>0.0</td>\n",
       "      <td>0.0</td>\n",
       "      <td>CL</td>\n",
       "      <td>0.0</td>\n",
       "      <td>53998.0</td>\n",
       "      <td>COL</td>\n",
       "      <td>53998.0</td>\n",
       "      <td>NaN</td>\n",
       "      <td>P147_21_170</td>\n",
       "      <td>0.0</td>\n",
       "      <td>NaN</td>\n",
       "      <td>NaN</td>\n",
       "      <td>a55475b1</td>\n",
       "      <td>NaN</td>\n",
       "      <td>NaN</td>\n",
       "      <td>2020-01-30</td>\n",
       "      <td>POS</td>\n",
       "      <td>False</td>\n",
       "      <td>NaN</td>\n",
       "      <td>60000.0</td>\n",
       "      <td>NaN</td>\n",
       "      <td>0</td>\n",
       "      <td>53998.0</td>\n",
       "      <td>18.0</td>\n",
       "      <td>P177_117_192</td>\n",
       "      <td>a55475b1</td>\n",
       "      <td>a55475b1</td>\n",
       "      <td>a55475b1</td>\n",
       "      <td>NaN</td>\n",
       "      <td>N</td>\n",
       "      <td>18.0</td>\n",
       "    </tr>\n",
       "    <tr>\n",
       "      <th>3887680</th>\n",
       "      <td>2651092</td>\n",
       "      <td>0.0</td>\n",
       "      <td>3119.2</td>\n",
       "      <td>2012-12-12</td>\n",
       "      <td>25000.0</td>\n",
       "      <td>a55475b1</td>\n",
       "      <td>1.0</td>\n",
       "      <td>2012-12-12</td>\n",
       "      <td>NaN</td>\n",
       "      <td>0.0</td>\n",
       "      <td>NaN</td>\n",
       "      <td>NaN</td>\n",
       "      <td>NaN</td>\n",
       "      <td>NaN</td>\n",
       "      <td>25740.0</td>\n",
       "      <td>COL</td>\n",
       "      <td>0.0</td>\n",
       "      <td>2012-12-20</td>\n",
       "      <td>P147_21_170</td>\n",
       "      <td>0.0</td>\n",
       "      <td>NaN</td>\n",
       "      <td>NaN</td>\n",
       "      <td>P97_36_170</td>\n",
       "      <td>2004-10-15</td>\n",
       "      <td>MARRIED</td>\n",
       "      <td>2013-01-11</td>\n",
       "      <td>POS</td>\n",
       "      <td>False</td>\n",
       "      <td>NaN</td>\n",
       "      <td>10000.0</td>\n",
       "      <td>0.0</td>\n",
       "      <td>7</td>\n",
       "      <td>0.0</td>\n",
       "      <td>12.0</td>\n",
       "      <td>P149_40_170</td>\n",
       "      <td>a55475b1</td>\n",
       "      <td>a55475b1</td>\n",
       "      <td>a55475b1</td>\n",
       "      <td>NaN</td>\n",
       "      <td>K</td>\n",
       "      <td>12.0</td>\n",
       "    </tr>\n",
       "    <tr>\n",
       "      <th>3887681</th>\n",
       "      <td>2651092</td>\n",
       "      <td>0.0</td>\n",
       "      <td>4366.0</td>\n",
       "      <td>2017-11-09</td>\n",
       "      <td>NaN</td>\n",
       "      <td>a55475b1</td>\n",
       "      <td>NaN</td>\n",
       "      <td>2017-11-09</td>\n",
       "      <td>NaN</td>\n",
       "      <td>0.0</td>\n",
       "      <td>NaN</td>\n",
       "      <td>NaN</td>\n",
       "      <td>NaN</td>\n",
       "      <td>NaN</td>\n",
       "      <td>19638.0</td>\n",
       "      <td>COL</td>\n",
       "      <td>0.0</td>\n",
       "      <td>2017-11-15</td>\n",
       "      <td>P147_21_170</td>\n",
       "      <td>0.0</td>\n",
       "      <td>2018-04-03</td>\n",
       "      <td>2018-04-03</td>\n",
       "      <td>a55475b1</td>\n",
       "      <td>NaN</td>\n",
       "      <td>LIVING_WITH_PARTNER</td>\n",
       "      <td>2017-12-10</td>\n",
       "      <td>POS</td>\n",
       "      <td>False</td>\n",
       "      <td>NaN</td>\n",
       "      <td>40000.0</td>\n",
       "      <td>0.0</td>\n",
       "      <td>4</td>\n",
       "      <td>0.0</td>\n",
       "      <td>5.0</td>\n",
       "      <td>P60_146_156</td>\n",
       "      <td>a55475b1</td>\n",
       "      <td>a55475b1</td>\n",
       "      <td>a55475b1</td>\n",
       "      <td>NaN</td>\n",
       "      <td>K</td>\n",
       "      <td>5.0</td>\n",
       "    </tr>\n",
       "    <tr>\n",
       "      <th>3887682</th>\n",
       "      <td>2651092</td>\n",
       "      <td>0.0</td>\n",
       "      <td>4496.6</td>\n",
       "      <td>2019-02-17</td>\n",
       "      <td>NaN</td>\n",
       "      <td>a55475b1</td>\n",
       "      <td>NaN</td>\n",
       "      <td>2019-02-17</td>\n",
       "      <td>NaN</td>\n",
       "      <td>0.0</td>\n",
       "      <td>NaN</td>\n",
       "      <td>NaN</td>\n",
       "      <td>NaN</td>\n",
       "      <td>NaN</td>\n",
       "      <td>20840.0</td>\n",
       "      <td>COL</td>\n",
       "      <td>0.0</td>\n",
       "      <td>2019-02-18</td>\n",
       "      <td>P147_21_170</td>\n",
       "      <td>0.0</td>\n",
       "      <td>2019-07-31</td>\n",
       "      <td>2019-07-31</td>\n",
       "      <td>a55475b1</td>\n",
       "      <td>NaN</td>\n",
       "      <td>NaN</td>\n",
       "      <td>2019-03-17</td>\n",
       "      <td>POS</td>\n",
       "      <td>False</td>\n",
       "      <td>NaN</td>\n",
       "      <td>60000.0</td>\n",
       "      <td>0.0</td>\n",
       "      <td>2</td>\n",
       "      <td>0.0</td>\n",
       "      <td>6.0</td>\n",
       "      <td>P149_40_170</td>\n",
       "      <td>a55475b1</td>\n",
       "      <td>a55475b1</td>\n",
       "      <td>a55475b1</td>\n",
       "      <td>NaN</td>\n",
       "      <td>K</td>\n",
       "      <td>6.0</td>\n",
       "    </tr>\n",
       "    <tr>\n",
       "      <th>3887683</th>\n",
       "      <td>2651092</td>\n",
       "      <td>0.0</td>\n",
       "      <td>NaN</td>\n",
       "      <td>2014-02-15</td>\n",
       "      <td>60000.0</td>\n",
       "      <td>a55475b1</td>\n",
       "      <td>1.0</td>\n",
       "      <td>2014-02-15</td>\n",
       "      <td>NaN</td>\n",
       "      <td>53300.0</td>\n",
       "      <td>NaN</td>\n",
       "      <td>NaN</td>\n",
       "      <td>NaN</td>\n",
       "      <td>NaN</td>\n",
       "      <td>53300.0</td>\n",
       "      <td>REL</td>\n",
       "      <td>0.0</td>\n",
       "      <td>2014-02-17</td>\n",
       "      <td>P147_21_170</td>\n",
       "      <td>0.0</td>\n",
       "      <td>NaN</td>\n",
       "      <td>NaN</td>\n",
       "      <td>P97_36_170</td>\n",
       "      <td>2004-09-15</td>\n",
       "      <td>LIVING_WITH_PARTNER</td>\n",
       "      <td>2014-03-11</td>\n",
       "      <td>CASH</td>\n",
       "      <td>False</td>\n",
       "      <td>False</td>\n",
       "      <td>15000.0</td>\n",
       "      <td>0.0</td>\n",
       "      <td>6</td>\n",
       "      <td>0.0</td>\n",
       "      <td>NaN</td>\n",
       "      <td>P46_145_78</td>\n",
       "      <td>a55475b1</td>\n",
       "      <td>a55475b1</td>\n",
       "      <td>a55475b1</td>\n",
       "      <td>680531000.0</td>\n",
       "      <td>K</td>\n",
       "      <td>NaN</td>\n",
       "    </tr>\n",
       "  </tbody>\n",
       "</table>\n",
       "</div>"
      ],
      "text/plain": [
       "         case_id  actualdpd_943P  annuity_853A approvaldate_319D  \\\n",
       "0              2             0.0         640.2               NaN   \n",
       "1              2             0.0        1682.4               NaN   \n",
       "2              3             0.0        6140.0               NaN   \n",
       "3              4             0.0        2556.6               NaN   \n",
       "4              5             0.0           NaN               NaN   \n",
       "3887679  2651092             0.0        3000.0        2019-12-30   \n",
       "3887680  2651092             0.0        3119.2        2012-12-12   \n",
       "3887681  2651092             0.0        4366.0        2017-11-09   \n",
       "3887682  2651092             0.0        4496.6        2019-02-17   \n",
       "3887683  2651092             0.0           NaN        2014-02-15   \n",
       "\n",
       "         byoccupationinc_3656910L cancelreason_3545846M  childnum_21L  \\\n",
       "0                             NaN              a55475b1           0.0   \n",
       "1                             NaN              a55475b1           0.0   \n",
       "2                             NaN           P94_109_143           NaN   \n",
       "3                             NaN             P24_27_36           NaN   \n",
       "4                             NaN           P85_114_140           NaN   \n",
       "3887679                       NaN              a55475b1           NaN   \n",
       "3887680                   25000.0              a55475b1           1.0   \n",
       "3887681                       NaN              a55475b1           NaN   \n",
       "3887682                       NaN              a55475b1           NaN   \n",
       "3887683                   60000.0              a55475b1           1.0   \n",
       "\n",
       "        creationdate_885D  credacc_actualbalance_314A  credacc_credlmt_575A  \\\n",
       "0              2013-04-03                         NaN                   0.0   \n",
       "1              2013-04-03                         NaN                   0.0   \n",
       "2              2019-01-07                         NaN                   0.0   \n",
       "3              2019-01-08                         NaN                   0.0   \n",
       "4              2019-01-16                         NaN                   NaN   \n",
       "3887679        2019-12-30                     53300.0               53300.0   \n",
       "3887680        2012-12-12                         NaN                   0.0   \n",
       "3887681        2017-11-09                         NaN                   0.0   \n",
       "3887682        2019-02-17                         NaN                   0.0   \n",
       "3887683        2014-02-15                         NaN               53300.0   \n",
       "\n",
       "         credacc_maxhisbal_375A  credacc_minhisbal_90A credacc_status_367L  \\\n",
       "0                           NaN                    NaN                 NaN   \n",
       "1                           NaN                    NaN                 NaN   \n",
       "2                           NaN                    NaN                 NaN   \n",
       "3                           NaN                    NaN                 NaN   \n",
       "4                           NaN                    NaN                 NaN   \n",
       "3887679                     0.0                    0.0                  CL   \n",
       "3887680                     NaN                    NaN                 NaN   \n",
       "3887681                     NaN                    NaN                 NaN   \n",
       "3887682                     NaN                    NaN                 NaN   \n",
       "3887683                     NaN                    NaN                 NaN   \n",
       "\n",
       "         credacc_transactions_402L  credamount_590A credtype_587L  \\\n",
       "0                              NaN          10000.0           CAL   \n",
       "1                              NaN          16000.0           CAL   \n",
       "2                              NaN          59999.8           CAL   \n",
       "3                              NaN          40000.0           CAL   \n",
       "4                              NaN              NaN           NaN   \n",
       "3887679                        0.0          53998.0           COL   \n",
       "3887680                        NaN          25740.0           COL   \n",
       "3887681                        NaN          19638.0           COL   \n",
       "3887682                        NaN          20840.0           COL   \n",
       "3887683                        NaN          53300.0           REL   \n",
       "\n",
       "         currdebt_94A dateactivated_425D district_544M  downpmt_134A  \\\n",
       "0                 NaN                NaN  P136_108_173           0.0   \n",
       "1                 NaN                NaN  P136_108_173           0.0   \n",
       "2                 NaN                NaN   P131_33_167           0.0   \n",
       "3                 NaN                NaN   P194_82_174           0.0   \n",
       "4                 NaN                NaN    P54_133_26           NaN   \n",
       "3887679       53998.0                NaN   P147_21_170           0.0   \n",
       "3887680           0.0         2012-12-20   P147_21_170           0.0   \n",
       "3887681           0.0         2017-11-15   P147_21_170           0.0   \n",
       "3887682           0.0         2019-02-18   P147_21_170           0.0   \n",
       "3887683           0.0         2014-02-17   P147_21_170           0.0   \n",
       "\n",
       "        dtlastpmt_581D dtlastpmtallstes_3545839D education_1138M  \\\n",
       "0                  NaN                       NaN      P97_36_170   \n",
       "1                  NaN                       NaN      P97_36_170   \n",
       "2                  NaN                       NaN      P97_36_170   \n",
       "3                  NaN                       NaN        a55475b1   \n",
       "4                  NaN                       NaN        a55475b1   \n",
       "3887679            NaN                       NaN        a55475b1   \n",
       "3887680            NaN                       NaN      P97_36_170   \n",
       "3887681     2018-04-03                2018-04-03        a55475b1   \n",
       "3887682     2019-07-31                2019-07-31        a55475b1   \n",
       "3887683            NaN                       NaN      P97_36_170   \n",
       "\n",
       "        employedfrom_700D     familystate_726L firstnonzeroinstldate_307D  \\\n",
       "0              2010-02-15               SINGLE                 2013-05-04   \n",
       "1              2010-02-15               SINGLE                 2013-05-04   \n",
       "2              2018-05-15              MARRIED                 2019-02-07   \n",
       "3                     NaN                  NaN                 2019-02-08   \n",
       "4                     NaN                  NaN                        NaN   \n",
       "3887679               NaN                  NaN                 2020-01-30   \n",
       "3887680        2004-10-15              MARRIED                 2013-01-11   \n",
       "3887681               NaN  LIVING_WITH_PARTNER                 2017-12-10   \n",
       "3887682               NaN                  NaN                 2019-03-17   \n",
       "3887683        2004-09-15  LIVING_WITH_PARTNER                 2014-03-11   \n",
       "\n",
       "        inittransactioncode_279L isbidproduct_390L isdebitcard_527L  \\\n",
       "0                           CASH             False              NaN   \n",
       "1                           CASH             False              NaN   \n",
       "2                           CASH             False              NaN   \n",
       "3                           CASH             False              NaN   \n",
       "4                            NaN             False              NaN   \n",
       "3887679                      POS             False              NaN   \n",
       "3887680                      POS             False              NaN   \n",
       "3887681                      POS             False              NaN   \n",
       "3887682                      POS             False              NaN   \n",
       "3887683                     CASH             False            False   \n",
       "\n",
       "         mainoccupationinc_437A  maxdpdtolerance_577P  num_group1  \\\n",
       "0                        8200.0                   NaN           0   \n",
       "1                        8200.0                   NaN           1   \n",
       "2                       11000.0                   NaN           0   \n",
       "3                       16000.0                   NaN           0   \n",
       "4                       62000.0                   NaN           0   \n",
       "3887679                 60000.0                   NaN           0   \n",
       "3887680                 10000.0                   0.0           7   \n",
       "3887681                 40000.0                   0.0           4   \n",
       "3887682                 60000.0                   0.0           2   \n",
       "3887683                 15000.0                   0.0           6   \n",
       "\n",
       "         outstandingdebt_522A  pmtnum_8L postype_4733339M profession_152M  \\\n",
       "0                         NaN       24.0         a55475b1        a55475b1   \n",
       "1                         NaN       12.0         a55475b1        a55475b1   \n",
       "2                         NaN       12.0         a55475b1        a55475b1   \n",
       "3                         NaN       24.0         a55475b1        a55475b1   \n",
       "4                         NaN        NaN         a55475b1        a55475b1   \n",
       "3887679               53998.0       18.0     P177_117_192        a55475b1   \n",
       "3887680                   0.0       12.0      P149_40_170        a55475b1   \n",
       "3887681                   0.0        5.0      P60_146_156        a55475b1   \n",
       "3887682                   0.0        6.0      P149_40_170        a55475b1   \n",
       "3887683                   0.0        NaN       P46_145_78        a55475b1   \n",
       "\n",
       "        rejectreason_755M rejectreasonclient_4145042M  revolvingaccount_394A  \\\n",
       "0                a55475b1                    a55475b1                    NaN   \n",
       "1                a55475b1                    a55475b1                    NaN   \n",
       "2             P94_109_143                    a55475b1                    NaN   \n",
       "3                a55475b1                    a55475b1                    NaN   \n",
       "4                a55475b1                    a55475b1                    NaN   \n",
       "3887679          a55475b1                    a55475b1                    NaN   \n",
       "3887680          a55475b1                    a55475b1                    NaN   \n",
       "3887681          a55475b1                    a55475b1                    NaN   \n",
       "3887682          a55475b1                    a55475b1                    NaN   \n",
       "3887683          a55475b1                    a55475b1            680531000.0   \n",
       "\n",
       "        status_219L  tenor_203L  \n",
       "0                 D        24.0  \n",
       "1                 D        12.0  \n",
       "2                 D        12.0  \n",
       "3                 T        24.0  \n",
       "4                 T         NaN  \n",
       "3887679           N        18.0  \n",
       "3887680           K        12.0  \n",
       "3887681           K         5.0  \n",
       "3887682           K         6.0  \n",
       "3887683           K         NaN  "
      ]
     },
     "execution_count": 8,
     "metadata": {},
     "output_type": "execute_result"
    },
    {
     "name": "stdout",
     "output_type": "stream",
     "text": [
      "time: 11.8 s (started: 2024-04-02 18:37:16 -07:00)\n"
     ]
    }
   ],
   "source": [
    "key='train_applprev_1_0'\n",
    "relative_filename_path=os.path.join(\"..\", \"data\", \"raw\", \"train\", str(key)+\".csv\")\n",
    "df_collection[key]=pd.read_csv(relative_filename_path)\n",
    "preview_df(df_collection[key])\n"
   ]
  },
  {
   "cell_type": "code",
   "execution_count": null,
   "id": "ef1cd034",
   "metadata": {},
   "outputs": [],
   "source": []
  },
  {
   "cell_type": "code",
   "execution_count": null,
   "id": "6f76cff1",
   "metadata": {},
   "outputs": [],
   "source": []
  },
  {
   "cell_type": "code",
   "execution_count": null,
   "id": "c32fca32",
   "metadata": {},
   "outputs": [],
   "source": []
  },
  {
   "cell_type": "code",
   "execution_count": null,
   "id": "d9aa889f",
   "metadata": {},
   "outputs": [],
   "source": []
  },
  {
   "cell_type": "markdown",
   "id": "106c103f",
   "metadata": {},
   "source": [
    "### Connect to the Database 'postgres'"
   ]
  },
  {
   "cell_type": "code",
   "execution_count": 9,
   "id": "77931cf0",
   "metadata": {},
   "outputs": [
    {
     "name": "stdout",
     "output_type": "stream",
     "text": [
      "Connection to PostgreSQL DB successful\n",
      "Query executed successfully\n",
      "The error 'cannot drop the currently open database\n",
      "' occurred\n",
      "Query executed successfully\n"
     ]
    },
    {
     "data": {
      "text/html": [
       "<div>\n",
       "<style scoped>\n",
       "    .dataframe tbody tr th:only-of-type {\n",
       "        vertical-align: middle;\n",
       "    }\n",
       "\n",
       "    .dataframe tbody tr th {\n",
       "        vertical-align: top;\n",
       "    }\n",
       "\n",
       "    .dataframe thead th {\n",
       "        text-align: right;\n",
       "    }\n",
       "</style>\n",
       "<table border=\"1\" class=\"dataframe\">\n",
       "  <thead>\n",
       "    <tr style=\"text-align: right;\">\n",
       "      <th></th>\n",
       "      <th>0</th>\n",
       "    </tr>\n",
       "  </thead>\n",
       "  <tbody>\n",
       "    <tr>\n",
       "      <th>0</th>\n",
       "      <td>postgres</td>\n",
       "    </tr>\n",
       "  </tbody>\n",
       "</table>\n",
       "</div>"
      ],
      "text/plain": [
       "          0\n",
       "0  postgres"
      ]
     },
     "execution_count": 9,
     "metadata": {},
     "output_type": "execute_result"
    },
    {
     "name": "stdout",
     "output_type": "stream",
     "text": [
      "time: 366 ms (started: 2024-04-02 18:37:28 -07:00)\n"
     ]
    }
   ],
   "source": [
    "#Create the Connection to the Database 'postgres'\n",
    "connection = create_connection(db_name=\"postgres\", db_user=\"postgres\", db_password=\"postgres\", db_host=\"127.0.0.1\", db_port=\"5432\")\n",
    "\n",
    "#Drop the Database 'database1' (if it Exists)\n",
    "query=\"DROP DATABASE IF EXISTS database1;\"\n",
    "execute_query(connection, query=query)\n",
    "\n",
    "#Drop the Database 'postgres' (if it Exists)\n",
    "query=\"DROP DATABASE IF EXISTS postgres;\"\n",
    "execute_query(connection, query=query)\n",
    "\n",
    "#Get the Database Names\n",
    "query=\"SELECT datname FROM pg_database WHERE datistemplate = false;\"\n",
    "execute_query(connection, query=query)\n"
   ]
  },
  {
   "cell_type": "markdown",
   "id": "dbb90c97",
   "metadata": {},
   "source": [
    "### Get the Table Names of the Database 'postgres'"
   ]
  },
  {
   "cell_type": "code",
   "execution_count": null,
   "id": "dff13fd0",
   "metadata": {},
   "outputs": [],
   "source": [
    "query=\"SELECT table_name FROM information_schema.tables WHERE table_schema = 'public' AND table_type = 'BASE TABLE';\"\n",
    "\n",
    "result=execute_query(connection, query=query, table_name=None, column_name_list=None)\n",
    "preview_df(result)\n"
   ]
  },
  {
   "cell_type": "markdown",
   "id": "6992e206",
   "metadata": {},
   "source": [
    "### Create and Insert into the Table 'train_applprev' the Data of 'train_applprev_1_0.csv' and 'train_applprev_1_1.csv'"
   ]
  },
  {
   "cell_type": "code",
   "execution_count": 11,
   "id": "ff0e554d",
   "metadata": {},
   "outputs": [
    {
     "name": "stdout",
     "output_type": "stream",
     "text": [
      "time: 299 µs (started: 2024-04-02 18:37:28 -07:00)\n"
     ]
    }
   ],
   "source": [
    "#some columns can be copied the database as their destination data type. others will get there in steps?? e.g. NUMERIC -> INTEGER"
   ]
  },
  {
   "cell_type": "code",
   "execution_count": 12,
   "id": "f6a49c89",
   "metadata": {},
   "outputs": [
    {
     "name": "stdout",
     "output_type": "stream",
     "text": [
      "Query executed successfully\n",
      "Query executed successfully\n",
      "Query executed successfully\n",
      "Query executed successfully\n",
      "time: 30.5 s (started: 2024-04-02 18:37:28 -07:00)\n"
     ]
    }
   ],
   "source": [
    "#Copy Data to the Table 'train_applprev_1_0'\n",
    "\n",
    "#Drop Tables\n",
    "table_name='feature_definitions, train_applprev_1_0, train_applprev_1_1, train_applprev'\n",
    "query = \"DROP TABLE IF EXISTS {};\".format(table_name)\n",
    "execute_query(connection, query=query, table_name=table_name, column_name_list=None)\n",
    "\n",
    "\n",
    "#Create Table 'train_applprev'\n",
    "table_name='train_applprev'\n",
    "column_name_list=['case_id', 'actualdpd_943P', 'annuity_853A', 'approvaldate_319D', 'byoccupationinc_3656910L', 'cancelreason_3545846M', 'childnum_21L', 'creationdate_885D', 'credacc_actualbalance_314A', 'credacc_credlmt_575A', 'credacc_maxhisbal_375A', 'credacc_minhisbal_90A', 'credacc_status_367L', 'credacc_transactions_402L', 'credamount_590A', 'credtype_587L', 'currdebt_94A', 'dateactivated_425D', 'district_544M', 'downpmt_134A', 'dtlastpmt_581D', 'dtlastpmtallstes_3545839D', 'education_1138M', 'employedfrom_700D', 'familystate_726L', 'firstnonzeroinstldate_307D', 'inittransactioncode_279L', 'isbidproduct_390L', 'isdebitcard_527L', 'mainoccupationinc_437A', 'maxdpdtolerance_577P', 'num_group1', 'outstandingdebt_522A', 'pmtnum_8L', 'postype_4733339M', 'profession_152M', 'rejectreason_755M', 'rejectreasonclient_4145042M', 'revolvingaccount_394A', 'status_219L', 'tenor_203L']\n",
    "data_type_list=['VARCHAR(255)']+['NUMERIC']+  ['NUMERIC']+    ['DATE']+            ['NUMERIC']+                ['VARCHAR(255)']+        ['NUMERIC']+    ['DATE']+            ['NUMERIC']+                  ['VARCHAR(255)']*(41-9)\n",
    "#                               ['SMALLINT']                                                                                            ['INTEGER']\n",
    "query = construct_query_from_table_name_column_name_list_and_data_type_list(table_name=table_name, column_name_list=column_name_list, data_type_list=data_type_list)\n",
    "execute_query(connection, query=query, table_name=table_name)\n",
    "\n",
    "\n",
    "#Copy in the Data 'train_applprev_1_0.csv'\n",
    "# Enable Read and Execute Permissions to the File \"train_applprev_1_0.csv\"\n",
    "filename_path = \"/Users/pauljacob/MyDrive_pauljacob.datascience1@gmail.com/Projects/Home_Credit_Risk/data/raw/train/train_applprev_1_0.csv\"\n",
    "filename_parent_paths=generate_parent_paths_from(filename_path=filename_path)\n",
    "command = \"chmod a+rX {}\".format(filename_parent_paths); subprocess.run(command, shell=True)\n",
    "\n",
    "#Copy Data into Table 'train_applprev'\n",
    "query = \"copy {} FROM '{}' DELIMITER ',' CSV HEADER;\".format(table_name, filename_path)\n",
    "execute_query(connection, query=query, table_name=table_name)\n",
    "\n",
    "\n",
    "\n",
    "#Copy in the Data 'train_applprev_1_1.csv'\n",
    "# Enable Read and Execute Permissions to the File \"train_applprev_1_0.csv\"\n",
    "filename_path = \"/Users/pauljacob/MyDrive_pauljacob.datascience1@gmail.com/Projects/Home_Credit_Risk/data/raw/train/train_applprev_1_1.csv\"\n",
    "filename_parent_paths=generate_parent_paths_from(filename_path=filename_path)\n",
    "command = \"chmod a+rX {}\".format(filename_parent_paths); subprocess.run(command, shell=True)\n",
    "\n",
    "#Copy Data into Table 'train_applprev'\n",
    "query = \"copy {} FROM '{}' DELIMITER ',' CSV HEADER;\".format(table_name, filename_path)\n",
    "execute_query(connection, query=query, table_name=table_name) #Add efficiency? #Source: https://hakibenita.com/fast-load-data-python-postgresql#benchmark\n",
    "\n",
    "\n"
   ]
  },
  {
   "cell_type": "code",
   "execution_count": null,
   "id": "53e82bba",
   "metadata": {},
   "outputs": [],
   "source": []
  },
  {
   "cell_type": "code",
   "execution_count": 13,
   "id": "31c7d389",
   "metadata": {},
   "outputs": [
    {
     "name": "stdout",
     "output_type": "stream",
     "text": [
      "time: 1.8 ms (started: 2024-04-02 18:37:59 -07:00)\n"
     ]
    }
   ],
   "source": []
  },
  {
   "cell_type": "code",
   "execution_count": null,
   "id": "87564d2f",
   "metadata": {},
   "outputs": [],
   "source": []
  },
  {
   "cell_type": "markdown",
   "id": "a341f198",
   "metadata": {},
   "source": [
    "###  Alter Type to SMALLINT from NUMERIC: Column Name 'actualdpd_943P', i.e. Days Past Due (DPD) of previous contract (actual).\n"
   ]
  },
  {
   "cell_type": "code",
   "execution_count": 33,
   "id": "0eca2820",
   "metadata": {},
   "outputs": [
    {
     "name": "stdout",
     "output_type": "stream",
     "text": [
      "Query executed successfully\n",
      "Query executed successfully\n",
      "Query executed successfully\n",
      "Query executed successfully\n",
      "(6525979, 1)\n"
     ]
    },
    {
     "data": {
      "text/html": [
       "<div>\n",
       "<style scoped>\n",
       "    .dataframe tbody tr th:only-of-type {\n",
       "        vertical-align: middle;\n",
       "    }\n",
       "\n",
       "    .dataframe tbody tr th {\n",
       "        vertical-align: top;\n",
       "    }\n",
       "\n",
       "    .dataframe thead th {\n",
       "        text-align: right;\n",
       "    }\n",
       "</style>\n",
       "<table border=\"1\" class=\"dataframe\">\n",
       "  <thead>\n",
       "    <tr style=\"text-align: right;\">\n",
       "      <th></th>\n",
       "      <th>actualdpd_943P</th>\n",
       "    </tr>\n",
       "  </thead>\n",
       "  <tbody>\n",
       "    <tr>\n",
       "      <th>0</th>\n",
       "      <td>smallint</td>\n",
       "    </tr>\n",
       "    <tr>\n",
       "      <th>1</th>\n",
       "      <td>smallint</td>\n",
       "    </tr>\n",
       "    <tr>\n",
       "      <th>2</th>\n",
       "      <td>smallint</td>\n",
       "    </tr>\n",
       "    <tr>\n",
       "      <th>3</th>\n",
       "      <td>smallint</td>\n",
       "    </tr>\n",
       "    <tr>\n",
       "      <th>4</th>\n",
       "      <td>smallint</td>\n",
       "    </tr>\n",
       "    <tr>\n",
       "      <th>6525974</th>\n",
       "      <td>smallint</td>\n",
       "    </tr>\n",
       "    <tr>\n",
       "      <th>6525975</th>\n",
       "      <td>smallint</td>\n",
       "    </tr>\n",
       "    <tr>\n",
       "      <th>6525976</th>\n",
       "      <td>smallint</td>\n",
       "    </tr>\n",
       "    <tr>\n",
       "      <th>6525977</th>\n",
       "      <td>smallint</td>\n",
       "    </tr>\n",
       "    <tr>\n",
       "      <th>6525978</th>\n",
       "      <td>smallint</td>\n",
       "    </tr>\n",
       "  </tbody>\n",
       "</table>\n",
       "</div>"
      ],
      "text/plain": [
       "        actualdpd_943P\n",
       "0             smallint\n",
       "1             smallint\n",
       "2             smallint\n",
       "3             smallint\n",
       "4             smallint\n",
       "6525974       smallint\n",
       "6525975       smallint\n",
       "6525976       smallint\n",
       "6525977       smallint\n",
       "6525978       smallint"
      ]
     },
     "execution_count": 33,
     "metadata": {},
     "output_type": "execute_result"
    },
    {
     "name": "stdout",
     "output_type": "stream",
     "text": [
      "time: 1min 30s (started: 2024-04-02 18:43:24 -07:00)\n"
     ]
    }
   ],
   "source": [
    "#Change the Data Type to INTEGER of the Column Name 'actualdpd_943P'\n",
    "table_name='train_applprev'\n",
    "column_name='actualdpd_943P'\n",
    "data_type='SMALLINT'\n",
    "\n",
    "query=\"ALTER TABLE {} ALTER COLUMN {} TYPE {} USING {}::{};\".format(table_name, column_name, data_type, column_name, data_type)\n",
    "execute_query(connection, query=query, table_name=table_name, column_name_list=[column_name])\n",
    "\n"
   ]
  },
  {
   "cell_type": "code",
   "execution_count": 15,
   "id": "95a68245",
   "metadata": {},
   "outputs": [
    {
     "name": "stdout",
     "output_type": "stream",
     "text": [
      "time: 242 µs (started: 2024-04-02 18:39:49 -07:00)\n"
     ]
    }
   ],
   "source": []
  },
  {
   "cell_type": "markdown",
   "id": "c890e5e4",
   "metadata": {},
   "source": [
    "#### Data Analysis: Column Name 'actualdpd_943P'"
   ]
  },
  {
   "cell_type": "code",
   "execution_count": 35,
   "id": "9afc42f1",
   "metadata": {},
   "outputs": [
    {
     "name": "stdout",
     "output_type": "stream",
     "text": [
      "time: 4.25 ms (started: 2024-04-02 20:15:13 -07:00)\n"
     ]
    }
   ],
   "source": [
    "\n",
    "# #Change the Data Type to 'NUMERIC' of the Column Name 'actualdpd_943P'\n",
    "# table_name='train_applprev'\n",
    "# column_name='actualdpd_943P'\n",
    "# data_type='NUMERIC'\n",
    "\n",
    "# query=\"ALTER TABLE {} ALTER COLUMN {} TYPE {} USING {}::{};\".format(table_name, column_name, data_type, column_name, data_type)\n",
    "# execute_query(connection, query=query, table_name=table_name, column_name_list=[column_name])\n",
    "\n",
    "\n",
    "# #Get the Column Size of Column Name 'actualdpd_943P' of data type 'NUMERIC'\n",
    "# column_name='actualdpd_943P'\n",
    "# table_name='train_applprev'\n",
    "\n",
    "# query=\"SELECT sum(pg_column_size({})) AS total_column_size FROM {};\".format(column_name, table_name)\n",
    "# execute_query(connection, query=query, table_name=table_name, column_name_list=[column_name])\n",
    "\n",
    "\n",
    "\n",
    "# #Get the Column Size of Column Name 'actualdpd_943P'\n",
    "# column_name='actualdpd_943P'\n",
    "# table_name='train_applprev'\n",
    "# query=\"SELECT sum(pg_column_size({})) AS total_column_size FROM {};\".format(column_name, table_name)\n",
    "\n",
    "# execute_query(connection, query=query, table_name=table_name, column_name_list=[column_name])\n",
    "\n",
    "\n",
    "# #Round the Values of Column Name 'actualdpd_943P'\n",
    "# table_name='train_applprev'\n",
    "# column_name='actualdpd_943P'\n",
    "\n",
    "# query=\"UPDATE {} SET {} = ROUND({}, 0);\".format(table_name, column_name, column_name) #COALESCE messing up the data?\n",
    "# execute_query(connection, query=query, table_name=table_name, column_name_list=[column_name])\n",
    "\n",
    "\n",
    "\n",
    "# #Get the Column Size of Column Name 'actualdpd_943P'\n",
    "# column_name='actualdpd_943P'\n",
    "# table_name='train_applprev'\n",
    "\n",
    "# query=\"SELECT sum(pg_column_size({})) AS total_column_size FROM {};\".format(column_name, table_name)\n",
    "# execute_query(connection, query=query, table_name=table_name, column_name_list=[column_name])\n",
    "\n",
    "######################################\n",
    "\n",
    "# #Get the Data Type of Column Name 'actualdpd_943P'\n",
    "# column_name='actualdpd_943P'\n",
    "# table_name='train_applprev'\n",
    "# data_type='INTEGER'\n",
    "# query=\"SELECT pg_typeof({}) AS {} FROM {};\".format(column_name, data_type, table_name)\n",
    "\n",
    "# df_actualdpd_943P_data_type = execute_query(connection, query=query, table_name=table_name, column_name_list=[column_name])\n",
    "# print(df_actualdpd_943P_data_type.value_counts())\n",
    "# preview_df(df_actualdpd_943P_data_type)\n",
    "\n",
    "#################################################\n",
    "\n",
    "# #Select the Values of Column Name 'actualdpd_943P'\n",
    "# column_name='actualdpd_943P'\n",
    "# table_name='train_applprev'\n",
    "# query=\"SELECT {} FROM {}\".format(column_name, table_name)\n",
    "\n",
    "# df_actualdpd_943P=execute_query(connection, query=query, table_name=table_name, column_name_list=[column_name])\n",
    "# print(df_actualdpd_943P.value_counts())\n",
    "# preview_df(df_actualdpd_943P)\n",
    "\n",
    "\n",
    "# column_name='actualdpd_943P'\n",
    "# table_name='train_applprev'\n",
    "# query=\"SELECT pg_typeof({}) FROM {}\".format(column_name, table_name)\n",
    "\n",
    "# df_actualdpd_943P_data_type=execute_query(connection, query=query, table_name=table_name, column_name_list=[column_name])\n",
    "# preview_df(df_actualdpd_943P_data_type)\n"
   ]
  },
  {
   "cell_type": "code",
   "execution_count": 36,
   "id": "3d282d78",
   "metadata": {},
   "outputs": [
    {
     "name": "stdout",
     "output_type": "stream",
     "text": [
      "time: 3.22 ms (started: 2024-04-02 20:15:14 -07:00)\n"
     ]
    }
   ],
   "source": [
    "# #Get the Column Size of Column Name 'actualdpd_943P' of data type 'VARCHAR(255)'\n",
    "# column_name='actualdpd_943P'\n",
    "# table_name='train_applprev'\n",
    "# query=\"SELECT sum(pg_column_size({})) AS total_column_size FROM {};\".format(column_name, table_name)\n",
    "\n",
    "# execute_query(connection, query=query, table_name=table_name, column_name_list=[column_name])\n",
    "\n",
    "\n",
    "#############################\n",
    "\n",
    "# #Get the Data Type of Column Name 'actualdpd_943P'\n",
    "# column_name='actualdpd_943P'\n",
    "# table_name='train_applprev'\n",
    "# query=\"SELECT pg_typeof({}) AS {} FROM {};\".format(column_name, column_name, table_name)\n",
    "\n",
    "# df_actualdpd_943P_data_type = execute_query(connection, query=query, table_name=table_name, column_name_list=[column_name])\n",
    "# print(df_actualdpd_943P_data_type.value_counts())\n",
    "# preview_df(df_actualdpd_943P_data_type)\n",
    "\n",
    "#############################\n",
    "\n",
    "# #Select the Values of Column Name 'actualdpd_943P'\n",
    "# column_name='actualdpd_943P'\n",
    "# table_name='train_applprev'\n",
    "# query=\"SELECT {} FROM {}\".format(column_name, table_name)\n",
    "\n",
    "# df_actualdpd_943P=execute_query(connection, query=query, table_name=table_name, column_name_list=[column_name])\n",
    "# print(df_actualdpd_943P.value_counts())\n",
    "# preview_df(df_actualdpd_943P)\n"
   ]
  },
  {
   "cell_type": "code",
   "execution_count": null,
   "id": "d5f147f3",
   "metadata": {},
   "outputs": [],
   "source": []
  },
  {
   "cell_type": "code",
   "execution_count": null,
   "id": "61a27488",
   "metadata": {},
   "outputs": [],
   "source": []
  },
  {
   "cell_type": "code",
   "execution_count": 18,
   "id": "068dda2b",
   "metadata": {},
   "outputs": [
    {
     "name": "stdout",
     "output_type": "stream",
     "text": [
      "time: 115 µs (started: 2024-04-02 18:39:54 -07:00)\n"
     ]
    }
   ],
   "source": [
    "# occupy_the_kernel()"
   ]
  },
  {
   "cell_type": "markdown",
   "id": "a5941ac8",
   "metadata": {},
   "source": [
    "### Alter Type to NUMERIC from VARCHAR(255): Column Name 'annuity_853A', i.e. Monthly annuity for previous applications.\n",
    "\n"
   ]
  },
  {
   "cell_type": "code",
   "execution_count": 19,
   "id": "f06f07c1",
   "metadata": {},
   "outputs": [
    {
     "name": "stdout",
     "output_type": "stream",
     "text": [
      "time: 491 µs (started: 2024-04-02 18:39:54 -07:00)\n"
     ]
    }
   ],
   "source": [
    "# #Change the Data Type to 'NUMERIC' of the Column Name 'annuity_853A', i.e. Monthly annuity for previous applications.\n",
    "# table_name='train_applprev'\n",
    "# column_name='annuity_853A'\n",
    "# data_type='NUMERIC(15,7)'\n",
    "\n",
    "# query=\"ALTER TABLE {} ALTER COLUMN {} TYPE {} USING {}::{};\".format(table_name, column_name, data_type, column_name, data_type)\n",
    "# execute_query(connection, query=query, table_name=table_name, column_name_list=[column_name])\n",
    "\n",
    "# #Get the Data Type of Column Name 'annuity_853A'\n",
    "# column_name='annuity_853A'\n",
    "# table_name='train_applprev'\n",
    "# data_type='NUMERIC' #DECIMAL\n",
    "# query=\"SELECT pg_typeof({}) AS {} FROM {};\".format(column_name, data_type, table_name)\n",
    "\n",
    "# df_actualdpd_943P_data_type = execute_query(connection, query=query, table_name=table_name, column_name_list=[column_name])\n",
    "\n",
    "\n",
    "# #print the Data Type Count of Column Name 'annuity_853A'\n",
    "# column_name='annuity_853A'\n",
    "# table_name='train_applprev'\n",
    "# data_type='NUMERIC' #DECIMAL\n",
    "# query=\"SELECT pg_typeof({}) AS {}, COUNT(*) AS count FROM {} GROUP BY {};\".format(column_name, data_type, table_name, data_type)\n",
    "# data_type_value_count=execute_query(connection, query=query, table_name=table_name, column_name_list=[column_name, 'value_count'])\n",
    "# print(data_type_value_count)\n",
    "\n",
    "\n",
    "# preview_df(df_actualdpd_943P_data_type)\n"
   ]
  },
  {
   "cell_type": "code",
   "execution_count": 20,
   "id": "3b0d899f",
   "metadata": {},
   "outputs": [
    {
     "name": "stdout",
     "output_type": "stream",
     "text": [
      "time: 169 µs (started: 2024-04-02 18:39:54 -07:00)\n"
     ]
    }
   ],
   "source": [
    "\n",
    "# column_name='annuity_853A'\n",
    "# table_name='train_applprev'\n",
    "# data_type='NUMERIC'\n",
    "\n",
    "# df_actualdpd_943P_data_type=get_the_table_column_data_types_and_value_count(table_name, column_name, data_type)\n",
    "# preview_df(df_actualdpd_943P_data_type)\n"
   ]
  },
  {
   "cell_type": "code",
   "execution_count": null,
   "id": "abe47848",
   "metadata": {},
   "outputs": [],
   "source": []
  },
  {
   "cell_type": "markdown",
   "id": "14961fef",
   "metadata": {},
   "source": [
    "#### Data Analysis: 'annuity_853A' "
   ]
  },
  {
   "cell_type": "code",
   "execution_count": 21,
   "id": "ca42bcce",
   "metadata": {},
   "outputs": [
    {
     "name": "stdout",
     "output_type": "stream",
     "text": [
      "time: 1.06 ms (started: 2024-04-02 18:39:54 -07:00)\n"
     ]
    }
   ],
   "source": [
    "# #Print the Column Name 'annuity_853A' Value Counts\n",
    "# column_name='annuity_853A'\n",
    "# table_name='train_applprev'\n",
    "# query=\\\n",
    "# \"SELECT {}, COUNT({}) AS value_count \\\n",
    "# FROM {} GROUP BY {} ORDER BY value_count DESC;\".format(column_name, column_name, table_name, column_name)\n",
    "\n",
    "# df_value_counts=execute_query(connection, query=query, table_name=table_name, column_name_list=[column_name, 'value_count'])\n",
    "# print(df_value_counts.head(20))\n",
    "\n",
    "\n",
    "# #Select the Values of Column Name 'annuity_853A'\n",
    "# column_name='annuity_853A'\n",
    "# table_name='train_applprev'\n",
    "# query=\"SELECT {} FROM {}\".format(column_name, table_name)\n",
    "\n",
    "# df_actualdpd_943P=execute_query(connection, query=query, table_name=table_name, column_name_list=[column_name])\n",
    "# preview_df(df_actualdpd_943P)\n",
    "\n",
    "\n",
    "\n",
    "# #Get the Value Count of Values Containing More Than Two Digits Past the Decimal Point\n",
    "# column_name='annuity_853A'\n",
    "# table_name='train_applprev'\n",
    "\n",
    "# query=\"WITH annuity_853A_decimal_digits_3_plus AS (SELECT {} FROM {} WHERE LENGTH({}::text) - POSITION('.' IN {}::text) > 2) \\\n",
    "# SELECT annuity_853A, COUNT(annuity_853A) as value_count FROM annuity_853A_decimal_digits_3_plus \\\n",
    "# GROUP BY annuity_853A ORDER BY value_count DESC\".format(column_name, table_name, column_name, column_name)\n",
    "# df_annuity_853A_3_plus=execute_query(connection, query=query, table_name=table_name, column_name_list=[column_name, 'value_count'])\n",
    "# df_annuity_853A_3_plus.head(200)\n",
    "\n",
    "\n",
    "\n",
    "# #Get the Largest Value in the Column Name 'annuity_853A'\n",
    "# column_name='annuity_853A'\n",
    "# table_name='train_applprev'\n",
    "\n",
    "# query=\"SELECT MAX({}) FROM {};\".format(column_name, table_name)\n",
    "# execute_query(connection, query=query, table_name=table_name, column_name_list=[column_name])\n",
    "\n",
    "\n",
    "\n",
    "# #Get the Number of Digits After the Decimal Place\n",
    "# column_name='annuity_853A'\n",
    "# table_name='train_applprev'\n",
    "# query=\"SELECT LENGTH(SUBSTRING({}::text FROM '[^.]+$')) FROM {};\".format(column_name, table_name)\n",
    "# df_substring_length=execute_query(connection, query=query, table_name=table_name, column_name_list=[column_name])\n",
    "\n",
    "# print(df_substring_length.value_counts())\n",
    "# preview_df(df_substring_length)\n",
    "\n",
    "\n",
    "\n",
    "\n",
    "# #Get the Number of Digits After the Decimal Place\n",
    "# column_name='annuity_853A'\n",
    "# table_name='train_applprev'\n",
    "# query=\"SELECT LENGTH(SUBSTRING({}::text FROM '[^.]+$')) FROM {};\".format(column_name, table_name)\n",
    "# df_substring_length=execute_query(connection, query=query, table_name=table_name, column_name_list=[column_name])\n",
    "\n",
    "# print(df_substring_length.value_counts())\n",
    "# preview_df(df_substring_length)\n",
    "\n",
    "\n",
    "\n",
    "\n",
    "# #Select the Values of Column Name 'annuity_853A'\n",
    "# column_name='annuity_853A'\n",
    "# table_name='train_applprev'\n",
    "# query=\"SELECT {} FROM {}\".format(column_name, table_name)\n",
    "\n",
    "# df_annuity_853A=execute_query(connection, query=query, table_name=table_name, column_name_list=[column_name])\n",
    "# preview_df(df_annuity_853A)\n",
    "\n"
   ]
  },
  {
   "cell_type": "code",
   "execution_count": null,
   "id": "b3d8237a",
   "metadata": {},
   "outputs": [],
   "source": []
  },
  {
   "cell_type": "code",
   "execution_count": 22,
   "id": "6080b060",
   "metadata": {},
   "outputs": [
    {
     "name": "stdout",
     "output_type": "stream",
     "text": [
      "time: 402 µs (started: 2024-04-02 18:39:54 -07:00)\n"
     ]
    }
   ],
   "source": [
    "# column_name_list=['case_id', 'actualdpd_943P', 'annuity_853A', 'approvaldate_319D', 'byoccupationinc_3656910L', 'cancelreason_3545846M', 'childnum_21L', 'creationdate_885D', 'credacc_actualbalance_314A', 'credacc_credlmt_575A', 'credacc_maxhisbal_375A', 'credacc_minhisbal_90A', 'credacc_status_367L', 'credacc_transactions_402L', 'credamount_590A', 'credtype_587L', 'currdebt_94A', 'dateactivated_425D', 'district_544M', 'downpmt_134A', 'dtlastpmt_581D', 'dtlastpmtallstes_3545839D', 'education_1138M', 'employedfrom_700D', 'familystate_726L', 'firstnonzeroinstldate_307D', 'inittransactioncode_279L', 'isbidproduct_390L', 'isdebitcard_527L', 'mainoccupationinc_437A', 'maxdpdtolerance_577P', 'num_group1', 'outstandingdebt_522A', 'pmtnum_8L', 'postype_4733339M', 'profession_152M', 'rejectreason_755M', 'rejectreasonclient_4145042M', 'revolvingaccount_394A', 'status_219L', 'tenor_203L']\n"
   ]
  },
  {
   "cell_type": "code",
   "execution_count": null,
   "id": "a8b9730a",
   "metadata": {},
   "outputs": [],
   "source": []
  },
  {
   "cell_type": "code",
   "execution_count": null,
   "id": "850aab27",
   "metadata": {},
   "outputs": [],
   "source": []
  },
  {
   "cell_type": "markdown",
   "id": "10b0ae86",
   "metadata": {},
   "source": [
    "### Alter Type to DATE from VARCHAR: Column Name 'approvaldate_319D', i.e. Approval Date of Previous Application\n"
   ]
  },
  {
   "cell_type": "code",
   "execution_count": 23,
   "id": "6ad8699e",
   "metadata": {},
   "outputs": [
    {
     "name": "stdout",
     "output_type": "stream",
     "text": [
      "time: 297 µs (started: 2024-04-02 18:39:54 -07:00)\n"
     ]
    }
   ],
   "source": [
    "# table_name='train_applprev'\n",
    "# column_name='approvaldate_319D'\n",
    "# data_type='DATE'\n",
    "# query=\"ALTER TABLE {} ALTER COLUMN {} TYPE DATE USING {}::{};\".format(table_name, column_name, column_name, data_type)\n",
    "\n",
    "# execute_query(connection, query=query, table_name=table_name, column_name_list=[column_name])\n",
    "\n",
    "# df_approvaldate_319D_data_type=get_the_table_column_data_types_and_value_count(table_name, column_name, data_type)\n",
    "# preview_df(df_approvaldate_319D_data_type)\n"
   ]
  },
  {
   "cell_type": "markdown",
   "id": "d51e75bf",
   "metadata": {},
   "source": [
    "#### Data Analysis: 'approvaldate_319D'"
   ]
  },
  {
   "cell_type": "code",
   "execution_count": 24,
   "id": "69dccc61",
   "metadata": {},
   "outputs": [
    {
     "name": "stdout",
     "output_type": "stream",
     "text": [
      "time: 398 µs (started: 2024-04-02 18:39:55 -07:00)\n"
     ]
    }
   ],
   "source": [
    "# #Fix the Data Values of the Column Name 'approvaldate_319D', i.e. Approval Date of Previous Application\n",
    "# column_name='approvaldate_319D'\n",
    "# table_name='train_applprev'\n",
    "# df_approvaldate_319D=get_the_table_column_values_and_value_counts(table_name=table_name, column_name=column_name)\n",
    "# preview_df(df_approvaldate_319D)\n",
    "\n",
    "\n",
    "# #Get the Data Type of Column Name 'approvaldate_319D'\n",
    "# column_name='approvaldate_319D'\n",
    "# table_name='train_applprev'\n",
    "# data_type='VARCHAR'\n",
    "# query=\"SELECT pg_typeof({}) AS {} FROM {};\".format(column_name, data_type, table_name)\n",
    "\n",
    "# df_approvaldate_319D_data_type = execute_query(connection, query=query, table_name=table_name, column_name_list=[column_name])\n",
    "# print(df_approvaldate_319D_data_type.value_counts())\n",
    "# preview_df(df_approvaldate_319D_data_type)\n"
   ]
  },
  {
   "cell_type": "code",
   "execution_count": null,
   "id": "16753f81",
   "metadata": {},
   "outputs": [],
   "source": []
  },
  {
   "cell_type": "code",
   "execution_count": null,
   "id": "348c582b",
   "metadata": {},
   "outputs": [],
   "source": []
  },
  {
   "cell_type": "markdown",
   "id": "ec6e9735",
   "metadata": {},
   "source": [
    "### Alter Type to NUMERIC from VARCHAR: Column Name 'byoccupationinc_3656910L', i.e. Applicant's Income from Previous Applications.\n"
   ]
  },
  {
   "cell_type": "code",
   "execution_count": 25,
   "id": "a4a5655e",
   "metadata": {},
   "outputs": [
    {
     "name": "stdout",
     "output_type": "stream",
     "text": [
      "time: 246 µs (started: 2024-04-02 18:39:55 -07:00)\n"
     ]
    }
   ],
   "source": [
    "# #Convert to DECIMAL from VARCHAR\n",
    "# table_name='train_applprev'\n",
    "# column_name='byoccupationinc_3656910L'\n",
    "# data_type='DECIMAL'\n",
    "# query=\"ALTER TABLE {} ALTER COLUMN {} TYPE DECIMAL(10,2) USING {}::{}\".format(table_name, column_name, column_name, data_type)\n",
    "# execute_query(connection, query=query, table_name=table_name, column_name_list=[column_name])\n"
   ]
  },
  {
   "cell_type": "markdown",
   "id": "dca5abe0",
   "metadata": {},
   "source": [
    "#### Data Analysis: 'byoccupationinc_3656910L'"
   ]
  },
  {
   "cell_type": "code",
   "execution_count": 26,
   "id": "2ae4a410",
   "metadata": {},
   "outputs": [
    {
     "name": "stdout",
     "output_type": "stream",
     "text": [
      "time: 837 µs (started: 2024-04-02 18:39:55 -07:00)\n"
     ]
    }
   ],
   "source": [
    "# #Get the Column Values\n",
    "# column_name='byoccupationinc_3656910L'\n",
    "# table_name='train_applprev'\n",
    "# query='SELECT {} FROM {}'.format(column_name, table_name)\n",
    "# df_byoccupationinc_3656910L=execute_query(connection, query=query, table_name=table_name, column_name_list=[column_name])\n",
    "# preview_df(df_byoccupationinc_3656910L)\n",
    "\n",
    "\n",
    "# #Get the Column's Largest Value\n",
    "# column_name='byoccupationinc_3656910L'\n",
    "# table_name='train_applprev'\n",
    "# data_type='DECIMAL'\n",
    "# query='SELECT max({}) FROM {};'.format(column_name, table_name)\n",
    "# df_byoccupationinc_3656910L=execute_query(connection, query=query, table_name=table_name, column_name_list=[column_name])\n",
    "# print(\"Largest Value: \"+str(df_byoccupationinc_3656910L.values[0][0]))\n",
    "\n",
    "\n",
    "# #Number of Digits Past the Decimal Point: 2\n",
    "\n",
    "# #Get the Value Count of Values Containing More Than Two Digits Past the Decimal Point\n",
    "# query=\"WITH byoccupationinc_3656910L_decimal_digits_2_plus AS (SELECT {} FROM {} WHERE LENGTH({}::text) - POSITION('.' IN {}::text) > 1) \\\n",
    "# SELECT byoccupationinc_3656910L, COUNT(byoccupationinc_3656910L) as value_count FROM byoccupationinc_3656910L_decimal_digits_2_plus \\\n",
    "# GROUP BY byoccupationinc_3656910L ORDER BY value_count DESC\".format(column_name, table_name, column_name, column_name)\n",
    "# df_byoccupationinc_3656910L_2_plus=execute_query(connection, query=query, table_name=table_name, column_name_list=[column_name, 'value_count'])\n",
    "# df_byoccupationinc_3656910L_2_plus.head(200)\n",
    "\n",
    "\n",
    "# #Get the Data Type Count\n",
    "# column_name='byoccupationinc_3656910L'\n",
    "# table_name='train_applprev'\n",
    "# data_type='DECIMAL'\n",
    "# query='SELECT pg_typeof({}) AS {}, COUNT(*) AS count FROM {} GROUP BY {};'.format(column_name, data_type, table_name, data_type)\n",
    "# byoccupationinc_3656910L_data_type_value_count=execute_query(connection, query=query, table_name=table_name, column_name_list=[column_name, 'count'])\n",
    "# print(byoccupationinc_3656910L_data_type_value_count)\n",
    "\n",
    "\n",
    "# #Get the Column Data Type Values\n",
    "# column_name='byoccupationinc_3656910L'\n",
    "# table_name='train_applprev'\n",
    "# data_type='DECIMAL'\n",
    "# query='SELECT pg_typeof({}) AS {} FROM {};'.format(column_name, data_type, table_name)\n",
    "# df_byoccupationinc_3656910L_data_type=execute_query(connection, query=query, table_name=table_name, column_name_list=[column_name])\n",
    "# preview_df(df_byoccupationinc_3656910L_data_type)\n",
    "\n"
   ]
  },
  {
   "cell_type": "code",
   "execution_count": null,
   "id": "c024908a",
   "metadata": {},
   "outputs": [],
   "source": []
  },
  {
   "cell_type": "code",
   "execution_count": null,
   "id": "cd610ba7",
   "metadata": {},
   "outputs": [],
   "source": []
  },
  {
   "cell_type": "markdown",
   "id": "eeff5b53",
   "metadata": {},
   "source": [
    "### Alter Type to VARCHAR from VARCHAR: Column Name 'cancelreason_3545846M', i.e. Application cancellation reason.\n"
   ]
  },
  {
   "cell_type": "code",
   "execution_count": 27,
   "id": "47df191a",
   "metadata": {},
   "outputs": [
    {
     "name": "stdout",
     "output_type": "stream",
     "text": [
      "time: 1.36 ms (started: 2024-04-02 18:39:55 -07:00)\n"
     ]
    }
   ],
   "source": [
    "# #Note: Data Masking was Enabled for Column Name 'cancelreason_3545846M'\n",
    "\n",
    "# column_name='cancelreason_3545846M'\n",
    "# table_name='train_applprev'\n",
    "# query=\"SELECT {}, COUNT({}) AS count FROM {} GROUP BY {} ORDER BY {} DESC\".format(column_name, column_name, table_name, column_name, 'count')\n",
    "\n",
    "# df_cancelreason_3545846M=execute_query(connection=connection, query=query, table_name=table_name, column_name_list=[column_name, 'count'])\n",
    "# preview_df(df_cancelreason_3545846M)\n"
   ]
  },
  {
   "cell_type": "code",
   "execution_count": null,
   "id": "de225956",
   "metadata": {},
   "outputs": [],
   "source": []
  },
  {
   "cell_type": "markdown",
   "id": "91e60e2f",
   "metadata": {},
   "source": [
    "### Alter Type to INTEGER from VARCHAR: Column Name 'childnum_21L', i.e. Number of children in the previous application.\n"
   ]
  },
  {
   "cell_type": "code",
   "execution_count": 28,
   "id": "400f30e4",
   "metadata": {},
   "outputs": [
    {
     "name": "stdout",
     "output_type": "stream",
     "text": [
      "Query executed successfully\n",
      "time: 40 s (started: 2024-04-02 18:39:55 -07:00)\n"
     ]
    }
   ],
   "source": [
    "# #Convert to DECIMAL from VARCHAR\n",
    "# table_name='train_applprev'\n",
    "# column_name='childnum_21L'\n",
    "# data_type='DECIMAL'\n",
    "# query=\"ALTER TABLE {} ALTER COLUMN {} TYPE DECIMAL(3,1) USING {}::{}\".format(table_name, column_name, column_name, data_type)\n",
    "# execute_query(connection, query=query, table_name=table_name, column_name_list=[column_name])\n",
    "\n",
    "#Convert to INTEGER from DECIMAL\n",
    "column_name='childnum_21L'\n",
    "table_name='train_applprev'\n",
    "data_type='INTEGER'\n",
    "query=\"ALTER TABLE {} ALTER COLUMN {} TYPE {} USING ROUND({}::NUMERIC, 0);\".format(table_name, column_name, data_type, column_name)\n",
    "\n",
    "execute_query(connection=connection, query=query, table_name=table_name, column_name_list=[column_name])\n"
   ]
  },
  {
   "cell_type": "markdown",
   "id": "32768158",
   "metadata": {},
   "source": [
    "#### Data Analysis: 'childnum_21L'"
   ]
  },
  {
   "cell_type": "code",
   "execution_count": 29,
   "id": "8fba6f65",
   "metadata": {},
   "outputs": [
    {
     "name": "stdout",
     "output_type": "stream",
     "text": [
      "time: 3.32 ms (started: 2024-04-02 18:40:35 -07:00)\n"
     ]
    }
   ],
   "source": [
    "# #Get the Data Type Count\n",
    "# column_name='train_applprev'\n",
    "# table_name='train_applprev'\n",
    "# data_type='DECIMAL'\n",
    "# query='SELECT pg_typeof({}) AS {}, COUNT(*) AS count FROM {} GROUP BY {};'.format(column_name, data_type, table_name, data_type)\n",
    "# byoccupationinc_3656910L_data_type_value_count=execute_query(connection, query=query, table_name=table_name, column_name_list=[column_name, 'count'])\n",
    "# print(byoccupationinc_3656910L_data_type_value_count)\n",
    "\n",
    "\n",
    "# #Get the Column Data Type Values\n",
    "# column_name='childnum_21L'\n",
    "# table_name='train_applprev'\n",
    "# data_type='DECIMAL'\n",
    "# query='SELECT pg_typeof({}) AS {} FROM {};'.format(column_name, data_type, table_name)\n",
    "# df_childnum_21L_data_type=execute_query(connection, query=query, table_name=table_name, column_name_list=[column_name])\n",
    "# preview_df(df_childnum_21L_data_type)\n",
    "\n",
    "# ##########\n",
    "\n",
    "# # Why show the 0 count for Null in the column name 'childnum_21L'???\n",
    "# column_name='childnum_21L'\n",
    "# table_name='train_applprev'\n",
    "# query=\"SELECT {} FROM {} WHERE childnum_21L = NULL;\".format(column_name, table_name)\n",
    "\n",
    "# childnum_21L_null=execute_query(connection, query=query, table_name=table_name, column_name_list=[column_name, 'count'])\n",
    "# print(childnum_21L_null)\n",
    "\n",
    "\n",
    "\n",
    "# #Get Column Value Counts\n",
    "# column_name='childnum_21L'\n",
    "# table_name='train_applprev'\n",
    "# query=\"SELECT {}, COUNT({}) AS count FROM {} GROUP BY {} ORDER BY {} DESC\".format(column_name, column_name, table_name, column_name, 'count')\n",
    "\n",
    "# df_childnum_21L=execute_query(connection=connection, query=query, table_name=table_name, column_name_list=[column_name, 'count'])\n",
    "# preview_df(df_childnum_21L)\n",
    "\n"
   ]
  },
  {
   "cell_type": "code",
   "execution_count": null,
   "id": "6bf9e43f",
   "metadata": {},
   "outputs": [],
   "source": []
  },
  {
   "cell_type": "markdown",
   "id": "6b710734",
   "metadata": {},
   "source": [
    "### Alter Type to DATE from VARCHAR: Column Name 'creationdate_885D', i.e. Date when previous application was created.\n"
   ]
  },
  {
   "cell_type": "code",
   "execution_count": 30,
   "id": "f709924e",
   "metadata": {},
   "outputs": [
    {
     "name": "stdout",
     "output_type": "stream",
     "text": [
      "time: 994 µs (started: 2024-04-02 18:40:35 -07:00)\n"
     ]
    }
   ],
   "source": [
    "# #Convert to DATE from VARCHAR \n",
    "# table_name='train_applprev'\n",
    "# column_name='creationdate_885D'\n",
    "# data_type='DATE'\n",
    "# query=\"ALTER TABLE {} ALTER COLUMN {} TYPE DATE USING {}::{};\".format(table_name, column_name, column_name, data_type)\n",
    "\n",
    "# execute_query(connection, query=query, table_name=table_name, column_name_list=[column_name])\n",
    "\n",
    "# df_creationdate_885D_data_type=get_the_table_column_data_types_and_value_count(table_name, column_name, data_type)\n",
    "# preview_df(df_creationdate_885D_data_type)\n"
   ]
  },
  {
   "cell_type": "markdown",
   "id": "c7796c71",
   "metadata": {},
   "source": [
    "#### Data Analysis: 'creationdate_885D'"
   ]
  },
  {
   "cell_type": "code",
   "execution_count": 31,
   "id": "68b5d931",
   "metadata": {},
   "outputs": [
    {
     "name": "stdout",
     "output_type": "stream",
     "text": [
      "time: 826 µs (started: 2024-04-02 18:40:35 -07:00)\n"
     ]
    }
   ],
   "source": [
    "# #Get Column Values\n",
    "# column_name='creationdate_885D'\n",
    "# table_name='train_applprev'\n",
    "# query=\"SELECT {} FROM {}\".format(column_name, table_name)\n",
    "\n",
    "# df_creationdate_885D=execute_query(connection, query=query, table_name=table_name, column_name_list=[column_name])\n",
    "# preview_df(df_creationdate_885D)\n",
    "\n",
    "# #Get Column Value Counts\n",
    "# column_name='creationdate_885D'\n",
    "# table_name='train_applprev'\n",
    "# query=\"SELECT {}, COUNT({}) AS count FROM {} GROUP BY {} ORDER BY count DESC\".format(column_name, column_name, table_name, column_name, column_name)\n",
    "\n",
    "# df_creationdate_885D_counts=execute_query(connection, query=query, table_name=table_name, column_name_list=[column_name, 'count'])\n",
    "# preview_df(df_creationdate_885D_counts)\n"
   ]
  },
  {
   "cell_type": "code",
   "execution_count": 32,
   "id": "aa8e6123",
   "metadata": {},
   "outputs": [
    {
     "name": "stdout",
     "output_type": "stream",
     "text": [
      "time: 1min 56s (started: 2024-04-02 18:40:35 -07:00)\n"
     ]
    },
    {
     "name": "stderr",
     "output_type": "stream",
     "text": [
      "\n",
      "KeyboardInterrupt\n",
      "\n"
     ]
    }
   ],
   "source": [
    "occupy_the_kernel()"
   ]
  },
  {
   "cell_type": "markdown",
   "id": "af258381",
   "metadata": {},
   "source": [
    "### Alter Type to NUMERIC from VARCHAR: Column Name 'credacc_actualbalance_314A', i.e. Actual balance on credit account.\n"
   ]
  },
  {
   "cell_type": "code",
   "execution_count": null,
   "id": "c025b935",
   "metadata": {},
   "outputs": [],
   "source": [
    "column_name='credacc_actualbalance_314A'\n",
    "table_name='train_applprev'\n",
    "query=\"SELECT {} FROM {}\".format(column_name, table_name)\n",
    "\n",
    "df_credacc_actualbalance_314A=execute_query(connection=connection, query=query, table_name=table_name, column_name_list=[column_name])\n",
    "preview_df(df_credacc_actualbalance_314A)\n"
   ]
  },
  {
   "cell_type": "code",
   "execution_count": null,
   "id": "7127a7a3",
   "metadata": {},
   "outputs": [],
   "source": [
    "column_name='credacc_actualbalance_314A'\n",
    "table_name='train_applprev'\n",
    "data_type='NUMERIC'\n",
    "query=\"ALTER TABLE {} ALTER COLUMN {} TYPE NUMERIC USING {}::{}\".format(table_name, column_name, column_name, 'NUMERIC')\n",
    "\n",
    "execute_query(connection=connection, query=query, table_name=table_name, column_name_list=[column_name])\n"
   ]
  },
  {
   "cell_type": "code",
   "execution_count": null,
   "id": "bd386d4a",
   "metadata": {},
   "outputs": [],
   "source": [
    "#column storage size?\n",
    "column_name='credacc_actualbalance_314A'\n",
    "table_name='train_applprev'\n",
    "\n",
    "query=\"SELECT sum(pg_column_size({})) AS total_column_size FROM {};\".format(column_name, table_name)\n",
    "execute_query(connection, query=query, table_name=table_name, column_name_list=[column_name])\n"
   ]
  },
  {
   "cell_type": "code",
   "execution_count": null,
   "id": "ac291568",
   "metadata": {},
   "outputs": [],
   "source": [
    "column_name='credacc_actualbalance_314A'\n",
    "table_name='train_applprev'\n",
    "data_type='NUMERIC'\n",
    "query=\"ALTER TABLE {} ALTER COLUMN {} TYPE NUMERIC USING {}::{}\".format(table_name, column_name, column_name, 'NUMERIC(16, 9)')\n",
    "\n",
    "execute_query(connection=connection, query=query, table_name=table_name, column_name_list=[column_name])\n"
   ]
  },
  {
   "cell_type": "code",
   "execution_count": null,
   "id": "28969398",
   "metadata": {},
   "outputs": [],
   "source": [
    "\n",
    "#column storage size?\n",
    "column_name='credacc_actualbalance_314A'\n",
    "table_name='train_applprev'\n",
    "\n",
    "query=\"SELECT sum(pg_column_size({})) AS total_column_size FROM {};\".format(column_name, table_name)\n",
    "execute_query(connection, query=query, table_name=table_name, column_name_list=[column_name])\n"
   ]
  },
  {
   "cell_type": "code",
   "execution_count": null,
   "id": "38b7eb30",
   "metadata": {},
   "outputs": [],
   "source": [
    "occupy_the_kernel()"
   ]
  },
  {
   "cell_type": "code",
   "execution_count": null,
   "id": "106e2ad9",
   "metadata": {},
   "outputs": [],
   "source": []
  },
  {
   "cell_type": "code",
   "execution_count": null,
   "id": "d018e69b",
   "metadata": {},
   "outputs": [],
   "source": []
  },
  {
   "cell_type": "code",
   "execution_count": null,
   "id": "ca8deacb",
   "metadata": {},
   "outputs": [],
   "source": []
  },
  {
   "cell_type": "code",
   "execution_count": null,
   "id": "42583b31",
   "metadata": {},
   "outputs": [],
   "source": [
    "column_name='credacc_actualbalance_314A'\n",
    "table_name='train_applprev'\n",
    "data_type='DECIMAL'\n",
    "\n",
    "\n",
    "df_credacc_actualbalance_314A_data_type=get_the_table_column_data_types_and_value_count(table_name=table_name, column_name=column_name, data_type=data_type)\n",
    "preview_df(df_credacc_actualbalance_314A_data_type)"
   ]
  },
  {
   "cell_type": "code",
   "execution_count": null,
   "id": "f63ea575",
   "metadata": {},
   "outputs": [],
   "source": [
    "#NUMERIC(16, 9)"
   ]
  },
  {
   "cell_type": "code",
   "execution_count": null,
   "id": "3482e2a4",
   "metadata": {},
   "outputs": [],
   "source": []
  },
  {
   "cell_type": "code",
   "execution_count": null,
   "id": "130bf60e",
   "metadata": {},
   "outputs": [],
   "source": [
    "#number of digits past the decimal point\n",
    "column_name='credacc_actualbalance_314A'\n",
    "table_name='train_applprev'\n",
    "query=\"SELECT {} FROM {}\".format(column_name, table_name)\n",
    "\n",
    "execute_query(connection=connection, query=query, column_name_list=[column_name], table_name=table_name)\n",
    "\n",
    "\n",
    "#########\n",
    "\n",
    "#Get the Value Count of Values Containing More Than Two Digits Past the Decimal Point\n",
    "\n",
    "query=\"WITH column_name_digits_3_plus AS (SELECT {} FROM {} WHERE LENGTH({}::text) - POSITION('.' IN {}::text) > 2) \\\n",
    "SELECT {}, COUNT({}) as value_count FROM column_name_digits_3_plus \\\n",
    "GROUP BY {} ORDER BY value_count DESC\".format(column_name, table_name, column_name, column_name, column_name, column_name, column_name)\n",
    "df_credacc_actualbalance_314A_3_plus=execute_query(connection, query=query, table_name=table_name, column_name_list=[column_name, 'value_count'])\n",
    "df_credacc_actualbalance_314A_3_plus.head(200)"
   ]
  },
  {
   "cell_type": "code",
   "execution_count": null,
   "id": "2158f69d",
   "metadata": {},
   "outputs": [],
   "source": [
    "#Get the Largest Value in the Column Name 'annuity_853A'\n",
    "column_name='credacc_actualbalance_314A'\n",
    "table_name='train_applprev'\n",
    "\n",
    "query=\"SELECT MAX({}) FROM {};\".format(column_name, table_name)\n",
    "execute_query(connection, query=query, table_name=table_name, column_name_list=[column_name])\n"
   ]
  },
  {
   "cell_type": "code",
   "execution_count": null,
   "id": "aadbbbd7",
   "metadata": {},
   "outputs": [],
   "source": [
    "\n",
    "\n",
    "\n",
    "#Get the Number of Digits After the Decimal Place\n",
    "column_name='credacc_actualbalance_314A'\n",
    "table_name='train_applprev'\n",
    "query=\"SELECT LENGTH(SUBSTRING({}::text FROM '[^.]+$')) FROM {};\".format(column_name, table_name)\n",
    "df_substring_length=execute_query(connection, query=query, table_name=table_name, column_name_list=[column_name])\n",
    "\n",
    "print(df_substring_length.value_counts())\n",
    "preview_df(df_substring_length)\n",
    "\n"
   ]
  },
  {
   "cell_type": "code",
   "execution_count": null,
   "id": "877e7bef",
   "metadata": {},
   "outputs": [],
   "source": []
  },
  {
   "cell_type": "code",
   "execution_count": null,
   "id": "c3091dc6",
   "metadata": {},
   "outputs": [],
   "source": []
  },
  {
   "cell_type": "code",
   "execution_count": null,
   "id": "761f4944",
   "metadata": {},
   "outputs": [],
   "source": []
  },
  {
   "cell_type": "code",
   "execution_count": null,
   "id": "6b67edb8",
   "metadata": {},
   "outputs": [],
   "source": [
    "#number of digits past the decimal point\n",
    "column_name='credacc_actualbalance_314A'\n",
    "table_name='train_applprev'\n",
    "query=\"SELECT {} FROM {}\".format(column_name, table_name)\n",
    "\n",
    "execute_query(connection=connection, query=query, column_name_list=[column_name], table_name=table_name)\n"
   ]
  },
  {
   "cell_type": "code",
   "execution_count": null,
   "id": "1c7647cc",
   "metadata": {},
   "outputs": [],
   "source": []
  },
  {
   "cell_type": "code",
   "execution_count": null,
   "id": "b9571abd",
   "metadata": {},
   "outputs": [],
   "source": [
    "column_name='credacc_actualbalance_314A'\n",
    "table_name='train_applprev'\n",
    "data_type='DECIMAL'\n",
    "\n",
    "df_credacc_actualbalance_314A=get_the_table_column_values_and_value_counts(table_name=table_name, column_name=column_name)\n",
    "preview_df(df_credacc_actualbalance_314A)\n"
   ]
  },
  {
   "cell_type": "code",
   "execution_count": null,
   "id": "bc0c5478",
   "metadata": {},
   "outputs": [],
   "source": [
    "df_credacc_actualbalance_314A.info(show_counts=True)"
   ]
  },
  {
   "cell_type": "code",
   "execution_count": null,
   "id": "704c6b86",
   "metadata": {},
   "outputs": [],
   "source": []
  },
  {
   "cell_type": "code",
   "execution_count": null,
   "id": "9a87e8ce",
   "metadata": {},
   "outputs": [],
   "source": []
  },
  {
   "cell_type": "code",
   "execution_count": null,
   "id": "9782180c",
   "metadata": {},
   "outputs": [],
   "source": [
    "#clean the other 39 columns"
   ]
  },
  {
   "cell_type": "code",
   "execution_count": null,
   "id": "34ce1780",
   "metadata": {},
   "outputs": [],
   "source": []
  },
  {
   "cell_type": "code",
   "execution_count": null,
   "id": "c20b237b",
   "metadata": {},
   "outputs": [],
   "source": []
  },
  {
   "cell_type": "code",
   "execution_count": null,
   "id": "dfb0a8ca",
   "metadata": {},
   "outputs": [],
   "source": []
  },
  {
   "cell_type": "code",
   "execution_count": null,
   "id": "b90174dd",
   "metadata": {},
   "outputs": [],
   "source": []
  },
  {
   "cell_type": "code",
   "execution_count": null,
   "id": "b4cfc7de",
   "metadata": {},
   "outputs": [],
   "source": []
  },
  {
   "cell_type": "code",
   "execution_count": null,
   "id": "100c4e5a",
   "metadata": {},
   "outputs": [],
   "source": []
  },
  {
   "cell_type": "code",
   "execution_count": null,
   "id": "39f03bb9",
   "metadata": {},
   "outputs": [],
   "source": [
    "occupy_the_kernel()\n"
   ]
  },
  {
   "cell_type": "code",
   "execution_count": null,
   "id": "6267ed80",
   "metadata": {},
   "outputs": [],
   "source": []
  },
  {
   "cell_type": "code",
   "execution_count": null,
   "id": "7384dafe",
   "metadata": {},
   "outputs": [],
   "source": [
    "result.info(show_counts=True)\n"
   ]
  },
  {
   "cell_type": "code",
   "execution_count": null,
   "id": "235f84c5",
   "metadata": {},
   "outputs": [],
   "source": []
  },
  {
   "cell_type": "code",
   "execution_count": null,
   "id": "960fd55c",
   "metadata": {},
   "outputs": [],
   "source": []
  },
  {
   "cell_type": "code",
   "execution_count": null,
   "id": "ed125be7",
   "metadata": {},
   "outputs": [],
   "source": []
  },
  {
   "cell_type": "code",
   "execution_count": null,
   "id": "4b62d472",
   "metadata": {},
   "outputs": [],
   "source": []
  },
  {
   "cell_type": "code",
   "execution_count": null,
   "id": "a4c1b555",
   "metadata": {},
   "outputs": [],
   "source": []
  },
  {
   "cell_type": "code",
   "execution_count": null,
   "id": "3ee01b86",
   "metadata": {},
   "outputs": [],
   "source": []
  },
  {
   "cell_type": "code",
   "execution_count": null,
   "id": "15f36520",
   "metadata": {},
   "outputs": [],
   "source": []
  },
  {
   "cell_type": "code",
   "execution_count": null,
   "id": "4f671ed7",
   "metadata": {},
   "outputs": [],
   "source": []
  },
  {
   "cell_type": "code",
   "execution_count": null,
   "id": "ea2512dd",
   "metadata": {},
   "outputs": [],
   "source": []
  },
  {
   "cell_type": "code",
   "execution_count": null,
   "id": "d0f5fe2c",
   "metadata": {},
   "outputs": [],
   "source": []
  },
  {
   "cell_type": "code",
   "execution_count": null,
   "id": "42c90eba",
   "metadata": {},
   "outputs": [],
   "source": []
  },
  {
   "cell_type": "code",
   "execution_count": null,
   "id": "5136053f",
   "metadata": {},
   "outputs": [],
   "source": []
  },
  {
   "cell_type": "code",
   "execution_count": null,
   "id": "957024d6",
   "metadata": {},
   "outputs": [],
   "source": []
  },
  {
   "cell_type": "code",
   "execution_count": null,
   "id": "406a19ac",
   "metadata": {},
   "outputs": [],
   "source": []
  },
  {
   "cell_type": "code",
   "execution_count": null,
   "id": "e74073ef",
   "metadata": {},
   "outputs": [],
   "source": []
  },
  {
   "cell_type": "code",
   "execution_count": null,
   "id": "d9ef2aea",
   "metadata": {},
   "outputs": [],
   "source": []
  },
  {
   "cell_type": "code",
   "execution_count": null,
   "id": "1d0b3e18",
   "metadata": {},
   "outputs": [],
   "source": []
  },
  {
   "cell_type": "code",
   "execution_count": null,
   "id": "ca0e6231",
   "metadata": {},
   "outputs": [],
   "source": []
  },
  {
   "cell_type": "code",
   "execution_count": null,
   "id": "0abf170d",
   "metadata": {},
   "outputs": [],
   "source": []
  },
  {
   "cell_type": "code",
   "execution_count": null,
   "id": "15defb31",
   "metadata": {
    "scrolled": false
   },
   "outputs": [],
   "source": []
  },
  {
   "cell_type": "code",
   "execution_count": null,
   "id": "02f76f93",
   "metadata": {},
   "outputs": [],
   "source": []
  },
  {
   "cell_type": "code",
   "execution_count": null,
   "id": "9796c3dd",
   "metadata": {},
   "outputs": [],
   "source": []
  },
  {
   "cell_type": "code",
   "execution_count": null,
   "id": "9c74faa2",
   "metadata": {},
   "outputs": [],
   "source": []
  },
  {
   "cell_type": "code",
   "execution_count": null,
   "id": "17bed46e",
   "metadata": {},
   "outputs": [],
   "source": []
  },
  {
   "cell_type": "code",
   "execution_count": null,
   "id": "35385b45",
   "metadata": {},
   "outputs": [],
   "source": []
  },
  {
   "cell_type": "code",
   "execution_count": null,
   "id": "3fbd9d3a",
   "metadata": {},
   "outputs": [],
   "source": []
  },
  {
   "cell_type": "code",
   "execution_count": null,
   "id": "c4def27e",
   "metadata": {},
   "outputs": [],
   "source": []
  },
  {
   "cell_type": "code",
   "execution_count": null,
   "id": "71ad5a54",
   "metadata": {},
   "outputs": [],
   "source": []
  },
  {
   "cell_type": "code",
   "execution_count": null,
   "id": "2d4f97b0",
   "metadata": {},
   "outputs": [],
   "source": []
  },
  {
   "cell_type": "code",
   "execution_count": null,
   "id": "7adf9a9e",
   "metadata": {},
   "outputs": [],
   "source": []
  },
  {
   "cell_type": "code",
   "execution_count": null,
   "id": "f973638b",
   "metadata": {},
   "outputs": [],
   "source": []
  },
  {
   "cell_type": "code",
   "execution_count": null,
   "id": "07bcef9a",
   "metadata": {},
   "outputs": [],
   "source": [
    "# dir()\n",
    "# %who_ls\n",
    "# %who_ls function\n",
    "# %who_ls str"
   ]
  },
  {
   "cell_type": "code",
   "execution_count": null,
   "id": "b7c77f02",
   "metadata": {},
   "outputs": [],
   "source": []
  },
  {
   "cell_type": "code",
   "execution_count": null,
   "id": "f3792595",
   "metadata": {},
   "outputs": [],
   "source": []
  },
  {
   "cell_type": "code",
   "execution_count": null,
   "id": "2516504d",
   "metadata": {},
   "outputs": [],
   "source": [
    "# locals()\n",
    "# globals()"
   ]
  },
  {
   "cell_type": "code",
   "execution_count": null,
   "id": "9ef4e2d5",
   "metadata": {},
   "outputs": [],
   "source": [
    "\n",
    "# connection.close()"
   ]
  }
 ],
 "metadata": {
  "kernelspec": {
   "display_name": "Python 3 (ipykernel)",
   "language": "python",
   "name": "python3"
  },
  "language_info": {
   "codemirror_mode": {
    "name": "ipython",
    "version": 3
   },
   "file_extension": ".py",
   "mimetype": "text/x-python",
   "name": "python",
   "nbconvert_exporter": "python",
   "pygments_lexer": "ipython3",
   "version": "3.9.12"
  }
 },
 "nbformat": 4,
 "nbformat_minor": 5
}
