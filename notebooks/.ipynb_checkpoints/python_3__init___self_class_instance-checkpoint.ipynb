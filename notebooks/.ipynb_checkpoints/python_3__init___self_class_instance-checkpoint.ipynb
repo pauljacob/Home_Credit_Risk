{
 "cells": [
  {
   "cell_type": "code",
   "execution_count": null,
   "id": "aa00c4a2",
   "metadata": {},
   "outputs": [],
   "source": [
    "# Source: https://www.youtube.com/watch?v=AsafkCAJpJ0"
   ]
  },
  {
   "cell_type": "code",
   "execution_count": 1,
   "id": "a825b3bf",
   "metadata": {},
   "outputs": [],
   "source": [
    "class Tweet:\n",
    "        pass"
   ]
  },
  {
   "cell_type": "code",
   "execution_count": 5,
   "id": "f051ae1b",
   "metadata": {},
   "outputs": [],
   "source": [
    "a = Tweet() #instance object start with a lowercase character\n",
    "            #class objects start with an uppercase character\n",
    "    \n",
    "a.message = \"140 characters.\"\n"
   ]
  },
  {
   "cell_type": "code",
   "execution_count": 6,
   "id": "bb0fb9f9",
   "metadata": {},
   "outputs": [
    {
     "data": {
      "text/plain": [
       "'140 characters.'"
      ]
     },
     "execution_count": 6,
     "metadata": {},
     "output_type": "execute_result"
    }
   ],
   "source": [
    "a.message"
   ]
  },
  {
   "cell_type": "code",
   "execution_count": null,
   "id": "4df12249",
   "metadata": {},
   "outputs": [],
   "source": []
  },
  {
   "cell_type": "code",
   "execution_count": 8,
   "id": "d62860ec",
   "metadata": {},
   "outputs": [],
   "source": [
    "# print(Tweet.message)"
   ]
  },
  {
   "cell_type": "code",
   "execution_count": null,
   "id": "360b50e8",
   "metadata": {},
   "outputs": [],
   "source": [
    "b = Tweet()"
   ]
  },
  {
   "cell_type": "code",
   "execution_count": null,
   "id": "9dcc031d",
   "metadata": {},
   "outputs": [],
   "source": []
  },
  {
   "cell_type": "code",
   "execution_count": 11,
   "id": "91694d1d",
   "metadata": {},
   "outputs": [],
   "source": [
    "class Tweet:\n",
    "        def __init__(self):\n",
    "            print(\"Hi\")"
   ]
  },
  {
   "cell_type": "code",
   "execution_count": 12,
   "id": "13d63fac",
   "metadata": {},
   "outputs": [
    {
     "name": "stdout",
     "output_type": "stream",
     "text": [
      "Hi\n"
     ]
    }
   ],
   "source": [
    "a = Tweet()"
   ]
  },
  {
   "cell_type": "code",
   "execution_count": null,
   "id": "caae14f4",
   "metadata": {},
   "outputs": [],
   "source": []
  },
  {
   "cell_type": "code",
   "execution_count": 13,
   "id": "9ccfb39c",
   "metadata": {},
   "outputs": [],
   "source": [
    "class Tweet:\n",
    "        def __init__(self):\n",
    "            self.x = message"
   ]
  },
  {
   "cell_type": "code",
   "execution_count": 14,
   "id": "d00a317c",
   "metadata": {},
   "outputs": [
    {
     "ename": "NameError",
     "evalue": "name 'message' is not defined",
     "output_type": "error",
     "traceback": [
      "\u001b[0;31m---------------------------------------------------------------------------\u001b[0m",
      "\u001b[0;31mNameError\u001b[0m                                 Traceback (most recent call last)",
      "Input \u001b[0;32mIn [14]\u001b[0m, in \u001b[0;36m<cell line: 1>\u001b[0;34m()\u001b[0m\n\u001b[0;32m----> 1\u001b[0m a \u001b[38;5;241m=\u001b[39m \u001b[43mTweet\u001b[49m\u001b[43m(\u001b[49m\u001b[43m)\u001b[49m\n",
      "Input \u001b[0;32mIn [13]\u001b[0m, in \u001b[0;36mTweet.__init__\u001b[0;34m(self)\u001b[0m\n\u001b[1;32m      2\u001b[0m \u001b[38;5;28;01mdef\u001b[39;00m \u001b[38;5;21m__init__\u001b[39m(\u001b[38;5;28mself\u001b[39m):\n\u001b[0;32m----> 3\u001b[0m     \u001b[38;5;28mself\u001b[39m\u001b[38;5;241m.\u001b[39mx \u001b[38;5;241m=\u001b[39m \u001b[43mmessage\u001b[49m\n",
      "\u001b[0;31mNameError\u001b[0m: name 'message' is not defined"
     ]
    }
   ],
   "source": [
    "a = Tweet()"
   ]
  },
  {
   "cell_type": "code",
   "execution_count": null,
   "id": "e6dc2ba6",
   "metadata": {},
   "outputs": [],
   "source": []
  },
  {
   "cell_type": "code",
   "execution_count": 16,
   "id": "dcd1337f",
   "metadata": {},
   "outputs": [],
   "source": [
    "class Tweet:\n",
    "        def __init__(self, message):\n",
    "            self.x = message"
   ]
  },
  {
   "cell_type": "code",
   "execution_count": 17,
   "id": "24d1fbca",
   "metadata": {},
   "outputs": [],
   "source": [
    "a = Tweet('Something here.')"
   ]
  },
  {
   "cell_type": "code",
   "execution_count": 18,
   "id": "c0e49547",
   "metadata": {},
   "outputs": [
    {
     "name": "stdout",
     "output_type": "stream",
     "text": [
      "Something here.\n"
     ]
    }
   ],
   "source": [
    "print(a.x)"
   ]
  },
  {
   "cell_type": "code",
   "execution_count": null,
   "id": "0bfbd6cb",
   "metadata": {},
   "outputs": [],
   "source": []
  },
  {
   "cell_type": "code",
   "execution_count": 20,
   "id": "587505d7",
   "metadata": {},
   "outputs": [],
   "source": [
    "b = Tweet(\"I'm another instance of a tweet.\")"
   ]
  },
  {
   "cell_type": "code",
   "execution_count": 21,
   "id": "a7dd21e9",
   "metadata": {},
   "outputs": [
    {
     "name": "stdout",
     "output_type": "stream",
     "text": [
      "I'm another instance of a tweet.\n"
     ]
    }
   ],
   "source": [
    "print(b.x)"
   ]
  },
  {
   "cell_type": "code",
   "execution_count": null,
   "id": "4a2297d3",
   "metadata": {},
   "outputs": [],
   "source": []
  },
  {
   "cell_type": "code",
   "execution_count": null,
   "id": "9c31f2b7",
   "metadata": {},
   "outputs": [],
   "source": []
  },
  {
   "cell_type": "code",
   "execution_count": 25,
   "id": "c31edb26",
   "metadata": {},
   "outputs": [],
   "source": [
    "class Tweet:\n",
    "        def __init__(self, message):\n",
    "            self.x = message\n",
    "        def print_tweet():\n",
    "            print(self.message)\n"
   ]
  },
  {
   "cell_type": "code",
   "execution_count": null,
   "id": "34c63c11",
   "metadata": {},
   "outputs": [],
   "source": []
  },
  {
   "cell_type": "code",
   "execution_count": 31,
   "id": "446fa59e",
   "metadata": {},
   "outputs": [],
   "source": [
    "t = Tweet('An instance of Tweet')"
   ]
  },
  {
   "cell_type": "code",
   "execution_count": 32,
   "id": "c65d30e0",
   "metadata": {},
   "outputs": [
    {
     "ename": "AttributeError",
     "evalue": "'Tweet' object has no attribute 'message'",
     "output_type": "error",
     "traceback": [
      "\u001b[0;31m---------------------------------------------------------------------------\u001b[0m",
      "\u001b[0;31mAttributeError\u001b[0m                            Traceback (most recent call last)",
      "Input \u001b[0;32mIn [32]\u001b[0m, in \u001b[0;36m<cell line: 1>\u001b[0;34m()\u001b[0m\n\u001b[0;32m----> 1\u001b[0m \u001b[43mt\u001b[49m\u001b[38;5;241;43m.\u001b[39;49m\u001b[43mprint_tweet\u001b[49m\u001b[43m(\u001b[49m\u001b[43m)\u001b[49m\n",
      "Input \u001b[0;32mIn [28]\u001b[0m, in \u001b[0;36mTweet.print_tweet\u001b[0;34m(self)\u001b[0m\n\u001b[1;32m      4\u001b[0m \u001b[38;5;28;01mdef\u001b[39;00m \u001b[38;5;21mprint_tweet\u001b[39m(\u001b[38;5;28mself\u001b[39m):\n\u001b[0;32m----> 5\u001b[0m     \u001b[38;5;28mprint\u001b[39m(\u001b[38;5;28;43mself\u001b[39;49m\u001b[38;5;241;43m.\u001b[39;49m\u001b[43mmessage\u001b[49m)\n",
      "\u001b[0;31mAttributeError\u001b[0m: 'Tweet' object has no attribute 'message'"
     ]
    }
   ],
   "source": [
    "t.print_tweet()"
   ]
  },
  {
   "cell_type": "code",
   "execution_count": null,
   "id": "75b390db",
   "metadata": {},
   "outputs": [],
   "source": []
  },
  {
   "cell_type": "code",
   "execution_count": 36,
   "id": "61ff59be",
   "metadata": {},
   "outputs": [],
   "source": [
    "class Tweet:\n",
    "        def __init__(self, message):\n",
    "            self.message = message\n",
    "        def print_tweet(self):\n",
    "            print(self.message)\n"
   ]
  },
  {
   "cell_type": "code",
   "execution_count": 37,
   "id": "1365e871",
   "metadata": {},
   "outputs": [],
   "source": [
    "t = Tweet('An instance of Tweet')"
   ]
  },
  {
   "cell_type": "code",
   "execution_count": 38,
   "id": "4b9beee4",
   "metadata": {},
   "outputs": [
    {
     "name": "stdout",
     "output_type": "stream",
     "text": [
      "An instance of Tweet\n"
     ]
    }
   ],
   "source": [
    "t.print_tweet()"
   ]
  },
  {
   "cell_type": "code",
   "execution_count": null,
   "id": "9d494427",
   "metadata": {},
   "outputs": [],
   "source": []
  },
  {
   "cell_type": "code",
   "execution_count": null,
   "id": "bfb05174",
   "metadata": {},
   "outputs": [],
   "source": []
  },
  {
   "cell_type": "code",
   "execution_count": null,
   "id": "8884078b",
   "metadata": {},
   "outputs": [],
   "source": []
  },
  {
   "cell_type": "code",
   "execution_count": 39,
   "id": "ade90dc8",
   "metadata": {},
   "outputs": [],
   "source": [
    "a = Tweet(1)"
   ]
  },
  {
   "cell_type": "code",
   "execution_count": 40,
   "id": "208ebe47",
   "metadata": {},
   "outputs": [],
   "source": [
    "b = Tweet(2)"
   ]
  },
  {
   "cell_type": "code",
   "execution_count": null,
   "id": "5a7f965c",
   "metadata": {},
   "outputs": [],
   "source": []
  },
  {
   "cell_type": "code",
   "execution_count": 41,
   "id": "c971f4fa",
   "metadata": {},
   "outputs": [
    {
     "name": "stdout",
     "output_type": "stream",
     "text": [
      "1\n"
     ]
    }
   ],
   "source": [
    "a.print_tweet()"
   ]
  },
  {
   "cell_type": "code",
   "execution_count": 42,
   "id": "f7acaa5c",
   "metadata": {},
   "outputs": [
    {
     "name": "stdout",
     "output_type": "stream",
     "text": [
      "2\n"
     ]
    }
   ],
   "source": [
    "b.print_tweet()"
   ]
  },
  {
   "cell_type": "code",
   "execution_count": null,
   "id": "003527a0",
   "metadata": {},
   "outputs": [],
   "source": []
  },
  {
   "cell_type": "code",
   "execution_count": 43,
   "id": "52e21dd1",
   "metadata": {},
   "outputs": [
    {
     "ename": "TypeError",
     "evalue": "print_tweet() missing 1 required positional argument: 'self'",
     "output_type": "error",
     "traceback": [
      "\u001b[0;31m---------------------------------------------------------------------------\u001b[0m",
      "\u001b[0;31mTypeError\u001b[0m                                 Traceback (most recent call last)",
      "Input \u001b[0;32mIn [43]\u001b[0m, in \u001b[0;36m<cell line: 1>\u001b[0;34m()\u001b[0m\n\u001b[0;32m----> 1\u001b[0m \u001b[43mTweet\u001b[49m\u001b[38;5;241;43m.\u001b[39;49m\u001b[43mprint_tweet\u001b[49m\u001b[43m(\u001b[49m\u001b[43m)\u001b[49m\n",
      "\u001b[0;31mTypeError\u001b[0m: print_tweet() missing 1 required positional argument: 'self'"
     ]
    }
   ],
   "source": [
    "Tweet.print_tweet()"
   ]
  },
  {
   "cell_type": "code",
   "execution_count": 45,
   "id": "594c2150",
   "metadata": {},
   "outputs": [
    {
     "name": "stdout",
     "output_type": "stream",
     "text": [
      "1\n"
     ]
    }
   ],
   "source": [
    "Tweet.print_tweet(a)"
   ]
  },
  {
   "cell_type": "code",
   "execution_count": 46,
   "id": "87f63c73",
   "metadata": {},
   "outputs": [
    {
     "name": "stdout",
     "output_type": "stream",
     "text": [
      "2\n"
     ]
    }
   ],
   "source": [
    "Tweet.print_tweet(b)"
   ]
  },
  {
   "cell_type": "code",
   "execution_count": null,
   "id": "80e8ac7e",
   "metadata": {},
   "outputs": [],
   "source": []
  },
  {
   "cell_type": "code",
   "execution_count": null,
   "id": "9749512b",
   "metadata": {},
   "outputs": [],
   "source": []
  },
  {
   "cell_type": "code",
   "execution_count": null,
   "id": "ce610ebe",
   "metadata": {},
   "outputs": [],
   "source": []
  }
 ],
 "metadata": {
  "kernelspec": {
   "display_name": "Python 3 (ipykernel)",
   "language": "python",
   "name": "python3"
  },
  "language_info": {
   "codemirror_mode": {
    "name": "ipython",
    "version": 3
   },
   "file_extension": ".py",
   "mimetype": "text/x-python",
   "name": "python",
   "nbconvert_exporter": "python",
   "pygments_lexer": "ipython3",
   "version": "3.9.12"
  }
 },
 "nbformat": 4,
 "nbformat_minor": 5
}
