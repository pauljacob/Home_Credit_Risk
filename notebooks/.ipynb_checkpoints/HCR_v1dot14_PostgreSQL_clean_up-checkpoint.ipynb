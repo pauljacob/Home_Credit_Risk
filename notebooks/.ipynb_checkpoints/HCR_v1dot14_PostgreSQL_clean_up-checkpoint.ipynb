{
 "cells": [
  {
   "cell_type": "code",
   "execution_count": 1,
   "id": "20200ed8",
   "metadata": {},
   "outputs": [
    {
     "name": "stdout",
     "output_type": "stream",
     "text": [
      "Package installed successfully.\n"
     ]
    }
   ],
   "source": [
    "import subprocess\n",
    "\n",
    "# import subprocess; command = \"yes | pip3.9 install psycopg2-binary --force-reinstall --no-cache-dir\"; subprocess.run(command, shell=True)\n",
    "result = subprocess.run(['pip3', 'install', 'ipython-autotime'], capture_output=True)\n",
    "print(f\"There was a problem installing the package.\\nError output:\\n{result.stderr.decode('utf-8')}\") if result.returncode != 0 else print(\"Package installed successfully.\")\n"
   ]
  },
  {
   "cell_type": "code",
   "execution_count": null,
   "id": "a14bcb1c",
   "metadata": {},
   "outputs": [],
   "source": []
  },
  {
   "cell_type": "code",
   "execution_count": 2,
   "id": "41fbaa62",
   "metadata": {},
   "outputs": [
    {
     "name": "stderr",
     "output_type": "stream",
     "text": [
      "/var/folders/77/y4hv4_s9751293nzv4yrfrtm0000gn/T/ipykernel_28635/3623537554.py:2: DeprecationWarning: Importing display from IPython.core.display is deprecated since IPython 7.14, please import from IPython display\n",
      "  from IPython.core.display import display, HTML\n"
     ]
    }
   ],
   "source": [
    "#Configuration\n",
    "import os\n",
    "import sys\n",
    "\n",
    "\n",
    "\n",
    "#Python: Data Analysis\n",
    "import pandas as pd\n",
    "\n",
    "\n"
   ]
  },
  {
   "cell_type": "code",
   "execution_count": null,
   "id": "e100d7f7",
   "metadata": {},
   "outputs": [],
   "source": []
  },
  {
   "cell_type": "code",
   "execution_count": 3,
   "id": "a1a5aee0",
   "metadata": {},
   "outputs": [],
   "source": [
    "#Python: Notebook Configuration\n",
    "from home_credit_risk import Configuration\n",
    "\n",
    "#Python: Data Input/Output\n",
    "from home_credit_risk import get_filename_path_list_from_filename_path_regular_expression\n",
    "from home_credit_risk import get_filename_list\n",
    "\n",
    "#PostgreSQL: Setup\n",
    "from home_credit_risk import generate_parent_paths_from\n",
    "from home_credit_risk import create_connection\n",
    "from home_credit_risk import execute_query\n",
    "from home_credit_risk import construct_query_from_table_name_column_name_list_and_data_type_list\n",
    "from home_credit_risk import create_and_copy_file_to_postgresql_table\n",
    "from home_credit_risk import extract_database_table_data_type_list_from_dataframe\n",
    "from home_credit_risk import create_database_table_and_return_dataframe_from_single_filename\n",
    "from home_credit_risk import create_database_table_and_return_dataframe_from_filename_regular_expression\n",
    "\n",
    "\n",
    "#PostgreSQL: Data Analysis\n",
    "from home_credit_risk import get_the_column_name_list_from_table_name\n",
    "from home_credit_risk import get_the_table_column_values_and_value_counts\n",
    "from home_credit_risk import get_the_table_column_data_types_and_value_count\n",
    "\n",
    "\n",
    "#Python: Utility Function\n",
    "from home_credit_risk import occupy_the_kernel\n",
    "\n",
    "#Python: Data Analysis\n",
    "from home_credit_risk import preview_df\n",
    "from home_credit_risk import preview_list\n",
    "from home_credit_risk import filter_this_data_frame_by_column_name_and_value_list\n",
    "\n",
    "\n"
   ]
  },
  {
   "cell_type": "code",
   "execution_count": 4,
   "id": "d9b80702",
   "metadata": {},
   "outputs": [
    {
     "name": "stdout",
     "output_type": "stream",
     "text": [
      "time: 10 ms (started: 2024-04-11 17:46:15 -07:00)\n"
     ]
    }
   ],
   "source": [
    "%load_ext autotime\n",
    "\n",
    "%load_ext autoreload\n",
    "%autoreload 2"
   ]
  },
  {
   "cell_type": "code",
   "execution_count": 5,
   "id": "7e002daa",
   "metadata": {},
   "outputs": [
    {
     "data": {
      "text/html": [
       "<style>.container { width:99.9% !important; }</style>"
      ],
      "text/plain": [
       "<IPython.core.display.HTML object>"
      ]
     },
     "metadata": {},
     "output_type": "display_data"
    },
    {
     "data": {
      "text/plain": [
       "<home_credit_risk.Configuration at 0x7fe1c011eaf0>"
      ]
     },
     "execution_count": 5,
     "metadata": {},
     "output_type": "execute_result"
    },
    {
     "name": "stdout",
     "output_type": "stream",
     "text": [
      "time: 14.6 ms (started: 2024-04-11 17:46:15 -07:00)\n"
     ]
    }
   ],
   "source": [
    "skip_create_database_tables=True\n",
    "\n",
    "configuration = Configuration(skip_create_database_tables=skip_create_database_tables)\n",
    "configuration\n"
   ]
  },
  {
   "cell_type": "code",
   "execution_count": null,
   "id": "d9aa889f",
   "metadata": {},
   "outputs": [],
   "source": []
  },
  {
   "cell_type": "markdown",
   "id": "106c103f",
   "metadata": {},
   "source": [
    "### Connect to the Database 'postgres'"
   ]
  },
  {
   "cell_type": "code",
   "execution_count": 7,
   "id": "77931cf0",
   "metadata": {},
   "outputs": [
    {
     "name": "stdout",
     "output_type": "stream",
     "text": [
      "Connection to PostgreSQL DB successful\n",
      "Query executed successfully\n",
      "The error 'cannot drop the currently open database\n",
      "' occurred\n",
      "Query executed successfully\n"
     ]
    },
    {
     "data": {
      "text/html": [
       "<div>\n",
       "<style scoped>\n",
       "    .dataframe tbody tr th:only-of-type {\n",
       "        vertical-align: middle;\n",
       "    }\n",
       "\n",
       "    .dataframe tbody tr th {\n",
       "        vertical-align: top;\n",
       "    }\n",
       "\n",
       "    .dataframe thead th {\n",
       "        text-align: right;\n",
       "    }\n",
       "</style>\n",
       "<table border=\"1\" class=\"dataframe\">\n",
       "  <thead>\n",
       "    <tr style=\"text-align: right;\">\n",
       "      <th></th>\n",
       "      <th>0</th>\n",
       "    </tr>\n",
       "  </thead>\n",
       "  <tbody>\n",
       "    <tr>\n",
       "      <th>0</th>\n",
       "      <td>postgres</td>\n",
       "    </tr>\n",
       "  </tbody>\n",
       "</table>\n",
       "</div>"
      ],
      "text/plain": [
       "          0\n",
       "0  postgres"
      ]
     },
     "execution_count": 7,
     "metadata": {},
     "output_type": "execute_result"
    },
    {
     "name": "stdout",
     "output_type": "stream",
     "text": [
      "time: 44.3 ms (started: 2024-04-11 17:46:15 -07:00)\n"
     ]
    }
   ],
   "source": [
    "#Create the Connection to the Database 'postgres'\n",
    "connection = create_connection(db_name=\"postgres\", db_user=\"postgres\", db_password=\"postgres\", db_host=\"127.0.0.1\", db_port=\"5432\")\n",
    "\n",
    "#Drop the Database 'database1' (if it Exists)\n",
    "query=\"DROP DATABASE IF EXISTS database1;\"\n",
    "execute_query(connection=connection, query=query)\n",
    "\n",
    "#Drop the Database 'postgres' (if it Exists)\n",
    "query=\"DROP DATABASE IF EXISTS postgres;\"\n",
    "execute_query(connection=connection, query=query)\n",
    "\n",
    "#Get the Database Names\n",
    "query=\"SELECT datname FROM pg_database WHERE datistemplate = false;\"\n",
    "execute_query(connection=connection, query=query)\n"
   ]
  },
  {
   "cell_type": "markdown",
   "id": "1bb5dfe1",
   "metadata": {},
   "source": [
    "### Get the Table Names of the Database 'postgres'"
   ]
  },
  {
   "cell_type": "code",
   "execution_count": 8,
   "id": "4ccb418d",
   "metadata": {},
   "outputs": [
    {
     "name": "stdout",
     "output_type": "stream",
     "text": [
      "Query executed successfully\n"
     ]
    },
    {
     "data": {
      "text/html": [
       "<div>\n",
       "<style scoped>\n",
       "    .dataframe tbody tr th:only-of-type {\n",
       "        vertical-align: middle;\n",
       "    }\n",
       "\n",
       "    .dataframe tbody tr th {\n",
       "        vertical-align: top;\n",
       "    }\n",
       "\n",
       "    .dataframe thead th {\n",
       "        text-align: right;\n",
       "    }\n",
       "</style>\n",
       "<table border=\"1\" class=\"dataframe\">\n",
       "  <thead>\n",
       "    <tr style=\"text-align: right;\">\n",
       "      <th></th>\n",
       "      <th>0</th>\n",
       "    </tr>\n",
       "  </thead>\n",
       "  <tbody>\n",
       "    <tr>\n",
       "      <th>0</th>\n",
       "      <td>train_base</td>\n",
       "    </tr>\n",
       "    <tr>\n",
       "      <th>1</th>\n",
       "      <td>train_static_cb_0</td>\n",
       "    </tr>\n",
       "    <tr>\n",
       "      <th>2</th>\n",
       "      <td>train_tax_registry_a_1</td>\n",
       "    </tr>\n",
       "    <tr>\n",
       "      <th>3</th>\n",
       "      <td>train_tax_registry_b_1</td>\n",
       "    </tr>\n",
       "    <tr>\n",
       "      <th>4</th>\n",
       "      <td>train_tax_registry_c_1</td>\n",
       "    </tr>\n",
       "    <tr>\n",
       "      <th>5</th>\n",
       "      <td>train_credit_bureau_b_1</td>\n",
       "    </tr>\n",
       "    <tr>\n",
       "      <th>6</th>\n",
       "      <td>train_other_1</td>\n",
       "    </tr>\n",
       "    <tr>\n",
       "      <th>7</th>\n",
       "      <td>train_person_1</td>\n",
       "    </tr>\n",
       "    <tr>\n",
       "      <th>8</th>\n",
       "      <td>train_deposit_1</td>\n",
       "    </tr>\n",
       "    <tr>\n",
       "      <th>9</th>\n",
       "      <td>train_debitcard_1</td>\n",
       "    </tr>\n",
       "    <tr>\n",
       "      <th>10</th>\n",
       "      <td>train_credit_bureau_b_2</td>\n",
       "    </tr>\n",
       "    <tr>\n",
       "      <th>11</th>\n",
       "      <td>train_static_0</td>\n",
       "    </tr>\n",
       "    <tr>\n",
       "      <th>12</th>\n",
       "      <td>train_credit_bureau_a_1</td>\n",
       "    </tr>\n",
       "    <tr>\n",
       "      <th>13</th>\n",
       "      <td>train_credit_bureau_a_2</td>\n",
       "    </tr>\n",
       "    <tr>\n",
       "      <th>14</th>\n",
       "      <td>train_applprev_1</td>\n",
       "    </tr>\n",
       "  </tbody>\n",
       "</table>\n",
       "</div>"
      ],
      "text/plain": [
       "                          0\n",
       "0                train_base\n",
       "1         train_static_cb_0\n",
       "2    train_tax_registry_a_1\n",
       "3    train_tax_registry_b_1\n",
       "4    train_tax_registry_c_1\n",
       "5   train_credit_bureau_b_1\n",
       "6             train_other_1\n",
       "7            train_person_1\n",
       "8           train_deposit_1\n",
       "9         train_debitcard_1\n",
       "10  train_credit_bureau_b_2\n",
       "11           train_static_0\n",
       "12  train_credit_bureau_a_1\n",
       "13  train_credit_bureau_a_2\n",
       "14         train_applprev_1"
      ]
     },
     "execution_count": 8,
     "metadata": {},
     "output_type": "execute_result"
    },
    {
     "name": "stdout",
     "output_type": "stream",
     "text": [
      "time: 15.6 ms (started: 2024-04-11 17:46:15 -07:00)\n"
     ]
    }
   ],
   "source": [
    "query=\"SELECT table_name FROM information_schema.tables WHERE table_schema = 'public' AND table_type = 'BASE TABLE';\"\n",
    "\n",
    "result=execute_query(connection, query=query, table_name=None, column_name_list=None)\n",
    "result\n"
   ]
  },
  {
   "cell_type": "code",
   "execution_count": null,
   "id": "c34a4ab8",
   "metadata": {},
   "outputs": [],
   "source": []
  },
  {
   "cell_type": "code",
   "execution_count": null,
   "id": "eab658d5",
   "metadata": {},
   "outputs": [],
   "source": []
  },
  {
   "cell_type": "code",
   "execution_count": null,
   "id": "f052b78d",
   "metadata": {},
   "outputs": [],
   "source": []
  },
  {
   "cell_type": "code",
   "execution_count": 9,
   "id": "eafb4259",
   "metadata": {},
   "outputs": [
    {
     "name": "stdout",
     "output_type": "stream",
     "text": [
      "32\n"
     ]
    },
    {
     "data": {
      "text/plain": [
       "['train_applprev_1_0.csv',\n",
       " 'train_applprev_1_1.csv',\n",
       " 'train_applprev_2.csv',\n",
       " 'train_base.csv',\n",
       " 'train_credit_bureau_a_1_0.csv',\n",
       " 'train_credit_bureau_a_1_1.csv',\n",
       " 'train_credit_bureau_a_1_2.csv',\n",
       " 'train_credit_bureau_a_1_3.csv',\n",
       " 'train_credit_bureau_a_2_0.csv',\n",
       " 'train_credit_bureau_a_2_1.csv',\n",
       " 'train_credit_bureau_a_2_10.csv',\n",
       " 'train_credit_bureau_a_2_2.csv',\n",
       " 'train_credit_bureau_a_2_3.csv',\n",
       " 'train_credit_bureau_a_2_4.csv',\n",
       " 'train_credit_bureau_a_2_5.csv',\n",
       " 'train_credit_bureau_a_2_6.csv',\n",
       " 'train_credit_bureau_a_2_7.csv',\n",
       " 'train_credit_bureau_a_2_8.csv',\n",
       " 'train_credit_bureau_a_2_9.csv',\n",
       " 'train_credit_bureau_b_1.csv',\n",
       " 'train_credit_bureau_b_2.csv',\n",
       " 'train_debitcard_1.csv',\n",
       " 'train_deposit_1.csv',\n",
       " 'train_other_1.csv',\n",
       " 'train_person_1.csv',\n",
       " 'train_person_2.csv',\n",
       " 'train_static_0_0.csv',\n",
       " 'train_static_0_1.csv',\n",
       " 'train_static_cb_0.csv',\n",
       " 'train_tax_registry_a_1.csv',\n",
       " 'train_tax_registry_b_1.csv',\n",
       " 'train_tax_registry_c_1.csv']"
      ]
     },
     "execution_count": 9,
     "metadata": {},
     "output_type": "execute_result"
    },
    {
     "name": "stdout",
     "output_type": "stream",
     "text": [
      "time: 17.9 ms (started: 2024-04-11 17:46:15 -07:00)\n"
     ]
    }
   ],
   "source": [
    "preview_list(get_filename_list())\n"
   ]
  },
  {
   "cell_type": "code",
   "execution_count": null,
   "id": "241e22bb",
   "metadata": {},
   "outputs": [],
   "source": []
  },
  {
   "cell_type": "code",
   "execution_count": 10,
   "id": "e828b2d5",
   "metadata": {},
   "outputs": [
    {
     "name": "stdout",
     "output_type": "stream",
     "text": [
      "4\n"
     ]
    },
    {
     "data": {
      "text/plain": [
       "['train_static_0_*.csv',\n",
       " 'train_applprev_1_*.csv',\n",
       " 'train_credit_bureau_a_1_*.csv',\n",
       " 'train_credit_bureau_a_2_*.csv']"
      ]
     },
     "execution_count": 10,
     "metadata": {},
     "output_type": "execute_result"
    },
    {
     "name": "stdout",
     "output_type": "stream",
     "text": [
      "time: 11.7 ms (started: 2024-04-11 17:46:15 -07:00)\n"
     ]
    }
   ],
   "source": [
    "filename_star_list = ['train_static_0_*.csv', 'train_applprev_1_*.csv', 'train_credit_bureau_a_1_*.csv', 'train_credit_bureau_a_2_*.csv']\n",
    "filename_single_list=['train_base.csv', 'train_static_cb_0.csv', 'train_tax_registry_a_1.csv', 'train_tax_registry_b_1.csv', 'train_tax_registry_c_1.csv', 'train_credit_bureau_b_1.csv', 'train_other_1.csv', 'train_person_1.csv', 'train_deposit_1.csv', 'train_debitcard_1.csv', 'train_credit_bureau_b_2.csv'] #[filename for filename in filename_list_with_regular_expressions if not filename in filename_star_list]\n",
    "# filename_list_with_regular_expressions = ['train_base.csv', 'train_static_cb_0.csv', 'train_static_0_*.csv', 'train_applprev_1_*.csv', 'train_tax_registry_a_1.csv', 'train_tax_registry_b_1.csv', 'train_tax_registry_c_1.csv', 'train_credit_bureau_a_1_*.csv', 'train_credit_bureau_b_1.csv', 'train_other_1.csv', 'train_person_1.csv', 'train_deposit_1.csv', 'train_debitcard_1.csv', 'train_credit_bureau_b_2.csv', 'train_credit_bureau_a_2_*.csv']\n",
    "preview_list(filename_star_list)\n"
   ]
  },
  {
   "cell_type": "code",
   "execution_count": 11,
   "id": "8cea5249",
   "metadata": {},
   "outputs": [
    {
     "name": "stdout",
     "output_type": "stream",
     "text": [
      "11\n"
     ]
    },
    {
     "data": {
      "text/plain": [
       "['train_base.csv',\n",
       " 'train_static_cb_0.csv',\n",
       " 'train_tax_registry_a_1.csv',\n",
       " 'train_tax_registry_b_1.csv',\n",
       " 'train_tax_registry_c_1.csv',\n",
       " 'train_credit_bureau_b_1.csv',\n",
       " 'train_other_1.csv',\n",
       " 'train_person_1.csv',\n",
       " 'train_deposit_1.csv',\n",
       " 'train_debitcard_1.csv',\n",
       " 'train_credit_bureau_b_2.csv']"
      ]
     },
     "execution_count": 11,
     "metadata": {},
     "output_type": "execute_result"
    },
    {
     "name": "stdout",
     "output_type": "stream",
     "text": [
      "time: 10.5 ms (started: 2024-04-11 17:46:15 -07:00)\n"
     ]
    }
   ],
   "source": [
    "preview_list(filename_single_list)\n"
   ]
  },
  {
   "cell_type": "markdown",
   "id": "5dc4ad65",
   "metadata": {},
   "source": [
    "### Create a Database Table for Each .CSV Filename Collection"
   ]
  },
  {
   "cell_type": "code",
   "execution_count": 12,
   "id": "06af518b",
   "metadata": {},
   "outputs": [
    {
     "name": "stderr",
     "output_type": "stream",
     "text": [
      "/Users/pauljacob/MyDrive_pauljacob.datascience1@gmail.com/Projects/Home_Credit_Risk/notebooks/home_credit_risk.py:237: DtypeWarning: Columns (20,45,46,53,57,84,143,146,167) have mixed types. Specify dtype option on import or set low_memory=False.\n",
      "  df_index_0 = pd.read_csv(filename_path_list[0])\n"
     ]
    },
    {
     "name": "stdout",
     "output_type": "stream",
     "text": [
      "Query executed successfully\n",
      "Query executed successfully\n",
      "Query executed successfully\n",
      "Query executed successfully\n"
     ]
    },
    {
     "name": "stderr",
     "output_type": "stream",
     "text": [
      "/Users/pauljacob/MyDrive_pauljacob.datascience1@gmail.com/Projects/Home_Credit_Risk/notebooks/home_credit_risk.py:237: DtypeWarning: Columns (27) have mixed types. Specify dtype option on import or set low_memory=False.\n",
      "  df_index_0 = pd.read_csv(filename_path_list[0])\n"
     ]
    },
    {
     "name": "stdout",
     "output_type": "stream",
     "text": [
      "Query executed successfully\n",
      "Query executed successfully\n",
      "Query executed successfully\n",
      "Query executed successfully\n"
     ]
    },
    {
     "name": "stderr",
     "output_type": "stream",
     "text": [
      "/Users/pauljacob/MyDrive_pauljacob.datascience1@gmail.com/Projects/Home_Credit_Risk/notebooks/home_credit_risk.py:237: DtypeWarning: Columns (11,12,14,30,44,54) have mixed types. Specify dtype option on import or set low_memory=False.\n",
      "  df_index_0 = pd.read_csv(filename_path_list[0])\n"
     ]
    },
    {
     "name": "stdout",
     "output_type": "stream",
     "text": [
      "Query executed successfully\n",
      "Query executed successfully\n",
      "Query executed successfully\n",
      "Query executed successfully\n",
      "Query executed successfully\n",
      "Query executed successfully\n",
      "Query executed successfully\n",
      "Query executed successfully\n",
      "Query executed successfully\n",
      "Query executed successfully\n",
      "Query executed successfully\n",
      "Query executed successfully\n",
      "Query executed successfully\n",
      "Query executed successfully\n",
      "Query executed successfully\n",
      "Query executed successfully\n",
      "Query executed successfully\n",
      "Query executed successfully\n",
      "Query executed successfully\n",
      "time: 11min 22s (started: 2024-04-11 17:46:15 -07:00)\n"
     ]
    }
   ],
   "source": [
    "if configuration.skip_create_database_tables == False:\n",
    "    for filename_regular_expression in filename_star_list:    \n",
    "        _ = create_database_table_and_return_dataframe_from_filename_regular_expression(connection, filename_regular_expression, return_result=False)\n",
    "else:\n",
    "    pass"
   ]
  },
  {
   "cell_type": "code",
   "execution_count": 13,
   "id": "7f95b8e7",
   "metadata": {},
   "outputs": [
    {
     "name": "stdout",
     "output_type": "stream",
     "text": [
      "Query executed successfully\n"
     ]
    },
    {
     "data": {
      "text/html": [
       "<div>\n",
       "<style scoped>\n",
       "    .dataframe tbody tr th:only-of-type {\n",
       "        vertical-align: middle;\n",
       "    }\n",
       "\n",
       "    .dataframe tbody tr th {\n",
       "        vertical-align: top;\n",
       "    }\n",
       "\n",
       "    .dataframe thead th {\n",
       "        text-align: right;\n",
       "    }\n",
       "</style>\n",
       "<table border=\"1\" class=\"dataframe\">\n",
       "  <thead>\n",
       "    <tr style=\"text-align: right;\">\n",
       "      <th></th>\n",
       "      <th>0</th>\n",
       "    </tr>\n",
       "  </thead>\n",
       "  <tbody>\n",
       "    <tr>\n",
       "      <th>0</th>\n",
       "      <td>train_base</td>\n",
       "    </tr>\n",
       "    <tr>\n",
       "      <th>1</th>\n",
       "      <td>train_static_cb_0</td>\n",
       "    </tr>\n",
       "    <tr>\n",
       "      <th>2</th>\n",
       "      <td>train_tax_registry_a_1</td>\n",
       "    </tr>\n",
       "    <tr>\n",
       "      <th>3</th>\n",
       "      <td>train_tax_registry_b_1</td>\n",
       "    </tr>\n",
       "    <tr>\n",
       "      <th>4</th>\n",
       "      <td>train_tax_registry_c_1</td>\n",
       "    </tr>\n",
       "    <tr>\n",
       "      <th>5</th>\n",
       "      <td>train_credit_bureau_b_1</td>\n",
       "    </tr>\n",
       "    <tr>\n",
       "      <th>6</th>\n",
       "      <td>train_other_1</td>\n",
       "    </tr>\n",
       "    <tr>\n",
       "      <th>7</th>\n",
       "      <td>train_person_1</td>\n",
       "    </tr>\n",
       "    <tr>\n",
       "      <th>8</th>\n",
       "      <td>train_deposit_1</td>\n",
       "    </tr>\n",
       "    <tr>\n",
       "      <th>9</th>\n",
       "      <td>train_debitcard_1</td>\n",
       "    </tr>\n",
       "    <tr>\n",
       "      <th>10</th>\n",
       "      <td>train_credit_bureau_b_2</td>\n",
       "    </tr>\n",
       "    <tr>\n",
       "      <th>11</th>\n",
       "      <td>train_static_0</td>\n",
       "    </tr>\n",
       "    <tr>\n",
       "      <th>12</th>\n",
       "      <td>train_applprev_1</td>\n",
       "    </tr>\n",
       "    <tr>\n",
       "      <th>13</th>\n",
       "      <td>train_credit_bureau_a_1</td>\n",
       "    </tr>\n",
       "    <tr>\n",
       "      <th>14</th>\n",
       "      <td>train_credit_bureau_a_2</td>\n",
       "    </tr>\n",
       "  </tbody>\n",
       "</table>\n",
       "</div>"
      ],
      "text/plain": [
       "                          0\n",
       "0                train_base\n",
       "1         train_static_cb_0\n",
       "2    train_tax_registry_a_1\n",
       "3    train_tax_registry_b_1\n",
       "4    train_tax_registry_c_1\n",
       "5   train_credit_bureau_b_1\n",
       "6             train_other_1\n",
       "7            train_person_1\n",
       "8           train_deposit_1\n",
       "9         train_debitcard_1\n",
       "10  train_credit_bureau_b_2\n",
       "11           train_static_0\n",
       "12         train_applprev_1\n",
       "13  train_credit_bureau_a_1\n",
       "14  train_credit_bureau_a_2"
      ]
     },
     "execution_count": 13,
     "metadata": {},
     "output_type": "execute_result"
    },
    {
     "name": "stdout",
     "output_type": "stream",
     "text": [
      "time: 71.5 ms (started: 2024-04-11 17:57:37 -07:00)\n"
     ]
    }
   ],
   "source": [
    "#Get Database Table Names\n",
    "query=\"SELECT table_name FROM information_schema.tables WHERE table_schema = 'public' AND table_type = 'BASE TABLE';\"\n",
    "result=execute_query(connection, query=query, table_name=None, column_name_list=None)\n",
    "result\n"
   ]
  },
  {
   "cell_type": "code",
   "execution_count": null,
   "id": "d3bc0dad",
   "metadata": {},
   "outputs": [],
   "source": []
  },
  {
   "cell_type": "markdown",
   "id": "b0c49952",
   "metadata": {},
   "source": [
    "### Create a Database Table for Each Single .CSV File"
   ]
  },
  {
   "cell_type": "code",
   "execution_count": 17,
   "id": "139e5cf9",
   "metadata": {},
   "outputs": [
    {
     "name": "stdout",
     "output_type": "stream",
     "text": [
      "Query executed successfully\n",
      "Query executed successfully\n",
      "Query executed successfully\n"
     ]
    },
    {
     "name": "stderr",
     "output_type": "stream",
     "text": [
      "/Users/pauljacob/MyDrive_pauljacob.datascience1@gmail.com/Projects/Home_Credit_Risk/notebooks/home_credit_risk.py:205: DtypeWarning: Columns (1,2,3,4,7,45,46,47,48) have mixed types. Specify dtype option on import or set low_memory=False.\n",
      "  df = pd.read_csv(Configuration.train_data_directory_path + filename)\n"
     ]
    },
    {
     "name": "stdout",
     "output_type": "stream",
     "text": [
      "Query executed successfully\n",
      "Query executed successfully\n",
      "Query executed successfully\n",
      "Query executed successfully\n",
      "Query executed successfully\n",
      "Query executed successfully\n",
      "Query executed successfully\n",
      "Query executed successfully\n",
      "Query executed successfully\n",
      "Query executed successfully\n",
      "Query executed successfully\n",
      "Query executed successfully\n"
     ]
    },
    {
     "name": "stderr",
     "output_type": "stream",
     "text": [
      "/Users/pauljacob/MyDrive_pauljacob.datascience1@gmail.com/Projects/Home_Credit_Risk/notebooks/home_credit_risk.py:205: DtypeWarning: Columns (32) have mixed types. Specify dtype option on import or set low_memory=False.\n",
      "  df = pd.read_csv(Configuration.train_data_directory_path + filename)\n"
     ]
    },
    {
     "name": "stdout",
     "output_type": "stream",
     "text": [
      "Query executed successfully\n",
      "Query executed successfully\n",
      "Query executed successfully\n",
      "Query executed successfully\n",
      "Query executed successfully\n",
      "Query executed successfully\n"
     ]
    },
    {
     "name": "stderr",
     "output_type": "stream",
     "text": [
      "/Users/pauljacob/MyDrive_pauljacob.datascience1@gmail.com/Projects/Home_Credit_Risk/notebooks/home_credit_risk.py:205: DtypeWarning: Columns (16) have mixed types. Specify dtype option on import or set low_memory=False.\n",
      "  df = pd.read_csv(Configuration.train_data_directory_path + filename)\n"
     ]
    },
    {
     "name": "stdout",
     "output_type": "stream",
     "text": [
      "Query executed successfully\n",
      "Query executed successfully\n",
      "Query executed successfully\n",
      "Query executed successfully\n",
      "Query executed successfully\n",
      "Query executed successfully\n",
      "Query executed successfully\n",
      "Query executed successfully\n",
      "Query executed successfully\n",
      "Query executed successfully\n",
      "Query executed successfully\n",
      "Query executed successfully\n",
      "time: 47 s (started: 2024-04-11 17:59:22 -07:00)\n"
     ]
    }
   ],
   "source": [
    "if configuration.skip_create_database_tables == False:\n",
    "    for filename in filename_single_list:\n",
    "        create_database_table_and_return_dataframe_from_single_filename(connection=connection, filename=filename, return_result=False)\n",
    "else:\n",
    "    pass"
   ]
  },
  {
   "cell_type": "code",
   "execution_count": 18,
   "id": "d47e00e8",
   "metadata": {},
   "outputs": [
    {
     "name": "stdout",
     "output_type": "stream",
     "text": [
      "Query executed successfully\n"
     ]
    },
    {
     "data": {
      "text/html": [
       "<div>\n",
       "<style scoped>\n",
       "    .dataframe tbody tr th:only-of-type {\n",
       "        vertical-align: middle;\n",
       "    }\n",
       "\n",
       "    .dataframe tbody tr th {\n",
       "        vertical-align: top;\n",
       "    }\n",
       "\n",
       "    .dataframe thead th {\n",
       "        text-align: right;\n",
       "    }\n",
       "</style>\n",
       "<table border=\"1\" class=\"dataframe\">\n",
       "  <thead>\n",
       "    <tr style=\"text-align: right;\">\n",
       "      <th></th>\n",
       "      <th>0</th>\n",
       "    </tr>\n",
       "  </thead>\n",
       "  <tbody>\n",
       "    <tr>\n",
       "      <th>0</th>\n",
       "      <td>train_debitcard_1</td>\n",
       "    </tr>\n",
       "    <tr>\n",
       "      <th>1</th>\n",
       "      <td>train_credit_bureau_b_2</td>\n",
       "    </tr>\n",
       "    <tr>\n",
       "      <th>2</th>\n",
       "      <td>train_person_1</td>\n",
       "    </tr>\n",
       "    <tr>\n",
       "      <th>3</th>\n",
       "      <td>train_deposit_1</td>\n",
       "    </tr>\n",
       "    <tr>\n",
       "      <th>4</th>\n",
       "      <td>train_static_0</td>\n",
       "    </tr>\n",
       "    <tr>\n",
       "      <th>5</th>\n",
       "      <td>train_static_cb_0</td>\n",
       "    </tr>\n",
       "    <tr>\n",
       "      <th>6</th>\n",
       "      <td>train_applprev_1</td>\n",
       "    </tr>\n",
       "    <tr>\n",
       "      <th>7</th>\n",
       "      <td>train_credit_bureau_a_1</td>\n",
       "    </tr>\n",
       "    <tr>\n",
       "      <th>8</th>\n",
       "      <td>train_credit_bureau_a_2</td>\n",
       "    </tr>\n",
       "    <tr>\n",
       "      <th>9</th>\n",
       "      <td>train_base</td>\n",
       "    </tr>\n",
       "    <tr>\n",
       "      <th>10</th>\n",
       "      <td>train_tax_registry_a_1</td>\n",
       "    </tr>\n",
       "    <tr>\n",
       "      <th>11</th>\n",
       "      <td>train_tax_registry_b_1</td>\n",
       "    </tr>\n",
       "    <tr>\n",
       "      <th>12</th>\n",
       "      <td>train_tax_registry_c_1</td>\n",
       "    </tr>\n",
       "    <tr>\n",
       "      <th>13</th>\n",
       "      <td>train_credit_bureau_b_1</td>\n",
       "    </tr>\n",
       "    <tr>\n",
       "      <th>14</th>\n",
       "      <td>train_other_1</td>\n",
       "    </tr>\n",
       "  </tbody>\n",
       "</table>\n",
       "</div>"
      ],
      "text/plain": [
       "                          0\n",
       "0         train_debitcard_1\n",
       "1   train_credit_bureau_b_2\n",
       "2            train_person_1\n",
       "3           train_deposit_1\n",
       "4            train_static_0\n",
       "5         train_static_cb_0\n",
       "6          train_applprev_1\n",
       "7   train_credit_bureau_a_1\n",
       "8   train_credit_bureau_a_2\n",
       "9                train_base\n",
       "10   train_tax_registry_a_1\n",
       "11   train_tax_registry_b_1\n",
       "12   train_tax_registry_c_1\n",
       "13  train_credit_bureau_b_1\n",
       "14            train_other_1"
      ]
     },
     "execution_count": 18,
     "metadata": {},
     "output_type": "execute_result"
    },
    {
     "name": "stdout",
     "output_type": "stream",
     "text": [
      "time: 55.9 ms (started: 2024-04-11 18:00:09 -07:00)\n"
     ]
    }
   ],
   "source": [
    "#Get Database Table Names\n",
    "query=\"SELECT table_name FROM information_schema.tables WHERE table_schema = 'public' AND table_type = 'BASE TABLE';\"\n",
    "result=execute_query(connection, query=query, table_name=None, column_name_list=None)\n",
    "result\n",
    "\n"
   ]
  },
  {
   "cell_type": "code",
   "execution_count": null,
   "id": "9eba2720",
   "metadata": {},
   "outputs": [],
   "source": []
  },
  {
   "cell_type": "code",
   "execution_count": null,
   "id": "0faedb56",
   "metadata": {},
   "outputs": [],
   "source": []
  },
  {
   "cell_type": "code",
   "execution_count": null,
   "id": "c69a7a7b",
   "metadata": {},
   "outputs": [],
   "source": []
  },
  {
   "cell_type": "code",
   "execution_count": null,
   "id": "fcd75c6c",
   "metadata": {},
   "outputs": [],
   "source": []
  },
  {
   "cell_type": "code",
   "execution_count": null,
   "id": "140032e1",
   "metadata": {},
   "outputs": [],
   "source": [
    "occupy_the_kernel()"
   ]
  },
  {
   "cell_type": "code",
   "execution_count": null,
   "id": "67b91c3f",
   "metadata": {},
   "outputs": [],
   "source": []
  },
  {
   "cell_type": "code",
   "execution_count": null,
   "id": "176781be",
   "metadata": {},
   "outputs": [],
   "source": []
  },
  {
   "cell_type": "code",
   "execution_count": null,
   "id": "7f595a90",
   "metadata": {},
   "outputs": [],
   "source": []
  },
  {
   "cell_type": "code",
   "execution_count": null,
   "id": "07577378",
   "metadata": {},
   "outputs": [],
   "source": []
  },
  {
   "cell_type": "code",
   "execution_count": null,
   "id": "9f62f9ad",
   "metadata": {},
   "outputs": [],
   "source": [
    "\n"
   ]
  },
  {
   "cell_type": "code",
   "execution_count": null,
   "id": "f4b99943",
   "metadata": {},
   "outputs": [],
   "source": []
  },
  {
   "cell_type": "code",
   "execution_count": null,
   "id": "9589d74c",
   "metadata": {},
   "outputs": [],
   "source": []
  },
  {
   "cell_type": "code",
   "execution_count": null,
   "id": "4bf6f8ce",
   "metadata": {},
   "outputs": [],
   "source": []
  },
  {
   "cell_type": "code",
   "execution_count": null,
   "id": "189f20e1",
   "metadata": {},
   "outputs": [],
   "source": []
  },
  {
   "cell_type": "code",
   "execution_count": null,
   "id": "ccab1de1",
   "metadata": {},
   "outputs": [],
   "source": []
  },
  {
   "cell_type": "code",
   "execution_count": null,
   "id": "0432c73e",
   "metadata": {},
   "outputs": [],
   "source": []
  },
  {
   "cell_type": "code",
   "execution_count": null,
   "id": "19673861",
   "metadata": {},
   "outputs": [],
   "source": []
  },
  {
   "cell_type": "code",
   "execution_count": null,
   "id": "7adf9a9e",
   "metadata": {},
   "outputs": [],
   "source": []
  },
  {
   "cell_type": "code",
   "execution_count": null,
   "id": "f973638b",
   "metadata": {},
   "outputs": [],
   "source": []
  },
  {
   "cell_type": "code",
   "execution_count": null,
   "id": "07bcef9a",
   "metadata": {},
   "outputs": [],
   "source": [
    "# dir()\n",
    "# %who_ls\n",
    "# %who_ls function\n",
    "# %who_ls str\n"
   ]
  },
  {
   "cell_type": "code",
   "execution_count": null,
   "id": "b7c77f02",
   "metadata": {},
   "outputs": [],
   "source": []
  },
  {
   "cell_type": "code",
   "execution_count": null,
   "id": "f3792595",
   "metadata": {},
   "outputs": [],
   "source": []
  },
  {
   "cell_type": "code",
   "execution_count": null,
   "id": "2516504d",
   "metadata": {},
   "outputs": [],
   "source": [
    "# locals()\n",
    "# globals()\n"
   ]
  },
  {
   "cell_type": "code",
   "execution_count": null,
   "id": "9ef4e2d5",
   "metadata": {},
   "outputs": [],
   "source": [
    "# connection.close()\n"
   ]
  },
  {
   "cell_type": "code",
   "execution_count": null,
   "id": "269060cb",
   "metadata": {},
   "outputs": [],
   "source": []
  },
  {
   "cell_type": "code",
   "execution_count": null,
   "id": "086762fc",
   "metadata": {},
   "outputs": [],
   "source": [
    "\n",
    "df_collection={}\n",
    "\n",
    "key='feature_definitions'\n",
    "relative_filename_path=os.path.join(\"..\", \"data\", \"raw\", str(key)+\".csv\")\n",
    "df_collection[key]=pd.read_csv(relative_filename_path)\n",
    "\n",
    "print(df_collection[key].shape)\n",
    "df_collection[key]\n",
    "\n"
   ]
  },
  {
   "cell_type": "code",
   "execution_count": null,
   "id": "a1b4e003",
   "metadata": {},
   "outputs": [],
   "source": []
  },
  {
   "cell_type": "code",
   "execution_count": null,
   "id": "a76046de",
   "metadata": {},
   "outputs": [],
   "source": []
  },
  {
   "cell_type": "code",
   "execution_count": null,
   "id": "c52039f5",
   "metadata": {},
   "outputs": [],
   "source": [
    "\n",
    "\n",
    "#in postgresql ordered table and replace the original table???\n",
    "\n",
    "# -- Step 1: Create a new table with the desired order\n",
    "# CREATE TABLE new_table_name (\n",
    "#     -- Define columns similar to the original table\n",
    "#     column1 datatype,\n",
    "#     column2 datatype,\n",
    "#     ...\n",
    "# );\n",
    "\n",
    "# -- Step 2: Copy data from the original table to the new table, ordering it as needed\n",
    "# INSERT INTO new_table_name\n",
    "# SELECT *\n",
    "# FROM original_table_name\n",
    "# ORDER BY column_to_order_by;\n",
    "\n",
    "# -- Step 3: Drop the original table\n",
    "# DROP TABLE original_table_name;\n",
    "\n",
    "# -- Step 4: Rename the new table to match the original table's name\n",
    "# ALTER TABLE new_table_name RENAME TO original_table_name;\n",
    "\n"
   ]
  },
  {
   "cell_type": "code",
   "execution_count": null,
   "id": "f52125b4",
   "metadata": {},
   "outputs": [],
   "source": []
  },
  {
   "cell_type": "code",
   "execution_count": null,
   "id": "7751f1a4",
   "metadata": {},
   "outputs": [],
   "source": [
    "# database table schema includes the column names, data types, constraints, and relationships with other tables.\n"
   ]
  },
  {
   "cell_type": "code",
   "execution_count": null,
   "id": "bb194883",
   "metadata": {},
   "outputs": [],
   "source": []
  },
  {
   "cell_type": "code",
   "execution_count": null,
   "id": "a2530134",
   "metadata": {},
   "outputs": [],
   "source": [
    "# import sys\n",
    "# variable_sizes = {name: sys.getsizeof(value) for name, value in locals().items()}\n",
    "# for name, size in variable_sizes.items():\n",
    "#     print(f\"{name}: {size} bytes\")\n"
   ]
  },
  {
   "cell_type": "code",
   "execution_count": null,
   "id": "e14c412a",
   "metadata": {},
   "outputs": [],
   "source": [
    "# import os\n",
    "# def get_files_and_sizes(directory):\n",
    "#     files_and_sizes = {}\n",
    "#     for filename in os.listdir(directory):\n",
    "#         filepath = os.path.join(directory, filename)\n",
    "#         if os.path.isfile(filepath):\n",
    "#             file_size_bytes = os.path.getsize(filepath)\n",
    "#             file_size_mb = file_size_bytes / (1024 * 1024)\n",
    "#             files_and_sizes[filename] = file_size_mb\n",
    "#     return files_and_sizes\n",
    "\n",
    "# files_and_sizes = get_files_and_sizes('/Users/pauljacob/MyDrive_pauljacob.datascience1@gmail.com/Projects/Home_Credit_Risk/data/raw/train/')\n",
    "# for filename, size_mb in files_and_sizes.items():\n",
    "#     print(f\"{filename}: {size_mb:.2f} MB\")\n",
    "\n"
   ]
  },
  {
   "cell_type": "code",
   "execution_count": null,
   "id": "0be61438",
   "metadata": {},
   "outputs": [],
   "source": []
  },
  {
   "cell_type": "code",
   "execution_count": null,
   "id": "71d530da",
   "metadata": {},
   "outputs": [],
   "source": []
  },
  {
   "cell_type": "code",
   "execution_count": null,
   "id": "7d15b9f3",
   "metadata": {},
   "outputs": [],
   "source": []
  },
  {
   "cell_type": "code",
   "execution_count": null,
   "id": "41fe76b8",
   "metadata": {},
   "outputs": [],
   "source": [
    "# ### Create and Copy into the Table 'train_applprev' the Data of 'train_applprev_1_0.csv' and 'train_applprev_1_1.csv'\n",
    "\n",
    "\n",
    "# #Drop Tables\n",
    "# table_name='feature_definitions, train_applprev_1_0, train_applprev_1_1, train_applprev'\n",
    "# query = \"DROP TABLE IF EXISTS {};\".format(table_name)\n",
    "# execute_query(connection, query=query, table_name=table_name, column_name_list=None)\n",
    "\n",
    "\n",
    "# #Create Table 'train_applprev'\n",
    "# table_name='train_applprev'\n",
    "# column_name_list=['case_id', 'actualdpd_943P', 'annuity_853A', 'approvaldate_319D', 'byoccupationinc_3656910L', 'cancelreason_3545846M', 'childnum_21L', 'creationdate_885D', 'credacc_actualbalance_314A', 'credacc_credlmt_575A', 'credacc_maxhisbal_375A', 'credacc_minhisbal_90A', 'credacc_status_367L', 'credacc_transactions_402L', 'credamount_590A', 'credtype_587L', 'currdebt_94A', 'dateactivated_425D', 'district_544M', 'downpmt_134A', 'dtlastpmt_581D', 'dtlastpmtallstes_3545839D', 'education_1138M', 'employedfrom_700D', 'familystate_726L', 'firstnonzeroinstldate_307D', 'inittransactioncode_279L', 'isbidproduct_390L', 'isdebitcard_527L', 'mainoccupationinc_437A', 'maxdpdtolerance_577P', 'num_group1', 'outstandingdebt_522A', 'pmtnum_8L', 'postype_4733339M', 'profession_152M', 'rejectreason_755M', 'rejectreasonclient_4145042M', 'revolvingaccount_394A', 'status_219L', 'tenor_203L']\n",
    "# data_type_list=['INTEGER',   'NUMERIC',        'NUMERIC',      'DATE',              'NUMERIC',                  'VARCHAR',               'NUMERIC',      'DATE',              'NUMERIC',                    'NUMERIC',              'NUMERIC',                'NUMERIC',               'VARCHAR',             'NUMERIC',                   'NUMERIC',         'VARCHAR',       'NUMERIC',      'DATE',               'VARCHAR',       'NUMERIC',      'DATE',           'DATE',                      'VARCHAR',         'DATE',              'VARCHAR',          'DATE',                       'VARCHAR',                  'BOOLEAN',           'BOOLEAN',          'NUMERIC',                'NUMERIC',              'INTEGER',    'NUMERIC',              'NUMERIC',   'VARCHAR',          'VARCHAR',         'VARCHAR',           'VARCHAR',                     'NUMERIC',               'VARCHAR',     'NUMERIC' ]\n",
    "# #data_type_list=['VARCHAR(255)']+['NUMERIC']+  ['NUMERIC']+    ['DATE']+            ['NUMERIC']+                ['VARCHAR(255)']+        ['NUMERIC']+    ['DATE']+            ['NUMERIC']+                  ['NUMERIC']+            ['VARCHAR(255)']*(41-10)\n",
    "# #                               ['SMALLINT']                                                                                            ['INTEGER']\n",
    "# query = construct_query_from_table_name_column_name_list_and_data_type_list(table_name=table_name, column_name_list=column_name_list, data_type_list=data_type_list)\n",
    "# execute_query(connection, query=query, table_name=table_name)\n",
    "\n",
    "\n",
    "# #Copy in the Data 'train_applprev_1_0.csv'\n",
    "# # Enable Read and Execute Permissions to the File \"train_applprev_1_0.csv\"\n",
    "# filename_path = \"/Users/pauljacob/MyDrive_pauljacob.datascience1@gmail.com/Projects/Home_Credit_Risk/data/raw/train/train_applprev_1_0.csv\"\n",
    "# filename_parent_paths=generate_parent_paths_from(filename_path=filename_path)\n",
    "# command = \"chmod a+rX {}\".format(filename_parent_paths); subprocess.run(command, shell=True)\n",
    "\n",
    "# #Copy Data into Table 'train_applprev'\n",
    "# query = \"copy {} FROM '{}' DELIMITER ',' CSV HEADER;\".format(table_name, filename_path)\n",
    "# execute_query(connection, query=query, table_name=table_name)\n",
    "\n",
    "\n",
    "\n",
    "# #Copy in the Data 'train_applprev_1_1.csv'\n",
    "# # Enable Read and Execute Permissions to the File \"train_applprev_1_0.csv\"\n",
    "# filename_path = \"/Users/pauljacob/MyDrive_pauljacob.datascience1@gmail.com/Projects/Home_Credit_Risk/data/raw/train/train_applprev_1_1.csv\"\n",
    "# filename_parent_paths=generate_parent_paths_from(filename_path=filename_path)\n",
    "# command = \"chmod a+rX {}\".format(filename_parent_paths); subprocess.run(command, shell=True)\n",
    "\n",
    "# #Copy Data into Table 'train_applprev'\n",
    "# query = \"copy {} FROM '{}' DELIMITER ',' CSV HEADER;\".format(table_name, filename_path)\n",
    "# execute_query(connection, query=query, table_name=table_name) #Add efficiency? #Source: https://hakibenita.com/fast-load-data-python-postgresql#benchmark\n",
    "# #time: 32 s (started: 2024-04-09 19:00:31 -07:00)\n",
    "\n",
    "\n",
    "\n",
    "\n",
    "\n",
    "# ###  Alter Type to SMALLINT / INTEGER from NUMERIC\n",
    "\n",
    "\n",
    "# ###  Alter Type to SMALLINT from NUMERIC: Column Name 'actualdpd_943P', i.e. Days Past Due (DPD) of previous contract (actual).\n",
    "# table_name='train_applprev'\n",
    "# column_name='actualdpd_943P'\n",
    "# data_type='SMALLINT'\n",
    "# query=\"ALTER TABLE {} ALTER COLUMN {} TYPE {} USING {}::{};\".format(table_name, column_name, data_type, column_name, data_type)\n",
    "# execute_query(connection, query=query, table_name=table_name, column_name_list=[column_name])\n",
    "\n",
    "\n",
    "# ### Alter Type to INTEGER from NUMERIC: Column Name 'childnum_21L', i.e. Number of children in the previous application.\n",
    "# column_name='childnum_21L'\n",
    "# table_name='train_applprev'\n",
    "# data_type='INTEGER'\n",
    "# query=\"ALTER TABLE {} ALTER COLUMN {} TYPE {} USING ROUND({}::NUMERIC, 0);\".format(table_name, column_name, data_type, column_name)\n",
    "# execute_query(connection=connection, query=query, table_name=table_name, column_name_list=[column_name])\n",
    "\n",
    "# #time: 1min 1s (started: 2024-04-09 19:01:03 -07:00)"
   ]
  },
  {
   "cell_type": "code",
   "execution_count": null,
   "id": "c060b2fc",
   "metadata": {},
   "outputs": [],
   "source": []
  },
  {
   "cell_type": "code",
   "execution_count": null,
   "id": "b9a4a147",
   "metadata": {},
   "outputs": [],
   "source": [
    "\n",
    "\n",
    "# def csv_read(filename):\n",
    "#     '''Efficient .CSV File Read'''\n",
    "#     df_sample = pd.read_csv(filename, nrows=10000)\n",
    "#     column_data_type_dictionary = dict(zip(df_sample.columns, df_sample.dtypes))\n",
    "#     return pd.read_csv(filename, dtype=column_data_type_dictionary)\n",
    "\n"
   ]
  },
  {
   "cell_type": "code",
   "execution_count": null,
   "id": "11500212",
   "metadata": {},
   "outputs": [],
   "source": []
  },
  {
   "cell_type": "code",
   "execution_count": null,
   "id": "2df8682c",
   "metadata": {},
   "outputs": [],
   "source": []
  },
  {
   "cell_type": "markdown",
   "id": "9be39aa6",
   "metadata": {},
   "source": [
    "### Alter Type to NUMERIC from VARCHAR(255): Column Name 'annuity_853A', i.e. Monthly annuity for previous applications.\n",
    "\n"
   ]
  },
  {
   "cell_type": "code",
   "execution_count": null,
   "id": "25a6c851",
   "metadata": {},
   "outputs": [],
   "source": []
  },
  {
   "cell_type": "markdown",
   "id": "c3b9f82f",
   "metadata": {},
   "source": [
    "### Alter Type to DATE from VARCHAR: Column Name 'approvaldate_319D', i.e. Approval Date of Previous Application\n"
   ]
  },
  {
   "cell_type": "code",
   "execution_count": null,
   "id": "61047fc9",
   "metadata": {},
   "outputs": [],
   "source": []
  },
  {
   "cell_type": "markdown",
   "id": "c143969f",
   "metadata": {},
   "source": [
    "### Alter Type to NUMERIC from VARCHAR: Column Name 'byoccupationinc_3656910L', i.e. Applicant's Income from Previous Applications.\n"
   ]
  },
  {
   "cell_type": "code",
   "execution_count": null,
   "id": "a5722efe",
   "metadata": {},
   "outputs": [],
   "source": []
  },
  {
   "cell_type": "markdown",
   "id": "d3e581cd",
   "metadata": {},
   "source": [
    "### Alter Type to VARCHAR from VARCHAR: Column Name 'cancelreason_3545846M', i.e. Application cancellation reason.\n"
   ]
  },
  {
   "cell_type": "code",
   "execution_count": null,
   "id": "e1f0c35d",
   "metadata": {},
   "outputs": [],
   "source": []
  },
  {
   "cell_type": "markdown",
   "id": "f120398b",
   "metadata": {},
   "source": [
    "### Alter Type to DATE from VARCHAR: Column Name 'creationdate_885D', i.e. Date when previous application was created.\n"
   ]
  },
  {
   "cell_type": "code",
   "execution_count": null,
   "id": "6bbc98b0",
   "metadata": {},
   "outputs": [],
   "source": []
  },
  {
   "cell_type": "markdown",
   "id": "bbdf5bb2",
   "metadata": {},
   "source": [
    "### Alter Type to NUMERIC from VARCHAR: Column Name 'credacc_actualbalance_314A', i.e. Actual balance on credit account.\n"
   ]
  },
  {
   "cell_type": "code",
   "execution_count": null,
   "id": "0207f7df",
   "metadata": {},
   "outputs": [],
   "source": []
  },
  {
   "cell_type": "markdown",
   "id": "09cce684",
   "metadata": {},
   "source": [
    "### Alter Type to NUMERIC from VARCHAR: Column Name 'credacc_credlmt_575A', i.e. Credit card credit limit provided for previous applications.\n",
    "\n"
   ]
  },
  {
   "cell_type": "code",
   "execution_count": null,
   "id": "974277b1",
   "metadata": {},
   "outputs": [],
   "source": []
  },
  {
   "cell_type": "code",
   "execution_count": null,
   "id": "8b9c26a2",
   "metadata": {},
   "outputs": [],
   "source": []
  },
  {
   "cell_type": "code",
   "execution_count": null,
   "id": "89b9e91e",
   "metadata": {},
   "outputs": [],
   "source": []
  },
  {
   "cell_type": "code",
   "execution_count": null,
   "id": "9b098fb0",
   "metadata": {},
   "outputs": [],
   "source": [
    "# #create a database and return it as a pandas dataframe for viewing\n",
    "\n",
    "# filename='train_base.csv'\n",
    "# df_result=create_database_table_and_return_dataframe_from_single_filename(filename=filename, return_result=True)\n",
    "# preview_df(df_result)\n"
   ]
  },
  {
   "cell_type": "code",
   "execution_count": null,
   "id": "74527bbe",
   "metadata": {},
   "outputs": [],
   "source": []
  },
  {
   "cell_type": "code",
   "execution_count": null,
   "id": "04e51236",
   "metadata": {},
   "outputs": [],
   "source": []
  },
  {
   "cell_type": "markdown",
   "id": "4fc1c1a0",
   "metadata": {},
   "source": [
    "### Create Database Table 'train_base' with Columns: 'case_id', 'date_decision', 'MONTH', 'WEEK_NUM', 'target'"
   ]
  },
  {
   "cell_type": "code",
   "execution_count": null,
   "id": "9c974314",
   "metadata": {},
   "outputs": [],
   "source": []
  },
  {
   "cell_type": "code",
   "execution_count": null,
   "id": "c396f948",
   "metadata": {},
   "outputs": [],
   "source": []
  },
  {
   "cell_type": "code",
   "execution_count": null,
   "id": "c4c06a91",
   "metadata": {},
   "outputs": [],
   "source": [
    "# df_train_static_0_1 = pd.read_csv(Configuration.train_data_directory_path+'train_static_0_1.csv')\n",
    "# preview_df(df_train_static_0_1)\n"
   ]
  },
  {
   "cell_type": "code",
   "execution_count": null,
   "id": "f072227e",
   "metadata": {},
   "outputs": [],
   "source": []
  },
  {
   "cell_type": "code",
   "execution_count": null,
   "id": "d314bcc7",
   "metadata": {},
   "outputs": [],
   "source": []
  },
  {
   "cell_type": "code",
   "execution_count": null,
   "id": "a55974e8",
   "metadata": {},
   "outputs": [],
   "source": []
  },
  {
   "cell_type": "markdown",
   "id": "62701add",
   "metadata": {},
   "source": [
    "### Create Database Table 'train_static_0' from 'train_static_0_*.csv' with Columns: ...\n"
   ]
  },
  {
   "cell_type": "code",
   "execution_count": null,
   "id": "a703ace5",
   "metadata": {},
   "outputs": [],
   "source": [
    "#create a database and return it as a pandas dataframe for viewing\n",
    "filename_regular_expression='train_static_0_*.csv'\n",
    "df_train_static_0 = create_database_table_and_return_dataframe_from_filename_regular_expression(connection, filename_regular_expression, return_result=False)\n"
   ]
  },
  {
   "cell_type": "code",
   "execution_count": null,
   "id": "cf5f89c3",
   "metadata": {
    "scrolled": true
   },
   "outputs": [],
   "source": []
  }
 ],
 "metadata": {
  "kernelspec": {
   "display_name": "Python 3 (ipykernel)",
   "language": "python",
   "name": "python3"
  },
  "language_info": {
   "codemirror_mode": {
    "name": "ipython",
    "version": 3
   },
   "file_extension": ".py",
   "mimetype": "text/x-python",
   "name": "python",
   "nbconvert_exporter": "python",
   "pygments_lexer": "ipython3",
   "version": "3.9.12"
  }
 },
 "nbformat": 4,
 "nbformat_minor": 5
}
