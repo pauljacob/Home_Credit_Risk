{
 "cells": [
  {
   "cell_type": "code",
   "execution_count": 1,
   "id": "b2e1714a",
   "metadata": {},
   "outputs": [],
   "source": [
    "#YouTube Video: https://www.youtube.com/watch?v=neW9Y9xh4jc\n",
    "\n",
    "#GitHub Source: https://github.com/leosmigel/analyzingalpha/tree/master/2021-10-04-connect-to-postgresql-using-sqlalchemy\n",
    "\n",
    "#Web Post: https://analyzingalpha.com/connect-postgresql-sqlalchemy\n"
   ]
  },
  {
   "cell_type": "code",
   "execution_count": 2,
   "id": "e34c0cd2",
   "metadata": {},
   "outputs": [],
   "source": [
    "# !pip3 install sqlalchemy-utils"
   ]
  },
  {
   "cell_type": "markdown",
   "id": "e7fe80dd",
   "metadata": {},
   "source": [
    "## How to Connect to PostgreSQL Using SQLAlchemy"
   ]
  },
  {
   "cell_type": "markdown",
   "id": "6a707a38",
   "metadata": {},
   "source": [
    "## Imports"
   ]
  },
  {
   "cell_type": "code",
   "execution_count": 3,
   "id": "359dcc64",
   "metadata": {},
   "outputs": [
    {
     "name": "stderr",
     "output_type": "stream",
     "text": [
      "/var/folders/77/y4hv4_s9751293nzv4yrfrtm0000gn/T/ipykernel_37679/931444164.py:10: DeprecationWarning: Importing display from IPython.core.display is deprecated since IPython 7.14, please import from IPython display\n",
      "  from IPython.core.display import display, HTML\n"
     ]
    },
    {
     "data": {
      "text/html": [
       "<style>.container { width:99.9% !important; }</style>"
      ],
      "text/plain": [
       "<IPython.core.display.HTML object>"
      ]
     },
     "metadata": {},
     "output_type": "display_data"
    }
   ],
   "source": [
    "from sqlalchemy import create_engine\n",
    "from sqlalchemy.orm import sessionmaker\n",
    "from sqlalchemy_utils import database_exists, create_database\n",
    "from local_settings import postgresql as settings\n",
    "import sys\n",
    "\n",
    "import pandas as pd\n",
    "import os\n",
    "\n",
    "from IPython.core.display import display, HTML\n",
    "display(HTML(\"<style>.container { width:99.9% !important; }</style>\"))\n",
    "pd.options.display.max_columns = 3999\n",
    "pd.options.display.max_rows = 999\n",
    "\n",
    "pd.set_option('display.max_colwidth', None)\n",
    "pd.options.display.max_info_columns = 3999"
   ]
  },
  {
   "cell_type": "code",
   "execution_count": 4,
   "id": "0599f75d",
   "metadata": {},
   "outputs": [],
   "source": [
    "source_directory = \"/Users/pauljacob/Library/Python/3.9/lib/python/site-packages\"; sys.path.append(source_directory)\n"
   ]
  },
  {
   "cell_type": "code",
   "execution_count": null,
   "id": "16836d2f",
   "metadata": {},
   "outputs": [],
   "source": []
  },
  {
   "cell_type": "code",
   "execution_count": 6,
   "id": "cdb86270",
   "metadata": {},
   "outputs": [
    {
     "name": "stderr",
     "output_type": "stream",
     "text": [
      "/var/folders/77/y4hv4_s9751293nzv4yrfrtm0000gn/T/ipykernel_37679/3396010316.py:77: MovedIn20Warning: The ``declarative_base()`` function is now available as sqlalchemy.orm.declarative_base(). (deprecated since: 2.0) (Background on SQLAlchemy 2.0 at: https://sqlalche.me/e/b8d9)\n",
      "  Base = declarative_base()\n"
     ]
    }
   ],
   "source": [
    "from sqlalchemy import create_engine\n",
    "from sqlalchemy.orm import sessionmaker\n",
    "from sqlalchemy.ext.declarative import declarative_base\n",
    "from sqlalchemy_utils import database_exists, create_database\n",
    "from local_settings import postgresql as settings\n",
    "\n",
    "import logging\n",
    "\n",
    "log = logging.getLogger(__name__)\n",
    "\n",
    "def get_database():\n",
    "    \"\"\"\n",
    "    Connects to database.\n",
    "    Returns:\n",
    "        engine\n",
    "    \"\"\"\n",
    "    try:\n",
    "        engine = get_engine_from_settings()\n",
    "        log.info(\"Connected to PostgreSQL database!\")\n",
    "    except IOError:\n",
    "        log.exception(\"Failed to get database connection!\")\n",
    "        return None, 'fail'\n",
    "\n",
    "    return engine\n",
    "\n",
    "\n",
    "def get_engine_from_settings():\n",
    "    \"\"\"\n",
    "    Sets up database connection from local settings.\n",
    "    Input:\n",
    "        Dictionary containing pghost, pguser, pgpassword, pgdatabase and pgport.\n",
    "    Returns:\n",
    "        Call to get_database returning engine\n",
    "    \"\"\"\n",
    "    keys = ['pguser','pgpasswd','pghost','pgport','pgdb']\n",
    "    if not all(key in keys for key in settings.keys()):\n",
    "        raise Exception('Bad config file')\n",
    "\n",
    "    return get_engine(settings['pguser'], settings['pgpasswd'], settings['pghost'], settings['pgport'], settings['pgdb'])\n",
    "\n",
    "\n",
    "def get_engine(user, passwd, host, port, db):\n",
    "    \"\"\"\n",
    "    Get SQLalchemy engine using credentials.\n",
    "    Input:\n",
    "        db: database name\n",
    "        user: Username\n",
    "        host: Hostname of the database server\n",
    "        port: Port number\n",
    "        passwd: Password for the database\n",
    "    Returns:\n",
    "        Database engine\n",
    "    \"\"\"\n",
    "\n",
    "    url = 'postgresql://{user}:{passwd}@{host}:{port}/{db}'.format(user=user, passwd=passwd, host=host, port=port, db=db)\n",
    "    if not database_exists(url):\n",
    "        create_database(url)\n",
    "    engine = create_engine(url, pool_size=50, echo=False)\n",
    "    return engine\n",
    "\n",
    "\n",
    "def get_session():\n",
    "    \"\"\"\n",
    "    Return an SQLAlchemy session\n",
    "    Input:\n",
    "        engine: an SQLAlchemy engine\n",
    "    \"\"\"\n",
    "    engine = get_database()\n",
    "    session = sessionmaker(bind=engine)()\n",
    "    #session = Session()\n",
    "    return session\n",
    "\n",
    "\n",
    "\n",
    "db = get_database()\n",
    "session = get_session()\n",
    "Base = declarative_base()\n"
   ]
  },
  {
   "cell_type": "code",
   "execution_count": null,
   "id": "70367492",
   "metadata": {},
   "outputs": [],
   "source": []
  },
  {
   "cell_type": "code",
   "execution_count": 7,
   "id": "87c6ba22",
   "metadata": {},
   "outputs": [],
   "source": [
    "engine = get_engine(settings['pguser'], settings['pgpasswd'], settings['pghost'], settings['pgport'], settings['pgdb'])\n",
    "# engine.url.database\n",
    "session = get_session()"
   ]
  },
  {
   "cell_type": "code",
   "execution_count": 12,
   "id": "27b157c8",
   "metadata": {},
   "outputs": [],
   "source": []
  },
  {
   "cell_type": "code",
   "execution_count": null,
   "id": "b4ae268f",
   "metadata": {},
   "outputs": [],
   "source": []
  },
  {
   "cell_type": "code",
   "execution_count": null,
   "id": "92831092",
   "metadata": {},
   "outputs": [],
   "source": []
  },
  {
   "cell_type": "code",
   "execution_count": 9,
   "id": "995c5ca6",
   "metadata": {},
   "outputs": [],
   "source": []
  },
  {
   "cell_type": "code",
   "execution_count": 10,
   "id": "fd832f84",
   "metadata": {},
   "outputs": [],
   "source": [
    "session.close()"
   ]
  },
  {
   "cell_type": "code",
   "execution_count": 11,
   "id": "a3fed1d5",
   "metadata": {},
   "outputs": [],
   "source": [
    "engine = session.get_bind()\n",
    "engine.dispose() # Close all checked in sessions"
   ]
  },
  {
   "cell_type": "code",
   "execution_count": null,
   "id": "35f0ecec",
   "metadata": {},
   "outputs": [],
   "source": []
  },
  {
   "cell_type": "code",
   "execution_count": null,
   "id": "a77f7dbb",
   "metadata": {},
   "outputs": [],
   "source": []
  },
  {
   "cell_type": "code",
   "execution_count": null,
   "id": "523b9e29",
   "metadata": {},
   "outputs": [],
   "source": []
  },
  {
   "cell_type": "code",
   "execution_count": null,
   "id": "d4e2992f",
   "metadata": {},
   "outputs": [],
   "source": []
  },
  {
   "cell_type": "code",
   "execution_count": null,
   "id": "70e5876b",
   "metadata": {},
   "outputs": [],
   "source": []
  }
 ],
 "metadata": {
  "kernelspec": {
   "display_name": "Python 3 (ipykernel)",
   "language": "python",
   "name": "python3"
  },
  "language_info": {
   "codemirror_mode": {
    "name": "ipython",
    "version": 3
   },
   "file_extension": ".py",
   "mimetype": "text/x-python",
   "name": "python",
   "nbconvert_exporter": "python",
   "pygments_lexer": "ipython3",
   "version": "3.9.12"
  }
 },
 "nbformat": 4,
 "nbformat_minor": 5
}
