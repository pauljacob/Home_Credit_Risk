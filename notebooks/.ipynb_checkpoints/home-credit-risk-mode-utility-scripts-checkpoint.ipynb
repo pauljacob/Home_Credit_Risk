{
 "cells": [
  {
   "cell_type": "markdown",
   "id": "a7036e5f",
   "metadata": {
    "papermill": {
     "duration": 0.011213,
     "end_time": "2024-02-15T09:00:15.333407",
     "exception": false,
     "start_time": "2024-02-15T09:00:15.322194",
     "status": "completed"
    },
    "tags": []
   },
   "source": [
    "# Submission 1\n",
    "From: https://www.kaggle.com/code/greysky/home-credit-baseline (The best one)"
   ]
  },
  {
   "cell_type": "code",
   "execution_count": 1,
   "id": "fae81f85",
   "metadata": {
    "execution": {
     "iopub.execute_input": "2024-02-15T09:00:15.357434Z",
     "iopub.status.busy": "2024-02-15T09:00:15.356527Z",
     "iopub.status.idle": "2024-02-15T09:00:15.368670Z",
     "shell.execute_reply": "2024-02-15T09:00:15.367769Z"
    },
    "papermill": {
     "duration": 0.026288,
     "end_time": "2024-02-15T09:00:15.370890",
     "exception": false,
     "start_time": "2024-02-15T09:00:15.344602",
     "status": "completed"
    },
    "tags": []
   },
   "outputs": [],
   "source": [
    "import gc"
   ]
  },
  {
   "cell_type": "code",
   "execution_count": 2,
   "id": "fc61cf3c",
   "metadata": {
    "execution": {
     "iopub.execute_input": "2024-02-15T09:00:15.393846Z",
     "iopub.status.busy": "2024-02-15T09:00:15.393493Z",
     "iopub.status.idle": "2024-02-15T09:18:00.669241Z",
     "shell.execute_reply": "2024-02-15T09:18:00.668100Z"
    },
    "papermill": {
     "duration": 1065.289742,
     "end_time": "2024-02-15T09:18:00.671610",
     "exception": false,
     "start_time": "2024-02-15T09:00:15.381868",
     "status": "completed"
    },
    "tags": []
   },
   "outputs": [
    {
     "name": "stdout",
     "output_type": "stream",
     "text": [
      "/opt/conda/lib/python3.10/site-packages/dask/dataframe/_pyarrow_compat.py:23: UserWarning: You are using pyarrow version 11.0.0 which is known to be insecure. See https://www.cve.org/CVERecord?id=CVE-2023-47248 for further details. Please upgrade to pyarrow>=14.0.1 or install pyarrow-hotfix to patch your current version.\r\n",
      "  warnings.warn(\r\n",
      "['amtinstpaidbefduel24m_4187115A', 'annuity_780A', 'annuitynextmonth_57A', 'avginstallast24m_3658937A', 'avglnamtstart24m_4525187A', 'avgoutstandbalancel6m_4187114A', 'avgpmtlast12m_4525200A', 'credamount_770A', 'currdebt_22A', 'currdebtcredtyperange_828A', 'disbursedcredamount_1113A', 'downpmt_116A', 'inittransactionamount_650A', 'lastapprcommoditycat_1041M', 'lastapprcommoditytypec_5251766M', 'lastapprcredamount_781A', 'lastcancelreason_561M', 'lastotherinc_902A', 'lastotherlnsexpense_631A', 'lastrejectcommoditycat_161M', 'lastrejectcommodtypec_5251769M', 'lastrejectcredamount_222A', 'lastrejectreason_759M', 'lastrejectreasonclient_4145040M', 'maininc_215A', 'maxannuity_159A', 'maxannuity_4075009A', 'maxdebt4_972A', 'maxinstallast24m_3658928A', 'maxlnamtstart6m_4525199A', 'maxoutstandbalancel12m_4187113A', 'maxpmtlast3m_4525190A', 'previouscontdistrict_112M', 'price_1097A', 'sumoutstandtotal_3546847A', 'sumoutstandtotalest_4493215A', 'totaldebt_9A', 'totalsettled_863A', 'totinstallast1m_4525188A']\r\n",
      "['description_5085714M', 'education_1103M', 'education_88M', 'maritalst_385M', 'maritalst_893M', 'pmtaverage_3A', 'pmtaverage_4527227A', 'pmtaverage_4955615A', 'pmtssum_45A']\r\n",
      "['amtinstpaidbefduel24m_4187115A', 'annuity_780A', 'annuitynextmonth_57A', 'avginstallast24m_3658937A', 'avglnamtstart24m_4525187A', 'avgoutstandbalancel6m_4187114A', 'avgpmtlast12m_4525200A', 'credamount_770A', 'currdebt_22A', 'currdebtcredtyperange_828A', 'disbursedcredamount_1113A', 'downpmt_116A', 'inittransactionamount_650A', 'lastapprcommoditycat_1041M', 'lastapprcommoditytypec_5251766M', 'lastapprcredamount_781A', 'lastcancelreason_561M', 'lastotherinc_902A', 'lastotherlnsexpense_631A', 'lastrejectcommoditycat_161M', 'lastrejectcommodtypec_5251769M', 'lastrejectcredamount_222A', 'lastrejectreason_759M', 'lastrejectreasonclient_4145040M', 'maininc_215A', 'maxannuity_159A', 'maxannuity_4075009A', 'maxdebt4_972A', 'maxinstallast24m_3658928A', 'maxlnamtstart6m_4525199A', 'maxoutstandbalancel12m_4187113A', 'maxpmtlast3m_4525190A', 'previouscontdistrict_112M', 'price_1097A', 'sumoutstandtotal_3546847A', 'sumoutstandtotalest_4493215A', 'totaldebt_9A', 'totalsettled_863A', 'totinstallast1m_4525188A', 'description_5085714M', 'education_1103M', 'education_88M', 'maritalst_385M', 'maritalst_893M', 'pmtaverage_3A', 'pmtaverage_4527227A', 'pmtaverage_4955615A', 'pmtssum_45A']\r\n",
      "Train: (915995, 48)\r\n",
      "Valid: (305332, 48)\r\n",
      "Test: (305332, 48)\r\n",
      "/opt/conda/lib/python3.10/site-packages/lightgbm/engine.py:172: UserWarning: Found `n_estimators` in params. Will use it instead of argument\r\n",
      "  _log_warning(f\"Found `{alias}` in params. Will use it instead of argument\")\r\n",
      "1 warning generated.\r\n",
      "1 warning generated.\r\n",
      "1 warning generated.\r\n",
      "1 warning generated.\r\n",
      "1 warning generated.\r\n",
      "1 warning generated.\r\n",
      "1 warning generated.\r\n",
      "1 warning generated.\r\n",
      "1 warning generated.\r\n",
      "1 warning generated.\r\n",
      "1 warning generated.\r\n",
      "1 warning generated.\r\n",
      "1 warning generated.\r\n",
      "1 warning generated.\r\n",
      "1 warning generated.\r\n",
      "1 warning generated.\r\n",
      "1 warning generated.\r\n",
      "1 warning generated.\r\n",
      "1 warning generated.\r\n",
      "1 warning generated.\r\n",
      "1 warning generated.\r\n",
      "1 warning generated.\r\n",
      "1 warning generated.\r\n",
      "1 warning generated.\r\n",
      "1 warning generated.\r\n",
      "1 warning generated.\r\n",
      "1 warning generated.\r\n",
      "1 warning generated.\r\n",
      "1 warning generated.\r\n",
      "1 warning generated.\r\n",
      "1 warning generated.\r\n",
      "1 warning generated.\r\n",
      "1 warning generated.\r\n",
      "Training until validation scores don't improve for 10 rounds\r\n",
      "[50]\tvalid_0's auc: 0.691095\r\n",
      "[100]\tvalid_0's auc: 0.703953\r\n",
      "[150]\tvalid_0's auc: 0.711861\r\n",
      "[200]\tvalid_0's auc: 0.71683\r\n",
      "[250]\tvalid_0's auc: 0.721327\r\n",
      "[300]\tvalid_0's auc: 0.724978\r\n",
      "[350]\tvalid_0's auc: 0.727766\r\n",
      "[400]\tvalid_0's auc: 0.730175\r\n",
      "[450]\tvalid_0's auc: 0.731979\r\n",
      "[500]\tvalid_0's auc: 0.733409\r\n",
      "[550]\tvalid_0's auc: 0.734818\r\n",
      "[600]\tvalid_0's auc: 0.736072\r\n",
      "[650]\tvalid_0's auc: 0.737237\r\n",
      "[700]\tvalid_0's auc: 0.738091\r\n",
      "[750]\tvalid_0's auc: 0.738777\r\n",
      "[800]\tvalid_0's auc: 0.739425\r\n",
      "[850]\tvalid_0's auc: 0.740015\r\n",
      "[900]\tvalid_0's auc: 0.740891\r\n",
      "[950]\tvalid_0's auc: 0.741438\r\n",
      "[1000]\tvalid_0's auc: 0.741838\r\n",
      "[1050]\tvalid_0's auc: 0.742335\r\n",
      "[1100]\tvalid_0's auc: 0.742757\r\n",
      "[1150]\tvalid_0's auc: 0.743275\r\n",
      "[1200]\tvalid_0's auc: 0.743648\r\n",
      "[1250]\tvalid_0's auc: 0.744039\r\n",
      "[1300]\tvalid_0's auc: 0.744457\r\n",
      "[1350]\tvalid_0's auc: 0.744942\r\n",
      "[1400]\tvalid_0's auc: 0.74533\r\n",
      "[1450]\tvalid_0's auc: 0.745646\r\n",
      "[1500]\tvalid_0's auc: 0.746041\r\n",
      "[1550]\tvalid_0's auc: 0.746224\r\n",
      "[1600]\tvalid_0's auc: 0.746473\r\n",
      "[1650]\tvalid_0's auc: 0.746897\r\n",
      "[1700]\tvalid_0's auc: 0.747215\r\n",
      "[1750]\tvalid_0's auc: 0.747428\r\n",
      "[1800]\tvalid_0's auc: 0.747771\r\n",
      "Early stopping, best iteration is:\r\n",
      "[1796]\tvalid_0's auc: 0.747788\r\n",
      "/opt/conda/lib/python3.10/site-packages/lightgbm/engine.py:172: UserWarning: Found `n_estimators` in params. Will use it instead of argument\r\n",
      "  _log_warning(f\"Found `{alias}` in params. Will use it instead of argument\")\r\n",
      "Training until validation scores don't improve for 10 rounds\r\n",
      "[50]\tvalid_0's auc: 0.690089\r\n",
      "[100]\tvalid_0's auc: 0.702609\r\n",
      "[150]\tvalid_0's auc: 0.711614\r\n",
      "[200]\tvalid_0's auc: 0.718565\r\n",
      "[250]\tvalid_0's auc: 0.723612\r\n",
      "[300]\tvalid_0's auc: 0.727689\r\n",
      "[350]\tvalid_0's auc: 0.730932\r\n",
      "[400]\tvalid_0's auc: 0.733463\r\n",
      "[450]\tvalid_0's auc: 0.735389\r\n",
      "[500]\tvalid_0's auc: 0.737002\r\n",
      "[550]\tvalid_0's auc: 0.738494\r\n",
      "[600]\tvalid_0's auc: 0.739869\r\n",
      "[650]\tvalid_0's auc: 0.740967\r\n",
      "[700]\tvalid_0's auc: 0.742092\r\n",
      "[750]\tvalid_0's auc: 0.742928\r\n",
      "[800]\tvalid_0's auc: 0.74383\r\n",
      "[850]\tvalid_0's auc: 0.744591\r\n",
      "[900]\tvalid_0's auc: 0.745283\r\n",
      "[950]\tvalid_0's auc: 0.74595\r\n",
      "[1000]\tvalid_0's auc: 0.746477\r\n",
      "[1050]\tvalid_0's auc: 0.746998\r\n",
      "[1100]\tvalid_0's auc: 0.747565\r\n",
      "[1150]\tvalid_0's auc: 0.747918\r\n",
      "[1200]\tvalid_0's auc: 0.748439\r\n",
      "[1250]\tvalid_0's auc: 0.748908\r\n",
      "[1300]\tvalid_0's auc: 0.749236\r\n",
      "[1350]\tvalid_0's auc: 0.749569\r\n",
      "[1400]\tvalid_0's auc: 0.749836\r\n",
      "[1450]\tvalid_0's auc: 0.750196\r\n",
      "[1500]\tvalid_0's auc: 0.750589\r\n",
      "[1550]\tvalid_0's auc: 0.750967\r\n",
      "[1600]\tvalid_0's auc: 0.751239\r\n",
      "[1650]\tvalid_0's auc: 0.751329\r\n",
      "[1700]\tvalid_0's auc: 0.751661\r\n",
      "[1750]\tvalid_0's auc: 0.751905\r\n",
      "[1800]\tvalid_0's auc: 0.752229\r\n",
      "[1850]\tvalid_0's auc: 0.752515\r\n",
      "[1900]\tvalid_0's auc: 0.752734\r\n",
      "Early stopping, best iteration is:\r\n",
      "[1904]\tvalid_0's auc: 0.752746\r\n",
      "/opt/conda/lib/python3.10/site-packages/lightgbm/engine.py:172: UserWarning: Found `n_estimators` in params. Will use it instead of argument\r\n",
      "  _log_warning(f\"Found `{alias}` in params. Will use it instead of argument\")\r\n",
      "Training until validation scores don't improve for 10 rounds\r\n",
      "[50]\tvalid_0's auc: 0.687868\r\n",
      "[100]\tvalid_0's auc: 0.700475\r\n",
      "[150]\tvalid_0's auc: 0.708739\r\n",
      "[200]\tvalid_0's auc: 0.715085\r\n",
      "[250]\tvalid_0's auc: 0.720334\r\n",
      "[300]\tvalid_0's auc: 0.724752\r\n",
      "[350]\tvalid_0's auc: 0.728032\r\n",
      "[400]\tvalid_0's auc: 0.7309\r\n",
      "[450]\tvalid_0's auc: 0.732834\r\n",
      "[500]\tvalid_0's auc: 0.734508\r\n",
      "[550]\tvalid_0's auc: 0.735861\r\n",
      "[600]\tvalid_0's auc: 0.736952\r\n",
      "[650]\tvalid_0's auc: 0.738089\r\n",
      "[700]\tvalid_0's auc: 0.739266\r\n",
      "[750]\tvalid_0's auc: 0.740152\r\n",
      "[800]\tvalid_0's auc: 0.740945\r\n",
      "[850]\tvalid_0's auc: 0.74201\r\n",
      "[900]\tvalid_0's auc: 0.742679\r\n",
      "[950]\tvalid_0's auc: 0.743429\r\n",
      "[1000]\tvalid_0's auc: 0.744093\r\n",
      "[1050]\tvalid_0's auc: 0.744651\r\n",
      "[1100]\tvalid_0's auc: 0.744918\r\n",
      "[1150]\tvalid_0's auc: 0.745342\r\n",
      "[1200]\tvalid_0's auc: 0.745963\r\n",
      "[1250]\tvalid_0's auc: 0.746328\r\n",
      "[1300]\tvalid_0's auc: 0.74668\r\n",
      "[1350]\tvalid_0's auc: 0.747075\r\n",
      "[1400]\tvalid_0's auc: 0.747465\r\n",
      "[1450]\tvalid_0's auc: 0.747821\r\n",
      "[1500]\tvalid_0's auc: 0.748113\r\n",
      "[1550]\tvalid_0's auc: 0.748453\r\n",
      "[1600]\tvalid_0's auc: 0.748753\r\n",
      "[1650]\tvalid_0's auc: 0.749069\r\n",
      "[1700]\tvalid_0's auc: 0.749282\r\n",
      "Early stopping, best iteration is:\r\n",
      "[1725]\tvalid_0's auc: 0.749397\r\n",
      "/opt/conda/lib/python3.10/site-packages/lightgbm/engine.py:172: UserWarning: Found `n_estimators` in params. Will use it instead of argument\r\n",
      "  _log_warning(f\"Found `{alias}` in params. Will use it instead of argument\")\r\n",
      "Training until validation scores don't improve for 10 rounds\r\n",
      "[50]\tvalid_0's auc: 0.698724\r\n",
      "[100]\tvalid_0's auc: 0.712025\r\n",
      "[150]\tvalid_0's auc: 0.719233\r\n",
      "[200]\tvalid_0's auc: 0.725453\r\n",
      "[250]\tvalid_0's auc: 0.730179\r\n",
      "[300]\tvalid_0's auc: 0.734438\r\n",
      "[350]\tvalid_0's auc: 0.737275\r\n",
      "[400]\tvalid_0's auc: 0.739965\r\n",
      "[450]\tvalid_0's auc: 0.742265\r\n",
      "[500]\tvalid_0's auc: 0.74415\r\n",
      "[550]\tvalid_0's auc: 0.745733\r\n",
      "[600]\tvalid_0's auc: 0.746949\r\n",
      "[650]\tvalid_0's auc: 0.74821\r\n",
      "[700]\tvalid_0's auc: 0.749308\r\n",
      "[750]\tvalid_0's auc: 0.750118\r\n",
      "[800]\tvalid_0's auc: 0.750791\r\n",
      "[850]\tvalid_0's auc: 0.751432\r\n",
      "[900]\tvalid_0's auc: 0.752207\r\n",
      "[950]\tvalid_0's auc: 0.752808\r\n",
      "[1000]\tvalid_0's auc: 0.753414\r\n",
      "[1050]\tvalid_0's auc: 0.754041\r\n",
      "[1100]\tvalid_0's auc: 0.754482\r\n",
      "[1150]\tvalid_0's auc: 0.754983\r\n",
      "[1200]\tvalid_0's auc: 0.755393\r\n",
      "[1250]\tvalid_0's auc: 0.75575\r\n",
      "[1300]\tvalid_0's auc: 0.756114\r\n",
      "[1350]\tvalid_0's auc: 0.756514\r\n",
      "[1400]\tvalid_0's auc: 0.756874\r\n",
      "[1450]\tvalid_0's auc: 0.75724\r\n",
      "[1500]\tvalid_0's auc: 0.757465\r\n",
      "[1550]\tvalid_0's auc: 0.7579\r\n",
      "[1600]\tvalid_0's auc: 0.758211\r\n",
      "[1650]\tvalid_0's auc: 0.758468\r\n",
      "[1700]\tvalid_0's auc: 0.758662\r\n",
      "[1750]\tvalid_0's auc: 0.758831\r\n",
      "[1800]\tvalid_0's auc: 0.759014\r\n",
      "[1850]\tvalid_0's auc: 0.759289\r\n",
      "[1900]\tvalid_0's auc: 0.759463\r\n",
      "[1950]\tvalid_0's auc: 0.759809\r\n",
      "[2000]\tvalid_0's auc: 0.759982\r\n",
      "Early stopping, best iteration is:\r\n",
      "[2014]\tvalid_0's auc: 0.760052\r\n",
      "/opt/conda/lib/python3.10/site-packages/lightgbm/engine.py:172: UserWarning: Found `n_estimators` in params. Will use it instead of argument\r\n",
      "  _log_warning(f\"Found `{alias}` in params. Will use it instead of argument\")\r\n",
      "Training until validation scores don't improve for 10 rounds\r\n",
      "[50]\tvalid_0's auc: 0.699623\r\n",
      "[100]\tvalid_0's auc: 0.711312\r\n",
      "[150]\tvalid_0's auc: 0.718174\r\n",
      "[200]\tvalid_0's auc: 0.723201\r\n",
      "[250]\tvalid_0's auc: 0.727798\r\n",
      "[300]\tvalid_0's auc: 0.731112\r\n",
      "[350]\tvalid_0's auc: 0.734205\r\n",
      "[400]\tvalid_0's auc: 0.736562\r\n",
      "[450]\tvalid_0's auc: 0.73873\r\n",
      "[500]\tvalid_0's auc: 0.74016\r\n",
      "[550]\tvalid_0's auc: 0.741715\r\n",
      "[600]\tvalid_0's auc: 0.742938\r\n",
      "[650]\tvalid_0's auc: 0.744069\r\n",
      "[700]\tvalid_0's auc: 0.745076\r\n",
      "[750]\tvalid_0's auc: 0.745809\r\n",
      "[800]\tvalid_0's auc: 0.746299\r\n",
      "[850]\tvalid_0's auc: 0.747113\r\n",
      "[900]\tvalid_0's auc: 0.747591\r\n",
      "[950]\tvalid_0's auc: 0.748151\r\n",
      "[1000]\tvalid_0's auc: 0.748714\r\n",
      "[1050]\tvalid_0's auc: 0.749505\r\n",
      "[1100]\tvalid_0's auc: 0.750109\r\n",
      "[1150]\tvalid_0's auc: 0.750469\r\n",
      "[1200]\tvalid_0's auc: 0.750964\r\n",
      "[1250]\tvalid_0's auc: 0.75131\r\n",
      "[1300]\tvalid_0's auc: 0.751705\r\n",
      "[1350]\tvalid_0's auc: 0.752083\r\n",
      "[1400]\tvalid_0's auc: 0.752358\r\n",
      "[1450]\tvalid_0's auc: 0.752762\r\n",
      "[1500]\tvalid_0's auc: 0.753087\r\n",
      "Early stopping, best iteration is:\r\n",
      "[1535]\tvalid_0's auc: 0.753385\r\n",
      "/opt/conda/lib/python3.10/site-packages/xgboost/sklearn.py:889: UserWarning: `early_stopping_rounds` in `fit` method is deprecated for better compatibility with scikit-learn, use `early_stopping_rounds` in constructor or`set_params` instead.\r\n",
      "  warnings.warn(\r\n",
      "[0]\tvalidation_0-auc:0.54108\r\n",
      "[1]\tvalidation_0-auc:0.55916\r\n",
      "[2]\tvalidation_0-auc:0.57834\r\n",
      "[3]\tvalidation_0-auc:0.58265\r\n",
      "[4]\tvalidation_0-auc:0.58622\r\n",
      "[5]\tvalidation_0-auc:0.59682\r\n",
      "[6]\tvalidation_0-auc:0.59980\r\n",
      "[7]\tvalidation_0-auc:0.60809\r\n",
      "[8]\tvalidation_0-auc:0.60764\r\n",
      "[9]\tvalidation_0-auc:0.61165\r\n",
      "[10]\tvalidation_0-auc:0.61213\r\n",
      "[11]\tvalidation_0-auc:0.60893\r\n",
      "[12]\tvalidation_0-auc:0.61130\r\n",
      "[13]\tvalidation_0-auc:0.61208\r\n",
      "[14]\tvalidation_0-auc:0.61522\r\n",
      "[15]\tvalidation_0-auc:0.61611\r\n",
      "[16]\tvalidation_0-auc:0.61490\r\n",
      "[17]\tvalidation_0-auc:0.61489\r\n",
      "[18]\tvalidation_0-auc:0.61625\r\n",
      "[19]\tvalidation_0-auc:0.62060\r\n",
      "[20]\tvalidation_0-auc:0.62681\r\n",
      "[21]\tvalidation_0-auc:0.62732\r\n",
      "[22]\tvalidation_0-auc:0.62744\r\n",
      "[23]\tvalidation_0-auc:0.62463\r\n",
      "[24]\tvalidation_0-auc:0.62736\r\n",
      "[25]\tvalidation_0-auc:0.62826\r\n",
      "[26]\tvalidation_0-auc:0.63143\r\n",
      "[27]\tvalidation_0-auc:0.63078\r\n",
      "[28]\tvalidation_0-auc:0.63094\r\n",
      "[29]\tvalidation_0-auc:0.63077\r\n",
      "[30]\tvalidation_0-auc:0.63263\r\n",
      "[31]\tvalidation_0-auc:0.62976\r\n",
      "[32]\tvalidation_0-auc:0.63017\r\n",
      "[33]\tvalidation_0-auc:0.62948\r\n",
      "[34]\tvalidation_0-auc:0.62837\r\n",
      "[35]\tvalidation_0-auc:0.62747\r\n",
      "[36]\tvalidation_0-auc:0.63009\r\n",
      "[37]\tvalidation_0-auc:0.62898\r\n",
      "[38]\tvalidation_0-auc:0.62834\r\n",
      "[39]\tvalidation_0-auc:0.62888\r\n",
      "[40]\tvalidation_0-auc:0.62734\r\n",
      "[41]\tvalidation_0-auc:0.62886\r\n",
      "[42]\tvalidation_0-auc:0.62904\r\n",
      "[43]\tvalidation_0-auc:0.62845\r\n",
      "[44]\tvalidation_0-auc:0.62955\r\n",
      "[45]\tvalidation_0-auc:0.63351\r\n",
      "[46]\tvalidation_0-auc:0.63315\r\n",
      "[47]\tvalidation_0-auc:0.63321\r\n",
      "[48]\tvalidation_0-auc:0.63355\r\n",
      "[49]\tvalidation_0-auc:0.63164\r\n",
      "[50]\tvalidation_0-auc:0.63136\r\n",
      "[51]\tvalidation_0-auc:0.62927\r\n",
      "[52]\tvalidation_0-auc:0.63094\r\n",
      "[53]\tvalidation_0-auc:0.63171\r\n",
      "[54]\tvalidation_0-auc:0.63267\r\n",
      "[55]\tvalidation_0-auc:0.63099\r\n",
      "[56]\tvalidation_0-auc:0.63060\r\n",
      "[57]\tvalidation_0-auc:0.63089\r\n",
      "[58]\tvalidation_0-auc:0.63130\r\n",
      "[59]\tvalidation_0-auc:0.63218\r\n",
      "[60]\tvalidation_0-auc:0.63242\r\n",
      "[61]\tvalidation_0-auc:0.63308\r\n",
      "[62]\tvalidation_0-auc:0.63320\r\n",
      "[63]\tvalidation_0-auc:0.63258\r\n",
      "[64]\tvalidation_0-auc:0.63336\r\n",
      "[65]\tvalidation_0-auc:0.63375\r\n",
      "[66]\tvalidation_0-auc:0.63334\r\n",
      "[67]\tvalidation_0-auc:0.63357\r\n",
      "[68]\tvalidation_0-auc:0.63331\r\n",
      "[69]\tvalidation_0-auc:0.63330\r\n",
      "[70]\tvalidation_0-auc:0.63383\r\n",
      "[71]\tvalidation_0-auc:0.63396\r\n",
      "[72]\tvalidation_0-auc:0.63431\r\n",
      "[73]\tvalidation_0-auc:0.63343\r\n",
      "[74]\tvalidation_0-auc:0.63406\r\n",
      "[75]\tvalidation_0-auc:0.63450\r\n",
      "[76]\tvalidation_0-auc:0.63572\r\n",
      "[77]\tvalidation_0-auc:0.63585\r\n",
      "[78]\tvalidation_0-auc:0.63489\r\n",
      "[79]\tvalidation_0-auc:0.63510\r\n",
      "[80]\tvalidation_0-auc:0.63575\r\n",
      "[81]\tvalidation_0-auc:0.63598\r\n",
      "[82]\tvalidation_0-auc:0.63616\r\n",
      "[83]\tvalidation_0-auc:0.63600\r\n",
      "[84]\tvalidation_0-auc:0.63627\r\n",
      "[85]\tvalidation_0-auc:0.63680\r\n",
      "[86]\tvalidation_0-auc:0.63676\r\n",
      "[87]\tvalidation_0-auc:0.63716\r\n",
      "[88]\tvalidation_0-auc:0.63710\r\n",
      "[89]\tvalidation_0-auc:0.63714\r\n",
      "[90]\tvalidation_0-auc:0.63686\r\n",
      "[91]\tvalidation_0-auc:0.63672\r\n",
      "[92]\tvalidation_0-auc:0.63824\r\n",
      "[93]\tvalidation_0-auc:0.63837\r\n",
      "[94]\tvalidation_0-auc:0.63864\r\n",
      "[95]\tvalidation_0-auc:0.63884\r\n",
      "[96]\tvalidation_0-auc:0.63909\r\n",
      "[97]\tvalidation_0-auc:0.63883\r\n",
      "[98]\tvalidation_0-auc:0.63903\r\n",
      "[99]\tvalidation_0-auc:0.63902\r\n",
      "[100]\tvalidation_0-auc:0.63898\r\n",
      "[101]\tvalidation_0-auc:0.63921\r\n",
      "[102]\tvalidation_0-auc:0.63923\r\n",
      "[103]\tvalidation_0-auc:0.63902\r\n",
      "[104]\tvalidation_0-auc:0.63932\r\n",
      "[105]\tvalidation_0-auc:0.64034\r\n",
      "[106]\tvalidation_0-auc:0.64134\r\n",
      "[107]\tvalidation_0-auc:0.64153\r\n",
      "[108]\tvalidation_0-auc:0.64194\r\n",
      "[109]\tvalidation_0-auc:0.64134\r\n",
      "[110]\tvalidation_0-auc:0.64097\r\n",
      "[111]\tvalidation_0-auc:0.64099\r\n",
      "[112]\tvalidation_0-auc:0.64105\r\n",
      "[113]\tvalidation_0-auc:0.64104\r\n",
      "[114]\tvalidation_0-auc:0.64125\r\n",
      "[115]\tvalidation_0-auc:0.64170\r\n",
      "[116]\tvalidation_0-auc:0.64175\r\n",
      "[117]\tvalidation_0-auc:0.64192\r\n",
      "[118]\tvalidation_0-auc:0.64161\r\n",
      "[119]\tvalidation_0-auc:0.64196\r\n",
      "[120]\tvalidation_0-auc:0.64213\r\n",
      "[121]\tvalidation_0-auc:0.64227\r\n",
      "[122]\tvalidation_0-auc:0.64242\r\n",
      "[123]\tvalidation_0-auc:0.64259\r\n",
      "[124]\tvalidation_0-auc:0.64305\r\n",
      "[125]\tvalidation_0-auc:0.64315\r\n",
      "[126]\tvalidation_0-auc:0.64334\r\n",
      "[127]\tvalidation_0-auc:0.64347\r\n",
      "[128]\tvalidation_0-auc:0.64357\r\n",
      "[129]\tvalidation_0-auc:0.64351\r\n",
      "[130]\tvalidation_0-auc:0.64280\r\n",
      "[131]\tvalidation_0-auc:0.64264\r\n",
      "[132]\tvalidation_0-auc:0.64265\r\n",
      "[133]\tvalidation_0-auc:0.64385\r\n",
      "[134]\tvalidation_0-auc:0.64354\r\n",
      "[135]\tvalidation_0-auc:0.64279\r\n",
      "[136]\tvalidation_0-auc:0.64193\r\n",
      "[137]\tvalidation_0-auc:0.64201\r\n",
      "[138]\tvalidation_0-auc:0.64213\r\n",
      "[139]\tvalidation_0-auc:0.64225\r\n",
      "[140]\tvalidation_0-auc:0.64143\r\n",
      "[141]\tvalidation_0-auc:0.64125\r\n",
      "[142]\tvalidation_0-auc:0.64137\r\n",
      "[143]\tvalidation_0-auc:0.64132\r\n",
      "[144]\tvalidation_0-auc:0.64152\r\n",
      "[145]\tvalidation_0-auc:0.64021\r\n",
      "[146]\tvalidation_0-auc:0.64072\r\n",
      "[147]\tvalidation_0-auc:0.64082\r\n",
      "[148]\tvalidation_0-auc:0.64092\r\n",
      "[149]\tvalidation_0-auc:0.64064\r\n",
      "[150]\tvalidation_0-auc:0.64076\r\n",
      "[151]\tvalidation_0-auc:0.64107\r\n",
      "[152]\tvalidation_0-auc:0.64116\r\n",
      "[153]\tvalidation_0-auc:0.64100\r\n",
      "[154]\tvalidation_0-auc:0.63988\r\n",
      "[155]\tvalidation_0-auc:0.63986\r\n",
      "[156]\tvalidation_0-auc:0.63994\r\n",
      "[157]\tvalidation_0-auc:0.63984\r\n",
      "[158]\tvalidation_0-auc:0.63984\r\n",
      "[159]\tvalidation_0-auc:0.63975\r\n",
      "[160]\tvalidation_0-auc:0.63986\r\n",
      "[161]\tvalidation_0-auc:0.63987\r\n",
      "[162]\tvalidation_0-auc:0.63973\r\n",
      "[163]\tvalidation_0-auc:0.63991\r\n",
      "[164]\tvalidation_0-auc:0.63990\r\n",
      "[165]\tvalidation_0-auc:0.64009\r\n",
      "[166]\tvalidation_0-auc:0.64036\r\n",
      "[167]\tvalidation_0-auc:0.64054\r\n",
      "[168]\tvalidation_0-auc:0.64022\r\n",
      "[169]\tvalidation_0-auc:0.63969\r\n",
      "[170]\tvalidation_0-auc:0.63972\r\n",
      "[171]\tvalidation_0-auc:0.63972\r\n",
      "[172]\tvalidation_0-auc:0.63908\r\n",
      "[173]\tvalidation_0-auc:0.63949\r\n",
      "[174]\tvalidation_0-auc:0.63936\r\n",
      "[175]\tvalidation_0-auc:0.63955\r\n",
      "[176]\tvalidation_0-auc:0.63946\r\n",
      "[177]\tvalidation_0-auc:0.63957\r\n",
      "[178]\tvalidation_0-auc:0.63882\r\n",
      "[179]\tvalidation_0-auc:0.63888\r\n",
      "[180]\tvalidation_0-auc:0.63832\r\n",
      "[181]\tvalidation_0-auc:0.63805\r\n",
      "[182]\tvalidation_0-auc:0.63829\r\n",
      "[183]\tvalidation_0-auc:0.63844\r\n",
      "[184]\tvalidation_0-auc:0.63864\r\n",
      "[185]\tvalidation_0-auc:0.63902\r\n",
      "[186]\tvalidation_0-auc:0.63897\r\n",
      "[187]\tvalidation_0-auc:0.63908\r\n",
      "[188]\tvalidation_0-auc:0.63920\r\n",
      "[189]\tvalidation_0-auc:0.63940\r\n",
      "[190]\tvalidation_0-auc:0.63936\r\n",
      "[191]\tvalidation_0-auc:0.63949\r\n",
      "[192]\tvalidation_0-auc:0.63945\r\n",
      "[193]\tvalidation_0-auc:0.63923\r\n",
      "[194]\tvalidation_0-auc:0.63921\r\n",
      "[195]\tvalidation_0-auc:0.63937\r\n",
      "[196]\tvalidation_0-auc:0.63912\r\n",
      "[197]\tvalidation_0-auc:0.63928\r\n",
      "[198]\tvalidation_0-auc:0.63935\r\n",
      "[199]\tvalidation_0-auc:0.63934\r\n",
      "[200]\tvalidation_0-auc:0.63915\r\n",
      "[201]\tvalidation_0-auc:0.63995\r\n",
      "[202]\tvalidation_0-auc:0.63995\r\n",
      "[203]\tvalidation_0-auc:0.63972\r\n",
      "[204]\tvalidation_0-auc:0.63988\r\n",
      "[205]\tvalidation_0-auc:0.63992\r\n",
      "[206]\tvalidation_0-auc:0.64028\r\n",
      "[207]\tvalidation_0-auc:0.64040\r\n",
      "[208]\tvalidation_0-auc:0.64052\r\n",
      "[209]\tvalidation_0-auc:0.64053\r\n",
      "[210]\tvalidation_0-auc:0.64060\r\n",
      "[211]\tvalidation_0-auc:0.64064\r\n",
      "[212]\tvalidation_0-auc:0.64087\r\n",
      "[213]\tvalidation_0-auc:0.64049\r\n",
      "[214]\tvalidation_0-auc:0.64052\r\n",
      "[215]\tvalidation_0-auc:0.64060\r\n",
      "[216]\tvalidation_0-auc:0.64008\r\n",
      "[217]\tvalidation_0-auc:0.64015\r\n",
      "[218]\tvalidation_0-auc:0.64040\r\n",
      "[219]\tvalidation_0-auc:0.64047\r\n",
      "[220]\tvalidation_0-auc:0.64066\r\n",
      "[221]\tvalidation_0-auc:0.64062\r\n",
      "[222]\tvalidation_0-auc:0.64068\r\n",
      "[223]\tvalidation_0-auc:0.64085\r\n",
      "[224]\tvalidation_0-auc:0.64093\r\n",
      "[225]\tvalidation_0-auc:0.64082\r\n",
      "[226]\tvalidation_0-auc:0.64083\r\n",
      "[227]\tvalidation_0-auc:0.64094\r\n",
      "[228]\tvalidation_0-auc:0.64071\r\n",
      "[229]\tvalidation_0-auc:0.64086\r\n",
      "[230]\tvalidation_0-auc:0.64126\r\n",
      "[231]\tvalidation_0-auc:0.64149\r\n",
      "[232]\tvalidation_0-auc:0.64149\r\n",
      "[233]\tvalidation_0-auc:0.64140\r\n",
      "Default metric period is 5 because AUC is/are not implemented for GPU\r\n",
      "0:\ttest: 0.6499358\tbest: 0.6499358 (0)\ttotal: 13.3s\tremaining: 4h 25m 16s\r\n",
      "1:\ttotal: 13.7s\tremaining: 2h 17m 10s\r\n",
      "2:\ttotal: 13.8s\tremaining: 1h 31m 44s\r\n",
      "3:\ttotal: 14.2s\tremaining: 1h 10m 52s\r\n",
      "4:\ttotal: 14.7s\tremaining: 58m 27s\r\n",
      "5:\ttest: 0.6963289\tbest: 0.6963289 (5)\ttotal: 15.1s\tremaining: 50m 8s\r\n",
      "6:\ttotal: 15.6s\tremaining: 44m 12s\r\n",
      "7:\ttotal: 16s\tremaining: 39m 41s\r\n",
      "8:\ttotal: 16.4s\tremaining: 36m 11s\r\n",
      "9:\ttotal: 16.5s\tremaining: 32m 42s\r\n",
      "10:\ttest: 0.7061742\tbest: 0.7061742 (10)\ttotal: 16.9s\tremaining: 30m 31s\r\n",
      "11:\ttotal: 17.4s\tremaining: 28m 42s\r\n",
      "12:\ttotal: 17.8s\tremaining: 27m 3s\r\n",
      "13:\ttotal: 18.2s\tremaining: 25m 41s\r\n",
      "14:\ttotal: 18.6s\tremaining: 24m 30s\r\n",
      "15:\ttest: 0.7136814\tbest: 0.7136814 (15)\ttotal: 19s\tremaining: 23m 25s\r\n",
      "16:\ttotal: 19.4s\tremaining: 22m 32s\r\n",
      "17:\ttotal: 19.9s\tremaining: 21m 46s\r\n",
      "18:\ttotal: 20.3s\tremaining: 21m 4s\r\n",
      "19:\ttotal: 20.8s\tremaining: 20m 26s\r\n",
      "20:\ttest: 0.7197005\tbest: 0.7197005 (20)\ttotal: 21.2s\tremaining: 19m 52s\r\n",
      "21:\ttotal: 21.7s\tremaining: 19m 19s\r\n",
      "22:\ttotal: 22.1s\tremaining: 18m 51s\r\n",
      "23:\ttotal: 22.6s\tremaining: 18m 25s\r\n",
      "24:\ttotal: 23s\tremaining: 18m 2s\r\n",
      "25:\ttest: 0.7244724\tbest: 0.7244724 (25)\ttotal: 23.4s\tremaining: 17m 38s\r\n",
      "26:\ttotal: 23.9s\tremaining: 17m 17s\r\n",
      "27:\ttotal: 24.3s\tremaining: 16m 58s\r\n",
      "28:\ttotal: 24.8s\tremaining: 16m 40s\r\n",
      "29:\ttotal: 25.2s\tremaining: 16m 23s\r\n",
      "30:\ttest: 0.7283099\tbest: 0.7283099 (30)\ttotal: 25.7s\tremaining: 16m 7s\r\n",
      "31:\ttotal: 26.1s\tremaining: 15m 53s\r\n",
      "32:\ttotal: 26.6s\tremaining: 15m 40s\r\n",
      "33:\ttotal: 27s\tremaining: 15m 26s\r\n",
      "34:\ttotal: 27.4s\tremaining: 15m 12s\r\n",
      "35:\ttest: 0.7309636\tbest: 0.7309636 (35)\ttotal: 27.9s\tremaining: 15m\r\n",
      "36:\ttotal: 28.3s\tremaining: 14m 48s\r\n",
      "37:\ttotal: 28.7s\tremaining: 14m 37s\r\n",
      "38:\ttotal: 29.2s\tremaining: 14m 27s\r\n",
      "39:\ttotal: 29.6s\tremaining: 14m 19s\r\n",
      "40:\ttest: 0.7341509\tbest: 0.7341509 (40)\ttotal: 30.1s\tremaining: 14m 10s\r\n",
      "41:\ttotal: 30.5s\tremaining: 14m 2s\r\n",
      "42:\ttotal: 31s\tremaining: 13m 54s\r\n",
      "43:\ttotal: 31.5s\tremaining: 13m 46s\r\n",
      "44:\ttotal: 31.9s\tremaining: 13m 39s\r\n",
      "45:\ttest: 0.7356779\tbest: 0.7356779 (45)\ttotal: 32.4s\tremaining: 13m 32s\r\n",
      "46:\ttotal: 32.8s\tremaining: 13m 25s\r\n",
      "47:\ttotal: 33.2s\tremaining: 13m 18s\r\n",
      "48:\ttotal: 33.7s\tremaining: 13m 11s\r\n",
      "49:\ttotal: 34.2s\tremaining: 13m 5s\r\n",
      "50:\ttest: 0.7376795\tbest: 0.7376795 (50)\ttotal: 34.6s\tremaining: 12m 59s\r\n",
      "51:\ttotal: 35.1s\tremaining: 12m 53s\r\n",
      "52:\ttotal: 35.5s\tremaining: 12m 47s\r\n",
      "53:\ttotal: 35.9s\tremaining: 12m 42s\r\n",
      "54:\ttotal: 36.4s\tremaining: 12m 37s\r\n",
      "55:\ttest: 0.7395994\tbest: 0.7395994 (55)\ttotal: 36.8s\tremaining: 12m 32s\r\n",
      "56:\ttotal: 37.3s\tremaining: 12m 27s\r\n",
      "57:\ttotal: 37.7s\tremaining: 12m 22s\r\n",
      "58:\ttotal: 38.2s\tremaining: 12m 18s\r\n",
      "59:\ttotal: 38.6s\tremaining: 12m 14s\r\n",
      "60:\ttest: 0.7409217\tbest: 0.7409217 (60)\ttotal: 39.1s\tremaining: 12m 9s\r\n",
      "61:\ttotal: 39.5s\tremaining: 12m 5s\r\n",
      "62:\ttotal: 40s\tremaining: 12m 1s\r\n",
      "63:\ttotal: 40.4s\tremaining: 11m 57s\r\n",
      "64:\ttotal: 40.9s\tremaining: 11m 53s\r\n",
      "65:\ttest: 0.7421020\tbest: 0.7421020 (65)\ttotal: 41.3s\tremaining: 11m 49s\r\n",
      "66:\ttotal: 41.7s\tremaining: 11m 45s\r\n",
      "67:\ttotal: 42.2s\tremaining: 11m 41s\r\n",
      "68:\ttotal: 42.6s\tremaining: 11m 38s\r\n",
      "69:\ttotal: 43s\tremaining: 11m 34s\r\n",
      "70:\ttest: 0.7430973\tbest: 0.7430973 (70)\ttotal: 43.5s\tremaining: 11m 31s\r\n",
      "71:\ttotal: 43.9s\tremaining: 11m 28s\r\n",
      "72:\ttotal: 44.4s\tremaining: 11m 24s\r\n",
      "73:\ttotal: 44.8s\tremaining: 11m 21s\r\n",
      "74:\ttotal: 45.2s\tremaining: 11m 18s\r\n",
      "75:\ttest: 0.7438197\tbest: 0.7438197 (75)\ttotal: 45.7s\tremaining: 11m 15s\r\n",
      "76:\ttotal: 46.2s\tremaining: 11m 13s\r\n",
      "77:\ttotal: 46.6s\tremaining: 11m 10s\r\n",
      "78:\ttotal: 47.1s\tremaining: 11m 8s\r\n",
      "79:\ttotal: 47.5s\tremaining: 11m 5s\r\n",
      "80:\ttest: 0.7441286\tbest: 0.7441370 (79)\ttotal: 47.9s\tremaining: 11m 2s\r\n",
      "81:\ttotal: 48.4s\tremaining: 10m 59s\r\n",
      "82:\ttotal: 48.8s\tremaining: 10m 57s\r\n",
      "83:\ttotal: 49.3s\tremaining: 10m 55s\r\n",
      "84:\ttotal: 49.7s\tremaining: 10m 52s\r\n",
      "85:\ttest: 0.7447013\tbest: 0.7447070 (84)\ttotal: 50.2s\tremaining: 10m 49s\r\n",
      "86:\ttotal: 50.6s\tremaining: 10m 46s\r\n",
      "87:\ttotal: 51s\tremaining: 10m 44s\r\n",
      "88:\ttotal: 51.4s\tremaining: 10m 42s\r\n",
      "89:\ttotal: 51.9s\tremaining: 10m 40s\r\n",
      "90:\ttest: 0.7451922\tbest: 0.7451922 (90)\ttotal: 52.3s\tremaining: 10m 37s\r\n",
      "91:\ttotal: 52.8s\tremaining: 10m 35s\r\n",
      "92:\ttotal: 53.2s\tremaining: 10m 33s\r\n",
      "93:\ttotal: 53.6s\tremaining: 10m 30s\r\n",
      "94:\ttotal: 54s\tremaining: 10m 27s\r\n",
      "95:\ttest: 0.7455711\tbest: 0.7455711 (95)\ttotal: 54.4s\tremaining: 10m 25s\r\n",
      "96:\ttotal: 54.8s\tremaining: 10m 23s\r\n",
      "97:\ttotal: 55.3s\tremaining: 10m 21s\r\n",
      "98:\ttotal: 55.7s\tremaining: 10m 19s\r\n",
      "99:\ttotal: 56.2s\tremaining: 10m 17s\r\n",
      "100:\ttest: 0.7461141\tbest: 0.7461141 (100)\ttotal: 56.6s\tremaining: 10m 15s\r\n",
      "101:\ttotal: 57s\tremaining: 10m 14s\r\n",
      "102:\ttotal: 57.5s\tremaining: 10m 12s\r\n",
      "103:\ttotal: 57.9s\tremaining: 10m 10s\r\n",
      "104:\ttotal: 58.4s\tremaining: 10m 8s\r\n",
      "105:\ttest: 0.7465164\tbest: 0.7465164 (105)\ttotal: 58.8s\tremaining: 10m 7s\r\n",
      "106:\ttotal: 59.3s\tremaining: 10m 5s\r\n",
      "107:\ttotal: 59.7s\tremaining: 10m 3s\r\n",
      "108:\ttotal: 1m\tremaining: 10m 2s\r\n",
      "109:\ttotal: 1m\tremaining: 10m\r\n",
      "110:\ttest: 0.7466070\tbest: 0.7467327 (109)\ttotal: 1m 1s\tremaining: 9m 58s\r\n",
      "111:\ttotal: 1m 1s\tremaining: 9m 57s\r\n",
      "112:\ttotal: 1m 1s\tremaining: 9m 56s\r\n",
      "113:\ttotal: 1m 2s\tremaining: 9m 54s\r\n",
      "114:\ttotal: 1m 2s\tremaining: 9m 53s\r\n",
      "115:\ttest: 0.7471703\tbest: 0.7471911 (114)\ttotal: 1m 3s\tremaining: 9m 51s\r\n",
      "116:\ttotal: 1m 3s\tremaining: 9m 50s\r\n",
      "117:\ttotal: 1m 4s\tremaining: 9m 48s\r\n",
      "118:\ttotal: 1m 4s\tremaining: 9m 47s\r\n",
      "119:\ttotal: 1m 5s\tremaining: 9m 45s\r\n",
      "120:\ttest: 0.7475086\tbest: 0.7475086 (120)\ttotal: 1m 5s\tremaining: 9m 44s\r\n",
      "121:\ttotal: 1m 5s\tremaining: 9m 43s\r\n",
      "122:\ttotal: 1m 6s\tremaining: 9m 41s\r\n",
      "123:\ttotal: 1m 6s\tremaining: 9m 39s\r\n",
      "124:\ttotal: 1m 7s\tremaining: 9m 38s\r\n",
      "125:\ttest: 0.7481852\tbest: 0.7481852 (125)\ttotal: 1m 7s\tremaining: 9m 36s\r\n",
      "126:\ttotal: 1m 8s\tremaining: 9m 35s\r\n",
      "127:\ttotal: 1m 8s\tremaining: 9m 34s\r\n",
      "128:\ttotal: 1m 9s\tremaining: 9m 32s\r\n",
      "129:\ttotal: 1m 9s\tremaining: 9m 31s\r\n",
      "130:\ttest: 0.7485956\tbest: 0.7485956 (130)\ttotal: 1m 9s\tremaining: 9m 30s\r\n",
      "131:\ttotal: 1m 10s\tremaining: 9m 29s\r\n",
      "132:\ttotal: 1m 10s\tremaining: 9m 27s\r\n",
      "133:\ttotal: 1m 11s\tremaining: 9m 26s\r\n",
      "134:\ttotal: 1m 11s\tremaining: 9m 25s\r\n",
      "135:\ttest: 0.7489932\tbest: 0.7490129 (133)\ttotal: 1m 12s\tremaining: 9m 24s\r\n",
      "136:\ttotal: 1m 12s\tremaining: 9m 23s\r\n",
      "137:\ttotal: 1m 13s\tremaining: 9m 21s\r\n",
      "138:\ttotal: 1m 13s\tremaining: 9m 20s\r\n",
      "139:\ttotal: 1m 13s\tremaining: 9m 19s\r\n",
      "140:\ttest: 0.7492809\tbest: 0.7492830 (139)\ttotal: 1m 14s\tremaining: 9m 18s\r\n",
      "141:\ttotal: 1m 14s\tremaining: 9m 17s\r\n",
      "142:\ttotal: 1m 15s\tremaining: 9m 15s\r\n",
      "143:\ttotal: 1m 15s\tremaining: 9m 14s\r\n",
      "144:\ttotal: 1m 16s\tremaining: 9m 13s\r\n",
      "145:\ttest: 0.7495209\tbest: 0.7495864 (143)\ttotal: 1m 16s\tremaining: 9m 12s\r\n",
      "146:\ttotal: 1m 17s\tremaining: 9m 11s\r\n",
      "147:\ttotal: 1m 17s\tremaining: 9m 10s\r\n",
      "148:\ttotal: 1m 17s\tremaining: 9m 9s\r\n",
      "149:\ttotal: 1m 18s\tremaining: 9m 8s\r\n",
      "150:\ttest: 0.7496694\tbest: 0.7497054 (149)\ttotal: 1m 18s\tremaining: 9m 7s\r\n",
      "151:\ttotal: 1m 19s\tremaining: 9m 6s\r\n",
      "152:\ttotal: 1m 19s\tremaining: 9m 5s\r\n",
      "153:\ttotal: 1m 20s\tremaining: 9m 4s\r\n",
      "154:\ttotal: 1m 20s\tremaining: 9m 2s\r\n",
      "155:\ttest: 0.7500518\tbest: 0.7500587 (154)\ttotal: 1m 20s\tremaining: 9m 1s\r\n",
      "156:\ttotal: 1m 21s\tremaining: 9m\r\n",
      "157:\ttotal: 1m 21s\tremaining: 8m 59s\r\n",
      "158:\ttotal: 1m 22s\tremaining: 8m 59s\r\n",
      "159:\ttotal: 1m 22s\tremaining: 8m 57s\r\n",
      "160:\ttest: 0.7503434\tbest: 0.7503434 (160)\ttotal: 1m 23s\tremaining: 8m 57s\r\n",
      "161:\ttotal: 1m 23s\tremaining: 8m 55s\r\n",
      "162:\ttotal: 1m 24s\tremaining: 8m 55s\r\n",
      "163:\ttotal: 1m 24s\tremaining: 8m 53s\r\n",
      "164:\ttotal: 1m 24s\tremaining: 8m 53s\r\n",
      "165:\ttest: 0.7504769\tbest: 0.7504911 (164)\ttotal: 1m 25s\tremaining: 8m 52s\r\n",
      "166:\ttotal: 1m 25s\tremaining: 8m 51s\r\n",
      "167:\ttotal: 1m 26s\tremaining: 8m 50s\r\n",
      "168:\ttotal: 1m 26s\tremaining: 8m 49s\r\n",
      "169:\ttotal: 1m 27s\tremaining: 8m 48s\r\n",
      "170:\ttest: 0.7507759\tbest: 0.7507759 (170)\ttotal: 1m 27s\tremaining: 8m 47s\r\n",
      "171:\ttotal: 1m 28s\tremaining: 8m 46s\r\n",
      "172:\ttotal: 1m 28s\tremaining: 8m 46s\r\n",
      "173:\ttotal: 1m 29s\tremaining: 8m 45s\r\n",
      "174:\ttotal: 1m 29s\tremaining: 8m 44s\r\n",
      "175:\ttest: 0.7507318\tbest: 0.7507759 (170)\ttotal: 1m 29s\tremaining: 8m 43s\r\n",
      "176:\ttotal: 1m 30s\tremaining: 8m 42s\r\n",
      "177:\ttotal: 1m 30s\tremaining: 8m 41s\r\n",
      "178:\ttotal: 1m 31s\tremaining: 8m 40s\r\n",
      "179:\ttotal: 1m 31s\tremaining: 8m 39s\r\n",
      "180:\ttest: 0.7508363\tbest: 0.7508363 (180)\ttotal: 1m 32s\tremaining: 8m 39s\r\n",
      "181:\ttotal: 1m 32s\tremaining: 8m 38s\r\n",
      "182:\ttotal: 1m 33s\tremaining: 8m 37s\r\n",
      "183:\ttotal: 1m 33s\tremaining: 8m 36s\r\n",
      "184:\ttotal: 1m 34s\tremaining: 8m 35s\r\n",
      "185:\ttest: 0.7509413\tbest: 0.7509631 (183)\ttotal: 1m 34s\tremaining: 8m 34s\r\n",
      "186:\ttotal: 1m 34s\tremaining: 8m 34s\r\n",
      "187:\ttotal: 1m 35s\tremaining: 8m 33s\r\n",
      "188:\ttotal: 1m 35s\tremaining: 8m 32s\r\n",
      "189:\ttotal: 1m 36s\tremaining: 8m 31s\r\n",
      "190:\ttest: 0.7510522\tbest: 0.7510522 (190)\ttotal: 1m 36s\tremaining: 8m 31s\r\n",
      "191:\ttotal: 1m 37s\tremaining: 8m 30s\r\n",
      "192:\ttotal: 1m 37s\tremaining: 8m 29s\r\n",
      "193:\ttotal: 1m 38s\tremaining: 8m 28s\r\n",
      "194:\ttotal: 1m 38s\tremaining: 8m 27s\r\n",
      "195:\ttest: 0.7512439\tbest: 0.7512439 (195)\ttotal: 1m 39s\tremaining: 8m 27s\r\n",
      "196:\ttotal: 1m 39s\tremaining: 8m 26s\r\n",
      "197:\ttotal: 1m 39s\tremaining: 8m 25s\r\n",
      "198:\ttotal: 1m 40s\tremaining: 8m 24s\r\n",
      "199:\ttotal: 1m 40s\tremaining: 8m 23s\r\n",
      "200:\ttest: 0.7514380\tbest: 0.7514380 (200)\ttotal: 1m 41s\tremaining: 8m 22s\r\n",
      "201:\ttotal: 1m 41s\tremaining: 8m 22s\r\n",
      "202:\ttotal: 1m 42s\tremaining: 8m 21s\r\n",
      "203:\ttotal: 1m 42s\tremaining: 8m 20s\r\n",
      "204:\ttotal: 1m 43s\tremaining: 8m 20s\r\n",
      "205:\ttest: 0.7514525\tbest: 0.7514745 (202)\ttotal: 1m 43s\tremaining: 8m 19s\r\n",
      "206:\ttotal: 1m 43s\tremaining: 8m 18s\r\n",
      "207:\ttotal: 1m 44s\tremaining: 8m 17s\r\n",
      "208:\ttotal: 1m 44s\tremaining: 8m 16s\r\n",
      "209:\ttotal: 1m 45s\tremaining: 8m 16s\r\n",
      "210:\ttest: 0.7515754\tbest: 0.7516109 (208)\ttotal: 1m 45s\tremaining: 8m 15s\r\n",
      "211:\ttotal: 1m 46s\tremaining: 8m 14s\r\n",
      "212:\ttotal: 1m 46s\tremaining: 8m 14s\r\n",
      "213:\ttotal: 1m 47s\tremaining: 8m 13s\r\n",
      "214:\ttotal: 1m 47s\tremaining: 8m 12s\r\n",
      "215:\ttest: 0.7515804\tbest: 0.7516817 (212)\ttotal: 1m 47s\tremaining: 8m 11s\r\n",
      "216:\ttotal: 1m 48s\tremaining: 8m 11s\r\n",
      "217:\ttotal: 1m 48s\tremaining: 8m 10s\r\n",
      "218:\ttotal: 1m 49s\tremaining: 8m 9s\r\n",
      "219:\ttotal: 1m 49s\tremaining: 8m 8s\r\n",
      "220:\ttest: 0.7517256\tbest: 0.7517256 (220)\ttotal: 1m 50s\tremaining: 8m 7s\r\n",
      "221:\ttotal: 1m 50s\tremaining: 8m 7s\r\n",
      "222:\ttotal: 1m 51s\tremaining: 8m 6s\r\n",
      "223:\ttotal: 1m 51s\tremaining: 8m 5s\r\n",
      "224:\ttotal: 1m 51s\tremaining: 8m 5s\r\n",
      "225:\ttest: 0.7516609\tbest: 0.7517256 (220)\ttotal: 1m 52s\tremaining: 8m 4s\r\n",
      "226:\ttotal: 1m 52s\tremaining: 8m 3s\r\n",
      "227:\ttotal: 1m 53s\tremaining: 8m 3s\r\n",
      "228:\ttotal: 1m 53s\tremaining: 8m 2s\r\n",
      "229:\ttotal: 1m 54s\tremaining: 8m 1s\r\n",
      "230:\ttest: 0.7518276\tbest: 0.7518276 (230)\ttotal: 1m 54s\tremaining: 8m 1s\r\n",
      "231:\ttotal: 1m 55s\tremaining: 8m\r\n",
      "232:\ttotal: 1m 55s\tremaining: 7m 59s\r\n",
      "233:\ttotal: 1m 56s\tremaining: 7m 59s\r\n",
      "234:\ttotal: 1m 56s\tremaining: 7m 58s\r\n",
      "235:\ttest: 0.7518426\tbest: 0.7518449 (231)\ttotal: 1m 56s\tremaining: 7m 57s\r\n",
      "236:\ttotal: 1m 57s\tremaining: 7m 56s\r\n",
      "237:\ttotal: 1m 57s\tremaining: 7m 56s\r\n",
      "238:\ttotal: 1m 58s\tremaining: 7m 55s\r\n",
      "239:\ttotal: 1m 58s\tremaining: 7m 54s\r\n",
      "240:\ttest: 0.7520142\tbest: 0.7520142 (240)\ttotal: 1m 59s\tremaining: 7m 53s\r\n",
      "241:\ttotal: 1m 59s\tremaining: 7m 53s\r\n",
      "242:\ttotal: 2m\tremaining: 7m 52s\r\n",
      "243:\ttotal: 2m\tremaining: 7m 52s\r\n",
      "244:\ttotal: 2m\tremaining: 7m 51s\r\n",
      "245:\ttest: 0.7519890\tbest: 0.7520142 (240)\ttotal: 2m 1s\tremaining: 7m 50s\r\n",
      "246:\ttotal: 2m 1s\tremaining: 7m 49s\r\n",
      "247:\ttotal: 2m 2s\tremaining: 7m 49s\r\n",
      "248:\ttotal: 2m 2s\tremaining: 7m 48s\r\n",
      "249:\ttotal: 2m 3s\tremaining: 7m 47s\r\n",
      "250:\ttest: 0.7519622\tbest: 0.7520214 (246)\ttotal: 2m 3s\tremaining: 7m 47s\r\n",
      "251:\ttotal: 2m 3s\tremaining: 7m 46s\r\n",
      "252:\ttotal: 2m 4s\tremaining: 7m 45s\r\n",
      "253:\ttotal: 2m 4s\tremaining: 7m 44s\r\n",
      "254:\ttotal: 2m 5s\tremaining: 7m 44s\r\n",
      "255:\ttest: 0.7517273\tbest: 0.7520214 (246)\ttotal: 2m 5s\tremaining: 7m 43s\r\n",
      "256:\ttotal: 2m 6s\tremaining: 7m 42s\r\n",
      "257:\ttotal: 2m 6s\tremaining: 7m 42s\r\n",
      "258:\ttotal: 2m 7s\tremaining: 7m 41s\r\n",
      "259:\ttotal: 2m 7s\tremaining: 7m 41s\r\n",
      "260:\ttest: 0.7517466\tbest: 0.7520214 (246)\ttotal: 2m 7s\tremaining: 7m 40s\r\n",
      "261:\ttotal: 2m 8s\tremaining: 7m 39s\r\n",
      "262:\ttotal: 2m 8s\tremaining: 7m 39s\r\n",
      "263:\ttotal: 2m 9s\tremaining: 7m 38s\r\n",
      "264:\ttotal: 2m 9s\tremaining: 7m 37s\r\n",
      "265:\ttest: 0.7520222\tbest: 0.7520222 (265)\ttotal: 2m 10s\tremaining: 7m 37s\r\n",
      "266:\ttotal: 2m 10s\tremaining: 7m 36s\r\n",
      "267:\ttotal: 2m 11s\tremaining: 7m 35s\r\n",
      "268:\ttotal: 2m 11s\tremaining: 7m 35s\r\n",
      "269:\ttotal: 2m 11s\tremaining: 7m 34s\r\n",
      "270:\ttest: 0.7521138\tbest: 0.7521767 (268)\ttotal: 2m 12s\tremaining: 7m 33s\r\n",
      "271:\ttotal: 2m 12s\tremaining: 7m 33s\r\n",
      "272:\ttotal: 2m 13s\tremaining: 7m 32s\r\n",
      "273:\ttotal: 2m 13s\tremaining: 7m 32s\r\n",
      "274:\ttotal: 2m 14s\tremaining: 7m 31s\r\n",
      "275:\ttest: 0.7521557\tbest: 0.7521767 (268)\ttotal: 2m 14s\tremaining: 7m 30s\r\n",
      "276:\ttotal: 2m 15s\tremaining: 7m 30s\r\n",
      "277:\ttotal: 2m 15s\tremaining: 7m 29s\r\n",
      "278:\ttotal: 2m 15s\tremaining: 7m 28s\r\n",
      "279:\ttotal: 2m 16s\tremaining: 7m 28s\r\n",
      "280:\ttest: 0.7522810\tbest: 0.7522912 (278)\ttotal: 2m 16s\tremaining: 7m 27s\r\n",
      "281:\ttotal: 2m 17s\tremaining: 7m 27s\r\n",
      "282:\ttotal: 2m 17s\tremaining: 7m 26s\r\n",
      "283:\ttotal: 2m 18s\tremaining: 7m 25s\r\n",
      "284:\ttotal: 2m 18s\tremaining: 7m 25s\r\n",
      "285:\ttest: 0.7523733\tbest: 0.7523733 (285)\ttotal: 2m 19s\tremaining: 7m 24s\r\n",
      "286:\ttotal: 2m 19s\tremaining: 7m 24s\r\n",
      "287:\ttotal: 2m 20s\tremaining: 7m 23s\r\n",
      "288:\ttotal: 2m 20s\tremaining: 7m 22s\r\n",
      "289:\ttotal: 2m 20s\tremaining: 7m 22s\r\n",
      "290:\ttest: 0.7525156\tbest: 0.7525156 (290)\ttotal: 2m 21s\tremaining: 7m 21s\r\n",
      "291:\ttotal: 2m 21s\tremaining: 7m 21s\r\n",
      "292:\ttotal: 2m 22s\tremaining: 7m 20s\r\n",
      "293:\ttotal: 2m 22s\tremaining: 7m 19s\r\n",
      "294:\ttotal: 2m 23s\tremaining: 7m 19s\r\n",
      "295:\ttest: 0.7524487\tbest: 0.7525156 (290)\ttotal: 2m 23s\tremaining: 7m 18s\r\n",
      "296:\ttotal: 2m 24s\tremaining: 7m 18s\r\n",
      "297:\ttotal: 2m 24s\tremaining: 7m 17s\r\n",
      "298:\ttotal: 2m 25s\tremaining: 7m 17s\r\n",
      "299:\ttotal: 2m 25s\tremaining: 7m 16s\r\n",
      "300:\ttest: 0.7524500\tbest: 0.7525264 (299)\ttotal: 2m 26s\tremaining: 7m 16s\r\n",
      "301:\ttotal: 2m 26s\tremaining: 7m 15s\r\n",
      "302:\ttotal: 2m 26s\tremaining: 7m 14s\r\n",
      "303:\ttotal: 2m 27s\tremaining: 7m 14s\r\n",
      "304:\ttotal: 2m 27s\tremaining: 7m 13s\r\n",
      "305:\ttest: 0.7524136\tbest: 0.7525264 (299)\ttotal: 2m 28s\tremaining: 7m 13s\r\n",
      "306:\ttotal: 2m 28s\tremaining: 7m 12s\r\n",
      "307:\ttotal: 2m 29s\tremaining: 7m 11s\r\n",
      "308:\ttotal: 2m 29s\tremaining: 7m 11s\r\n",
      "309:\ttotal: 2m 30s\tremaining: 7m 10s\r\n",
      "310:\ttest: 0.7522840\tbest: 0.7525264 (299)\ttotal: 2m 30s\tremaining: 7m 10s\r\n",
      "311:\ttotal: 2m 30s\tremaining: 7m 9s\r\n",
      "312:\ttotal: 2m 31s\tremaining: 7m 8s\r\n",
      "313:\ttotal: 2m 31s\tremaining: 7m 8s\r\n",
      "314:\ttotal: 2m 32s\tremaining: 7m 7s\r\n",
      "315:\ttest: 0.7524405\tbest: 0.7525264 (299)\ttotal: 2m 32s\tremaining: 7m 7s\r\n",
      "316:\ttotal: 2m 33s\tremaining: 7m 6s\r\n",
      "317:\ttotal: 2m 33s\tremaining: 7m 6s\r\n",
      "318:\ttotal: 2m 34s\tremaining: 7m 5s\r\n",
      "319:\ttotal: 2m 34s\tremaining: 7m 4s\r\n",
      "320:\ttest: 0.7522676\tbest: 0.7525264 (299)\ttotal: 2m 34s\tremaining: 7m 4s\r\n",
      "321:\ttotal: 2m 35s\tremaining: 7m 3s\r\n",
      "322:\ttotal: 2m 35s\tremaining: 7m 3s\r\n",
      "323:\ttotal: 2m 36s\tremaining: 7m 2s\r\n",
      "324:\ttotal: 2m 36s\tremaining: 7m 1s\r\n",
      "325:\ttest: 0.7523465\tbest: 0.7525264 (299)\ttotal: 2m 37s\tremaining: 7m 1s\r\n",
      "326:\ttotal: 2m 37s\tremaining: 7m\r\n",
      "327:\ttotal: 2m 38s\tremaining: 7m\r\n",
      "328:\ttotal: 2m 38s\tremaining: 6m 59s\r\n",
      "329:\ttotal: 2m 38s\tremaining: 6m 59s\r\n",
      "330:\ttest: 0.7523891\tbest: 0.7525264 (299)\ttotal: 2m 39s\tremaining: 6m 58s\r\n",
      "331:\ttotal: 2m 39s\tremaining: 6m 57s\r\n",
      "332:\ttotal: 2m 40s\tremaining: 6m 57s\r\n",
      "333:\ttotal: 2m 40s\tremaining: 6m 56s\r\n",
      "334:\ttotal: 2m 41s\tremaining: 6m 56s\r\n",
      "335:\ttest: 0.7523883\tbest: 0.7525264 (299)\ttotal: 2m 41s\tremaining: 6m 55s\r\n",
      "336:\ttotal: 2m 42s\tremaining: 6m 55s\r\n",
      "337:\ttotal: 2m 42s\tremaining: 6m 54s\r\n",
      "338:\ttotal: 2m 43s\tremaining: 6m 54s\r\n",
      "339:\ttotal: 2m 43s\tremaining: 6m 53s\r\n",
      "340:\ttest: 0.7523871\tbest: 0.7525264 (299)\ttotal: 2m 43s\tremaining: 6m 52s\r\n",
      "341:\ttotal: 2m 44s\tremaining: 6m 52s\r\n",
      "342:\ttotal: 2m 44s\tremaining: 6m 51s\r\n",
      "343:\ttotal: 2m 45s\tremaining: 6m 51s\r\n",
      "344:\ttotal: 2m 45s\tremaining: 6m 50s\r\n",
      "345:\ttest: 0.7522598\tbest: 0.7525264 (299)\ttotal: 2m 46s\tremaining: 6m 50s\r\n",
      "346:\ttotal: 2m 46s\tremaining: 6m 49s\r\n",
      "347:\ttotal: 2m 47s\tremaining: 6m 49s\r\n",
      "348:\ttotal: 2m 47s\tremaining: 6m 48s\r\n",
      "349:\ttotal: 2m 48s\tremaining: 6m 48s\r\n",
      "bestTest = 0.7525264323\r\n",
      "bestIteration = 299\r\n",
      "Shrink model to first 300 iterations.\r\n",
      "/opt/conda/lib/python3.10/site-packages/xgboost/core.py:160: UserWarning: [09:17:58] WARNING: /workspace/src/common/error_msg.cc:58: Falling back to prediction using DMatrix due to mismatched devices. This might lead to higher memory usage and slower performance. XGBoost is running on: cuda:0, while the input data is on: cpu.\r\n",
      "Potential solutions:\r\n",
      "- Use a data structure that matches the device ordinal in the booster.\r\n",
      "- Set the device for booster before call to inplace_predict.\r\n",
      "\r\n",
      "This warning will only be shown once.\r\n",
      "\r\n",
      "  warnings.warn(smsg, UserWarning)\r\n"
     ]
    },
    {
     "data": {
      "text/plain": [
       "0"
      ]
     },
     "execution_count": 2,
     "metadata": {},
     "output_type": "execute_result"
    }
   ],
   "source": [
    "!cp /kaggle/usr/lib/lgb-xgb-cat-ensemble-baseline/lgb_xgb_cat_ensemble_baseline.py lgb_xgb_cat_ensemble_baseline.py\n",
    "!python lgb_xgb_cat_ensemble_baseline.py\n",
    "!mv submission.csv submission_1.csv\n",
    "gc.collect()"
   ]
  },
  {
   "cell_type": "markdown",
   "id": "2772d5fd",
   "metadata": {
    "papermill": {
     "duration": 0.078691,
     "end_time": "2024-02-15T09:18:00.830911",
     "exception": false,
     "start_time": "2024-02-15T09:18:00.752220",
     "status": "completed"
    },
    "tags": []
   },
   "source": [
    "# Submission 2\n",
    "\n",
    "From: https://www.kaggle.com/code/greysky/home-credit-baseline"
   ]
  },
  {
   "cell_type": "code",
   "execution_count": 3,
   "id": "39c95fe9",
   "metadata": {
    "execution": {
     "iopub.execute_input": "2024-02-15T09:18:00.987345Z",
     "iopub.status.busy": "2024-02-15T09:18:00.987006Z",
     "iopub.status.idle": "2024-02-15T09:37:46.415369Z",
     "shell.execute_reply": "2024-02-15T09:37:46.414267Z"
    },
    "papermill": {
     "duration": 1185.510642,
     "end_time": "2024-02-15T09:37:46.417782",
     "exception": false,
     "start_time": "2024-02-15T09:18:00.907140",
     "status": "completed"
    },
    "tags": []
   },
   "outputs": [
    {
     "name": "stdout",
     "output_type": "stream",
     "text": [
      "/opt/conda/lib/python3.10/site-packages/dask/dataframe/_pyarrow_compat.py:23: UserWarning: You are using pyarrow version 11.0.0 which is known to be insecure. See https://www.cve.org/CVERecord?id=CVE-2023-47248 for further details. Please upgrade to pyarrow>=14.0.1 or install pyarrow-hotfix to patch your current version.\r\n",
      "  warnings.warn(\r\n",
      "train data shape:\t (1526659, 528)\r\n",
      "test data shape:\t (10, 527)\r\n",
      "train data shape:\t (1526659, 341)\r\n",
      "test data shape:\t (10, 340)\r\n",
      "(1526659, 341)\r\n",
      "(10, 340)\r\n",
      "Train is duplicated:\t False\r\n",
      "Train Week Range:\t (0, 91)\r\n",
      "\r\n",
      "Test is duplicated:\t False\r\n",
      "Test Week Range:\t (92, 92)\r\n",
      "Training until validation scores don't improve for 100 rounds\r\n",
      "[100]\tvalid_0's auc: 0.816141\r\n",
      "[200]\tvalid_0's auc: 0.825145\r\n",
      "[300]\tvalid_0's auc: 0.828531\r\n",
      "[400]\tvalid_0's auc: 0.829406\r\n",
      "[500]\tvalid_0's auc: 0.830166\r\n",
      "[600]\tvalid_0's auc: 0.830461\r\n",
      "[700]\tvalid_0's auc: 0.830727\r\n",
      "[800]\tvalid_0's auc: 0.83105\r\n",
      "[900]\tvalid_0's auc: 0.831309\r\n",
      "[1000]\tvalid_0's auc: 0.831493\r\n",
      "Did not meet early stopping. Best iteration is:\r\n",
      "[977]\tvalid_0's auc: 0.831499\r\n",
      "Training until validation scores don't improve for 100 rounds\r\n",
      "[100]\tvalid_0's auc: 0.8181\r\n",
      "[200]\tvalid_0's auc: 0.826377\r\n",
      "[300]\tvalid_0's auc: 0.829643\r\n",
      "[400]\tvalid_0's auc: 0.830772\r\n",
      "[500]\tvalid_0's auc: 0.831502\r\n",
      "[600]\tvalid_0's auc: 0.831897\r\n",
      "[700]\tvalid_0's auc: 0.832116\r\n",
      "[800]\tvalid_0's auc: 0.83237\r\n",
      "[900]\tvalid_0's auc: 0.832616\r\n",
      "[1000]\tvalid_0's auc: 0.832679\r\n",
      "Did not meet early stopping. Best iteration is:\r\n",
      "[958]\tvalid_0's auc: 0.832717\r\n",
      "Training until validation scores don't improve for 100 rounds\r\n",
      "[100]\tvalid_0's auc: 0.822321\r\n",
      "[200]\tvalid_0's auc: 0.831719\r\n",
      "[300]\tvalid_0's auc: 0.835104\r\n",
      "[400]\tvalid_0's auc: 0.836126\r\n",
      "[500]\tvalid_0's auc: 0.836685\r\n",
      "[600]\tvalid_0's auc: 0.83721\r\n",
      "[700]\tvalid_0's auc: 0.837517\r\n",
      "[800]\tvalid_0's auc: 0.837778\r\n",
      "[900]\tvalid_0's auc: 0.837944\r\n",
      "[1000]\tvalid_0's auc: 0.838147\r\n",
      "Did not meet early stopping. Best iteration is:\r\n",
      "[1000]\tvalid_0's auc: 0.838147\r\n",
      "Training until validation scores don't improve for 100 rounds\r\n",
      "[100]\tvalid_0's auc: 0.824293\r\n",
      "[200]\tvalid_0's auc: 0.833206\r\n",
      "[300]\tvalid_0's auc: 0.836227\r\n",
      "[400]\tvalid_0's auc: 0.837402\r\n",
      "[500]\tvalid_0's auc: 0.837961\r\n",
      "[600]\tvalid_0's auc: 0.83839\r\n",
      "[700]\tvalid_0's auc: 0.838587\r\n",
      "[800]\tvalid_0's auc: 0.838854\r\n",
      "[900]\tvalid_0's auc: 0.839083\r\n",
      "[1000]\tvalid_0's auc: 0.839278\r\n",
      "Did not meet early stopping. Best iteration is:\r\n",
      "[990]\tvalid_0's auc: 0.839306\r\n",
      "Training until validation scores don't improve for 100 rounds\r\n",
      "[100]\tvalid_0's auc: 0.81826\r\n",
      "[200]\tvalid_0's auc: 0.827154\r\n",
      "[300]\tvalid_0's auc: 0.830434\r\n",
      "[400]\tvalid_0's auc: 0.831599\r\n",
      "[500]\tvalid_0's auc: 0.831884\r\n",
      "[600]\tvalid_0's auc: 0.832096\r\n",
      "[700]\tvalid_0's auc: 0.832209\r\n",
      "[800]\tvalid_0's auc: 0.832299\r\n",
      "[900]\tvalid_0's auc: 0.832483\r\n",
      "[1000]\tvalid_0's auc: 0.832475\r\n",
      "Did not meet early stopping. Best iteration is:\r\n",
      "[951]\tvalid_0's auc: 0.832611\r\n",
      "Check null:  False\r\n"
     ]
    },
    {
     "data": {
      "text/plain": [
       "0"
      ]
     },
     "execution_count": 3,
     "metadata": {},
     "output_type": "execute_result"
    }
   ],
   "source": [
    "!cp /kaggle/usr/lib/home_credit_baseline/home_credit_baseline.py home_credit_baseline.py\n",
    "!python home_credit_baseline.py\n",
    "!mv submission.csv submission_2.csv\n",
    "gc.collect()"
   ]
  },
  {
   "cell_type": "markdown",
   "id": "814425c8",
   "metadata": {
    "papermill": {
     "duration": 0.086365,
     "end_time": "2024-02-15T09:37:46.590527",
     "exception": false,
     "start_time": "2024-02-15T09:37:46.504162",
     "status": "completed"
    },
    "tags": []
   },
   "source": [
    "# Submission 3\n",
    "From https://www.kaggle.com/code/andreynesterov/home-credit-baseline-inference"
   ]
  },
  {
   "cell_type": "code",
   "execution_count": 4,
   "id": "1c160957",
   "metadata": {
    "execution": {
     "iopub.execute_input": "2024-02-15T09:37:46.772203Z",
     "iopub.status.busy": "2024-02-15T09:37:46.771822Z",
     "iopub.status.idle": "2024-02-15T09:43:18.332874Z",
     "shell.execute_reply": "2024-02-15T09:43:18.331771Z"
    },
    "papermill": {
     "duration": 331.654377,
     "end_time": "2024-02-15T09:43:18.335247",
     "exception": false,
     "start_time": "2024-02-15T09:37:46.680870",
     "status": "completed"
    },
    "tags": []
   },
   "outputs": [
    {
     "name": "stdout",
     "output_type": "stream",
     "text": [
      "Executing: 100%|██████████████████████████████| 47/47 [05:26<00:00,  6.95s/cell]\r\n"
     ]
    },
    {
     "data": {
      "text/plain": [
       "0"
      ]
     },
     "execution_count": 4,
     "metadata": {},
     "output_type": "execute_result"
    }
   ],
   "source": [
    "import gc\n",
    "!cp '/kaggle/input/hcr-codes/home-credit-baseline-inference (1).ipynb' home-credit-baseline-inference.ipynb\n",
    "!papermill home-credit-baseline-inference.ipynb out-home-credit-baseline-inference.ipynb\n",
    "!mv submission.csv submission_3.csv\n",
    "gc.collect()\n"
   ]
  },
  {
   "cell_type": "markdown",
   "id": "a43baaf3",
   "metadata": {
    "papermill": {
     "duration": 0.09341,
     "end_time": "2024-02-15T09:43:18.522319",
     "exception": false,
     "start_time": "2024-02-15T09:43:18.428909",
     "status": "completed"
    },
    "tags": []
   },
   "source": [
    "# Submission 4"
   ]
  },
  {
   "cell_type": "code",
   "execution_count": 5,
   "id": "56f793f7",
   "metadata": {
    "execution": {
     "iopub.execute_input": "2024-02-15T09:43:18.711924Z",
     "iopub.status.busy": "2024-02-15T09:43:18.710695Z",
     "iopub.status.idle": "2024-02-15T09:47:56.905388Z",
     "shell.execute_reply": "2024-02-15T09:47:56.904200Z"
    },
    "papermill": {
     "duration": 278.293048,
     "end_time": "2024-02-15T09:47:56.907943",
     "exception": false,
     "start_time": "2024-02-15T09:43:18.614895",
     "status": "completed"
    },
    "tags": []
   },
   "outputs": [
    {
     "name": "stdout",
     "output_type": "stream",
     "text": [
      "\u001b[31mERROR: pip's dependency resolver does not currently take into account all the packages that are installed. This behaviour is the source of the following dependency conflicts.\r\n",
      "cudf 23.8.0 requires cubinlinker, which is not installed.\r\n",
      "cudf 23.8.0 requires cupy-cuda11x>=12.0.0, which is not installed.\r\n",
      "cudf 23.8.0 requires ptxcompiler, which is not installed.\r\n",
      "cuml 23.8.0 requires cupy-cuda11x>=12.0.0, which is not installed.\r\n",
      "dask-cudf 23.8.0 requires cupy-cuda11x>=12.0.0, which is not installed.\r\n",
      "aiobotocore 2.11.0 requires botocore<1.34.23,>=1.33.2, but you have botocore 1.34.38 which is incompatible.\r\n",
      "apache-beam 2.46.0 requires dill<0.3.2,>=0.3.1.1, but you have dill 0.3.7 which is incompatible.\r\n",
      "apache-beam 2.46.0 requires pyarrow<10.0.0,>=3.0.0, but you have pyarrow 11.0.0 which is incompatible.\r\n",
      "beatrix-jupyterlab 2023.128.151533 requires jupyterlab~=3.6.0, but you have jupyterlab 4.0.11 which is incompatible.\r\n",
      "cudf 23.8.0 requires cuda-python<12.0a0,>=11.7.1, but you have cuda-python 12.3.0 which is incompatible.\r\n",
      "cudf 23.8.0 requires pandas<1.6.0dev0,>=1.3, but you have pandas 2.1.4 which is incompatible.\r\n",
      "cudf 23.8.0 requires protobuf<5,>=4.21, but you have protobuf 3.20.3 which is incompatible.\r\n",
      "cuml 23.8.0 requires dask==2023.7.1, but you have dask 2024.1.0 which is incompatible.\r\n",
      "cuml 23.8.0 requires distributed==2023.7.1, but you have distributed 2024.1.0 which is incompatible.\r\n",
      "dask-cuda 23.8.0 requires dask==2023.7.1, but you have dask 2024.1.0 which is incompatible.\r\n",
      "dask-cuda 23.8.0 requires distributed==2023.7.1, but you have distributed 2024.1.0 which is incompatible.\r\n",
      "dask-cuda 23.8.0 requires pandas<1.6.0dev0,>=1.3, but you have pandas 2.1.4 which is incompatible.\r\n",
      "dask-cudf 23.8.0 requires dask==2023.7.1, but you have dask 2024.1.0 which is incompatible.\r\n",
      "dask-cudf 23.8.0 requires distributed==2023.7.1, but you have distributed 2024.1.0 which is incompatible.\r\n",
      "dask-cudf 23.8.0 requires pandas<1.6.0dev0,>=1.3, but you have pandas 2.1.4 which is incompatible.\r\n",
      "fitter 1.7.0 requires joblib<2.0.0,>=1.3.1, but you have joblib 1.2.0 which is incompatible.\r\n",
      "google-cloud-aiplatform 0.6.0a1 requires google-api-core[grpc]<2.0.0dev,>=1.22.2, but you have google-api-core 2.11.1 which is incompatible.\r\n",
      "google-cloud-automl 1.0.1 requires google-api-core[grpc]<2.0.0dev,>=1.14.0, but you have google-api-core 2.11.1 which is incompatible.\r\n",
      "google-cloud-pubsub 2.19.0 requires grpcio<2.0dev,>=1.51.3, but you have grpcio 1.51.1 which is incompatible.\r\n",
      "jupyter-events 0.9.0 requires jsonschema[format-nongpl]>=4.18.0, but you have jsonschema 4.17.3 which is incompatible.\r\n",
      "jupyterlab 4.0.11 requires jupyter-lsp>=2.0.0, but you have jupyter-lsp 1.5.1 which is incompatible.\r\n",
      "jupyterlab-lsp 5.0.2 requires jupyter-lsp>=2.0.0, but you have jupyter-lsp 1.5.1 which is incompatible.\r\n",
      "jupyterlab-server 2.25.2 requires jsonschema>=4.18.0, but you have jsonschema 4.17.3 which is incompatible.\r\n",
      "jupyterlab-server 2.25.2 requires requests>=2.31, but you have requests 2.28.2 which is incompatible.\r\n",
      "kaggle-environments 1.14.3 requires transformers>=4.33.1, but you have transformers 4.31.0 which is incompatible.\r\n",
      "kfp 2.5.0 requires google-cloud-storage<3,>=2.2.1, but you have google-cloud-storage 1.44.0 which is incompatible.\r\n",
      "libpysal 4.9.2 requires packaging>=22, but you have packaging 21.3 which is incompatible.\r\n",
      "libpysal 4.9.2 requires shapely>=2.0.1, but you have shapely 1.8.5.post1 which is incompatible.\r\n",
      "lightautoml 0.3.8 requires lightgbm<=3.2.1,>=2.3, but you have lightgbm 4.1.0 which is incompatible.\r\n",
      "lightautoml 0.3.8 requires pandas<2.0.0, but you have pandas 2.1.4 which is incompatible.\r\n",
      "lightautoml 0.3.8 requires torch<=2.0.0,>=1.9.0, but you have torch 2.0.1 which is incompatible.\r\n",
      "momepy 0.7.0 requires shapely>=2, but you have shapely 1.8.5.post1 which is incompatible.\r\n",
      "osmnx 1.8.1 requires shapely>=2.0, but you have shapely 1.8.5.post1 which is incompatible.\r\n",
      "preprocessing 0.1.13 requires nltk==3.2.4, but you have nltk 3.8.1 which is incompatible.\r\n",
      "raft-dask 23.8.0 requires dask==2023.7.1, but you have dask 2024.1.0 which is incompatible.\r\n",
      "raft-dask 23.8.0 requires distributed==2023.7.1, but you have distributed 2024.1.0 which is incompatible.\r\n",
      "spopt 0.6.0 requires shapely>=2.0.1, but you have shapely 1.8.5.post1 which is incompatible.\r\n",
      "tensorflowjs 4.16.0 requires packaging~=23.1, but you have packaging 21.3 which is incompatible.\r\n",
      "xarray 2024.1.0 requires packaging>=22, but you have packaging 21.3 which is incompatible.\r\n",
      "ydata-profiling 4.6.4 requires pydantic>=2, but you have pydantic 1.10.14 which is incompatible.\u001b[0m\u001b[31m\r\n",
      "\u001b[0m\u001b[31mERROR: pip's dependency resolver does not currently take into account all the packages that are installed. This behaviour is the source of the following dependency conflicts.\r\n",
      "cudf 23.8.0 requires cubinlinker, which is not installed.\r\n",
      "cudf 23.8.0 requires cupy-cuda11x>=12.0.0, which is not installed.\r\n",
      "cudf 23.8.0 requires ptxcompiler, which is not installed.\r\n",
      "cuml 23.8.0 requires cupy-cuda11x>=12.0.0, which is not installed.\r\n",
      "dask-cudf 23.8.0 requires cupy-cuda11x>=12.0.0, which is not installed.\r\n",
      "apache-beam 2.46.0 requires dill<0.3.2,>=0.3.1.1, but you have dill 0.3.7 which is incompatible.\r\n",
      "apache-beam 2.46.0 requires numpy<1.25.0,>=1.14.3, but you have numpy 1.26.4 which is incompatible.\r\n",
      "apache-beam 2.46.0 requires protobuf<4,>3.12.2, but you have protobuf 4.25.2 which is incompatible.\r\n",
      "apache-beam 2.46.0 requires pyarrow<10.0.0,>=3.0.0, but you have pyarrow 11.0.0 which is incompatible.\r\n",
      "autogluon-multimodal 1.0.0 requires jsonschema<4.18,>=4.14, but you have jsonschema 4.21.1 which is incompatible.\r\n",
      "beatrix-jupyterlab 2023.128.151533 requires jupyterlab~=3.6.0, but you have jupyterlab 4.0.11 which is incompatible.\r\n",
      "botocore 1.34.38 requires urllib3<2.1,>=1.25.4; python_version >= \"3.10\", but you have urllib3 2.2.0 which is incompatible.\r\n",
      "cudf 23.8.0 requires cuda-python<12.0a0,>=11.7.1, but you have cuda-python 12.3.0 which is incompatible.\r\n",
      "cudf 23.8.0 requires pandas<1.6.0dev0,>=1.3, but you have pandas 2.1.4 which is incompatible.\r\n",
      "cuml 23.8.0 requires dask==2023.7.1, but you have dask 2024.1.0 which is incompatible.\r\n",
      "cuml 23.8.0 requires distributed==2023.7.1, but you have distributed 2024.1.0 which is incompatible.\r\n",
      "dask-cuda 23.8.0 requires dask==2023.7.1, but you have dask 2024.1.0 which is incompatible.\r\n",
      "dask-cuda 23.8.0 requires distributed==2023.7.1, but you have distributed 2024.1.0 which is incompatible.\r\n",
      "dask-cuda 23.8.0 requires pandas<1.6.0dev0,>=1.3, but you have pandas 2.1.4 which is incompatible.\r\n",
      "dask-cudf 23.8.0 requires dask==2023.7.1, but you have dask 2024.1.0 which is incompatible.\r\n",
      "dask-cudf 23.8.0 requires distributed==2023.7.1, but you have distributed 2024.1.0 which is incompatible.\r\n",
      "dask-cudf 23.8.0 requires pandas<1.6.0dev0,>=1.3, but you have pandas 2.1.4 which is incompatible.\r\n",
      "fitter 1.7.0 requires joblib<2.0.0,>=1.3.1, but you have joblib 1.2.0 which is incompatible.\r\n",
      "google-cloud-aiplatform 0.6.0a1 requires google-api-core[grpc]<2.0.0dev,>=1.22.2, but you have google-api-core 2.11.1 which is incompatible.\r\n",
      "google-cloud-automl 1.0.1 requires google-api-core[grpc]<2.0.0dev,>=1.14.0, but you have google-api-core 2.11.1 which is incompatible.\r\n",
      "google-cloud-bigquery 2.34.4 requires packaging<22.0dev,>=14.3, but you have packaging 23.2 which is incompatible.\r\n",
      "google-cloud-bigquery 2.34.4 requires protobuf<4.0.0dev,>=3.12.0, but you have protobuf 4.25.2 which is incompatible.\r\n",
      "google-cloud-bigtable 1.7.3 requires protobuf<4.0.0dev, but you have protobuf 4.25.2 which is incompatible.\r\n",
      "google-cloud-vision 2.8.0 requires protobuf<4.0.0dev,>=3.19.0, but you have protobuf 4.25.2 which is incompatible.\r\n",
      "jupyterlab 4.0.11 requires jupyter-lsp>=2.0.0, but you have jupyter-lsp 1.5.1 which is incompatible.\r\n",
      "jupyterlab-lsp 5.0.2 requires jupyter-lsp>=2.0.0, but you have jupyter-lsp 1.5.1 which is incompatible.\r\n",
      "kaggle-environments 1.14.3 requires transformers>=4.33.1, but you have transformers 4.31.0 which is incompatible.\r\n",
      "kfp 2.5.0 requires google-cloud-storage<3,>=2.2.1, but you have google-cloud-storage 1.44.0 which is incompatible.\r\n",
      "kfp 2.5.0 requires protobuf<4,>=3.13.0, but you have protobuf 4.25.2 which is incompatible.\r\n",
      "kfp 2.5.0 requires urllib3<2.0.0, but you have urllib3 2.2.0 which is incompatible.\r\n",
      "kfp-pipeline-spec 0.2.2 requires protobuf<4,>=3.13.0, but you have protobuf 4.25.2 which is incompatible.\r\n",
      "libpysal 4.9.2 requires shapely>=2.0.1, but you have shapely 1.8.5.post1 which is incompatible.\r\n",
      "lightautoml 0.3.8 requires lightgbm<=3.2.1,>=2.3, but you have lightgbm 4.1.0 which is incompatible.\r\n",
      "lightautoml 0.3.8 requires pandas<2.0.0, but you have pandas 2.1.4 which is incompatible.\r\n",
      "lightautoml 0.3.8 requires torch<=2.0.0,>=1.9.0, but you have torch 2.0.1 which is incompatible.\r\n",
      "momepy 0.7.0 requires shapely>=2, but you have shapely 1.8.5.post1 which is incompatible.\r\n",
      "openxlab 0.0.34 requires requests~=2.28.2, but you have requests 2.31.0 which is incompatible.\r\n",
      "osmnx 1.8.1 requires shapely>=2.0, but you have shapely 1.8.5.post1 which is incompatible.\r\n",
      "preprocessing 0.1.13 requires nltk==3.2.4, but you have nltk 3.8.1 which is incompatible.\r\n",
      "pylibraft 23.8.0 requires cuda-python<12.0a0,>=11.7.1, but you have cuda-python 12.3.0 which is incompatible.\r\n",
      "raft-dask 23.8.0 requires dask==2023.7.1, but you have dask 2024.1.0 which is incompatible.\r\n",
      "raft-dask 23.8.0 requires distributed==2023.7.1, but you have distributed 2024.1.0 which is incompatible.\r\n",
      "rmm 23.8.0 requires cuda-python<12.0a0,>=11.7.1, but you have cuda-python 12.3.0 which is incompatible.\r\n",
      "spopt 0.6.0 requires shapely>=2.0.1, but you have shapely 1.8.5.post1 which is incompatible.\r\n",
      "tensorboard 2.15.1 requires protobuf<4.24,>=3.19.6, but you have protobuf 4.25.2 which is incompatible.\r\n",
      "tensorflow-metadata 0.14.0 requires protobuf<4,>=3.7, but you have protobuf 4.25.2 which is incompatible.\r\n",
      "tensorflow-transform 0.14.0 requires protobuf<4,>=3.7, but you have protobuf 4.25.2 which is incompatible.\r\n",
      "woodwork 0.27.0 requires numpy<1.25.0,>=1.22.0, but you have numpy 1.26.4 which is incompatible.\r\n",
      "ydata-profiling 4.6.4 requires numpy<1.26,>=1.16.0, but you have numpy 1.26.4 which is incompatible.\r\n",
      "ydata-profiling 4.6.4 requires pydantic>=2, but you have pydantic 1.10.14 which is incompatible.\u001b[0m\u001b[31m\r\n",
      "\u001b[0m/opt/conda/lib/python3.10/site-packages/dask/dataframe/_pyarrow_compat.py:23: UserWarning: You are using pyarrow version 11.0.0 which is known to be insecure. See https://www.cve.org/CVERecord?id=CVE-2023-47248 for further details. Please upgrade to pyarrow>=14.0.1 or install pyarrow-hotfix to patch your current version.\r\n",
      "  warnings.warn(\r\n",
      "train data shape:\t (1526659, 528)\r\n",
      "train data shape:\t (1526659, 341)\r\n",
      "(1526659, 341)\r\n",
      "Memory usage of dataframe is 3107.00 MB\r\n",
      "Memory usage after optimization is: 1055.59 MB\r\n",
      "Decreased by 66.0%\r\n",
      "df_train.shape : (1526659, 341) --> (500, 341)\r\n",
      "test data shape:\t (10, 527)\r\n",
      "test data shape:\t (10, 527)\r\n",
      "(10, 527)\r\n",
      "Memory usage of dataframe is 0.04 MB\r\n",
      "Memory usage after optimization is: 0.04 MB\r\n",
      "Decreased by 11.1%\r\n",
      "WARNING: Int features without null values at train time contain null values at inference time! Imputing nulls to 0. To avoid this, pass the features as floats during fit!\r\n",
      "WARNING: Int features with nulls: ['max_birth_259D', 'max_num_group1_8']\r\n",
      "Check null:  False\r\n"
     ]
    },
    {
     "data": {
      "text/plain": [
       "0"
      ]
     },
     "execution_count": 5,
     "metadata": {},
     "output_type": "execute_result"
    }
   ],
   "source": [
    "# %% [code] {\"_kg_hide-output\":true,\"execution\":{\"iopub.status.busy\":\"2024-02-10T02:45:23.557162Z\",\"iopub.execute_input\":\"2024-02-10T02:45:23.557504Z\",\"iopub.status.idle\":\"2024-02-10T02:45:47.413693Z\",\"shell.execute_reply.started\":\"2024-02-10T02:45:23.557452Z\",\"shell.execute_reply\":\"2024-02-10T02:45:47.412518Z\"}}\n",
    "!python -m pip install --no-index --find-links=/kaggle/input/autogluon-pkgs autogluon > /dev/null\n",
    "\n",
    "# %% [code] {\"_kg_hide-output\":true,\"execution\":{\"iopub.status.busy\":\"2024-02-10T02:45:47.419786Z\",\"iopub.execute_input\":\"2024-02-10T02:45:47.420055Z\",\"iopub.status.idle\":\"2024-02-10T02:46:10.396589Z\",\"shell.execute_reply.started\":\"2024-02-10T02:45:47.420028Z\",\"shell.execute_reply\":\"2024-02-10T02:46:10.395571Z\"}}\n",
    "!python -m pip install --no-index --find-links=/kaggle/input/ray-pkgs --upgrade --force-reinstall -q ray==2.6.3\n",
    "\n",
    "!cp /kaggle/usr/lib/home_credit_automl_inference/home_credit_automl_inference.py home_credit_automl_inference.py\n",
    "!python home_credit_automl_inference.py\n",
    "!mv submission.csv submission_4.csv\n",
    "gc.collect()"
   ]
  },
  {
   "cell_type": "markdown",
   "id": "da1e9e7f",
   "metadata": {
    "papermill": {
     "duration": 0.090773,
     "end_time": "2024-02-15T09:47:57.151258",
     "exception": false,
     "start_time": "2024-02-15T09:47:57.060485",
     "status": "completed"
    },
    "tags": []
   },
   "source": [
    "# Submission 0\n",
    "\n",
    "From: https://www.kaggle.com/code/darynarr/home-credit-drop-date-features"
   ]
  },
  {
   "cell_type": "code",
   "execution_count": 6,
   "id": "76b9940c",
   "metadata": {
    "_cell_guid": "b1076dfc-b9ad-4769-8c92-a6c4dae69d19",
    "_uuid": "8f2839f25d086af736a60e9eeb907d3b93b6e0e5",
    "execution": {
     "iopub.execute_input": "2024-02-15T09:47:57.332289Z",
     "iopub.status.busy": "2024-02-15T09:47:57.331501Z",
     "iopub.status.idle": "2024-02-15T09:48:32.925667Z",
     "shell.execute_reply": "2024-02-15T09:48:32.924322Z"
    },
    "papermill": {
     "duration": 35.685829,
     "end_time": "2024-02-15T09:48:32.928507",
     "exception": false,
     "start_time": "2024-02-15T09:47:57.242678",
     "status": "completed"
    },
    "tags": []
   },
   "outputs": [
    {
     "name": "stdout",
     "output_type": "stream",
     "text": [
      "Looking in links: file:///kaggle/input/scikit-learn-1-4-0/\r\n",
      "Processing /kaggle/input/scikit-learn-1-4-0/scikit_learn-1.4.0-1-cp310-cp310-manylinux_2_17_x86_64.manylinux2014_x86_64.whl\r\n",
      "Processing /kaggle/input/scikit-learn-1-4-0/numpy-1.26.4-cp310-cp310-manylinux_2_17_x86_64.manylinux2014_x86_64.whl (from scikit-learn)\r\n",
      "Processing /kaggle/input/scikit-learn-1-4-0/scipy-1.12.0-cp310-cp310-manylinux_2_17_x86_64.manylinux2014_x86_64.whl (from scikit-learn)\r\n",
      "Processing /kaggle/input/scikit-learn-1-4-0/joblib-1.3.2-py3-none-any.whl (from scikit-learn)\r\n",
      "Processing /kaggle/input/scikit-learn-1-4-0/threadpoolctl-3.2.0-py3-none-any.whl (from scikit-learn)\r\n",
      "Installing collected packages: threadpoolctl, numpy, joblib, scipy, scikit-learn\r\n",
      "  Attempting uninstall: threadpoolctl\r\n",
      "    Found existing installation: threadpoolctl 3.2.0\r\n",
      "    Uninstalling threadpoolctl-3.2.0:\r\n",
      "      Successfully uninstalled threadpoolctl-3.2.0\r\n",
      "  Attempting uninstall: numpy\r\n",
      "    Found existing installation: numpy 1.26.3\r\n",
      "    Uninstalling numpy-1.26.3:\r\n",
      "      Successfully uninstalled numpy-1.26.3\r\n",
      "  Attempting uninstall: joblib\r\n",
      "    Found existing installation: joblib 1.2.0\r\n",
      "    Uninstalling joblib-1.2.0:\r\n",
      "      Successfully uninstalled joblib-1.2.0\r\n",
      "  Attempting uninstall: scipy\r\n",
      "    Found existing installation: scipy 1.11.4\r\n",
      "    Uninstalling scipy-1.11.4:\r\n",
      "      Successfully uninstalled scipy-1.11.4\r\n",
      "  Attempting uninstall: scikit-learn\r\n",
      "    Found existing installation: scikit-learn 1.4.0\r\n",
      "    Uninstalling scikit-learn-1.4.0:\r\n",
      "      Successfully uninstalled scikit-learn-1.4.0\r\n",
      "\u001b[31mERROR: pip's dependency resolver does not currently take into account all the packages that are installed. This behaviour is the source of the following dependency conflicts.\r\n",
      "cudf 23.8.0 requires cubinlinker, which is not installed.\r\n",
      "cudf 23.8.0 requires cupy-cuda11x>=12.0.0, which is not installed.\r\n",
      "cudf 23.8.0 requires ptxcompiler, which is not installed.\r\n",
      "cuml 23.8.0 requires cupy-cuda11x>=12.0.0, which is not installed.\r\n",
      "dask-cudf 23.8.0 requires cupy-cuda11x>=12.0.0, which is not installed.\r\n",
      "apache-beam 2.46.0 requires dill<0.3.2,>=0.3.1.1, but you have dill 0.3.7 which is incompatible.\r\n",
      "apache-beam 2.46.0 requires numpy<1.25.0,>=1.14.3, but you have numpy 1.26.4 which is incompatible.\r\n",
      "apache-beam 2.46.0 requires protobuf<4,>3.12.2, but you have protobuf 4.21.12 which is incompatible.\r\n",
      "apache-beam 2.46.0 requires pyarrow<10.0.0,>=3.0.0, but you have pyarrow 11.0.0 which is incompatible.\r\n",
      "autogluon-multimodal 1.0.0 requires jsonschema<4.18,>=4.14, but you have jsonschema 4.21.1 which is incompatible.\r\n",
      "cudf 23.8.0 requires cuda-python<12.0a0,>=11.7.1, but you have cuda-python 12.3.0 which is incompatible.\r\n",
      "cudf 23.8.0 requires pandas<1.6.0dev0,>=1.3, but you have pandas 2.1.4 which is incompatible.\r\n",
      "cuml 23.8.0 requires dask==2023.7.1, but you have dask 2024.1.0 which is incompatible.\r\n",
      "cuml 23.8.0 requires distributed==2023.7.1, but you have distributed 2024.1.0 which is incompatible.\r\n",
      "dask-cuda 23.8.0 requires dask==2023.7.1, but you have dask 2024.1.0 which is incompatible.\r\n",
      "dask-cuda 23.8.0 requires distributed==2023.7.1, but you have distributed 2024.1.0 which is incompatible.\r\n",
      "dask-cuda 23.8.0 requires pandas<1.6.0dev0,>=1.3, but you have pandas 2.1.4 which is incompatible.\r\n",
      "dask-cudf 23.8.0 requires dask==2023.7.1, but you have dask 2024.1.0 which is incompatible.\r\n",
      "dask-cudf 23.8.0 requires distributed==2023.7.1, but you have distributed 2024.1.0 which is incompatible.\r\n",
      "dask-cudf 23.8.0 requires pandas<1.6.0dev0,>=1.3, but you have pandas 2.1.4 which is incompatible.\r\n",
      "kaggle-environments 1.14.3 requires transformers>=4.33.1, but you have transformers 4.31.0 which is incompatible.\r\n",
      "libpysal 4.9.2 requires shapely>=2.0.1, but you have shapely 1.8.5.post1 which is incompatible.\r\n",
      "lightautoml 0.3.8 requires joblib<1.3.0, but you have joblib 1.3.2 which is incompatible.\r\n",
      "lightautoml 0.3.8 requires lightgbm<=3.2.1,>=2.3, but you have lightgbm 4.1.0 which is incompatible.\r\n",
      "lightautoml 0.3.8 requires pandas<2.0.0, but you have pandas 2.1.4 which is incompatible.\r\n",
      "lightautoml 0.3.8 requires torch<=2.0.0,>=1.9.0, but you have torch 2.0.1 which is incompatible.\r\n",
      "momepy 0.7.0 requires shapely>=2, but you have shapely 1.8.5.post1 which is incompatible.\r\n",
      "osmnx 1.8.1 requires shapely>=2.0, but you have shapely 1.8.5.post1 which is incompatible.\r\n",
      "preprocessing 0.1.13 requires nltk==3.2.4, but you have nltk 3.8.1 which is incompatible.\r\n",
      "pylibraft 23.8.0 requires cuda-python<12.0a0,>=11.7.1, but you have cuda-python 12.3.0 which is incompatible.\r\n",
      "raft-dask 23.8.0 requires dask==2023.7.1, but you have dask 2024.1.0 which is incompatible.\r\n",
      "raft-dask 23.8.0 requires distributed==2023.7.1, but you have distributed 2024.1.0 which is incompatible.\r\n",
      "rmm 23.8.0 requires cuda-python<12.0a0,>=11.7.1, but you have cuda-python 12.3.0 which is incompatible.\r\n",
      "spopt 0.6.0 requires shapely>=2.0.1, but you have shapely 1.8.5.post1 which is incompatible.\r\n",
      "tensorflow-transform 0.14.0 requires protobuf<4,>=3.7, but you have protobuf 4.21.12 which is incompatible.\r\n",
      "woodwork 0.27.0 requires numpy<1.25.0,>=1.22.0, but you have numpy 1.26.4 which is incompatible.\r\n",
      "ydata-profiling 4.6.4 requires numpy<1.26,>=1.16.0, but you have numpy 1.26.4 which is incompatible.\r\n",
      "ydata-profiling 4.6.4 requires pydantic>=2, but you have pydantic 1.10.14 which is incompatible.\r\n",
      "ydata-profiling 4.6.4 requires scipy<1.12,>=1.4.1, but you have scipy 1.12.0 which is incompatible.\u001b[0m\u001b[31m\r\n",
      "\u001b[0mSuccessfully installed joblib-1.3.2 numpy-1.26.4 scikit-learn-1.4.0 scipy-1.12.0 threadpoolctl-3.2.0\r\n"
     ]
    }
   ],
   "source": [
    "!pip install --force-reinstall scikit-learn --no-index --find-links=file:///kaggle/input/scikit-learn-1-4-0/ "
   ]
  },
  {
   "cell_type": "code",
   "execution_count": 7,
   "id": "1350ef7f",
   "metadata": {
    "execution": {
     "iopub.execute_input": "2024-02-15T09:48:33.126446Z",
     "iopub.status.busy": "2024-02-15T09:48:33.126047Z",
     "iopub.status.idle": "2024-02-15T09:48:36.774844Z",
     "shell.execute_reply": "2024-02-15T09:48:36.773762Z"
    },
    "papermill": {
     "duration": 3.750344,
     "end_time": "2024-02-15T09:48:36.777922",
     "exception": false,
     "start_time": "2024-02-15T09:48:33.027578",
     "status": "completed"
    },
    "tags": []
   },
   "outputs": [
    {
     "name": "stderr",
     "output_type": "stream",
     "text": [
      "/opt/conda/lib/python3.10/site-packages/dask/dataframe/_pyarrow_compat.py:23: UserWarning: You are using pyarrow version 11.0.0 which is known to be insecure. See https://www.cve.org/CVERecord?id=CVE-2023-47248 for further details. Please upgrade to pyarrow>=14.0.1 or install pyarrow-hotfix to patch your current version.\n",
      "  warnings.warn(\n"
     ]
    }
   ],
   "source": [
    "import os, glob\n",
    "import gc\n",
    "import pandas as pd\n",
    "import numpy as np\n",
    "import matplotlib.pyplot as plt\n",
    "import seaborn as sns\n",
    "from pathlib import Path\n",
    "from typing import Literal\n",
    "import polars as pl\n",
    "import polars.selectors as cs\n",
    "from sklearn.model_selection import train_test_split, cross_validate, StratifiedGroupKFold\n",
    "from sklearn.metrics import roc_auc_score\n",
    "\n",
    "import lightgbm as lgb"
   ]
  },
  {
   "cell_type": "code",
   "execution_count": 8,
   "id": "41d169ee",
   "metadata": {
    "execution": {
     "iopub.execute_input": "2024-02-15T09:48:36.984526Z",
     "iopub.status.busy": "2024-02-15T09:48:36.984134Z",
     "iopub.status.idle": "2024-02-15T09:48:36.990770Z",
     "shell.execute_reply": "2024-02-15T09:48:36.989732Z"
    },
    "papermill": {
     "duration": 0.105769,
     "end_time": "2024-02-15T09:48:36.993634",
     "exception": false,
     "start_time": "2024-02-15T09:48:36.887865",
     "status": "completed"
    },
    "tags": []
   },
   "outputs": [],
   "source": [
    "if os.path.exists('/kaggle'):\n",
    "    PATH_DATASET = Path(\"/kaggle/input/home-credit-credit-risk-model-stability\")\n",
    "else:\n",
    "    PATH_DATASET = Path(\"home-credit-credit-risk-model-stability\")\n",
    "PATH_PARQUETS = PATH_DATASET / \"parquet_files\"\n",
    "PATH_TRAIN = PATH_PARQUETS / \"train\"\n",
    "PATH_TEST = PATH_PARQUETS / \"test\"\n",
    "\n",
    "pd.set_option('display.max_columns', 1000)\n",
    "pd.set_option('display.max_rows', 1000)"
   ]
  },
  {
   "cell_type": "markdown",
   "id": "09d0014a",
   "metadata": {
    "papermill": {
     "duration": 0.096456,
     "end_time": "2024-02-15T09:48:37.207416",
     "exception": false,
     "start_time": "2024-02-15T09:48:37.110960",
     "status": "completed"
    },
    "tags": []
   },
   "source": [
    "# Read and merge data\n"
   ]
  },
  {
   "cell_type": "markdown",
   "id": "3392a8ca",
   "metadata": {
    "papermill": {
     "duration": 0.090194,
     "end_time": "2024-02-15T09:48:37.392800",
     "exception": false,
     "start_time": "2024-02-15T09:48:37.302606",
     "status": "completed"
    },
    "tags": []
   },
   "source": [
    "# Read and merge data\n",
    "\n",
    "1) Cast datetime features\n",
    "\n",
    "2) Cast categorical features\n",
    "\n",
    "3) Drop datetime features and features with too many categories\n",
    "\n",
    "4) Merge by case_id with base dataframe"
   ]
  },
  {
   "cell_type": "code",
   "execution_count": 9,
   "id": "ba511ab4",
   "metadata": {
    "execution": {
     "iopub.execute_input": "2024-02-15T09:48:37.578169Z",
     "iopub.status.busy": "2024-02-15T09:48:37.577764Z",
     "iopub.status.idle": "2024-02-15T09:48:37.610924Z",
     "shell.execute_reply": "2024-02-15T09:48:37.609822Z"
    },
    "papermill": {
     "duration": 0.128775,
     "end_time": "2024-02-15T09:48:37.613593",
     "exception": false,
     "start_time": "2024-02-15T09:48:37.484818",
     "status": "completed"
    },
    "tags": []
   },
   "outputs": [],
   "source": [
    "class DatasetConstructor:\n",
    "    def __init__(self, mode: Literal['train', 'test']):\n",
    "        self.mode = mode\n",
    "        self.path = PATH_PARQUETS / mode\n",
    "\n",
    "    @staticmethod\n",
    "    def reduce_memory_usage_pl(df):\n",
    "        \"\"\" Reduce memory usage by polars dataframe {df} with name {name} by changing its data types.\n",
    "            Original pandas version of this function: https://www.kaggle.com/code/arjanso/reducing-dataframe-memory-size-by-65 \"\"\"\n",
    "        print(f\"Memory usage of dataframe is {round(df.estimated_size('mb'), 2)} MB\")\n",
    "        Numeric_Int_types = [pl.Int8,pl.Int16,pl.Int32,pl.Int64]\n",
    "        Numeric_Float_types = [pl.Float32,pl.Float64]    \n",
    "        for col in df.columns:\n",
    "            try:\n",
    "                col_type = df[col].dtype\n",
    "                if col_type == pl.Categorical:\n",
    "                    continue\n",
    "                c_min = df[col].min()\n",
    "                c_max = df[col].max()\n",
    "                if col_type in Numeric_Int_types:\n",
    "                    if c_min > np.iinfo(np.int8).min and c_max < np.iinfo(np.int8).max:\n",
    "                        df = df.with_columns(df[col].cast(pl.Int8))\n",
    "                    elif c_min > np.iinfo(np.int16).min and c_max < np.iinfo(np.int16).max:\n",
    "                        df = df.with_columns(df[col].cast(pl.Int16))\n",
    "                    elif c_min > np.iinfo(np.int32).min and c_max < np.iinfo(np.int32).max:\n",
    "                        df = df.with_columns(df[col].cast(pl.Int32))\n",
    "                    elif c_min > np.iinfo(np.int64).min and c_max < np.iinfo(np.int64).max:\n",
    "                        df = df.with_columns(df[col].cast(pl.Int64))\n",
    "                elif col_type in Numeric_Float_types:\n",
    "                    if c_min > np.finfo(np.float32).min and c_max < np.finfo(np.float32).max:\n",
    "                        df = df.with_columns(df[col].cast(pl.Float32))\n",
    "                    else:\n",
    "                        pass\n",
    "                # elif col_type == pl.Utf8:\n",
    "                #     df = df.with_columns(df[col].cast(pl.Categorical))\n",
    "                else:\n",
    "                    pass\n",
    "            except:\n",
    "                pass\n",
    "        print(f\"Memory usage of dataframe became {round(df.estimated_size('mb'), 2)} MB\")\n",
    "        return df\n",
    "\n",
    "    @staticmethod\n",
    "    def detect_datetime_cols(df):\n",
    "        return df.select_dtypes(object).apply(lambda x: pd.to_datetime(x, errors='ignore'), axis=0).select_dtypes(np.datetime64).columns.tolist()\n",
    "                        \n",
    "    def _to_pandas(self, df):\n",
    "        df = df.to_pandas().set_index('case_id')\n",
    "        df = df.replace([np.inf, -np.inf], np.nan)\n",
    "        return df\n",
    "\n",
    "    def merge_static(self, df):\n",
    "        df_static = (\n",
    "            pl.concat([pl.scan_parquet(p, low_memory=True) for p in glob.glob(str(self.path / f\"{self.mode}_static_0_*\"))],how=\"vertical_relaxed\",)\n",
    "            .with_columns(\n",
    "                [\n",
    "                    (pl.col(col).cast(pl.String).str.to_date(strict=False)) \n",
    "                    for col in [\n",
    "                        'datefirstoffer_1144D', \n",
    "                        'datelastinstal40dpd_247D',\n",
    "                        'datelastunpaid_3546854D', \n",
    "                        'dtlastpmtallstes_4499206D',\n",
    "                        'firstclxcampaign_1125D', \n",
    "                        'firstdatedue_489D', \n",
    "                        'lastactivateddate_801D',\n",
    "                       'lastapplicationdate_877D', \n",
    "                        'lastapprdate_640D', \n",
    "                        'lastdelinqdate_224D',\n",
    "                       'lastrejectdate_50D', \n",
    "                        'lastrepayingdate_696D',\n",
    "                       'maxdpdinstldate_3546855D', \n",
    "                        'payvacationpostpone_4187118D',\n",
    "                       'validfrom_1069D'\n",
    "                    ]\n",
    "                ] + [\n",
    "                    (pl.col(col).cast(pl.String).cast(pl.Categorical))\n",
    "                    for col in [\n",
    "                        'bankacctype_710L', 'cardtype_51L', 'credtype_322L',\n",
    "                       'disbursementtype_67L', 'equalitydataagreement_891L',\n",
    "                       'equalityempfrom_62L', 'inittransactioncode_186L',\n",
    "                       'isbidproductrequest_292L', 'isdebitcard_729L',\n",
    "                       'lastapprcommoditycat_1041M', 'lastapprcommoditytypec_5251766M',\n",
    "                       'lastcancelreason_561M', 'lastrejectcommoditycat_161M',\n",
    "                       'lastrejectcommodtypec_5251769M', 'lastrejectreason_759M',\n",
    "                       'lastrejectreasonclient_4145040M', 'lastst_736L', 'opencred_647L',\n",
    "                       'paytype1st_925L', 'paytype_783L', 'previouscontdistrict_112M',\n",
    "                       'twobodfilling_608L', 'typesuite_864L'\n",
    "                    ]\n",
    "                ]\n",
    "            )\n",
    "        )\n",
    "        return df.join(df_static, how=\"left\", on=\"case_id\")\n",
    "        \n",
    "    def merge_static_cb(self, df):\n",
    "        df_static_cb = (\n",
    "            pl.scan_parquet(self.path / f\"{self.mode}_static_cb_0.parquet\", low_memory=True)\n",
    "            .with_columns(\n",
    "                [\n",
    "                    (pl.col(col).cast(pl.String).str.to_date(strict=False)) \n",
    "                    for col in [\n",
    "                        'assignmentdate_238D', \n",
    "                        'assignmentdate_4527235D',\n",
    "                        'assignmentdate_4955616D', \n",
    "                        'birthdate_574D', \n",
    "                        'dateofbirth_337D',\n",
    "                        'dateofbirth_342D', \n",
    "                        'responsedate_1012D', \n",
    "                        'responsedate_4527233D',\n",
    "                        'responsedate_4917613D'\n",
    "                    ] \n",
    "                ] + [\n",
    "                    (pl.col(col).cast(pl.String).cast(pl.Categorical))\n",
    "                    for col in [\n",
    "                        'description_5085714M', 'education_1103M', 'education_88M',\n",
    "                       'maritalst_385M', 'maritalst_893M', 'requesttype_4525192L',\n",
    "                       'riskassesment_302T'\n",
    "                    ]\n",
    "                ]\n",
    "            )\n",
    "        )\n",
    "        return df.join(df_static_cb, how=\"left\", on=\"case_id\")\n",
    " \n",
    "    def load(self):\n",
    "        df = pl.scan_parquet(self.path / f\"{self.mode}_base.parquet\", low_memory=True).with_columns(\n",
    "            pl.col(\"date_decision\").str.to_date()\n",
    "        )\n",
    "        # Depth=0\n",
    "        df = self.merge_static(df)\n",
    "        df = self.merge_static_cb(df)\n",
    "        \n",
    "        df =(\n",
    "            df\n",
    "            .with_columns(\n",
    "                pl.col(pl.Float64).cast(pl.Float32),\n",
    "                pl.col(pl.Int64).cast(pl.Int32),\n",
    "            )\n",
    "        )\n",
    "        df = df.select(~cs.date())\n",
    "        \n",
    "        # Drop categorical large-dimension columns\n",
    "        df = df.drop([\n",
    "            'lastapprcommoditytypec_5251766M',\n",
    "             'previouscontdistrict_112M',\n",
    "             'district_544M',\n",
    "             'profession_152M',\n",
    "             'name_4527232M',\n",
    "             'name_4917606M',\n",
    "             'employername_160M',\n",
    "             'classificationofcontr_400M',\n",
    "             'financialinstitution_382M',\n",
    "             'contaddr_district_15M',\n",
    "             'contaddr_zipcode_807M',\n",
    "             'empladdr_district_926M',\n",
    "             'empladdr_zipcode_114M',\n",
    "             'registaddr_district_1083M',\n",
    "             'registaddr_zipcode_184M',\n",
    "             'addres_district_368M',\n",
    "             'addres_zip_823M'])\n",
    "        df = df.collect()\n",
    "        df = self.reduce_memory_usage_pl(df)\n",
    "        df = self._to_pandas(df)\n",
    "        return df"
   ]
  },
  {
   "cell_type": "code",
   "execution_count": 10,
   "id": "de9d03fc",
   "metadata": {
    "execution": {
     "iopub.execute_input": "2024-02-15T09:48:37.815460Z",
     "iopub.status.busy": "2024-02-15T09:48:37.815053Z",
     "iopub.status.idle": "2024-02-15T09:48:48.559304Z",
     "shell.execute_reply": "2024-02-15T09:48:48.558048Z"
    },
    "papermill": {
     "duration": 10.846232,
     "end_time": "2024-02-15T09:48:48.561897",
     "exception": false,
     "start_time": "2024-02-15T09:48:37.715665",
     "status": "completed"
    },
    "tags": []
   },
   "outputs": [
    {
     "name": "stdout",
     "output_type": "stream",
     "text": [
      "Memory usage of dataframe is 1168.76 MB\n",
      "Memory usage of dataframe became 1160.02 MB\n",
      "<class 'pandas.core.frame.DataFrame'>\n",
      "Index: 1526659 entries, 0 to 2703454\n",
      "Columns: 196 entries, MONTH to thirdquarter_1082L\n",
      "dtypes: bool(1), category(28), float32(164), int32(1), int8(2)\n",
      "memory usage: 1013.3 MB\n"
     ]
    }
   ],
   "source": [
    "train_constructor = DatasetConstructor('train')\n",
    "df_train = train_constructor.load()\n",
    "df_train.info()"
   ]
  },
  {
   "cell_type": "markdown",
   "id": "b867ef9f",
   "metadata": {
    "execution": {
     "iopub.execute_input": "2024-02-07T13:59:52.359298Z",
     "iopub.status.busy": "2024-02-07T13:59:52.358959Z",
     "iopub.status.idle": "2024-02-07T13:59:52.365236Z",
     "shell.execute_reply": "2024-02-07T13:59:52.363792Z",
     "shell.execute_reply.started": "2024-02-07T13:59:52.359271Z"
    },
    "papermill": {
     "duration": 0.102411,
     "end_time": "2024-02-15T09:48:48.763901",
     "exception": false,
     "start_time": "2024-02-15T09:48:48.661490",
     "status": "completed"
    },
    "tags": []
   },
   "source": [
    "# Train simple LGBM"
   ]
  },
  {
   "cell_type": "code",
   "execution_count": 11,
   "id": "c1bbda18",
   "metadata": {
    "execution": {
     "iopub.execute_input": "2024-02-15T09:48:48.978020Z",
     "iopub.status.busy": "2024-02-15T09:48:48.977457Z",
     "iopub.status.idle": "2024-02-15T09:48:49.319686Z",
     "shell.execute_reply": "2024-02-15T09:48:49.318643Z"
    },
    "papermill": {
     "duration": 0.459102,
     "end_time": "2024-02-15T09:48:49.321954",
     "exception": false,
     "start_time": "2024-02-15T09:48:48.862852",
     "status": "completed"
    },
    "tags": []
   },
   "outputs": [
    {
     "data": {
      "text/plain": [
       "(1526659, 195)"
      ]
     },
     "execution_count": 11,
     "metadata": {},
     "output_type": "execute_result"
    }
   ],
   "source": [
    "X, y = df_train.drop(columns='target'), df_train['target']\n",
    "X.shape"
   ]
  },
  {
   "cell_type": "code",
   "execution_count": 12,
   "id": "237202d0",
   "metadata": {
    "execution": {
     "iopub.execute_input": "2024-02-15T09:48:49.516922Z",
     "iopub.status.busy": "2024-02-15T09:48:49.516099Z",
     "iopub.status.idle": "2024-02-15T09:48:49.839250Z",
     "shell.execute_reply": "2024-02-15T09:48:49.838192Z"
    },
    "papermill": {
     "duration": 0.422855,
     "end_time": "2024-02-15T09:48:49.842035",
     "exception": false,
     "start_time": "2024-02-15T09:48:49.419180",
     "status": "completed"
    },
    "tags": []
   },
   "outputs": [],
   "source": [
    "X = X.drop(columns=['WEEK_NUM'] ) "
   ]
  },
  {
   "cell_type": "code",
   "execution_count": 13,
   "id": "79d123f6",
   "metadata": {
    "execution": {
     "iopub.execute_input": "2024-02-15T09:48:50.029884Z",
     "iopub.status.busy": "2024-02-15T09:48:50.029464Z",
     "iopub.status.idle": "2024-02-15T09:53:18.057096Z",
     "shell.execute_reply": "2024-02-15T09:53:18.055768Z"
    },
    "papermill": {
     "duration": 268.228042,
     "end_time": "2024-02-15T09:53:18.162055",
     "exception": false,
     "start_time": "2024-02-15T09:48:49.934013",
     "status": "completed"
    },
    "tags": []
   },
   "outputs": [
    {
     "name": "stdout",
     "output_type": "stream",
     "text": [
      "[CV] END ......................................., score=0.796 total time=  53.2s\n",
      "[CV] END ......................................., score=0.800 total time=  52.5s\n",
      "[CV] END ......................................., score=0.803 total time=  52.1s\n",
      "[CV] END ......................................., score=0.804 total time=  53.2s\n",
      "[CV] END ......................................., score=0.800 total time=  52.3s\n",
      "AUC: 0.801 +-0.003\n",
      "CPU times: user 15min 48s, sys: 9.47 s, total: 15min 57s\n",
      "Wall time: 4min 28s\n"
     ]
    }
   ],
   "source": [
    "%%time\n",
    "params = {\n",
    "    \"boosting_type\": \"gbdt\",\n",
    "    \"objective\": \"binary\",\n",
    "    \"metric\": \"auc\",\n",
    "    \"max_depth\": 8,\n",
    "    \"num_leaves\": 32,\n",
    "    \"min_data_in_leaf\": 10,\n",
    "    \"learning_rate\": 0.05,\n",
    "    \"feature_fraction\": 0.8,\n",
    "    \"bagging_fraction\": 0.8,\n",
    "    \"bagging_freq\": 5,\n",
    "    \"n_estimators\": 100,\n",
    "    'min_data_in_bin':1,\n",
    "    'max_bin': 64,\n",
    "    \"verbose\": -1,\n",
    "    \"random_state\": 42, \n",
    "    'n_jobs': -1\n",
    "}\n",
    "cv = StratifiedGroupKFold(n_splits=5, shuffle=False)\n",
    "cv_results = cross_validate(\n",
    "    lgb.LGBMClassifier(**params), \n",
    "    X, y, \n",
    "    groups=df_train['WEEK_NUM'], \n",
    "    scoring='roc_auc', \n",
    "    cv=cv,\n",
    "    verbose=3, \n",
    "    return_estimator=True, \n",
    "    return_indices=True\n",
    ")\n",
    "print(f\"AUC: {cv_results['test_score'].mean():.3f}\", f\"+-{cv_results['test_score'].std():.3f}\")"
   ]
  },
  {
   "cell_type": "code",
   "execution_count": 14,
   "id": "78f25fa6",
   "metadata": {
    "execution": {
     "iopub.execute_input": "2024-02-15T09:53:18.353965Z",
     "iopub.status.busy": "2024-02-15T09:53:18.353036Z",
     "iopub.status.idle": "2024-02-15T09:53:28.956696Z",
     "shell.execute_reply": "2024-02-15T09:53:28.955423Z"
    },
    "papermill": {
     "duration": 10.704207,
     "end_time": "2024-02-15T09:53:28.960811",
     "exception": false,
     "start_time": "2024-02-15T09:53:18.256604",
     "status": "completed"
    },
    "tags": []
   },
   "outputs": [
    {
     "data": {
      "image/png": "[encoded data removed]",
      "text/plain": [
       "<Figure size 640x480 with 2 Axes>"
      ]
     },
     "metadata": {},
     "output_type": "display_data"
    }
   ],
   "source": [
    "stability_results = []\n",
    "for fold, (idx, model) in enumerate(zip(cv_results['indices']['test'], cv_results['estimator'])):\n",
    "    df_res = pd.DataFrame()\n",
    "    \n",
    "    df_res['WEEK_NUM'] = df_train['WEEK_NUM'].iloc[idx].values\n",
    "    df_res['target'] = df_train['target'].iloc[idx].values\n",
    "    df_res['score'] = model.predict_proba(X.iloc[idx])[:, 1]\n",
    "    df_res['fold'] = fold\n",
    "    stability_results.append(df_res)\n",
    "    \n",
    "df_stability_results = pd.concat(stability_results)\n",
    "df_stability_results[df_stability_results['target'] == 0]['score'].plot(kind='hist', alpha=0.5, bins=100, label='target=0')\n",
    "df_stability_results[df_stability_results['target'] == 1]['score'].plot(kind='hist', secondary_y=True, alpha=0.5, bins=100, label='target=1')\n",
    "plt.legend();"
   ]
  },
  {
   "cell_type": "code",
   "execution_count": 15,
   "id": "8f2039ec",
   "metadata": {
    "execution": {
     "iopub.execute_input": "2024-02-15T09:53:29.169650Z",
     "iopub.status.busy": "2024-02-15T09:53:29.169268Z",
     "iopub.status.idle": "2024-02-15T09:53:30.046307Z",
     "shell.execute_reply": "2024-02-15T09:53:30.045091Z"
    },
    "papermill": {
     "duration": 0.976463,
     "end_time": "2024-02-15T09:53:30.049057",
     "exception": false,
     "start_time": "2024-02-15T09:53:29.072594",
     "status": "completed"
    },
    "tags": []
   },
   "outputs": [
    {
     "name": "stderr",
     "output_type": "stream",
     "text": [
      "/opt/conda/lib/python3.10/site-packages/seaborn/categorical.py:1794: FutureWarning: use_inf_as_na option is deprecated and will be removed in a future version. Convert inf values to NaN before operating instead.\n",
      "  with pd.option_context('mode.use_inf_as_na', True):\n",
      "/opt/conda/lib/python3.10/site-packages/seaborn/categorical.py:1794: FutureWarning: use_inf_as_na option is deprecated and will be removed in a future version. Convert inf values to NaN before operating instead.\n",
      "  with pd.option_context('mode.use_inf_as_na', True):\n"
     ]
    },
    {
     "data": {
      "image/png": "[encoded data removed]",
      "text/plain": [
       "<Figure size 640x480 with 1 Axes>"
      ]
     },
     "metadata": {},
     "output_type": "display_data"
    }
   ],
   "source": [
    "sns.boxenplot(df_stability_results, y='score', x='target');"
   ]
  },
  {
   "cell_type": "code",
   "execution_count": 16,
   "id": "4132fa35",
   "metadata": {
    "execution": {
     "iopub.execute_input": "2024-02-15T09:53:30.238654Z",
     "iopub.status.busy": "2024-02-15T09:53:30.237580Z",
     "iopub.status.idle": "2024-02-15T09:53:30.354187Z",
     "shell.execute_reply": "2024-02-15T09:53:30.353130Z"
    },
    "papermill": {
     "duration": 0.213514,
     "end_time": "2024-02-15T09:53:30.356861",
     "exception": false,
     "start_time": "2024-02-15T09:53:30.143347",
     "status": "completed"
    },
    "tags": []
   },
   "outputs": [],
   "source": [
    "def gini_stability(base, w_fallingrate=88.0, w_resstd=-0.5):\n",
    "    gini_in_time = base.loc[:, [\"WEEK_NUM\", \"target\", \"score\"]]\\\n",
    "        .sort_values(\"WEEK_NUM\")\\\n",
    "        .groupby(\"WEEK_NUM\")[[\"target\", \"score\"]]\\\n",
    "        .apply(lambda x: 2*roc_auc_score(x[\"target\"], x[\"score\"])-1).tolist()\n",
    "    \n",
    "    x = np.arange(len(gini_in_time))\n",
    "    y = gini_in_time\n",
    "    a, b = np.polyfit(x, y, 1)\n",
    "    y_hat = a*x + b\n",
    "    residuals = y - y_hat\n",
    "    res_std = np.std(residuals)\n",
    "    avg_gini = np.mean(gini_in_time)\n",
    "    return avg_gini + w_fallingrate * min(0, a) + w_resstd * res_std\n",
    "\n",
    "try:\n",
    "    df_stability_results.groupby('fold').apply(gini_stability, include_groups=False)\n",
    "except:\n",
    "    pass"
   ]
  },
  {
   "cell_type": "code",
   "execution_count": 17,
   "id": "0132dfee",
   "metadata": {
    "execution": {
     "iopub.execute_input": "2024-02-15T09:53:30.546976Z",
     "iopub.status.busy": "2024-02-15T09:53:30.546291Z",
     "iopub.status.idle": "2024-02-15T09:53:31.397060Z",
     "shell.execute_reply": "2024-02-15T09:53:31.395962Z"
    },
    "papermill": {
     "duration": 0.947106,
     "end_time": "2024-02-15T09:53:31.399264",
     "exception": false,
     "start_time": "2024-02-15T09:53:30.452158",
     "status": "completed"
    },
    "tags": []
   },
   "outputs": [
    {
     "data": {
      "text/plain": [
       "0.5745660425504588"
      ]
     },
     "execution_count": 17,
     "metadata": {},
     "output_type": "execute_result"
    }
   ],
   "source": [
    "gini_stability(df_stability_results)"
   ]
  },
  {
   "cell_type": "code",
   "execution_count": 18,
   "id": "bd1afd59",
   "metadata": {
    "execution": {
     "iopub.execute_input": "2024-02-15T09:53:31.593236Z",
     "iopub.status.busy": "2024-02-15T09:53:31.592826Z",
     "iopub.status.idle": "2024-02-15T09:53:31.597798Z",
     "shell.execute_reply": "2024-02-15T09:53:31.596689Z"
    },
    "papermill": {
     "duration": 0.1055,
     "end_time": "2024-02-15T09:53:31.600190",
     "exception": false,
     "start_time": "2024-02-15T09:53:31.494690",
     "status": "completed"
    },
    "tags": []
   },
   "outputs": [],
   "source": [
    "models = cv_results['estimator']"
   ]
  },
  {
   "cell_type": "code",
   "execution_count": 19,
   "id": "65d701ca",
   "metadata": {
    "execution": {
     "iopub.execute_input": "2024-02-15T09:53:31.795136Z",
     "iopub.status.busy": "2024-02-15T09:53:31.794194Z",
     "iopub.status.idle": "2024-02-15T09:53:31.952099Z",
     "shell.execute_reply": "2024-02-15T09:53:31.951107Z"
    },
    "papermill": {
     "duration": 0.25637,
     "end_time": "2024-02-15T09:53:31.954160",
     "exception": false,
     "start_time": "2024-02-15T09:53:31.697790",
     "status": "completed"
    },
    "tags": []
   },
   "outputs": [
    {
     "data": {
      "text/plain": [
       "21374"
      ]
     },
     "execution_count": 19,
     "metadata": {},
     "output_type": "execute_result"
    }
   ],
   "source": [
    "del df_train, X, y\n",
    "gc.collect()"
   ]
  },
  {
   "cell_type": "markdown",
   "id": "1d738183",
   "metadata": {
    "papermill": {
     "duration": 0.091568,
     "end_time": "2024-02-15T09:53:32.139081",
     "exception": false,
     "start_time": "2024-02-15T09:53:32.047513",
     "status": "completed"
    },
    "tags": []
   },
   "source": [
    "# Loading test data"
   ]
  },
  {
   "cell_type": "code",
   "execution_count": 20,
   "id": "863bd3f9",
   "metadata": {
    "execution": {
     "iopub.execute_input": "2024-02-15T09:53:32.325124Z",
     "iopub.status.busy": "2024-02-15T09:53:32.324344Z",
     "iopub.status.idle": "2024-02-15T09:53:32.435911Z",
     "shell.execute_reply": "2024-02-15T09:53:32.434568Z"
    },
    "papermill": {
     "duration": 0.207372,
     "end_time": "2024-02-15T09:53:32.438458",
     "exception": false,
     "start_time": "2024-02-15T09:53:32.231086",
     "status": "completed"
    },
    "tags": []
   },
   "outputs": [
    {
     "name": "stdout",
     "output_type": "stream",
     "text": [
      "Memory usage of dataframe is 0.01 MB\n",
      "Memory usage of dataframe became 0.01 MB\n"
     ]
    }
   ],
   "source": [
    "test_constructor = DatasetConstructor('test')\n",
    "df_test=test_constructor.load()"
   ]
  },
  {
   "cell_type": "markdown",
   "id": "8eb059a1",
   "metadata": {
    "papermill": {
     "duration": 0.09446,
     "end_time": "2024-02-15T09:53:32.628905",
     "exception": false,
     "start_time": "2024-02-15T09:53:32.534445",
     "status": "completed"
    },
    "tags": []
   },
   "source": [
    "# Predict and submit"
   ]
  },
  {
   "cell_type": "code",
   "execution_count": 21,
   "id": "4bc98137",
   "metadata": {
    "execution": {
     "iopub.execute_input": "2024-02-15T09:53:32.828475Z",
     "iopub.status.busy": "2024-02-15T09:53:32.827694Z",
     "iopub.status.idle": "2024-02-15T09:53:32.946540Z",
     "shell.execute_reply": "2024-02-15T09:53:32.945604Z"
    },
    "papermill": {
     "duration": 0.221639,
     "end_time": "2024-02-15T09:53:32.949806",
     "exception": false,
     "start_time": "2024-02-15T09:53:32.728167",
     "status": "completed"
    },
    "tags": []
   },
   "outputs": [
    {
     "name": "stderr",
     "output_type": "stream",
     "text": [
      "/opt/conda/lib/python3.10/site-packages/lightgbm/basic.py:693: SettingWithCopyWarning: \n",
      "A value is trying to be set on a copy of a slice from a DataFrame.\n",
      "Try using .loc[row_indexer,col_indexer] = value instead\n",
      "\n",
      "See the caveats in the documentation: https://pandas.pydata.org/pandas-docs/stable/user_guide/indexing.html#returning-a-view-versus-a-copy\n",
      "  data[col] = data[col].cat.set_categories(category)\n"
     ]
    }
   ],
   "source": [
    "test = df_test[models[0].feature_name_]\n",
    "preds_proba = [model.predict_proba(test)[:, 1] for model in models]\n",
    "df_test[\"score\"] = np.average(preds_proba, axis=0)\n",
    "df_test[[\"score\"]].to_csv(\"submission_0.csv\")\n"
   ]
  },
  {
   "cell_type": "code",
   "execution_count": 22,
   "id": "9b4e5c55",
   "metadata": {
    "execution": {
     "iopub.execute_input": "2024-02-15T09:53:33.150406Z",
     "iopub.status.busy": "2024-02-15T09:53:33.149382Z",
     "iopub.status.idle": "2024-02-15T09:53:34.278024Z",
     "shell.execute_reply": "2024-02-15T09:53:34.276612Z"
    },
    "papermill": {
     "duration": 1.230866,
     "end_time": "2024-02-15T09:53:34.280858",
     "exception": false,
     "start_time": "2024-02-15T09:53:33.049992",
     "status": "completed"
    },
    "tags": []
   },
   "outputs": [
    {
     "name": "stdout",
     "output_type": "stream",
     "text": [
      "ls: cannot access 'submission_': No such file or directory\r\n"
     ]
    }
   ],
   "source": [
    "!ls submission_"
   ]
  },
  {
   "cell_type": "markdown",
   "id": "6827051b",
   "metadata": {
    "papermill": {
     "duration": 0.095441,
     "end_time": "2024-02-15T09:53:34.474538",
     "exception": false,
     "start_time": "2024-02-15T09:53:34.379097",
     "status": "completed"
    },
    "tags": []
   },
   "source": []
  },
  {
   "cell_type": "markdown",
   "id": "75e69517",
   "metadata": {
    "papermill": {
     "duration": 0.099434,
     "end_time": "2024-02-15T09:53:34.673786",
     "exception": false,
     "start_time": "2024-02-15T09:53:34.574352",
     "status": "completed"
    },
    "tags": []
   },
   "source": [
    "# Ensemble"
   ]
  },
  {
   "cell_type": "code",
   "execution_count": 23,
   "id": "82171cfc",
   "metadata": {
    "execution": {
     "iopub.execute_input": "2024-02-15T09:53:34.875363Z",
     "iopub.status.busy": "2024-02-15T09:53:34.874452Z",
     "iopub.status.idle": "2024-02-15T09:53:34.898992Z",
     "shell.execute_reply": "2024-02-15T09:53:34.897763Z"
    },
    "papermill": {
     "duration": 0.127199,
     "end_time": "2024-02-15T09:53:34.901575",
     "exception": false,
     "start_time": "2024-02-15T09:53:34.774376",
     "status": "completed"
    },
    "tags": []
   },
   "outputs": [],
   "source": [
    "sub_0 = pd.read_csv(\"submission_0.csv\", dtype={\"case_id\": int}).set_index(\"case_id\")\n",
    "sub_1 = pd.read_csv(\"submission_1.csv\", dtype={\"case_id\": int}).set_index(\"case_id\")\n",
    "sub_2 = pd.read_csv(\"submission_2.csv\", dtype={\"case_id\": int}).set_index(\"case_id\")\n",
    "sub_3 = pd.read_csv(\"submission_3.csv\", dtype={\"case_id\": int}).set_index(\"case_id\")\n",
    "sub_4 = pd.read_csv(\"submission_4.csv\", dtype={\"case_id\": int}).set_index(\"case_id\")\n",
    "\n",
    "sub = 0.4*sub_4 + 0.5*sub_3 + 0.1*(0.95*sub_2 + 0.05*(0.8*sub_0 + 0.2*sub_1))\n"
   ]
  },
  {
   "cell_type": "markdown",
   "id": "133f21d9",
   "metadata": {
    "papermill": {
     "duration": 0.095884,
     "end_time": "2024-02-15T09:53:35.092844",
     "exception": false,
     "start_time": "2024-02-15T09:53:34.996960",
     "status": "completed"
    },
    "tags": []
   },
   "source": [
    "Trick from: https://www.kaggle.com/code/kononenko/metric-s-trick-home-credit-baseline-inference"
   ]
  },
  {
   "cell_type": "code",
   "execution_count": 24,
   "id": "5d3ea309",
   "metadata": {
    "execution": {
     "iopub.execute_input": "2024-02-15T09:53:35.291995Z",
     "iopub.status.busy": "2024-02-15T09:53:35.291595Z",
     "iopub.status.idle": "2024-02-15T09:53:35.310424Z",
     "shell.execute_reply": "2024-02-15T09:53:35.309406Z"
    },
    "papermill": {
     "duration": 0.122217,
     "end_time": "2024-02-15T09:53:35.312974",
     "exception": false,
     "start_time": "2024-02-15T09:53:35.190757",
     "status": "completed"
    },
    "tags": []
   },
   "outputs": [],
   "source": [
    "test = pd.read_csv(\"/kaggle/input/home-credit-credit-risk-model-stability/csv_files/test/test_base.csv\")\n",
    "# sub = pd.read_csv(\"/kaggle/input/home-credit-credit-risk-model-stability/sample_submission.csv\", dtype={\"case_id\": int}).set_index(\"case_id\")\n",
    "SHIFT = 0.03\n",
    "week_num = list(test[\"WEEK_NUM\"])\n",
    "sub[\"WEEK_NUM\"] = week_num\n",
    "condition = sub[\"WEEK_NUM\"] < (sub[\"WEEK_NUM\"].max() - sub[\"WEEK_NUM\"].min())/2 + sub[\"WEEK_NUM\"].min()\n",
    "sub.loc[condition, 'score'] = (sub.loc[condition, 'score'] - SHIFT).clip(0)\n",
    "del sub[\"WEEK_NUM\"]\n",
    "sub.to_csv(\"submission.csv\")"
   ]
  }
 ],
 "metadata": {
  "kaggle": {
   "accelerator": "gpu",
   "dataSources": [
    {
     "databundleVersionId": 7602123,
     "sourceId": 50160,
     "sourceType": "competition"
    },
    {
     "datasetId": 4414761,
     "sourceId": 7584174,
     "sourceType": "datasetVersion"
    },
    {
     "datasetId": 4425208,
     "sourceId": 7612562,
     "sourceType": "datasetVersion"
    },
    {
     "datasetId": 4427498,
     "sourceId": 7615318,
     "sourceType": "datasetVersion"
    },
    {
     "sourceId": 161936385,
     "sourceType": "kernelVersion"
    },
    {
     "sourceId": 162139728,
     "sourceType": "kernelVersion"
    },
    {
     "sourceId": 162306843,
     "sourceType": "kernelVersion"
    },
    {
     "sourceId": 162314401,
     "sourceType": "kernelVersion"
    },
    {
     "sourceId": 162317063,
     "sourceType": "kernelVersion"
    },
    {
     "sourceId": 162351144,
     "sourceType": "kernelVersion"
    },
    {
     "sourceId": 162438049,
     "sourceType": "kernelVersion"
    },
    {
     "sourceId": 162470947,
     "sourceType": "kernelVersion"
    },
    {
     "sourceId": 162486662,
     "sourceType": "kernelVersion"
    },
    {
     "sourceId": 162486957,
     "sourceType": "kernelVersion"
    },
    {
     "sourceId": 162602153,
     "sourceType": "kernelVersion"
    },
    {
     "sourceId": 162605422,
     "sourceType": "kernelVersion"
    },
    {
     "sourceId": 162611024,
     "sourceType": "kernelVersion"
    },
    {
     "sourceId": 162639939,
     "sourceType": "kernelVersion"
    }
   ],
   "dockerImageVersionId": 30648,
   "isGpuEnabled": true,
   "isInternetEnabled": false,
   "language": "python",
   "sourceType": "notebook"
  },
  "kernelspec": {
   "display_name": "Python 3 (ipykernel)",
   "language": "python",
   "name": "python3"
  },
  "language_info": {
   "codemirror_mode": {
    "name": "ipython",
    "version": 3
   },
   "file_extension": ".py",
   "mimetype": "text/x-python",
   "name": "python",
   "nbconvert_exporter": "python",
   "pygments_lexer": "ipython3",
   "version": "3.9.12"
  },
  "papermill": {
   "default_parameters": {},
   "duration": 3204.479918,
   "end_time": "2024-02-15T09:53:36.451905",
   "environment_variables": {},
   "exception": null,
   "input_path": "__notebook__.ipynb",
   "output_path": "__notebook__.ipynb",
   "parameters": {},
   "start_time": "2024-02-15T09:00:11.971987",
   "version": "2.5.0"
  }
 },
 "nbformat": 4,
 "nbformat_minor": 5
}
