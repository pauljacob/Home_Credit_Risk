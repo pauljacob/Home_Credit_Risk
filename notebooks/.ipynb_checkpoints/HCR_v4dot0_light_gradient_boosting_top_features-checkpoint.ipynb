{
 "cells": [
  {
   "cell_type": "code",
   "execution_count": 1,
   "id": "a2e43110",
   "metadata": {},
   "outputs": [],
   "source": [
    "# !brew install lightgbm\n",
    "\n",
    "#build lightgbm from source: https://lightgbm.readthedocs.io/en/latest/Installation-Guide.html#macos\n",
    "\n"
   ]
  },
  {
   "cell_type": "code",
   "execution_count": 2,
   "id": "ba28c8c1",
   "metadata": {},
   "outputs": [
    {
     "name": "stdout",
     "output_type": "stream",
     "text": [
      "Package installed successfully.\n"
     ]
    }
   ],
   "source": [
    "import subprocess; result = subprocess.run(['pip3', 'install', 'ipython-autotime'], capture_output=True)\n",
    "print(f\"There was a problem installing the package.\\nError output:\\n{result.stderr.decode('utf-8')}\") if result.returncode != 0 else print(\"Package installed successfully.\")\n"
   ]
  },
  {
   "cell_type": "code",
   "execution_count": 3,
   "id": "dccb5d70",
   "metadata": {},
   "outputs": [
    {
     "name": "stdout",
     "output_type": "stream",
     "text": [
      "time: 151 µs (started: 2024-04-07 21:44:30 -07:00)\n"
     ]
    }
   ],
   "source": [
    "%load_ext autotime\n"
   ]
  },
  {
   "cell_type": "code",
   "execution_count": null,
   "id": "46e75fec",
   "metadata": {},
   "outputs": [],
   "source": [
    "!pip3 install lightgbm"
   ]
  },
  {
   "cell_type": "code",
   "execution_count": 5,
   "id": "1b44d8da",
   "metadata": {},
   "outputs": [
    {
     "name": "stdout",
     "output_type": "stream",
     "text": [
      "time: 634 µs (started: 2024-04-07 21:44:32 -07:00)\n"
     ]
    }
   ],
   "source": [
    "import sys\n",
    "# source_directory = \"/opt/homebrew/bin\"\n",
    "# sys.path.append(source_directory)\n",
    "\n",
    "# source_directory = \"/opt/homebrew/Cellar\"\n",
    "# sys.path.append(source_directory)\n",
    "\n",
    "import sys\n",
    "source_directory = \"/Users/pauljacob/Library/Python/3.9/lib/python/site-packages\"\n",
    "sys.path.append(source_directory)"
   ]
  },
  {
   "cell_type": "code",
   "execution_count": null,
   "id": "03116aa0",
   "metadata": {},
   "outputs": [],
   "source": []
  },
  {
   "cell_type": "code",
   "execution_count": 6,
   "id": "b9b059db",
   "metadata": {
    "_cell_guid": "b1076dfc-b9ad-4769-8c92-a6c4dae69d19",
    "_uuid": "8f2839f25d086af736a60e9eeb907d3b93b6e0e5",
    "execution": {
     "iopub.execute_input": "2024-03-11T20:20:13.177936Z",
     "iopub.status.busy": "2024-03-11T20:20:13.177674Z",
     "iopub.status.idle": "2024-03-11T20:20:19.340830Z",
     "shell.execute_reply": "2024-03-11T20:20:19.340062Z"
    },
    "papermill": {
     "duration": 6.175783,
     "end_time": "2024-03-11T20:20:19.343026",
     "exception": false,
     "start_time": "2024-03-11T20:20:13.167243",
     "status": "completed"
    },
    "tags": []
   },
   "outputs": [
    {
     "ename": "OSError",
     "evalue": "dlopen(/Users/pauljacob/opt/anaconda3/lib/python3.9/site-packages/lightgbm/lib/lib_lightgbm.so, 0x0006): Library not loaded: /usr/local/opt/libomp/lib/libomp.dylib\n  Referenced from: <C3EB28DD-60B6-3334-AFA2-72BBBF9DBAEF> /Users/pauljacob/opt/anaconda3/lib/python3.9/site-packages/lightgbm/lib/lib_lightgbm.so\n  Reason: tried: '/usr/local/opt/libomp/lib/libomp.dylib' (no such file), '/System/Volumes/Preboot/Cryptexes/OS/usr/local/opt/libomp/lib/libomp.dylib' (no such file), '/usr/local/opt/libomp/lib/libomp.dylib' (no such file), '/usr/local/lib/libomp.dylib' (no such file), '/usr/lib/libomp.dylib' (no such file, not in dyld cache)",
     "output_type": "error",
     "traceback": [
      "\u001b[0;31m---------------------------------------------------------------------------\u001b[0m",
      "\u001b[0;31mOSError\u001b[0m                                   Traceback (most recent call last)",
      "Input \u001b[0;32mIn [6]\u001b[0m, in \u001b[0;36m<cell line: 17>\u001b[0;34m()\u001b[0m\n\u001b[1;32m     14\u001b[0m \u001b[38;5;28;01mfrom\u001b[39;00m \u001b[38;5;21;01msklearn\u001b[39;00m\u001b[38;5;21;01m.\u001b[39;00m\u001b[38;5;21;01mmodel_selection\u001b[39;00m \u001b[38;5;28;01mimport\u001b[39;00m StratifiedGroupKFold\n\u001b[1;32m     15\u001b[0m \u001b[38;5;28;01mfrom\u001b[39;00m \u001b[38;5;21;01msklearn\u001b[39;00m\u001b[38;5;21;01m.\u001b[39;00m\u001b[38;5;21;01mbase\u001b[39;00m \u001b[38;5;28;01mimport\u001b[39;00m BaseEstimator, ClassifierMixin\n\u001b[0;32m---> 17\u001b[0m \u001b[38;5;28;01mimport\u001b[39;00m \u001b[38;5;21;01mlightgbm\u001b[39;00m \u001b[38;5;28;01mas\u001b[39;00m \u001b[38;5;21;01mlgb\u001b[39;00m\n\u001b[1;32m     19\u001b[0m \u001b[38;5;28;01mimport\u001b[39;00m \u001b[38;5;21;01mwarnings\u001b[39;00m\n\u001b[1;32m     20\u001b[0m warnings\u001b[38;5;241m.\u001b[39msimplefilter(action\u001b[38;5;241m=\u001b[39m\u001b[38;5;124m'\u001b[39m\u001b[38;5;124mignore\u001b[39m\u001b[38;5;124m'\u001b[39m, category\u001b[38;5;241m=\u001b[39m\u001b[38;5;167;01mFutureWarning\u001b[39;00m)\n",
      "File \u001b[0;32m~/opt/anaconda3/lib/python3.9/site-packages/lightgbm/__init__.py:8\u001b[0m, in \u001b[0;36m<module>\u001b[0;34m\u001b[0m\n\u001b[1;32m      2\u001b[0m \u001b[38;5;124;03m\"\"\"LightGBM, Light Gradient Boosting Machine.\u001b[39;00m\n\u001b[1;32m      3\u001b[0m \n\u001b[1;32m      4\u001b[0m \u001b[38;5;124;03mContributors: https://github.com/microsoft/LightGBM/graphs/contributors.\u001b[39;00m\n\u001b[1;32m      5\u001b[0m \u001b[38;5;124;03m\"\"\"\u001b[39;00m\n\u001b[1;32m      6\u001b[0m \u001b[38;5;28;01mfrom\u001b[39;00m \u001b[38;5;21;01mpathlib\u001b[39;00m \u001b[38;5;28;01mimport\u001b[39;00m Path\n\u001b[0;32m----> 8\u001b[0m \u001b[38;5;28;01mfrom\u001b[39;00m \u001b[38;5;21;01m.\u001b[39;00m\u001b[38;5;21;01mbasic\u001b[39;00m \u001b[38;5;28;01mimport\u001b[39;00m Booster, Dataset, Sequence, register_logger\n\u001b[1;32m      9\u001b[0m \u001b[38;5;28;01mfrom\u001b[39;00m \u001b[38;5;21;01m.\u001b[39;00m\u001b[38;5;21;01mcallback\u001b[39;00m \u001b[38;5;28;01mimport\u001b[39;00m EarlyStopException, early_stopping, log_evaluation, record_evaluation, reset_parameter\n\u001b[1;32m     10\u001b[0m \u001b[38;5;28;01mfrom\u001b[39;00m \u001b[38;5;21;01m.\u001b[39;00m\u001b[38;5;21;01mengine\u001b[39;00m \u001b[38;5;28;01mimport\u001b[39;00m CVBooster, cv, train\n",
      "File \u001b[0;32m~/opt/anaconda3/lib/python3.9/site-packages/lightgbm/basic.py:247\u001b[0m, in \u001b[0;36m<module>\u001b[0;34m\u001b[0m\n\u001b[1;32m    245\u001b[0m     _LIB \u001b[38;5;241m=\u001b[39m Mock(ctypes\u001b[38;5;241m.\u001b[39mCDLL)  \u001b[38;5;66;03m# type: ignore\u001b[39;00m\n\u001b[1;32m    246\u001b[0m \u001b[38;5;28;01melse\u001b[39;00m:\n\u001b[0;32m--> 247\u001b[0m     _LIB \u001b[38;5;241m=\u001b[39m \u001b[43m_load_lib\u001b[49m\u001b[43m(\u001b[49m\u001b[43m)\u001b[49m\n\u001b[1;32m    250\u001b[0m _NUMERIC_TYPES \u001b[38;5;241m=\u001b[39m (\u001b[38;5;28mint\u001b[39m, \u001b[38;5;28mfloat\u001b[39m, \u001b[38;5;28mbool\u001b[39m)\n\u001b[1;32m    251\u001b[0m _ArrayLike \u001b[38;5;241m=\u001b[39m Union[List, np\u001b[38;5;241m.\u001b[39mndarray, pd_Series]\n",
      "File \u001b[0;32m~/opt/anaconda3/lib/python3.9/site-packages/lightgbm/basic.py:232\u001b[0m, in \u001b[0;36m_load_lib\u001b[0;34m()\u001b[0m\n\u001b[1;32m    230\u001b[0m \u001b[38;5;124;03m\"\"\"Load LightGBM library.\"\"\"\u001b[39;00m\n\u001b[1;32m    231\u001b[0m lib_path \u001b[38;5;241m=\u001b[39m find_lib_path()\n\u001b[0;32m--> 232\u001b[0m lib \u001b[38;5;241m=\u001b[39m \u001b[43mctypes\u001b[49m\u001b[38;5;241;43m.\u001b[39;49m\u001b[43mcdll\u001b[49m\u001b[38;5;241;43m.\u001b[39;49m\u001b[43mLoadLibrary\u001b[49m\u001b[43m(\u001b[49m\u001b[43mlib_path\u001b[49m\u001b[43m[\u001b[49m\u001b[38;5;241;43m0\u001b[39;49m\u001b[43m]\u001b[49m\u001b[43m)\u001b[49m\n\u001b[1;32m    233\u001b[0m lib\u001b[38;5;241m.\u001b[39mLGBM_GetLastError\u001b[38;5;241m.\u001b[39mrestype \u001b[38;5;241m=\u001b[39m ctypes\u001b[38;5;241m.\u001b[39mc_char_p\n\u001b[1;32m    234\u001b[0m callback \u001b[38;5;241m=\u001b[39m ctypes\u001b[38;5;241m.\u001b[39mCFUNCTYPE(\u001b[38;5;28;01mNone\u001b[39;00m, ctypes\u001b[38;5;241m.\u001b[39mc_char_p)\n",
      "File \u001b[0;32m~/opt/anaconda3/lib/python3.9/ctypes/__init__.py:460\u001b[0m, in \u001b[0;36mLibraryLoader.LoadLibrary\u001b[0;34m(self, name)\u001b[0m\n\u001b[1;32m    459\u001b[0m \u001b[38;5;28;01mdef\u001b[39;00m \u001b[38;5;21mLoadLibrary\u001b[39m(\u001b[38;5;28mself\u001b[39m, name):\n\u001b[0;32m--> 460\u001b[0m     \u001b[38;5;28;01mreturn\u001b[39;00m \u001b[38;5;28;43mself\u001b[39;49m\u001b[38;5;241;43m.\u001b[39;49m\u001b[43m_dlltype\u001b[49m\u001b[43m(\u001b[49m\u001b[43mname\u001b[49m\u001b[43m)\u001b[49m\n",
      "File \u001b[0;32m~/opt/anaconda3/lib/python3.9/ctypes/__init__.py:382\u001b[0m, in \u001b[0;36mCDLL.__init__\u001b[0;34m(self, name, mode, handle, use_errno, use_last_error, winmode)\u001b[0m\n\u001b[1;32m    379\u001b[0m \u001b[38;5;28mself\u001b[39m\u001b[38;5;241m.\u001b[39m_FuncPtr \u001b[38;5;241m=\u001b[39m _FuncPtr\n\u001b[1;32m    381\u001b[0m \u001b[38;5;28;01mif\u001b[39;00m handle \u001b[38;5;129;01mis\u001b[39;00m \u001b[38;5;28;01mNone\u001b[39;00m:\n\u001b[0;32m--> 382\u001b[0m     \u001b[38;5;28mself\u001b[39m\u001b[38;5;241m.\u001b[39m_handle \u001b[38;5;241m=\u001b[39m \u001b[43m_dlopen\u001b[49m\u001b[43m(\u001b[49m\u001b[38;5;28;43mself\u001b[39;49m\u001b[38;5;241;43m.\u001b[39;49m\u001b[43m_name\u001b[49m\u001b[43m,\u001b[49m\u001b[43m \u001b[49m\u001b[43mmode\u001b[49m\u001b[43m)\u001b[49m\n\u001b[1;32m    383\u001b[0m \u001b[38;5;28;01melse\u001b[39;00m:\n\u001b[1;32m    384\u001b[0m     \u001b[38;5;28mself\u001b[39m\u001b[38;5;241m.\u001b[39m_handle \u001b[38;5;241m=\u001b[39m handle\n",
      "\u001b[0;31mOSError\u001b[0m: dlopen(/Users/pauljacob/opt/anaconda3/lib/python3.9/site-packages/lightgbm/lib/lib_lightgbm.so, 0x0006): Library not loaded: /usr/local/opt/libomp/lib/libomp.dylib\n  Referenced from: <C3EB28DD-60B6-3334-AFA2-72BBBF9DBAEF> /Users/pauljacob/opt/anaconda3/lib/python3.9/site-packages/lightgbm/lib/lib_lightgbm.so\n  Reason: tried: '/usr/local/opt/libomp/lib/libomp.dylib' (no such file), '/System/Volumes/Preboot/Cryptexes/OS/usr/local/opt/libomp/lib/libomp.dylib' (no such file), '/usr/local/opt/libomp/lib/libomp.dylib' (no such file), '/usr/local/lib/libomp.dylib' (no such file), '/usr/lib/libomp.dylib' (no such file, not in dyld cache)"
     ]
    },
    {
     "name": "stdout",
     "output_type": "stream",
     "text": [
      "time: 4.38 s (started: 2024-04-07 21:44:32 -07:00)\n"
     ]
    }
   ],
   "source": [
    "import os\n",
    "import gc\n",
    "from glob import glob\n",
    "from pathlib import Path\n",
    "from datetime import datetime\n",
    "\n",
    "import numpy as np\n",
    "import pandas as pd\n",
    "import polars as pl\n",
    "\n",
    "import matplotlib.pyplot as plt\n",
    "import seaborn as sns\n",
    "\n",
    "from sklearn.model_selection import StratifiedGroupKFold\n",
    "from sklearn.base import BaseEstimator, ClassifierMixin\n",
    "\n",
    "import lightgbm as lgb\n",
    "\n",
    "import warnings\n",
    "warnings.simplefilter(action='ignore', category=FutureWarning)"
   ]
  },
  {
   "cell_type": "code",
   "execution_count": null,
   "id": "acefcf76",
   "metadata": {},
   "outputs": [],
   "source": [
    "help(lgb)"
   ]
  },
  {
   "cell_type": "code",
   "execution_count": null,
   "id": "0e48eec0",
   "metadata": {},
   "outputs": [],
   "source": [
    "import time\n",
    "\n",
    "\n",
    "from IPython.core.display import display, HTML\n",
    "display(HTML(\"<style>.container { width:99.9% !important; }</style>\"))\n",
    "pd.options.display.max_columns = 3999\n",
    "pd.options.display.max_rows = 999\n",
    "\n",
    "pd.set_option('display.max_colwidth', None)\n",
    "pd.options.display.max_info_columns = 3999\n",
    "\n",
    "\n",
    "###########################\n",
    "\n",
    "def preview_list(list_):\n",
    "    \"\"\"Print the list length and return the list.\n",
    "\n",
    "    Args:\n",
    "        list_ (list): The list object to return.\n",
    "\n",
    "    Returns:\n",
    "        list_ (list): The same list object.\n",
    "    \"\"\"\n",
    "    print(len(list_))\n",
    "    return list_"
   ]
  },
  {
   "cell_type": "markdown",
   "id": "0e7fb251",
   "metadata": {
    "papermill": {
     "duration": 0.008777,
     "end_time": "2024-03-11T20:20:19.361579",
     "exception": false,
     "start_time": "2024-03-11T20:20:19.352802",
     "status": "completed"
    },
    "tags": []
   },
   "source": [
    "### Pre-Fitted Voting Model"
   ]
  },
  {
   "cell_type": "code",
   "execution_count": null,
   "id": "db0720f2",
   "metadata": {
    "execution": {
     "iopub.execute_input": "2024-03-11T20:20:19.381759Z",
     "iopub.status.busy": "2024-03-11T20:20:19.381081Z",
     "iopub.status.idle": "2024-03-11T20:20:19.387550Z",
     "shell.execute_reply": "2024-03-11T20:20:19.386761Z"
    },
    "papermill": {
     "duration": 0.018278,
     "end_time": "2024-03-11T20:20:19.389382",
     "exception": false,
     "start_time": "2024-03-11T20:20:19.371104",
     "status": "completed"
    },
    "tags": []
   },
   "outputs": [],
   "source": [
    "class VotingModel(BaseEstimator, ClassifierMixin):\n",
    "    def __init__(self, estimators):\n",
    "        super().__init__()\n",
    "        self.estimators = estimators\n",
    "        \n",
    "    def fit(self, X, y=None):\n",
    "        return self\n",
    "    \n",
    "    def predict(self, X):\n",
    "        y_preds = [estimator.predict(X) for estimator in self.estimators]\n",
    "        return np.mean(y_preds, axis=0)\n",
    "    \n",
    "    def predict_proba(self, X):\n",
    "        y_preds = [estimator.predict_proba(X) for estimator in self.estimators]\n",
    "        return np.mean(y_preds, axis=0)"
   ]
  },
  {
   "cell_type": "markdown",
   "id": "619c2a3a",
   "metadata": {
    "papermill": {
     "duration": 0.008615,
     "end_time": "2024-03-11T20:20:19.406942",
     "exception": false,
     "start_time": "2024-03-11T20:20:19.398327",
     "status": "completed"
    },
    "tags": []
   },
   "source": [
    "### Pipeline"
   ]
  },
  {
   "cell_type": "code",
   "execution_count": null,
   "id": "569dbecf",
   "metadata": {
    "execution": {
     "iopub.execute_input": "2024-03-11T20:20:19.425745Z",
     "iopub.status.busy": "2024-03-11T20:20:19.425481Z",
     "iopub.status.idle": "2024-03-11T20:20:19.437672Z",
     "shell.execute_reply": "2024-03-11T20:20:19.436838Z"
    },
    "papermill": {
     "duration": 0.023479,
     "end_time": "2024-03-11T20:20:19.439407",
     "exception": false,
     "start_time": "2024-03-11T20:20:19.415928",
     "status": "completed"
    },
    "tags": []
   },
   "outputs": [],
   "source": []
  },
  {
   "cell_type": "markdown",
   "id": "c49e3f30",
   "metadata": {
    "papermill": {
     "duration": 0.008664,
     "end_time": "2024-03-11T20:20:19.457100",
     "exception": false,
     "start_time": "2024-03-11T20:20:19.448436",
     "status": "completed"
    },
    "tags": []
   },
   "source": [
    "### Automatic Aggregation"
   ]
  },
  {
   "cell_type": "code",
   "execution_count": null,
   "id": "842a310a",
   "metadata": {
    "execution": {
     "iopub.execute_input": "2024-03-11T20:20:19.476571Z",
     "iopub.status.busy": "2024-03-11T20:20:19.476292Z",
     "iopub.status.idle": "2024-03-11T20:20:19.486434Z",
     "shell.execute_reply": "2024-03-11T20:20:19.485637Z"
    },
    "papermill": {
     "duration": 0.021569,
     "end_time": "2024-03-11T20:20:19.488325",
     "exception": false,
     "start_time": "2024-03-11T20:20:19.466756",
     "status": "completed"
    },
    "tags": []
   },
   "outputs": [],
   "source": []
  },
  {
   "cell_type": "markdown",
   "id": "918fb453",
   "metadata": {
    "papermill": {
     "duration": 0.009719,
     "end_time": "2024-03-11T20:20:19.506836",
     "exception": false,
     "start_time": "2024-03-11T20:20:19.497117",
     "status": "completed"
    },
    "tags": []
   },
   "source": [
    "### File I/O"
   ]
  },
  {
   "cell_type": "code",
   "execution_count": null,
   "id": "c2520a18",
   "metadata": {
    "execution": {
     "iopub.execute_input": "2024-03-11T20:20:19.525391Z",
     "iopub.status.busy": "2024-03-11T20:20:19.525145Z",
     "iopub.status.idle": "2024-03-11T20:20:19.531829Z",
     "shell.execute_reply": "2024-03-11T20:20:19.531102Z"
    },
    "papermill": {
     "duration": 0.018108,
     "end_time": "2024-03-11T20:20:19.533703",
     "exception": false,
     "start_time": "2024-03-11T20:20:19.515595",
     "status": "completed"
    },
    "tags": []
   },
   "outputs": [],
   "source": []
  },
  {
   "cell_type": "markdown",
   "id": "5751113b",
   "metadata": {
    "papermill": {
     "duration": 0.00854,
     "end_time": "2024-03-11T20:20:19.550995",
     "exception": false,
     "start_time": "2024-03-11T20:20:19.542455",
     "status": "completed"
    },
    "tags": []
   },
   "source": [
    "### Feature Engineering"
   ]
  },
  {
   "cell_type": "code",
   "execution_count": null,
   "id": "79001ea6",
   "metadata": {
    "execution": {
     "iopub.execute_input": "2024-03-11T20:20:19.595389Z",
     "iopub.status.busy": "2024-03-11T20:20:19.595137Z",
     "iopub.status.idle": "2024-03-11T20:20:19.599640Z",
     "shell.execute_reply": "2024-03-11T20:20:19.598867Z"
    },
    "papermill": {
     "duration": 0.015752,
     "end_time": "2024-03-11T20:20:19.601370",
     "exception": false,
     "start_time": "2024-03-11T20:20:19.585618",
     "status": "completed"
    },
    "tags": []
   },
   "outputs": [],
   "source": []
  },
  {
   "cell_type": "markdown",
   "id": "53397d0f",
   "metadata": {
    "papermill": {
     "duration": 0.00861,
     "end_time": "2024-03-11T20:20:19.619092",
     "exception": false,
     "start_time": "2024-03-11T20:20:19.610482",
     "status": "completed"
    },
    "tags": []
   },
   "source": [
    "### Configuration"
   ]
  },
  {
   "cell_type": "code",
   "execution_count": null,
   "id": "543fc1a9",
   "metadata": {
    "execution": {
     "iopub.execute_input": "2024-03-11T20:20:19.637746Z",
     "iopub.status.busy": "2024-03-11T20:20:19.637467Z",
     "iopub.status.idle": "2024-03-11T20:20:19.641419Z",
     "shell.execute_reply": "2024-03-11T20:20:19.640728Z"
    },
    "papermill": {
     "duration": 0.015255,
     "end_time": "2024-03-11T20:20:19.643247",
     "exception": false,
     "start_time": "2024-03-11T20:20:19.627992",
     "status": "completed"
    },
    "tags": []
   },
   "outputs": [],
   "source": []
  },
  {
   "cell_type": "markdown",
   "id": "1d35d110",
   "metadata": {
    "papermill": {
     "duration": 0.008715,
     "end_time": "2024-03-11T20:20:19.660605",
     "exception": false,
     "start_time": "2024-03-11T20:20:19.651890",
     "status": "completed"
    },
    "tags": []
   },
   "source": [
    "### Train Files Read & Feature Engineering"
   ]
  },
  {
   "cell_type": "code",
   "execution_count": null,
   "id": "7f4c3f75",
   "metadata": {},
   "outputs": [],
   "source": [
    "import pandas as pd\n",
    "\n",
    "def drop_null_columns(df, threshold=0.95):\n",
    "    null_threshold = threshold * len(df)\n",
    "    \n",
    "    columns_to_drop = [col for col in df.columns if df[col].isnull().sum() > null_threshold]\n",
    "    \n",
    "    df = df.drop(columns=columns_to_drop)\n",
    "    \n",
    "    return df\n"
   ]
  },
  {
   "cell_type": "code",
   "execution_count": null,
   "id": "8734aa88",
   "metadata": {},
   "outputs": [],
   "source": []
  },
  {
   "cell_type": "code",
   "execution_count": null,
   "id": "add21580",
   "metadata": {},
   "outputs": [],
   "source": []
  },
  {
   "cell_type": "code",
   "execution_count": null,
   "id": "53245387",
   "metadata": {},
   "outputs": [],
   "source": []
  },
  {
   "cell_type": "code",
   "execution_count": null,
   "id": "dd7b71e1",
   "metadata": {},
   "outputs": [],
   "source": []
  },
  {
   "cell_type": "code",
   "execution_count": null,
   "id": "ea9ffd91",
   "metadata": {},
   "outputs": [],
   "source": []
  },
  {
   "cell_type": "code",
   "execution_count": null,
   "id": "b88554e1",
   "metadata": {},
   "outputs": [],
   "source": []
  },
  {
   "cell_type": "markdown",
   "id": "ac25c631",
   "metadata": {},
   "source": [
    "## Overhaul 3: to_datetime() more"
   ]
  },
  {
   "cell_type": "code",
   "execution_count": null,
   "id": "dac6e0b4",
   "metadata": {},
   "outputs": [],
   "source": [
    "class Pipeline:\n",
    "    @staticmethod\n",
    "    def set_table_dtypes(df):\n",
    "        for col in df.columns:\n",
    "            if col in [\"case_id\", \"WEEK_NUM\", \"num_group1\", \"num_group2\"]:\n",
    "                df.loc[:, col] = df.loc[:, col].astype('int32')\n",
    "            elif col in [\"date_decision\"]:\n",
    "                df.loc[:, col] = pd.to_datetime(df.loc[:, col]) #.astype('datetime64[ns]') #with_columns(pl.col(col).cast(pl.Date))\n",
    "            elif col[-1] in (\"P\", \"A\"):\n",
    "                df.loc[:, col] = df.loc[:, col].astype('float64') #with_columns(pl.col(col).cast(pl.Float64))\n",
    "            elif col[-1] in (\"M\",):\n",
    "                df.loc[:, col] = df.loc[:, col].astype('object') #.astype('string') #with_columns(pl.col(col).cast(pl.String))\n",
    "            elif col[-1] in (\"D\",):\n",
    "                df.loc[:, col] = pd.to_datetime(df.loc[:, col]) #.astype('datetime64[ns]') #with_columns(pl.col(col).cast(pl.Date))            \n",
    "\n",
    "        return df\n",
    "    \n",
    "    @staticmethod\n",
    "    def handle_dates(df):\n",
    "        '''Edit date to number of days before the loan approval/refusal/denial decision date'''\n",
    "        for col in df.columns:\n",
    "            if col[-1] in (\"D\",):\n",
    "                df.loc[:, col] = df.loc[:, col] - df.loc[:, 'date_decision'] #.with_columns(pl.col(col) - pl.col(\"date_decision\"))\n",
    "                df.loc[:, col] = df.loc[:, col].astype('timedelta64[D]') #df = df.with_columns(pl.col(col).dt.total_days())\n",
    "                #with_columns(pl.col(col).cast(pl.Float32))\n",
    "                \n",
    "        return df.drop(columns=[\"date_decision\", \"MONTH\"])\n",
    "\n",
    "    \n",
    "    @staticmethod\n",
    "    def filter_cols(df):\n",
    "        for col in df.columns:\n",
    "            if col not in [\"target\", \"case_id\", \"WEEK_NUM\"]:\n",
    "                isnull = df[col].isnull().mean()\n",
    "\n",
    "                if isnull > 0.95:\n",
    "                    df = df.drop(columns=col)\n",
    "\n",
    "        for col in df.columns:\n",
    "            if (col not in [\"target\", \"case_id\", \"WEEK_NUM\"]) & (df[col].dtype == object):\n",
    "                freq = df[col].nunique()\n",
    "\n",
    "                if (freq == 1) | (freq > 200):\n",
    "                    df = df.drop(columns=col)\n",
    "\n",
    "        return df\n",
    "\n",
    "\n",
    "\n",
    "class Aggregator:\n",
    "    @staticmethod\n",
    "    def num_expr(df):\n",
    "        '''P is for Transform DPD (Days past due); A is for Transform amount'''\n",
    "        cols = [col for col in df.columns if col[-1] in (\"P\", \"A\")]\n",
    "\n",
    "        return {col:'max' for col in cols}\n",
    "   \n",
    "\n",
    "    @staticmethod\n",
    "    def date_expr(df):\n",
    "        '''D is for Transform date'''\n",
    "        cols = [col for col in df.columns if col[-1] in (\"D\",)]\n",
    "\n",
    "        return {col:'max' for col in cols}\n",
    "\n",
    "    @staticmethod\n",
    "    def str_expr(df):\n",
    "        '''M is for  Masking categories'''\n",
    "        cols = [col for col in df.columns if col[-1] in (\"M\",)]\n",
    "        \n",
    "        return {col:'max' for col in cols}\n",
    "\n",
    "    @staticmethod\n",
    "    def other_expr(df):\n",
    "        '''T is for Unspecified Transform; L is for Unspecified Transform'''\n",
    "        cols = [col for col in df.columns if col[-1] in (\"T\", \"L\")]\n",
    "        \n",
    "        return {col:'max' for col in cols}\n",
    "\n",
    "    \n",
    "    @staticmethod\n",
    "    def count_expr(df):\n",
    "        cols = [col for col in df.columns if \"num_group\" in col]\n",
    "\n",
    "        return {col:'max' for col in cols}\n",
    "        \n",
    "\n",
    "    @staticmethod\n",
    "    def get_exprs(df):\n",
    "        return {**Aggregator.num_expr(df),\n",
    "                **Aggregator.date_expr(df), \n",
    "                #**Aggregator.str_expr(df), \n",
    "                #**Aggregator.other_expr(df),\n",
    "                **Aggregator.count_expr(df)}\n",
    "\n",
    "    \n",
    "    @staticmethod    \n",
    "    def get_cols_dictionary(df):\n",
    "        exprs = Aggregator.get_exprs(df)\n",
    "        cols = exprs.keys()\n",
    "        cols_dictionary = {f'{col}':f'{exprs[col]}_{col}' for col in cols}\n",
    "        print(f\"cols_dictionary: {cols_dictionary}\")\n",
    "        return cols_dictionary\n",
    "\n",
    "    \n",
    "    \n",
    "\n",
    "def read_file(path, depth=None):\n",
    "    '''read in the file; the data type by column name or suffix'''\n",
    "    df = pd.read_csv(path)\n",
    "    df = df.pipe(Pipeline.set_table_dtypes)\n",
    "    \n",
    "    if depth in [1, 2]:\n",
    "        df = df.groupby(\"case_id\").agg(Aggregator.get_exprs(df)).rename(columns=Aggregator.get_cols_dictionary(df)) #df = df.groupby(\"case_id\").agg(Aggregator.get_exprs(df))\n",
    "    \n",
    "    return df\n",
    "\n",
    "\n",
    "def read_files(regex_path, depth=None):\n",
    "    chunks = []\n",
    "    for path in glob(str(regex_path)):\n",
    "        df = pd.read_csv(path)\n",
    "        df = df.pipe(Pipeline.set_table_dtypes)\n",
    "        \n",
    "        if depth in [1, 2]:\n",
    "            df = df.groupby(\"case_id\").agg(Aggregator.get_exprs(df)).rename(columns=Aggregator.get_cols_dictionary(df))\n",
    "\n",
    "        \n",
    "        chunks.append(df)\n",
    "        \n",
    "    df = pd.concat(chunks, axis=0)\n",
    "    return df.drop_duplicates()\n",
    "\n",
    "\n",
    "\n",
    "\n",
    "\n",
    "def feature_engineering(df_base, depth_0, depth_1, depth_2):\n",
    "    \n",
    "    #add 2 new columns\n",
    "    df_base.loc[:, 'date_decision'] = pd.to_datetime(df_base.loc[:, 'date_decision'])\n",
    "    df_base.loc[:, 'month_decision'] = df_base.loc[:, 'date_decision'].dt.month\n",
    "    df_base.loc[:, 'day_decision'] = df_base.loc[:, 'date_decision'].dt.day\n",
    "    #df_base = (df_base.with_columns(month_decision = pl.col(\"date_decision\").dt.month(), weekday_decision = pl.col(\"date_decision\").dt.weekday(),))\n",
    "\n",
    "    \n",
    "    #left join the DataFrame's in the list on 'case_id'\n",
    "    for i, df in enumerate(depth_0 + depth_1 + depth_2):\n",
    "        df_base = pd.merge(df_base, df, on='case_id', how='left', suffixes=(\"\", f\"_{i}\")) #df_base = df_base.join(df, how=\"left\", on=\"case_id\", suffix=f\"_{i}\")\n",
    "        \n",
    "    df_base = df_base.pipe(Pipeline.handle_dates)\n",
    "    \n",
    "    return df_base\n",
    "\n",
    "\n",
    "\n",
    "\n",
    "TRAIN_DIR = \"../data/raw/train/\"\n",
    "\n",
    "data_store = {\n",
    "    \"df_base\": read_file(TRAIN_DIR + \"train_base.csv\"),\n",
    "    \"depth_0\": [\n",
    "        read_file(TRAIN_DIR + \"train_static_cb_0.csv\"),\n",
    "        read_files(TRAIN_DIR + \"train_static_0_*.csv\"),\n",
    "    ],\n",
    "    \"depth_1\": [\n",
    "        read_files(TRAIN_DIR + \"train_applprev_1_*.csv\", 1),\n",
    "        read_file(TRAIN_DIR + \"train_tax_registry_a_1.csv\", 1),\n",
    "        read_file(TRAIN_DIR + \"train_tax_registry_b_1.csv\", 1),\n",
    "        read_file(TRAIN_DIR + \"train_tax_registry_c_1.csv\", 1),\n",
    "        read_files(TRAIN_DIR + \"train_credit_bureau_a_1_*.csv\", 1),\n",
    "        read_file(TRAIN_DIR + \"train_credit_bureau_b_1.csv\", 1),\n",
    "        read_file(TRAIN_DIR + \"train_other_1.csv\", 1),\n",
    "        read_file(TRAIN_DIR + \"train_person_1.csv\", 1),\n",
    "        read_file(TRAIN_DIR + \"train_deposit_1.csv\", 1),\n",
    "        read_file(TRAIN_DIR + \"train_debitcard_1.csv\", 1),\n",
    "    ],\n",
    "    \"depth_2\": [\n",
    "        read_file(TRAIN_DIR + \"train_credit_bureau_b_2.csv\", 2),\n",
    "        read_files(TRAIN_DIR + \"train_credit_bureau_a_2_*.csv\", 2),\n",
    "    ]\n",
    "}\n",
    "\n",
    "\n",
    "\n",
    "def preview_df(df):\n",
    "    \"\"\"Of this DataFrame, prints the row and column count and then returns the concatenated first 5 and last % rows.\n",
    "\n",
    "    Args:\n",
    "        df (DataFrame): This pandas DataFrame object.\n",
    "    Returns:\n",
    "        df (DataFrame): The concatenated first 5 and last 5 rows of this pandas DataFrame.\n",
    "    \"\"\"\n",
    "    if df.shape[0] > 9:\n",
    "        print(df.shape)\n",
    "        return pd.DataFrame(pd.concat([df.head(5), df.tail(5)]))\n",
    "    else:\n",
    "        return df\n",
    "\n",
    "    \n",
    "#The *args will give you all positional arguments as a tuple\n",
    "#The **kwargs will give you all keyword arguments as a dictionary\n",
    "\n",
    "df_train = feature_engineering(**data_store)\n",
    "\n",
    "del data_store\n",
    "\n",
    "preview_df(df_train)\n",
    "\n"
   ]
  },
  {
   "cell_type": "code",
   "execution_count": null,
   "id": "c5725800",
   "metadata": {},
   "outputs": [],
   "source": [
    "help(gc.collect)"
   ]
  },
  {
   "cell_type": "code",
   "execution_count": null,
   "id": "51bd9212",
   "metadata": {},
   "outputs": [],
   "source": [
    "gc.collect()"
   ]
  },
  {
   "cell_type": "markdown",
   "id": "86fc22c5",
   "metadata": {},
   "source": [
    "### Feature Elimination"
   ]
  },
  {
   "cell_type": "code",
   "execution_count": null,
   "id": "72159265",
   "metadata": {},
   "outputs": [],
   "source": [
    "#drop columns with more than 95% non-null values\n",
    "\n",
    "df_train = df_train.pipe(Pipeline.filter_cols)\n",
    "\n",
    "preview_df(df_train)\n"
   ]
  },
  {
   "cell_type": "code",
   "execution_count": null,
   "id": "8aacde1f",
   "metadata": {},
   "outputs": [],
   "source": []
  },
  {
   "cell_type": "code",
   "execution_count": null,
   "id": "c7b8e2a4",
   "metadata": {},
   "outputs": [],
   "source": []
  },
  {
   "cell_type": "code",
   "execution_count": null,
   "id": "08d8d72a",
   "metadata": {},
   "outputs": [],
   "source": []
  },
  {
   "cell_type": "code",
   "execution_count": null,
   "id": "81c58234",
   "metadata": {},
   "outputs": [],
   "source": [
    "#M,T,L: M - masked, T - unspecified transformed, L unspecified transform\n",
    "\n",
    "#masked is expected as object\n",
    "\n",
    "#T would need investigation\n",
    "\n",
    "#L would need investigation\n",
    "\n",
    "\n",
    "column_name_list = list(df_train.columns)\n",
    "column_name_list_suffix_L = [column_name for column_name in column_name_list if column_name[-1] == 'L']\n",
    "df_suffix_L = df_train.loc[:, column_name_list_suffix_L]\n",
    "preview_df(df_suffix_L)"
   ]
  },
  {
   "cell_type": "code",
   "execution_count": null,
   "id": "089fefb4",
   "metadata": {},
   "outputs": [],
   "source": [
    "#use assumption of good interpretation of data types by pandas\n",
    "column_name_list_L_int = list(df_suffix_L.select_dtypes(include=['int']).columns)\n",
    "column_name_list_L_float = list(df_suffix_L.select_dtypes(include=['float']).columns)\n",
    "column_name_list_L_object = list(df_suffix_L.select_dtypes(include=['object']).columns)\n",
    "column_name_list_L_bool = list(df_suffix_L.select_dtypes(include=['bool']).columns)\n"
   ]
  },
  {
   "cell_type": "code",
   "execution_count": null,
   "id": "eee076d6",
   "metadata": {},
   "outputs": [],
   "source": [
    "df_suffix_L.loc[:, column_name_list_L_object]\n"
   ]
  },
  {
   "cell_type": "code",
   "execution_count": null,
   "id": "0892d11c",
   "metadata": {
    "scrolled": true
   },
   "outputs": [],
   "source": [
    "column_name_list_suffix_M = [column_name for column_name in column_name_list if column_name[-1] == 'M' and not column_name=='WEEK_NUM']\n",
    "df_suffix_M=df_train.loc[:, column_name_list_suffix_M]\n",
    "preview_df(df_suffix_M)"
   ]
  },
  {
   "cell_type": "code",
   "execution_count": null,
   "id": "8a060d7b",
   "metadata": {},
   "outputs": [],
   "source": []
  },
  {
   "cell_type": "code",
   "execution_count": null,
   "id": "5d34dfc9",
   "metadata": {},
   "outputs": [],
   "source": []
  },
  {
   "cell_type": "code",
   "execution_count": null,
   "id": "b3528e07",
   "metadata": {},
   "outputs": [],
   "source": [
    "column_name_drop_list = []\n",
    "\n",
    "#drop masked features for now\n",
    "column_name_drop_list += ['description_5085714M', 'education_1103M', 'education_88M', 'maritalst_385M', 'maritalst_893M', 'lastapprcommoditycat_1041M', 'lastapprcommoditytypec_5251766M', 'lastcancelreason_561M', 'lastrejectcommoditycat_161M', 'lastrejectcommodtypec_5251769M', 'lastrejectreason_759M', 'lastrejectreasonclient_4145040M', 'previouscontdistrict_112M']\n",
    "preview_list(column_name_drop_list)\n",
    "\n"
   ]
  },
  {
   "cell_type": "code",
   "execution_count": null,
   "id": "de5cfde5",
   "metadata": {},
   "outputs": [],
   "source": []
  },
  {
   "cell_type": "code",
   "execution_count": null,
   "id": "4384ee71",
   "metadata": {},
   "outputs": [],
   "source": []
  },
  {
   "cell_type": "code",
   "execution_count": null,
   "id": "5064c330",
   "metadata": {},
   "outputs": [],
   "source": []
  },
  {
   "cell_type": "code",
   "execution_count": null,
   "id": "6a4c0727",
   "metadata": {},
   "outputs": [],
   "source": []
  },
  {
   "cell_type": "code",
   "execution_count": null,
   "id": "99c8ca9c",
   "metadata": {},
   "outputs": [],
   "source": [
    "# df_train.info(show_counts=True)"
   ]
  },
  {
   "cell_type": "code",
   "execution_count": null,
   "id": "c6796de2",
   "metadata": {},
   "outputs": [],
   "source": []
  },
  {
   "cell_type": "code",
   "execution_count": null,
   "id": "1158f281",
   "metadata": {},
   "outputs": [],
   "source": []
  },
  {
   "cell_type": "code",
   "execution_count": null,
   "id": "4ffe6099",
   "metadata": {},
   "outputs": [],
   "source": []
  },
  {
   "cell_type": "code",
   "execution_count": null,
   "id": "4437a901",
   "metadata": {},
   "outputs": [],
   "source": []
  },
  {
   "cell_type": "markdown",
   "id": "ebc17bd7",
   "metadata": {},
   "source": [
    "### Convert to Type 'category' from Type 'object'"
   ]
  },
  {
   "cell_type": "code",
   "execution_count": null,
   "id": "d2e75da1",
   "metadata": {},
   "outputs": [],
   "source": [
    "#def to_pandas(df_data, cat_cols=None):\n",
    "def df_object_to_category(df_data, cat_cols=None):\n",
    "    #df_data = df_data.to_pandas()\n",
    "    \n",
    "    if cat_cols is None:\n",
    "        cat_cols = list(df_data.select_dtypes(\"object\").columns)\n",
    "    \n",
    "    df_data[cat_cols] = df_data[cat_cols].astype(\"category\")\n",
    "    \n",
    "    return df_data, cat_cols\n",
    "\n",
    "df_train, cat_cols = df_object_to_category(df_train)\n"
   ]
  },
  {
   "cell_type": "code",
   "execution_count": null,
   "id": "8f012373",
   "metadata": {},
   "outputs": [],
   "source": []
  },
  {
   "cell_type": "code",
   "execution_count": null,
   "id": "dca0b0a7",
   "metadata": {},
   "outputs": [],
   "source": []
  },
  {
   "cell_type": "code",
   "execution_count": null,
   "id": "4c98a84f",
   "metadata": {},
   "outputs": [],
   "source": [
    "\n",
    "TRAIN_DIR = \"../data/raw/train/\"\n",
    "#df = read_files2(TRAIN_DIR + \"train_applprev_1_0.csv\", 1)\n",
    "df = read_files2(TRAIN_DIR + \"train_applprev_1_*.csv\", 1)\n",
    "preview_df(df)\n",
    "\n",
    "\n",
    "\n"
   ]
  },
  {
   "cell_type": "code",
   "execution_count": null,
   "id": "2302dcba",
   "metadata": {},
   "outputs": [],
   "source": []
  },
  {
   "cell_type": "code",
   "execution_count": null,
   "id": "fa60dd8c",
   "metadata": {},
   "outputs": [],
   "source": []
  },
  {
   "cell_type": "code",
   "execution_count": null,
   "id": "044bcae1",
   "metadata": {},
   "outputs": [],
   "source": []
  },
  {
   "cell_type": "markdown",
   "id": "0f2c782c",
   "metadata": {
    "papermill": {
     "duration": 0.009084,
     "end_time": "2024-03-11T20:23:00.932380",
     "exception": false,
     "start_time": "2024-03-11T20:23:00.923296",
     "status": "completed"
    },
    "tags": []
   },
   "source": [
    "### EDA"
   ]
  },
  {
   "cell_type": "code",
   "execution_count": null,
   "id": "9a87b1ad",
   "metadata": {
    "execution": {
     "iopub.execute_input": "2024-03-11T20:23:00.952356Z",
     "iopub.status.busy": "2024-03-11T20:23:00.951810Z",
     "iopub.status.idle": "2024-03-11T20:23:00.978038Z",
     "shell.execute_reply": "2024-03-11T20:23:00.977167Z"
    },
    "papermill": {
     "duration": 0.038139,
     "end_time": "2024-03-11T20:23:00.979829",
     "exception": false,
     "start_time": "2024-03-11T20:23:00.941690",
     "status": "completed"
    },
    "tags": []
   },
   "outputs": [],
   "source": [
    "print(\"Train is duplicated:\\t\", df_train[\"case_id\"].duplicated().any())\n",
    "print(\"Train Week Range:\\t\", (df_train[\"WEEK_NUM\"].min(), df_train[\"WEEK_NUM\"].max()))\n",
    "\n",
    "sns.lineplot(\n",
    "    data=df_train,\n",
    "    x=\"WEEK_NUM\",\n",
    "    y=\"target\",\n",
    ")\n",
    "plt.show()"
   ]
  },
  {
   "cell_type": "code",
   "execution_count": null,
   "id": "6a1afb4b",
   "metadata": {},
   "outputs": [],
   "source": []
  },
  {
   "cell_type": "markdown",
   "id": "3c6f07d8",
   "metadata": {
    "papermill": {
     "duration": 0.01291,
     "end_time": "2024-03-11T20:23:17.567408",
     "exception": false,
     "start_time": "2024-03-11T20:23:17.554498",
     "status": "completed"
    },
    "tags": []
   },
   "source": [
    "### Training"
   ]
  },
  {
   "cell_type": "code",
   "execution_count": null,
   "id": "ee57fad5",
   "metadata": {
    "execution": {
     "iopub.execute_input": "2024-03-11T20:23:17.595206Z",
     "iopub.status.busy": "2024-03-11T20:23:17.594787Z",
     "iopub.status.idle": "2024-03-11T20:40:29.888472Z",
     "shell.execute_reply": "2024-03-11T20:40:29.887312Z"
    },
    "papermill": {
     "duration": 1032.311042,
     "end_time": "2024-03-11T20:40:29.890585",
     "exception": false,
     "start_time": "2024-03-11T20:23:17.579543",
     "status": "completed"
    },
    "tags": []
   },
   "outputs": [],
   "source": [
    "X = df_train.drop(columns=[\"target\", \"case_id\", \"WEEK_NUM\"])\n",
    "y = df_train[\"target\"]\n",
    "weeks = df_train[\"WEEK_NUM\"]\n",
    "\n",
    "cv = StratifiedGroupKFold(n_splits=5, shuffle=False)\n",
    "\n",
    "params = {\n",
    "    \"boosting_type\": \"gbdt\",\n",
    "    \"objective\": \"binary\",\n",
    "    \"metric\": \"auc\",\n",
    "    \"max_depth\": 8,\n",
    "    \"learning_rate\": 0.05,\n",
    "    \"n_estimators\": 1000,\n",
    "    \"colsample_bytree\": 0.8, \n",
    "    \"colsample_bynode\": 0.8,\n",
    "    \"verbose\": -1,\n",
    "    \"random_state\": 42,\n",
    "    \"device\": \"gpu\",\n",
    "}\n",
    "\n",
    "fitted_models = []\n",
    "\n",
    "for idx_train, idx_valid in cv.split(X, y, groups=weeks):\n",
    "    X_train, y_train = X.iloc[idx_train], y.iloc[idx_train]\n",
    "    X_valid, y_valid = X.iloc[idx_valid], y.iloc[idx_valid]\n",
    "\n",
    "    model = lgb.LGBMClassifier(**params)\n",
    "    model.fit(\n",
    "        X_train, y_train,\n",
    "        eval_set=[(X_valid, y_valid)],\n",
    "        callbacks=[lgb.log_evaluation(100), lgb.early_stopping(100)]\n",
    "    )\n",
    "\n",
    "    fitted_models.append(model)\n",
    "\n",
    "model = VotingModel(fitted_models)\n"
   ]
  },
  {
   "cell_type": "code",
   "execution_count": null,
   "id": "7219a9b9",
   "metadata": {},
   "outputs": [],
   "source": [
    "help(lgb)"
   ]
  },
  {
   "cell_type": "code",
   "execution_count": null,
   "id": "4aa489ce",
   "metadata": {},
   "outputs": [],
   "source": []
  },
  {
   "cell_type": "markdown",
   "id": "a2764c7f",
   "metadata": {
    "papermill": {
     "duration": 0.015335,
     "end_time": "2024-03-11T20:40:29.921663",
     "exception": false,
     "start_time": "2024-03-11T20:40:29.906328",
     "status": "completed"
    },
    "tags": []
   },
   "source": [
    "### Prediction"
   ]
  },
  {
   "cell_type": "code",
   "execution_count": null,
   "id": "37fc8919",
   "metadata": {
    "execution": {
     "iopub.execute_input": "2024-03-11T20:40:29.953970Z",
     "iopub.status.busy": "2024-03-11T20:40:29.953671Z",
     "iopub.status.idle": "2024-03-11T20:40:30.231819Z",
     "shell.execute_reply": "2024-03-11T20:40:30.230927Z"
    },
    "papermill": {
     "duration": 0.29704,
     "end_time": "2024-03-11T20:40:30.234187",
     "exception": false,
     "start_time": "2024-03-11T20:40:29.937147",
     "status": "completed"
    },
    "tags": []
   },
   "outputs": [],
   "source": []
  },
  {
   "cell_type": "markdown",
   "id": "22d542aa",
   "metadata": {
    "papermill": {
     "duration": 0.015506,
     "end_time": "2024-03-11T20:40:30.266313",
     "exception": false,
     "start_time": "2024-03-11T20:40:30.250807",
     "status": "completed"
    },
    "tags": []
   },
   "source": [
    "### Submission"
   ]
  },
  {
   "cell_type": "code",
   "execution_count": null,
   "id": "64927164",
   "metadata": {
    "execution": {
     "iopub.execute_input": "2024-03-11T20:40:30.299204Z",
     "iopub.status.busy": "2024-03-11T20:40:30.298476Z",
     "iopub.status.idle": "2024-03-11T20:40:30.315227Z",
     "shell.execute_reply": "2024-03-11T20:40:30.314249Z"
    },
    "papermill": {
     "duration": 0.035461,
     "end_time": "2024-03-11T20:40:30.317145",
     "exception": false,
     "start_time": "2024-03-11T20:40:30.281684",
     "status": "completed"
    },
    "tags": []
   },
   "outputs": [],
   "source": []
  },
  {
   "cell_type": "markdown",
   "id": "27af816c",
   "metadata": {},
   "source": [
    "### Appendix"
   ]
  },
  {
   "cell_type": "code",
   "execution_count": null,
   "id": "dca37040",
   "metadata": {},
   "outputs": [],
   "source": [
    "import os\n",
    "import pandas as pd\n",
    "df_collection={}\n",
    "\n",
    "#Read in Feature Definitions as a DataFrame\n",
    "key='feature_definitions'\n",
    "relative_filename_path=os.path.join(\"..\", \"data\", \"raw\", str(key)+\".csv\")\n",
    "df_collection[key]=pd.read_csv(relative_filename_path)\n",
    "\n",
    "#Filter for Select (i.e. 'train_applprev_1_0') features\n",
    "print(df_collection[key].shape)\n",
    "df_collection[key]\n"
   ]
  },
  {
   "cell_type": "code",
   "execution_count": null,
   "id": "4ec3cc3f",
   "metadata": {},
   "outputs": [],
   "source": []
  }
 ],
 "metadata": {
  "kaggle": {
   "accelerator": "gpu",
   "dataSources": [
    {
     "databundleVersionId": 7921029,
     "sourceId": 50160,
     "sourceType": "competition"
    }
   ],
   "dockerImageVersionId": 30646,
   "isGpuEnabled": true,
   "isInternetEnabled": false,
   "language": "python",
   "sourceType": "notebook"
  },
  "kernelspec": {
   "display_name": "Python 3 (ipykernel)",
   "language": "python",
   "name": "python3"
  },
  "language_info": {
   "codemirror_mode": {
    "name": "ipython",
    "version": 3
   },
   "file_extension": ".py",
   "mimetype": "text/x-python",
   "name": "python",
   "nbconvert_exporter": "python",
   "pygments_lexer": "ipython3",
   "version": "3.9.12"
  },
  "papermill": {
   "default_parameters": {},
   "duration": 1221.035913,
   "end_time": "2024-03-11T20:40:31.474791",
   "environment_variables": {},
   "exception": null,
   "input_path": "__notebook__.ipynb",
   "output_path": "__notebook__.ipynb",
   "parameters": {},
   "start_time": "2024-03-11T20:20:10.438878",
   "version": "2.5.0"
  }
 },
 "nbformat": 4,
 "nbformat_minor": 5
}
