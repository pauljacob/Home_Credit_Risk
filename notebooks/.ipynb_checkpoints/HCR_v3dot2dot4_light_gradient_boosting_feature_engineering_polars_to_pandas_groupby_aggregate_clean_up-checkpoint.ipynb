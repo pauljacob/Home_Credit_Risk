{
 "cells": [
  {
   "cell_type": "code",
   "execution_count": null,
   "id": "a2e43110",
   "metadata": {},
   "outputs": [],
   "source": [
    "# !brew install lightgbm"
   ]
  },
  {
   "cell_type": "code",
   "execution_count": 6,
   "id": "1b44d8da",
   "metadata": {},
   "outputs": [],
   "source": [
    "import sys\n",
    "source_directory = \"/opt/homebrew/bin\"\n",
    "sys.path.append(source_directory)\n",
    "\n",
    "source_directory = \"/opt/homebrew/Cellar\"\n",
    "sys.path.append(source_directory)\n",
    "\n",
    "import sys\n",
    "source_directory = \"/Users/pauljacob/Library/Python/3.9/lib/python/site-packages\"\n",
    "sys.path.append(source_directory)"
   ]
  },
  {
   "cell_type": "code",
   "execution_count": null,
   "id": "03116aa0",
   "metadata": {},
   "outputs": [],
   "source": []
  },
  {
   "cell_type": "code",
   "execution_count": 7,
   "id": "b9b059db",
   "metadata": {
    "_cell_guid": "b1076dfc-b9ad-4769-8c92-a6c4dae69d19",
    "_uuid": "8f2839f25d086af736a60e9eeb907d3b93b6e0e5",
    "execution": {
     "iopub.execute_input": "2024-03-11T20:20:13.177936Z",
     "iopub.status.busy": "2024-03-11T20:20:13.177674Z",
     "iopub.status.idle": "2024-03-11T20:20:19.340830Z",
     "shell.execute_reply": "2024-03-11T20:20:19.340062Z"
    },
    "papermill": {
     "duration": 6.175783,
     "end_time": "2024-03-11T20:20:19.343026",
     "exception": false,
     "start_time": "2024-03-11T20:20:13.167243",
     "status": "completed"
    },
    "tags": []
   },
   "outputs": [],
   "source": [
    "import os\n",
    "import gc\n",
    "from glob import glob\n",
    "from pathlib import Path\n",
    "from datetime import datetime\n",
    "\n",
    "import numpy as np\n",
    "import pandas as pd\n",
    "import polars as pl\n",
    "\n",
    "import matplotlib.pyplot as plt\n",
    "import seaborn as sns\n",
    "\n",
    "from sklearn.model_selection import StratifiedGroupKFold\n",
    "from sklearn.base import BaseEstimator, ClassifierMixin\n",
    "\n",
    "import lightgbm as lgb\n",
    "\n",
    "import warnings\n",
    "warnings.simplefilter(action='ignore', category=FutureWarning)"
   ]
  },
  {
   "cell_type": "code",
   "execution_count": 1,
   "id": "0e48eec0",
   "metadata": {},
   "outputs": [
    {
     "name": "stderr",
     "output_type": "stream",
     "text": [
      "/var/folders/77/y4hv4_s9751293nzv4yrfrtm0000gn/T/ipykernel_86871/3040381397.py:4: DeprecationWarning: Importing display from IPython.core.display is deprecated since IPython 7.14, please import from IPython display\n",
      "  from IPython.core.display import display, HTML\n"
     ]
    },
    {
     "data": {
      "text/html": [
       "<style>.container { width:99.9% !important; }</style>"
      ],
      "text/plain": [
       "<IPython.core.display.HTML object>"
      ]
     },
     "metadata": {},
     "output_type": "display_data"
    },
    {
     "ename": "NameError",
     "evalue": "name 'pd' is not defined",
     "output_type": "error",
     "traceback": [
      "\u001b[0;31m---------------------------------------------------------------------------\u001b[0m",
      "\u001b[0;31mNameError\u001b[0m                                 Traceback (most recent call last)",
      "Input \u001b[0;32mIn [1]\u001b[0m, in \u001b[0;36m<cell line: 6>\u001b[0;34m()\u001b[0m\n\u001b[1;32m      4\u001b[0m \u001b[38;5;28;01mfrom\u001b[39;00m \u001b[38;5;21;01mIPython\u001b[39;00m\u001b[38;5;21;01m.\u001b[39;00m\u001b[38;5;21;01mcore\u001b[39;00m\u001b[38;5;21;01m.\u001b[39;00m\u001b[38;5;21;01mdisplay\u001b[39;00m \u001b[38;5;28;01mimport\u001b[39;00m display, HTML\n\u001b[1;32m      5\u001b[0m display(HTML(\u001b[38;5;124m\"\u001b[39m\u001b[38;5;124m<style>.container \u001b[39m\u001b[38;5;124m{\u001b[39m\u001b[38;5;124m width:99.9\u001b[39m\u001b[38;5;124m%\u001b[39m\u001b[38;5;124m !important; }</style>\u001b[39m\u001b[38;5;124m\"\u001b[39m))\n\u001b[0;32m----> 6\u001b[0m \u001b[43mpd\u001b[49m\u001b[38;5;241m.\u001b[39moptions\u001b[38;5;241m.\u001b[39mdisplay\u001b[38;5;241m.\u001b[39mmax_columns \u001b[38;5;241m=\u001b[39m \u001b[38;5;241m3999\u001b[39m\n\u001b[1;32m      7\u001b[0m pd\u001b[38;5;241m.\u001b[39moptions\u001b[38;5;241m.\u001b[39mdisplay\u001b[38;5;241m.\u001b[39mmax_rows \u001b[38;5;241m=\u001b[39m \u001b[38;5;241m999\u001b[39m\n\u001b[1;32m      9\u001b[0m pd\u001b[38;5;241m.\u001b[39mset_option(\u001b[38;5;124m'\u001b[39m\u001b[38;5;124mdisplay.max_colwidth\u001b[39m\u001b[38;5;124m'\u001b[39m, \u001b[38;5;28;01mNone\u001b[39;00m)\n",
      "\u001b[0;31mNameError\u001b[0m: name 'pd' is not defined"
     ]
    }
   ],
   "source": [
    "import time\n",
    "\n",
    "\n",
    "from IPython.core.display import display, HTML\n",
    "display(HTML(\"<style>.container { width:99.9% !important; }</style>\"))\n",
    "pd.options.display.max_columns = 3999\n",
    "pd.options.display.max_rows = 999\n",
    "\n",
    "pd.set_option('display.max_colwidth', None)\n",
    "pd.options.display.max_info_columns = 3999"
   ]
  },
  {
   "cell_type": "markdown",
   "id": "0e7fb251",
   "metadata": {
    "papermill": {
     "duration": 0.008777,
     "end_time": "2024-03-11T20:20:19.361579",
     "exception": false,
     "start_time": "2024-03-11T20:20:19.352802",
     "status": "completed"
    },
    "tags": []
   },
   "source": [
    "### Pre-Fitted Voting Model"
   ]
  },
  {
   "cell_type": "code",
   "execution_count": 2,
   "id": "db0720f2",
   "metadata": {
    "execution": {
     "iopub.execute_input": "2024-03-11T20:20:19.381759Z",
     "iopub.status.busy": "2024-03-11T20:20:19.381081Z",
     "iopub.status.idle": "2024-03-11T20:20:19.387550Z",
     "shell.execute_reply": "2024-03-11T20:20:19.386761Z"
    },
    "papermill": {
     "duration": 0.018278,
     "end_time": "2024-03-11T20:20:19.389382",
     "exception": false,
     "start_time": "2024-03-11T20:20:19.371104",
     "status": "completed"
    },
    "tags": []
   },
   "outputs": [],
   "source": [
    "class VotingModel(BaseEstimator, ClassifierMixin):\n",
    "    def __init__(self, estimators):\n",
    "        super().__init__()\n",
    "        self.estimators = estimators\n",
    "        \n",
    "    def fit(self, X, y=None):\n",
    "        return self\n",
    "    \n",
    "    def predict(self, X):\n",
    "        y_preds = [estimator.predict(X) for estimator in self.estimators]\n",
    "        return np.mean(y_preds, axis=0)\n",
    "    \n",
    "    def predict_proba(self, X):\n",
    "        y_preds = [estimator.predict_proba(X) for estimator in self.estimators]\n",
    "        return np.mean(y_preds, axis=0)"
   ]
  },
  {
   "cell_type": "markdown",
   "id": "619c2a3a",
   "metadata": {
    "papermill": {
     "duration": 0.008615,
     "end_time": "2024-03-11T20:20:19.406942",
     "exception": false,
     "start_time": "2024-03-11T20:20:19.398327",
     "status": "completed"
    },
    "tags": []
   },
   "source": [
    "### Pipeline"
   ]
  },
  {
   "cell_type": "code",
   "execution_count": 3,
   "id": "569dbecf",
   "metadata": {
    "execution": {
     "iopub.execute_input": "2024-03-11T20:20:19.425745Z",
     "iopub.status.busy": "2024-03-11T20:20:19.425481Z",
     "iopub.status.idle": "2024-03-11T20:20:19.437672Z",
     "shell.execute_reply": "2024-03-11T20:20:19.436838Z"
    },
    "papermill": {
     "duration": 0.023479,
     "end_time": "2024-03-11T20:20:19.439407",
     "exception": false,
     "start_time": "2024-03-11T20:20:19.415928",
     "status": "completed"
    },
    "tags": []
   },
   "outputs": [],
   "source": []
  },
  {
   "cell_type": "markdown",
   "id": "c49e3f30",
   "metadata": {
    "papermill": {
     "duration": 0.008664,
     "end_time": "2024-03-11T20:20:19.457100",
     "exception": false,
     "start_time": "2024-03-11T20:20:19.448436",
     "status": "completed"
    },
    "tags": []
   },
   "source": [
    "### Automatic Aggregation"
   ]
  },
  {
   "cell_type": "code",
   "execution_count": 4,
   "id": "842a310a",
   "metadata": {
    "execution": {
     "iopub.execute_input": "2024-03-11T20:20:19.476571Z",
     "iopub.status.busy": "2024-03-11T20:20:19.476292Z",
     "iopub.status.idle": "2024-03-11T20:20:19.486434Z",
     "shell.execute_reply": "2024-03-11T20:20:19.485637Z"
    },
    "papermill": {
     "duration": 0.021569,
     "end_time": "2024-03-11T20:20:19.488325",
     "exception": false,
     "start_time": "2024-03-11T20:20:19.466756",
     "status": "completed"
    },
    "tags": []
   },
   "outputs": [],
   "source": []
  },
  {
   "cell_type": "markdown",
   "id": "918fb453",
   "metadata": {
    "papermill": {
     "duration": 0.009719,
     "end_time": "2024-03-11T20:20:19.506836",
     "exception": false,
     "start_time": "2024-03-11T20:20:19.497117",
     "status": "completed"
    },
    "tags": []
   },
   "source": [
    "### File I/O"
   ]
  },
  {
   "cell_type": "code",
   "execution_count": 5,
   "id": "c2520a18",
   "metadata": {
    "execution": {
     "iopub.execute_input": "2024-03-11T20:20:19.525391Z",
     "iopub.status.busy": "2024-03-11T20:20:19.525145Z",
     "iopub.status.idle": "2024-03-11T20:20:19.531829Z",
     "shell.execute_reply": "2024-03-11T20:20:19.531102Z"
    },
    "papermill": {
     "duration": 0.018108,
     "end_time": "2024-03-11T20:20:19.533703",
     "exception": false,
     "start_time": "2024-03-11T20:20:19.515595",
     "status": "completed"
    },
    "tags": []
   },
   "outputs": [],
   "source": []
  },
  {
   "cell_type": "markdown",
   "id": "5751113b",
   "metadata": {
    "papermill": {
     "duration": 0.00854,
     "end_time": "2024-03-11T20:20:19.550995",
     "exception": false,
     "start_time": "2024-03-11T20:20:19.542455",
     "status": "completed"
    },
    "tags": []
   },
   "source": [
    "### Feature Engineering"
   ]
  },
  {
   "cell_type": "code",
   "execution_count": 7,
   "id": "79001ea6",
   "metadata": {
    "execution": {
     "iopub.execute_input": "2024-03-11T20:20:19.595389Z",
     "iopub.status.busy": "2024-03-11T20:20:19.595137Z",
     "iopub.status.idle": "2024-03-11T20:20:19.599640Z",
     "shell.execute_reply": "2024-03-11T20:20:19.598867Z"
    },
    "papermill": {
     "duration": 0.015752,
     "end_time": "2024-03-11T20:20:19.601370",
     "exception": false,
     "start_time": "2024-03-11T20:20:19.585618",
     "status": "completed"
    },
    "tags": []
   },
   "outputs": [],
   "source": []
  },
  {
   "cell_type": "markdown",
   "id": "53397d0f",
   "metadata": {
    "papermill": {
     "duration": 0.00861,
     "end_time": "2024-03-11T20:20:19.619092",
     "exception": false,
     "start_time": "2024-03-11T20:20:19.610482",
     "status": "completed"
    },
    "tags": []
   },
   "source": [
    "### Configuration"
   ]
  },
  {
   "cell_type": "code",
   "execution_count": 8,
   "id": "543fc1a9",
   "metadata": {
    "execution": {
     "iopub.execute_input": "2024-03-11T20:20:19.637746Z",
     "iopub.status.busy": "2024-03-11T20:20:19.637467Z",
     "iopub.status.idle": "2024-03-11T20:20:19.641419Z",
     "shell.execute_reply": "2024-03-11T20:20:19.640728Z"
    },
    "papermill": {
     "duration": 0.015255,
     "end_time": "2024-03-11T20:20:19.643247",
     "exception": false,
     "start_time": "2024-03-11T20:20:19.627992",
     "status": "completed"
    },
    "tags": []
   },
   "outputs": [],
   "source": []
  },
  {
   "cell_type": "markdown",
   "id": "1d35d110",
   "metadata": {
    "papermill": {
     "duration": 0.008715,
     "end_time": "2024-03-11T20:20:19.660605",
     "exception": false,
     "start_time": "2024-03-11T20:20:19.651890",
     "status": "completed"
    },
    "tags": []
   },
   "source": [
    "### Train Files Read & Feature Engineering"
   ]
  },
  {
   "cell_type": "code",
   "execution_count": 12,
   "id": "03c8f51a",
   "metadata": {
    "execution": {
     "iopub.execute_input": "2024-03-11T20:20:19.678920Z",
     "iopub.status.busy": "2024-03-11T20:20:19.678686Z",
     "iopub.status.idle": "2024-03-11T20:22:26.542632Z",
     "shell.execute_reply": "2024-03-11T20:22:26.541531Z"
    },
    "papermill": {
     "duration": 126.876005,
     "end_time": "2024-03-11T20:22:26.545249",
     "exception": false,
     "start_time": "2024-03-11T20:20:19.669244",
     "status": "completed"
    },
    "tags": []
   },
   "outputs": [],
   "source": [
    "#create data\n",
    "import datetime\n",
    "\n",
    "datetime_object = pd.to_datetime([\"1/1/2018\", np.datetime64(\"2018-01-08\"), datetime.datetime(2018, 2, 1), pd.NaT])\n",
    "#datetime_object = pd.to_datetime([\"1/1/2018\", np.datetime64(\"2018-01-08\"), datetime.datetime(2018, 2, 1)])\n",
    "df_dates=pd.DataFrame(datetime_object)\n"
   ]
  },
  {
   "cell_type": "code",
   "execution_count": 15,
   "id": "b1b757fd",
   "metadata": {},
   "outputs": [
    {
     "data": {
      "text/html": [
       "<div>\n",
       "<style scoped>\n",
       "    .dataframe tbody tr th:only-of-type {\n",
       "        vertical-align: middle;\n",
       "    }\n",
       "\n",
       "    .dataframe tbody tr th {\n",
       "        vertical-align: top;\n",
       "    }\n",
       "\n",
       "    .dataframe thead th {\n",
       "        text-align: right;\n",
       "    }\n",
       "</style>\n",
       "<table border=\"1\" class=\"dataframe\">\n",
       "  <thead>\n",
       "    <tr style=\"text-align: right;\">\n",
       "      <th></th>\n",
       "      <th>0</th>\n",
       "    </tr>\n",
       "  </thead>\n",
       "  <tbody>\n",
       "    <tr>\n",
       "      <th>0</th>\n",
       "      <td>2018-01-01</td>\n",
       "    </tr>\n",
       "    <tr>\n",
       "      <th>1</th>\n",
       "      <td>2018-01-08</td>\n",
       "    </tr>\n",
       "    <tr>\n",
       "      <th>2</th>\n",
       "      <td>2018-02-01</td>\n",
       "    </tr>\n",
       "    <tr>\n",
       "      <th>3</th>\n",
       "      <td>NaT</td>\n",
       "    </tr>\n",
       "  </tbody>\n",
       "</table>\n",
       "</div>"
      ],
      "text/plain": [
       "           0\n",
       "0 2018-01-01\n",
       "1 2018-01-08\n",
       "2 2018-02-01\n",
       "3        NaT"
      ]
     },
     "execution_count": 15,
     "metadata": {},
     "output_type": "execute_result"
    }
   ],
   "source": [
    "df_date"
   ]
  },
  {
   "cell_type": "code",
   "execution_count": null,
   "id": "d7a8da48",
   "metadata": {},
   "outputs": [],
   "source": []
  },
  {
   "cell_type": "code",
   "execution_count": 16,
   "id": "8157aa78",
   "metadata": {},
   "outputs": [
    {
     "name": "stdout",
     "output_type": "stream",
     "text": [
      "<class 'pandas.core.frame.DataFrame'>\n",
      "RangeIndex: 4 entries, 0 to 3\n",
      "Data columns (total 1 columns):\n",
      " #   Column  Non-Null Count  Dtype         \n",
      "---  ------  --------------  -----         \n",
      " 0   0       3 non-null      datetime64[ns]\n",
      "dtypes: datetime64[ns](1)\n",
      "memory usage: 160.0 bytes\n"
     ]
    }
   ],
   "source": [
    "df_dates.info()"
   ]
  },
  {
   "cell_type": "code",
   "execution_count": null,
   "id": "204d36a2",
   "metadata": {},
   "outputs": [],
   "source": []
  },
  {
   "cell_type": "code",
   "execution_count": null,
   "id": "d5e15ef3",
   "metadata": {},
   "outputs": [],
   "source": []
  },
  {
   "cell_type": "code",
   "execution_count": 164,
   "id": "1b771baf",
   "metadata": {},
   "outputs": [
    {
     "data": {
      "text/html": [
       "<div>\n",
       "<style scoped>\n",
       "    .dataframe tbody tr th:only-of-type {\n",
       "        vertical-align: middle;\n",
       "    }\n",
       "\n",
       "    .dataframe tbody tr th {\n",
       "        vertical-align: top;\n",
       "    }\n",
       "\n",
       "    .dataframe thead th {\n",
       "        text-align: right;\n",
       "    }\n",
       "</style>\n",
       "<table border=\"1\" class=\"dataframe\">\n",
       "  <thead>\n",
       "    <tr style=\"text-align: right;\">\n",
       "      <th></th>\n",
       "      <th>0</th>\n",
       "    </tr>\n",
       "  </thead>\n",
       "  <tbody>\n",
       "    <tr>\n",
       "      <th>0</th>\n",
       "      <td>-7 days</td>\n",
       "    </tr>\n",
       "    <tr>\n",
       "      <th>1</th>\n",
       "      <td>0 days</td>\n",
       "    </tr>\n",
       "    <tr>\n",
       "      <th>2</th>\n",
       "      <td>24 days</td>\n",
       "    </tr>\n",
       "    <tr>\n",
       "      <th>3</th>\n",
       "      <td>NaT</td>\n",
       "    </tr>\n",
       "  </tbody>\n",
       "</table>\n",
       "</div>"
      ],
      "text/plain": [
       "        0\n",
       "0 -7 days\n",
       "1  0 days\n",
       "2 24 days\n",
       "3     NaT"
      ]
     },
     "execution_count": 164,
     "metadata": {},
     "output_type": "execute_result"
    }
   ],
   "source": [
    "#calculate date difference\n",
    "df_date_differences = (df_dates - df_dates.loc[1, :])\n",
    "df_date_differences"
   ]
  },
  {
   "cell_type": "code",
   "execution_count": 166,
   "id": "6f999e31",
   "metadata": {},
   "outputs": [
    {
     "data": {
      "text/plain": [
       "array([[-604800000000000],\n",
       "       [               0],\n",
       "       [2073600000000000],\n",
       "       [           'NaT']], dtype='timedelta64[ns]')"
      ]
     },
     "execution_count": 166,
     "metadata": {},
     "output_type": "execute_result"
    }
   ],
   "source": [
    "df_date_differences.values"
   ]
  },
  {
   "cell_type": "code",
   "execution_count": 167,
   "id": "15a15cb0",
   "metadata": {},
   "outputs": [
    {
     "name": "stdout",
     "output_type": "stream",
     "text": [
      "<class 'pandas.core.frame.DataFrame'>\n",
      "RangeIndex: 4 entries, 0 to 3\n",
      "Data columns (total 1 columns):\n",
      " #   Column  Non-Null Count  Dtype          \n",
      "---  ------  --------------  -----          \n",
      " 0   0       3 non-null      timedelta64[ns]\n",
      "dtypes: timedelta64[ns](1)\n",
      "memory usage: 160.0 bytes\n"
     ]
    }
   ],
   "source": [
    "df_date_differences.info()"
   ]
  },
  {
   "cell_type": "code",
   "execution_count": 168,
   "id": "45a8305b",
   "metadata": {},
   "outputs": [
    {
     "name": "stdout",
     "output_type": "stream",
     "text": [
      "<class 'pandas.core.frame.DataFrame'>\n",
      "RangeIndex: 4 entries, 0 to 3\n",
      "Data columns (total 1 columns):\n",
      " #   Column  Non-Null Count  Dtype  \n",
      "---  ------  --------------  -----  \n",
      " 0   0       3 non-null      float64\n",
      "dtypes: float64(1)\n",
      "memory usage: 160.0 bytes\n"
     ]
    }
   ],
   "source": [
    "#convert to days\n",
    "df_date_differences = df_date_differences.astype('timedelta64[D]')\n",
    "df_date_differences.info()"
   ]
  },
  {
   "cell_type": "code",
   "execution_count": 169,
   "id": "051cb61d",
   "metadata": {},
   "outputs": [
    {
     "data": {
      "text/plain": [
       "array([[-7.],\n",
       "       [ 0.],\n",
       "       [24.],\n",
       "       [nan]])"
      ]
     },
     "execution_count": 169,
     "metadata": {},
     "output_type": "execute_result"
    }
   ],
   "source": [
    "df_date_differences.values"
   ]
  },
  {
   "cell_type": "code",
   "execution_count": null,
   "id": "be5123cd",
   "metadata": {},
   "outputs": [],
   "source": []
  },
  {
   "cell_type": "code",
   "execution_count": null,
   "id": "8d2410cc",
   "metadata": {},
   "outputs": [],
   "source": []
  },
  {
   "cell_type": "code",
   "execution_count": null,
   "id": "aa72de25",
   "metadata": {},
   "outputs": [],
   "source": []
  },
  {
   "cell_type": "code",
   "execution_count": 133,
   "id": "6d5086b1",
   "metadata": {},
   "outputs": [],
   "source": [
    "df_date_differences / pd.Timedelta(days=1)\n"
   ]
  },
  {
   "cell_type": "code",
   "execution_count": null,
   "id": "a53d2e0c",
   "metadata": {},
   "outputs": [],
   "source": []
  },
  {
   "cell_type": "code",
   "execution_count": 131,
   "id": "0c12577c",
   "metadata": {},
   "outputs": [
    {
     "name": "stdout",
     "output_type": "stream",
     "text": [
      "<class 'pandas.core.frame.DataFrame'>\n",
      "RangeIndex: 3 entries, 0 to 2\n",
      "Data columns (total 1 columns):\n",
      " #   Column  Non-Null Count  Dtype  \n",
      "---  ------  --------------  -----  \n",
      " 0   0       3 non-null      float64\n",
      "dtypes: float64(1)\n",
      "memory usage: 152.0 bytes\n"
     ]
    }
   ],
   "source": [
    "df_date_differences.info()\n"
   ]
  },
  {
   "cell_type": "code",
   "execution_count": 114,
   "id": "3685497a",
   "metadata": {},
   "outputs": [],
   "source": [
    "import pandas as pd\n",
    "\n",
    "# Sample DataFrame\n",
    "df = pd.DataFrame({'timedelta_column': pd.to_timedelta(['1 days', '2 days', '3 days', '4 days'])})\n",
    "\n",
    "# Convert timedelta64[D] to float32\n",
    "df['timedelta_column'] = df['timedelta_column'] / pd.Timedelta(days=1)  # Convert timedelta to days\n",
    "df['timedelta_column'] = df['timedelta_column'].astype('float32')  # Convert to float32\n",
    "\n",
    "print(df)\n"
   ]
  },
  {
   "cell_type": "code",
   "execution_count": null,
   "id": "a6e0977a",
   "metadata": {},
   "outputs": [],
   "source": []
  },
  {
   "cell_type": "code",
   "execution_count": null,
   "id": "faf952b7",
   "metadata": {},
   "outputs": [],
   "source": []
  },
  {
   "cell_type": "code",
   "execution_count": 116,
   "id": "cadb26b8",
   "metadata": {},
   "outputs": [
    {
     "name": "stdout",
     "output_type": "stream",
     "text": [
      "<class 'pandas.core.frame.DataFrame'>\n",
      "RangeIndex: 4 entries, 0 to 3\n",
      "Data columns (total 1 columns):\n",
      " #   Column  Non-Null Count  Dtype          \n",
      "---  ------  --------------  -----          \n",
      " 0   0       3 non-null      timedelta64[ns]\n",
      "dtypes: timedelta64[ns](1)\n",
      "memory usage: 160.0 bytes\n"
     ]
    }
   ],
   "source": []
  },
  {
   "cell_type": "code",
   "execution_count": 134,
   "id": "25803c54",
   "metadata": {},
   "outputs": [],
   "source": [
    "df_date_differences.astype('float32')"
   ]
  },
  {
   "cell_type": "code",
   "execution_count": null,
   "id": "7f4c3f75",
   "metadata": {},
   "outputs": [],
   "source": [
    "import pandas as pd\n",
    "\n",
    "def drop_null_columns(df, threshold=0.95):\n",
    "    null_threshold = threshold * len(df)\n",
    "    \n",
    "    columns_to_drop = [col for col in df.columns if df[col].isnull().sum() > null_threshold]\n",
    "    \n",
    "    df = df.drop(columns=columns_to_drop)\n",
    "    \n",
    "    return df\n"
   ]
  },
  {
   "cell_type": "code",
   "execution_count": 185,
   "id": "1b6a21d9",
   "metadata": {},
   "outputs": [
    {
     "data": {
      "text/plain": [
       "C    0.2\n",
       "dtype: float64"
      ]
     },
     "execution_count": 185,
     "metadata": {},
     "output_type": "execute_result"
    }
   ],
   "source": [
    "\n",
    "data = {'A': [1, 2, None, 4, None], 'B': [None, None, None, None, None], 'C': [5, 6, 7, None, 9], 'D': [None, None, None, None, None], 'E': [10, None, 12, 13, None]}\n",
    "df = pd.DataFrame(data)\n",
    "\n",
    "df.loc[:, ['C']].isnull().mean()\n",
    "\n"
   ]
  },
  {
   "cell_type": "code",
   "execution_count": 186,
   "id": "2de283b2",
   "metadata": {},
   "outputs": [
    {
     "data": {
      "text/html": [
       "<div>\n",
       "<style scoped>\n",
       "    .dataframe tbody tr th:only-of-type {\n",
       "        vertical-align: middle;\n",
       "    }\n",
       "\n",
       "    .dataframe tbody tr th {\n",
       "        vertical-align: top;\n",
       "    }\n",
       "\n",
       "    .dataframe thead th {\n",
       "        text-align: right;\n",
       "    }\n",
       "</style>\n",
       "<table border=\"1\" class=\"dataframe\">\n",
       "  <thead>\n",
       "    <tr style=\"text-align: right;\">\n",
       "      <th></th>\n",
       "      <th>A</th>\n",
       "      <th>B</th>\n",
       "      <th>D</th>\n",
       "      <th>E</th>\n",
       "    </tr>\n",
       "  </thead>\n",
       "  <tbody>\n",
       "    <tr>\n",
       "      <th>0</th>\n",
       "      <td>1.0</td>\n",
       "      <td>None</td>\n",
       "      <td>None</td>\n",
       "      <td>10.0</td>\n",
       "    </tr>\n",
       "    <tr>\n",
       "      <th>1</th>\n",
       "      <td>2.0</td>\n",
       "      <td>None</td>\n",
       "      <td>None</td>\n",
       "      <td>NaN</td>\n",
       "    </tr>\n",
       "    <tr>\n",
       "      <th>2</th>\n",
       "      <td>NaN</td>\n",
       "      <td>None</td>\n",
       "      <td>None</td>\n",
       "      <td>12.0</td>\n",
       "    </tr>\n",
       "    <tr>\n",
       "      <th>3</th>\n",
       "      <td>4.0</td>\n",
       "      <td>None</td>\n",
       "      <td>None</td>\n",
       "      <td>13.0</td>\n",
       "    </tr>\n",
       "    <tr>\n",
       "      <th>4</th>\n",
       "      <td>NaN</td>\n",
       "      <td>None</td>\n",
       "      <td>None</td>\n",
       "      <td>NaN</td>\n",
       "    </tr>\n",
       "  </tbody>\n",
       "</table>\n",
       "</div>"
      ],
      "text/plain": [
       "     A     B     D     E\n",
       "0  1.0  None  None  10.0\n",
       "1  2.0  None  None   NaN\n",
       "2  NaN  None  None  12.0\n",
       "3  4.0  None  None  13.0\n",
       "4  NaN  None  None   NaN"
      ]
     },
     "execution_count": 186,
     "metadata": {},
     "output_type": "execute_result"
    }
   ],
   "source": [
    "# df = df.drop(columns'C')\n",
    "df.drop(columns='C')"
   ]
  },
  {
   "cell_type": "code",
   "execution_count": 197,
   "id": "fccf4b85",
   "metadata": {},
   "outputs": [
    {
     "data": {
      "text/html": [
       "<div>\n",
       "<style scoped>\n",
       "    .dataframe tbody tr th:only-of-type {\n",
       "        vertical-align: middle;\n",
       "    }\n",
       "\n",
       "    .dataframe tbody tr th {\n",
       "        vertical-align: top;\n",
       "    }\n",
       "\n",
       "    .dataframe thead th {\n",
       "        text-align: right;\n",
       "    }\n",
       "</style>\n",
       "<table border=\"1\" class=\"dataframe\">\n",
       "  <thead>\n",
       "    <tr style=\"text-align: right;\">\n",
       "      <th></th>\n",
       "      <th>A</th>\n",
       "      <th>B</th>\n",
       "      <th>C</th>\n",
       "      <th>D</th>\n",
       "      <th>E</th>\n",
       "    </tr>\n",
       "  </thead>\n",
       "  <tbody>\n",
       "    <tr>\n",
       "      <th>0</th>\n",
       "      <td>1.0</td>\n",
       "      <td>None</td>\n",
       "      <td>5.0</td>\n",
       "      <td>None</td>\n",
       "      <td>10.0</td>\n",
       "    </tr>\n",
       "    <tr>\n",
       "      <th>1</th>\n",
       "      <td>2.0</td>\n",
       "      <td>None</td>\n",
       "      <td>6.0</td>\n",
       "      <td>None</td>\n",
       "      <td>NaN</td>\n",
       "    </tr>\n",
       "    <tr>\n",
       "      <th>2</th>\n",
       "      <td>NaN</td>\n",
       "      <td>None</td>\n",
       "      <td>7.0</td>\n",
       "      <td>None</td>\n",
       "      <td>12.0</td>\n",
       "    </tr>\n",
       "    <tr>\n",
       "      <th>3</th>\n",
       "      <td>4.0</td>\n",
       "      <td>None</td>\n",
       "      <td>&lt;NA&gt;</td>\n",
       "      <td>None</td>\n",
       "      <td>13.0</td>\n",
       "    </tr>\n",
       "    <tr>\n",
       "      <th>4</th>\n",
       "      <td>NaN</td>\n",
       "      <td>None</td>\n",
       "      <td>9.0</td>\n",
       "      <td>None</td>\n",
       "      <td>NaN</td>\n",
       "    </tr>\n",
       "  </tbody>\n",
       "</table>\n",
       "</div>"
      ],
      "text/plain": [
       "     A     B     C     D     E\n",
       "0  1.0  None   5.0  None  10.0\n",
       "1  2.0  None   6.0  None   NaN\n",
       "2  NaN  None   7.0  None  12.0\n",
       "3  4.0  None  <NA>  None  13.0\n",
       "4  NaN  None   9.0  None   NaN"
      ]
     },
     "execution_count": 197,
     "metadata": {},
     "output_type": "execute_result"
    }
   ],
   "source": [
    "df['C'] = df['C'].astype('string')\n",
    "df"
   ]
  },
  {
   "cell_type": "code",
   "execution_count": 198,
   "id": "f3671049",
   "metadata": {},
   "outputs": [
    {
     "name": "stdout",
     "output_type": "stream",
     "text": [
      "<class 'pandas.core.frame.DataFrame'>\n",
      "RangeIndex: 5 entries, 0 to 4\n",
      "Data columns (total 5 columns):\n",
      " #   Column  Non-Null Count  Dtype  \n",
      "---  ------  --------------  -----  \n",
      " 0   A       3 non-null      float64\n",
      " 1   B       0 non-null      object \n",
      " 2   C       4 non-null      string \n",
      " 3   D       0 non-null      object \n",
      " 4   E       3 non-null      float64\n",
      "dtypes: float64(2), object(2), string(1)\n",
      "memory usage: 328.0+ bytes\n"
     ]
    }
   ],
   "source": [
    "df.info()"
   ]
  },
  {
   "cell_type": "code",
   "execution_count": 199,
   "id": "587d0cb1",
   "metadata": {},
   "outputs": [
    {
     "data": {
      "text/html": [
       "<div>\n",
       "<style scoped>\n",
       "    .dataframe tbody tr th:only-of-type {\n",
       "        vertical-align: middle;\n",
       "    }\n",
       "\n",
       "    .dataframe tbody tr th {\n",
       "        vertical-align: top;\n",
       "    }\n",
       "\n",
       "    .dataframe thead th {\n",
       "        text-align: right;\n",
       "    }\n",
       "</style>\n",
       "<table border=\"1\" class=\"dataframe\">\n",
       "  <thead>\n",
       "    <tr style=\"text-align: right;\">\n",
       "      <th></th>\n",
       "      <th>A</th>\n",
       "      <th>B</th>\n",
       "      <th>C</th>\n",
       "      <th>D</th>\n",
       "      <th>E</th>\n",
       "    </tr>\n",
       "  </thead>\n",
       "  <tbody>\n",
       "    <tr>\n",
       "      <th>0</th>\n",
       "      <td>1.0</td>\n",
       "      <td>None</td>\n",
       "      <td>5.0</td>\n",
       "      <td>None</td>\n",
       "      <td>10.0</td>\n",
       "    </tr>\n",
       "    <tr>\n",
       "      <th>1</th>\n",
       "      <td>2.0</td>\n",
       "      <td>None</td>\n",
       "      <td>6.0</td>\n",
       "      <td>None</td>\n",
       "      <td>NaN</td>\n",
       "    </tr>\n",
       "    <tr>\n",
       "      <th>2</th>\n",
       "      <td>NaN</td>\n",
       "      <td>None</td>\n",
       "      <td>7.0</td>\n",
       "      <td>None</td>\n",
       "      <td>12.0</td>\n",
       "    </tr>\n",
       "    <tr>\n",
       "      <th>3</th>\n",
       "      <td>4.0</td>\n",
       "      <td>None</td>\n",
       "      <td>&lt;NA&gt;</td>\n",
       "      <td>None</td>\n",
       "      <td>13.0</td>\n",
       "    </tr>\n",
       "    <tr>\n",
       "      <th>4</th>\n",
       "      <td>NaN</td>\n",
       "      <td>None</td>\n",
       "      <td>9.0</td>\n",
       "      <td>None</td>\n",
       "      <td>NaN</td>\n",
       "    </tr>\n",
       "  </tbody>\n",
       "</table>\n",
       "</div>"
      ],
      "text/plain": [
       "     A     B     C     D     E\n",
       "0  1.0  None   5.0  None  10.0\n",
       "1  2.0  None   6.0  None   NaN\n",
       "2  NaN  None   7.0  None  12.0\n",
       "3  4.0  None  <NA>  None  13.0\n",
       "4  NaN  None   9.0  None   NaN"
      ]
     },
     "execution_count": 199,
     "metadata": {},
     "output_type": "execute_result"
    }
   ],
   "source": [
    "df['C'] = df['C'].astype('object')\n",
    "df"
   ]
  },
  {
   "cell_type": "code",
   "execution_count": 200,
   "id": "e96abfef",
   "metadata": {},
   "outputs": [
    {
     "name": "stdout",
     "output_type": "stream",
     "text": [
      "<class 'pandas.core.frame.DataFrame'>\n",
      "RangeIndex: 5 entries, 0 to 4\n",
      "Data columns (total 5 columns):\n",
      " #   Column  Non-Null Count  Dtype  \n",
      "---  ------  --------------  -----  \n",
      " 0   A       3 non-null      float64\n",
      " 1   B       0 non-null      object \n",
      " 2   C       4 non-null      object \n",
      " 3   D       0 non-null      object \n",
      " 4   E       3 non-null      float64\n",
      "dtypes: float64(2), object(3)\n",
      "memory usage: 328.0+ bytes\n"
     ]
    }
   ],
   "source": [
    "df.info()"
   ]
  },
  {
   "cell_type": "code",
   "execution_count": 195,
   "id": "4a747b69",
   "metadata": {},
   "outputs": [
    {
     "data": {
      "text/plain": [
       "string[python]"
      ]
     },
     "execution_count": 195,
     "metadata": {},
     "output_type": "execute_result"
    }
   ],
   "source": [
    "\n",
    "\n",
    "df['C'].dtype# == pl.String\n",
    "\n"
   ]
  },
  {
   "cell_type": "code",
   "execution_count": 202,
   "id": "c927608e",
   "metadata": {},
   "outputs": [
    {
     "data": {
      "text/plain": [
       "True"
      ]
     },
     "execution_count": 202,
     "metadata": {},
     "output_type": "execute_result"
    }
   ],
   "source": [
    "df['C'].dtype == object"
   ]
  },
  {
   "cell_type": "code",
   "execution_count": 212,
   "id": "7263d482",
   "metadata": {},
   "outputs": [],
   "source": [
    "df['C']=2"
   ]
  },
  {
   "cell_type": "code",
   "execution_count": 213,
   "id": "3fd9c501",
   "metadata": {},
   "outputs": [
    {
     "data": {
      "text/plain": [
       "1"
      ]
     },
     "execution_count": 213,
     "metadata": {},
     "output_type": "execute_result"
    }
   ],
   "source": [
    "df['C'].nunique()"
   ]
  },
  {
   "cell_type": "code",
   "execution_count": null,
   "id": "8590ea54",
   "metadata": {},
   "outputs": [],
   "source": []
  },
  {
   "cell_type": "code",
   "execution_count": null,
   "id": "e8f40030",
   "metadata": {},
   "outputs": [],
   "source": []
  },
  {
   "cell_type": "code",
   "execution_count": null,
   "id": "811338b2",
   "metadata": {},
   "outputs": [],
   "source": [
    "\n",
    "\n",
    "df[col].is_null().mean()\n"
   ]
  },
  {
   "cell_type": "code",
   "execution_count": 222,
   "id": "4626f214",
   "metadata": {},
   "outputs": [
    {
     "data": {
      "text/html": [
       "<div>\n",
       "<style scoped>\n",
       "    .dataframe tbody tr th:only-of-type {\n",
       "        vertical-align: middle;\n",
       "    }\n",
       "\n",
       "    .dataframe tbody tr th {\n",
       "        vertical-align: top;\n",
       "    }\n",
       "\n",
       "    .dataframe thead th {\n",
       "        text-align: right;\n",
       "    }\n",
       "</style>\n",
       "<table border=\"1\" class=\"dataframe\">\n",
       "  <thead>\n",
       "    <tr style=\"text-align: right;\">\n",
       "      <th></th>\n",
       "      <th>key</th>\n",
       "      <th>a</th>\n",
       "      <th>1</th>\n",
       "    </tr>\n",
       "  </thead>\n",
       "  <tbody>\n",
       "    <tr>\n",
       "      <th>0</th>\n",
       "      <td>1</td>\n",
       "      <td>-1</td>\n",
       "      <td>10</td>\n",
       "    </tr>\n",
       "    <tr>\n",
       "      <th>1</th>\n",
       "      <td>1</td>\n",
       "      <td>0</td>\n",
       "      <td>11</td>\n",
       "    </tr>\n",
       "    <tr>\n",
       "      <th>2</th>\n",
       "      <td>2</td>\n",
       "      <td>1</td>\n",
       "      <td>12</td>\n",
       "    </tr>\n",
       "  </tbody>\n",
       "</table>\n",
       "</div>"
      ],
      "text/plain": [
       "   key  a   1\n",
       "0    1 -1  10\n",
       "1    1  0  11\n",
       "2    2  1  12"
      ]
     },
     "execution_count": 222,
     "metadata": {},
     "output_type": "execute_result"
    }
   ],
   "source": []
  },
  {
   "cell_type": "code",
   "execution_count": 239,
   "id": "d1b1ec9d",
   "metadata": {},
   "outputs": [
    {
     "data": {
      "text/html": [
       "<div>\n",
       "<style scoped>\n",
       "    .dataframe tbody tr th:only-of-type {\n",
       "        vertical-align: middle;\n",
       "    }\n",
       "\n",
       "    .dataframe tbody tr th {\n",
       "        vertical-align: top;\n",
       "    }\n",
       "\n",
       "    .dataframe thead th {\n",
       "        text-align: right;\n",
       "    }\n",
       "</style>\n",
       "<table border=\"1\" class=\"dataframe\">\n",
       "  <thead>\n",
       "    <tr style=\"text-align: right;\">\n",
       "      <th></th>\n",
       "      <th>result_a</th>\n",
       "      <th>result_1</th>\n",
       "    </tr>\n",
       "    <tr>\n",
       "      <th>key</th>\n",
       "      <th></th>\n",
       "      <th></th>\n",
       "    </tr>\n",
       "  </thead>\n",
       "  <tbody>\n",
       "    <tr>\n",
       "      <th>1</th>\n",
       "      <td>-1</td>\n",
       "      <td>10.5</td>\n",
       "    </tr>\n",
       "    <tr>\n",
       "      <th>2</th>\n",
       "      <td>1</td>\n",
       "      <td>12.0</td>\n",
       "    </tr>\n",
       "  </tbody>\n",
       "</table>\n",
       "</div>"
      ],
      "text/plain": [
       "     result_a  result_1\n",
       "key                    \n",
       "1          -1      10.5\n",
       "2           1      12.0"
      ]
     },
     "execution_count": 239,
     "metadata": {},
     "output_type": "execute_result"
    }
   ],
   "source": [
    "df = pd.DataFrame({\"key\": [1, 1, 2], \"a\": [-1, 0, 1], 1: [10, 11, 12]})\n",
    "\n",
    "agg_a = pd.NamedAgg(column=\"a\", aggfunc=\"min\")\n",
    "agg_1 = pd.NamedAgg(column=1, aggfunc=lambda x: np.mean(x))\n",
    "df.groupby(\"key\").agg(result_a=agg_a, result_1=agg_1)\n"
   ]
  },
  {
   "cell_type": "code",
   "execution_count": 247,
   "id": "d2463a5c",
   "metadata": {},
   "outputs": [
    {
     "data": {
      "text/html": [
       "<div>\n",
       "<style scoped>\n",
       "    .dataframe tbody tr th:only-of-type {\n",
       "        vertical-align: middle;\n",
       "    }\n",
       "\n",
       "    .dataframe tbody tr th {\n",
       "        vertical-align: top;\n",
       "    }\n",
       "\n",
       "    .dataframe thead tr th {\n",
       "        text-align: left;\n",
       "    }\n",
       "\n",
       "    .dataframe thead tr:last-of-type th {\n",
       "        text-align: right;\n",
       "    }\n",
       "</style>\n",
       "<table border=\"1\" class=\"dataframe\">\n",
       "  <thead>\n",
       "    <tr>\n",
       "      <th></th>\n",
       "      <th colspan=\"2\" halign=\"left\">a</th>\n",
       "      <th colspan=\"2\" halign=\"left\">1</th>\n",
       "    </tr>\n",
       "    <tr>\n",
       "      <th></th>\n",
       "      <th>a</th>\n",
       "      <th>1</th>\n",
       "      <th>a</th>\n",
       "      <th>1</th>\n",
       "    </tr>\n",
       "    <tr>\n",
       "      <th>key</th>\n",
       "      <th></th>\n",
       "      <th></th>\n",
       "      <th></th>\n",
       "      <th></th>\n",
       "    </tr>\n",
       "  </thead>\n",
       "  <tbody>\n",
       "    <tr>\n",
       "      <th>1</th>\n",
       "      <td>-1</td>\n",
       "      <td>-0.5</td>\n",
       "      <td>10</td>\n",
       "      <td>10.5</td>\n",
       "    </tr>\n",
       "    <tr>\n",
       "      <th>2</th>\n",
       "      <td>1</td>\n",
       "      <td>1.0</td>\n",
       "      <td>12</td>\n",
       "      <td>12.0</td>\n",
       "    </tr>\n",
       "  </tbody>\n",
       "</table>\n",
       "</div>"
      ],
      "text/plain": [
       "     a        1      \n",
       "     a    1   a     1\n",
       "key                  \n",
       "1   -1 -0.5  10  10.5\n",
       "2    1  1.0  12  12.0"
      ]
     },
     "execution_count": 247,
     "metadata": {},
     "output_type": "execute_result"
    }
   ],
   "source": [
    "df.groupby(\"key\").agg([agg_a, agg_1])\n"
   ]
  },
  {
   "cell_type": "code",
   "execution_count": null,
   "id": "d5b911f6",
   "metadata": {},
   "outputs": [],
   "source": []
  },
  {
   "cell_type": "code",
   "execution_count": 225,
   "id": "4e87b5f4",
   "metadata": {},
   "outputs": [
    {
     "data": {
      "text/html": [
       "<div>\n",
       "<style scoped>\n",
       "    .dataframe tbody tr th:only-of-type {\n",
       "        vertical-align: middle;\n",
       "    }\n",
       "\n",
       "    .dataframe tbody tr th {\n",
       "        vertical-align: top;\n",
       "    }\n",
       "\n",
       "    .dataframe thead th {\n",
       "        text-align: right;\n",
       "    }\n",
       "</style>\n",
       "<table border=\"1\" class=\"dataframe\">\n",
       "  <thead>\n",
       "    <tr style=\"text-align: right;\">\n",
       "      <th></th>\n",
       "      <th>result_a</th>\n",
       "      <th>result_1</th>\n",
       "    </tr>\n",
       "    <tr>\n",
       "      <th>key</th>\n",
       "      <th></th>\n",
       "      <th></th>\n",
       "    </tr>\n",
       "  </thead>\n",
       "  <tbody>\n",
       "    <tr>\n",
       "      <th>1</th>\n",
       "      <td>0</td>\n",
       "      <td>10.5</td>\n",
       "    </tr>\n",
       "    <tr>\n",
       "      <th>2</th>\n",
       "      <td>1</td>\n",
       "      <td>12.0</td>\n",
       "    </tr>\n",
       "  </tbody>\n",
       "</table>\n",
       "</div>"
      ],
      "text/plain": [
       "     result_a  result_1\n",
       "key                    \n",
       "1           0      10.5\n",
       "2           1      12.0"
      ]
     },
     "execution_count": 225,
     "metadata": {},
     "output_type": "execute_result"
    }
   ],
   "source": [
    "\n",
    "agg_a = pd.NamedAgg(column=\"a\", aggfunc=\"max\")\n",
    "agg_1 = pd.NamedAgg(column=1, aggfunc=lambda x: np.mean(x))\n",
    "df.groupby(\"key\").agg(result_a=agg_a, result_1=agg_1)\n"
   ]
  },
  {
   "cell_type": "code",
   "execution_count": null,
   "id": "2c11a1c8",
   "metadata": {},
   "outputs": [],
   "source": []
  },
  {
   "cell_type": "code",
   "execution_count": 233,
   "id": "6f085a3e",
   "metadata": {},
   "outputs": [
    {
     "name": "stdout",
     "output_type": "stream",
     "text": [
      "       max_Value1  max_Value2\n",
      "Group                        \n",
      "A              20          15\n",
      "B              30          25\n"
     ]
    }
   ],
   "source": [
    "import pandas as pd\n",
    "\n",
    "# Sample DataFrame\n",
    "data = {\n",
    "    'Group': ['A', 'A', 'B', 'B', 'B'],\n",
    "    'Value1': [10, 20, 15, 25, 30],\n",
    "    'Value2': [5, 15, 10, 20, 25]\n",
    "}\n",
    "df = pd.DataFrame(data)\n",
    "\n",
    "# Grouping by 'Group' column and calculating max of 'Value1' and 'Value2'\n",
    "result = df.groupby('Group').agg(\n",
    "    Max_Value1=pd.NamedAgg(column='Value1', aggfunc='max'),\n",
    "    Max_Value2=pd.NamedAgg(column='Value2', aggfunc='max')\n",
    ")\n",
    "\n",
    "print(result)\n"
   ]
  },
  {
   "cell_type": "code",
   "execution_count": 234,
   "id": "efec7b8c",
   "metadata": {},
   "outputs": [
    {
     "name": "stdout",
     "output_type": "stream",
     "text": [
      "         A    B  C\n",
      "case_id           \n",
      "1        3  3.5  7\n",
      "2        7  1.5  9\n"
     ]
    }
   ],
   "source": [
    "import pandas as pd\n",
    "\n",
    "# Example DataFrame\n",
    "data = {\n",
    "    'case_id': [1, 1, 2, 2],\n",
    "    'A': [1, 2, 3, 4],\n",
    "    'B': [4, 3, 2, 1],\n",
    "    'C': [5, 7, 9, 6]\n",
    "}\n",
    "df = pd.DataFrame(data)\n",
    "\n",
    "# Define aggregation expressions for each column\n",
    "agg_exprs = {\n",
    "    'A': 'sum',\n",
    "    'B': 'mean',\n",
    "    'C': 'max'\n",
    "}\n",
    "\n",
    "# Group by 'case_id' and apply aggregation expressions\n",
    "result = df.groupby('case_id').agg(agg_exprs)\n",
    "\n",
    "print(result)\n"
   ]
  },
  {
   "cell_type": "code",
   "execution_count": 250,
   "id": "27e5888e",
   "metadata": {},
   "outputs": [
    {
     "data": {
      "text/html": [
       "<div>\n",
       "<style scoped>\n",
       "    .dataframe tbody tr th:only-of-type {\n",
       "        vertical-align: middle;\n",
       "    }\n",
       "\n",
       "    .dataframe tbody tr th {\n",
       "        vertical-align: top;\n",
       "    }\n",
       "\n",
       "    .dataframe thead th {\n",
       "        text-align: right;\n",
       "    }\n",
       "</style>\n",
       "<table border=\"1\" class=\"dataframe\">\n",
       "  <thead>\n",
       "    <tr style=\"text-align: right;\">\n",
       "      <th></th>\n",
       "      <th>B_max</th>\n",
       "      <th>C_max</th>\n",
       "    </tr>\n",
       "    <tr>\n",
       "      <th>A</th>\n",
       "      <th></th>\n",
       "      <th></th>\n",
       "    </tr>\n",
       "  </thead>\n",
       "  <tbody>\n",
       "    <tr>\n",
       "      <th>1</th>\n",
       "      <td>4</td>\n",
       "      <td>7</td>\n",
       "    </tr>\n",
       "    <tr>\n",
       "      <th>2</th>\n",
       "      <td>5</td>\n",
       "      <td>8</td>\n",
       "    </tr>\n",
       "    <tr>\n",
       "      <th>3</th>\n",
       "      <td>6</td>\n",
       "      <td>9</td>\n",
       "    </tr>\n",
       "  </tbody>\n",
       "</table>\n",
       "</div>"
      ],
      "text/plain": [
       "   B_max  C_max\n",
       "A              \n",
       "1      4      7\n",
       "2      5      8\n",
       "3      6      9"
      ]
     },
     "execution_count": 250,
     "metadata": {},
     "output_type": "execute_result"
    }
   ],
   "source": [
    "import pandas as pd\n",
    "\n",
    "data = { 'A': [1, 2, 3], 'B': [4, 5, 6], 'C': [7, 8, 9]}; df = pd.DataFrame(data)\n",
    "\n",
    "\n",
    "max_expr = lambda col: col.max()\n",
    "\n",
    "max_df = df.groupby('A').agg(max_expr).rename(columns=lambda x: x + '_max')\n",
    "\n",
    "max_df\n"
   ]
  },
  {
   "cell_type": "code",
   "execution_count": 252,
   "id": "02c439df",
   "metadata": {},
   "outputs": [
    {
     "data": {
      "text/html": [
       "<div>\n",
       "<style scoped>\n",
       "    .dataframe tbody tr th:only-of-type {\n",
       "        vertical-align: middle;\n",
       "    }\n",
       "\n",
       "    .dataframe tbody tr th {\n",
       "        vertical-align: top;\n",
       "    }\n",
       "\n",
       "    .dataframe thead th {\n",
       "        text-align: right;\n",
       "    }\n",
       "</style>\n",
       "<table border=\"1\" class=\"dataframe\">\n",
       "  <thead>\n",
       "    <tr style=\"text-align: right;\">\n",
       "      <th></th>\n",
       "      <th>ID</th>\n",
       "      <th>Value_A_X</th>\n",
       "      <th>Value_A_Y</th>\n",
       "      <th>Value_B_X</th>\n",
       "      <th>Value_B_Y</th>\n",
       "    </tr>\n",
       "  </thead>\n",
       "  <tbody>\n",
       "    <tr>\n",
       "      <th>0</th>\n",
       "      <td>1</td>\n",
       "      <td>10</td>\n",
       "      <td>15</td>\n",
       "      <td>12</td>\n",
       "      <td>17</td>\n",
       "    </tr>\n",
       "    <tr>\n",
       "      <th>1</th>\n",
       "      <td>1</td>\n",
       "      <td>20</td>\n",
       "      <td>25</td>\n",
       "      <td>22</td>\n",
       "      <td>27</td>\n",
       "    </tr>\n",
       "    <tr>\n",
       "      <th>2</th>\n",
       "      <td>2</td>\n",
       "      <td>30</td>\n",
       "      <td>35</td>\n",
       "      <td>32</td>\n",
       "      <td>37</td>\n",
       "    </tr>\n",
       "    <tr>\n",
       "      <th>3</th>\n",
       "      <td>2</td>\n",
       "      <td>40</td>\n",
       "      <td>45</td>\n",
       "      <td>42</td>\n",
       "      <td>47</td>\n",
       "    </tr>\n",
       "    <tr>\n",
       "      <th>4</th>\n",
       "      <td>3</td>\n",
       "      <td>50</td>\n",
       "      <td>55</td>\n",
       "      <td>52</td>\n",
       "      <td>57</td>\n",
       "    </tr>\n",
       "    <tr>\n",
       "      <th>5</th>\n",
       "      <td>3</td>\n",
       "      <td>60</td>\n",
       "      <td>65</td>\n",
       "      <td>62</td>\n",
       "      <td>67</td>\n",
       "    </tr>\n",
       "  </tbody>\n",
       "</table>\n",
       "</div>"
      ],
      "text/plain": [
       "   ID  Value_A_X  Value_A_Y  Value_B_X  Value_B_Y\n",
       "0   1         10         15         12         17\n",
       "1   1         20         25         22         27\n",
       "2   2         30         35         32         37\n",
       "3   2         40         45         42         47\n",
       "4   3         50         55         52         57\n",
       "5   3         60         65         62         67"
      ]
     },
     "execution_count": 252,
     "metadata": {},
     "output_type": "execute_result"
    }
   ],
   "source": [
    "import pandas as pd\n",
    "\n",
    "# Sample DataFrame\n",
    "data = {'ID': [1, 1, 2, 2, 3, 3],\n",
    "        'Value_A_X': [10, 20, 30, 40, 50, 60],\n",
    "        'Value_A_Y': [15, 25, 35, 45, 55, 65],\n",
    "        'Value_B_X': [12, 22, 32, 42, 52, 62],\n",
    "        'Value_B_Y': [17, 27, 37, 47, 57, 67]}\n",
    "\n",
    "df = pd.DataFrame(data)\n",
    "df"
   ]
  },
  {
   "cell_type": "code",
   "execution_count": 257,
   "id": "681e11db",
   "metadata": {},
   "outputs": [
    {
     "data": {
      "text/html": [
       "<div>\n",
       "<style scoped>\n",
       "    .dataframe tbody tr th:only-of-type {\n",
       "        vertical-align: middle;\n",
       "    }\n",
       "\n",
       "    .dataframe tbody tr th {\n",
       "        vertical-align: top;\n",
       "    }\n",
       "\n",
       "    .dataframe thead th {\n",
       "        text-align: right;\n",
       "    }\n",
       "</style>\n",
       "<table border=\"1\" class=\"dataframe\">\n",
       "  <thead>\n",
       "    <tr style=\"text-align: right;\">\n",
       "      <th></th>\n",
       "      <th>Value_A_X</th>\n",
       "      <th>Value_A_Y</th>\n",
       "      <th>Value_B_X</th>\n",
       "      <th>Value_B_Y</th>\n",
       "    </tr>\n",
       "    <tr>\n",
       "      <th>ID</th>\n",
       "      <th></th>\n",
       "      <th></th>\n",
       "      <th></th>\n",
       "      <th></th>\n",
       "    </tr>\n",
       "  </thead>\n",
       "  <tbody>\n",
       "    <tr>\n",
       "      <th>1</th>\n",
       "      <td>20</td>\n",
       "      <td>25</td>\n",
       "      <td>22</td>\n",
       "      <td>27</td>\n",
       "    </tr>\n",
       "    <tr>\n",
       "      <th>2</th>\n",
       "      <td>40</td>\n",
       "      <td>45</td>\n",
       "      <td>42</td>\n",
       "      <td>47</td>\n",
       "    </tr>\n",
       "    <tr>\n",
       "      <th>3</th>\n",
       "      <td>60</td>\n",
       "      <td>65</td>\n",
       "      <td>62</td>\n",
       "      <td>67</td>\n",
       "    </tr>\n",
       "  </tbody>\n",
       "</table>\n",
       "</div>"
      ],
      "text/plain": [
       "    Value_A_X  Value_A_Y  Value_B_X  Value_B_Y\n",
       "ID                                            \n",
       "1          20         25         22         27\n",
       "2          40         45         42         47\n",
       "3          60         65         62         67"
      ]
     },
     "execution_count": 257,
     "metadata": {},
     "output_type": "execute_result"
    }
   ],
   "source": [
    "\n",
    "# Define the suffix to filter by\n",
    "suffix_to_filter = '_X'\n",
    "\n",
    "# Group by ID and filter columns with the specified suffix, then get the max for each group\n",
    "result = df.groupby('ID').filter(lambda x: x.columns.str.endswith(suffix_to_filter).any()).groupby('ID').max()\n",
    "\n",
    "result\n"
   ]
  },
  {
   "cell_type": "code",
   "execution_count": 4,
   "id": "c2833e80",
   "metadata": {},
   "outputs": [
    {
     "data": {
      "text/html": [
       "<div>\n",
       "<style scoped>\n",
       "    .dataframe tbody tr th:only-of-type {\n",
       "        vertical-align: middle;\n",
       "    }\n",
       "\n",
       "    .dataframe tbody tr th {\n",
       "        vertical-align: top;\n",
       "    }\n",
       "\n",
       "    .dataframe thead th {\n",
       "        text-align: right;\n",
       "    }\n",
       "</style>\n",
       "<table border=\"1\" class=\"dataframe\">\n",
       "  <thead>\n",
       "    <tr style=\"text-align: right;\">\n",
       "      <th></th>\n",
       "      <th>A</th>\n",
       "      <th>B</th>\n",
       "      <th>C</th>\n",
       "    </tr>\n",
       "  </thead>\n",
       "  <tbody>\n",
       "    <tr>\n",
       "      <th>0</th>\n",
       "      <td>1.0</td>\n",
       "      <td>2.0</td>\n",
       "      <td>3.0</td>\n",
       "    </tr>\n",
       "    <tr>\n",
       "      <th>1</th>\n",
       "      <td>4.0</td>\n",
       "      <td>5.0</td>\n",
       "      <td>6.0</td>\n",
       "    </tr>\n",
       "    <tr>\n",
       "      <th>2</th>\n",
       "      <td>7.0</td>\n",
       "      <td>8.0</td>\n",
       "      <td>9.0</td>\n",
       "    </tr>\n",
       "    <tr>\n",
       "      <th>3</th>\n",
       "      <td>NaN</td>\n",
       "      <td>NaN</td>\n",
       "      <td>NaN</td>\n",
       "    </tr>\n",
       "  </tbody>\n",
       "</table>\n",
       "</div>"
      ],
      "text/plain": [
       "     A    B    C\n",
       "0  1.0  2.0  3.0\n",
       "1  4.0  5.0  6.0\n",
       "2  7.0  8.0  9.0\n",
       "3  NaN  NaN  NaN"
      ]
     },
     "execution_count": 4,
     "metadata": {},
     "output_type": "execute_result"
    }
   ],
   "source": [
    "import pandas as pd\n",
    "import numpy as np\n",
    "df = pd.DataFrame([[1, 2, 3], [4, 5, 6], [7, 8, 9], [np.nan, np.nan, np.nan]], columns=['A', 'B', 'C'])\n",
    "df"
   ]
  },
  {
   "cell_type": "code",
   "execution_count": 5,
   "id": "58d7d3f6",
   "metadata": {},
   "outputs": [
    {
     "data": {
      "text/html": [
       "<div>\n",
       "<style scoped>\n",
       "    .dataframe tbody tr th:only-of-type {\n",
       "        vertical-align: middle;\n",
       "    }\n",
       "\n",
       "    .dataframe tbody tr th {\n",
       "        vertical-align: top;\n",
       "    }\n",
       "\n",
       "    .dataframe thead th {\n",
       "        text-align: right;\n",
       "    }\n",
       "</style>\n",
       "<table border=\"1\" class=\"dataframe\">\n",
       "  <thead>\n",
       "    <tr style=\"text-align: right;\">\n",
       "      <th></th>\n",
       "      <th>A</th>\n",
       "      <th>B</th>\n",
       "      <th>C</th>\n",
       "    </tr>\n",
       "  </thead>\n",
       "  <tbody>\n",
       "    <tr>\n",
       "      <th>sum</th>\n",
       "      <td>12.0</td>\n",
       "      <td>15.0</td>\n",
       "      <td>18.0</td>\n",
       "    </tr>\n",
       "    <tr>\n",
       "      <th>min</th>\n",
       "      <td>1.0</td>\n",
       "      <td>2.0</td>\n",
       "      <td>3.0</td>\n",
       "    </tr>\n",
       "  </tbody>\n",
       "</table>\n",
       "</div>"
      ],
      "text/plain": [
       "        A     B     C\n",
       "sum  12.0  15.0  18.0\n",
       "min   1.0   2.0   3.0"
      ]
     },
     "execution_count": 5,
     "metadata": {},
     "output_type": "execute_result"
    }
   ],
   "source": [
    "df.agg(['sum', 'min'])"
   ]
  },
  {
   "cell_type": "code",
   "execution_count": 6,
   "id": "66493369",
   "metadata": {},
   "outputs": [
    {
     "data": {
      "text/plain": [
       "0    2.0\n",
       "1    5.0\n",
       "2    8.0\n",
       "3    NaN\n",
       "dtype: float64"
      ]
     },
     "execution_count": 6,
     "metadata": {},
     "output_type": "execute_result"
    }
   ],
   "source": [
    "df.agg(\"mean\", axis=\"columns\")\n"
   ]
  },
  {
   "cell_type": "code",
   "execution_count": null,
   "id": "4bf46ec8",
   "metadata": {},
   "outputs": [],
   "source": []
  },
  {
   "cell_type": "code",
   "execution_count": null,
   "id": "1c11f189",
   "metadata": {},
   "outputs": [],
   "source": []
  },
  {
   "cell_type": "code",
   "execution_count": 11,
   "id": "dcb1f188",
   "metadata": {},
   "outputs": [
    {
     "data": {
      "text/html": [
       "<div>\n",
       "<style scoped>\n",
       "    .dataframe tbody tr th:only-of-type {\n",
       "        vertical-align: middle;\n",
       "    }\n",
       "\n",
       "    .dataframe tbody tr th {\n",
       "        vertical-align: top;\n",
       "    }\n",
       "\n",
       "    .dataframe thead th {\n",
       "        text-align: right;\n",
       "    }\n",
       "</style>\n",
       "<table border=\"1\" class=\"dataframe\">\n",
       "  <thead>\n",
       "    <tr style=\"text-align: right;\">\n",
       "      <th></th>\n",
       "      <th>Value2</th>\n",
       "    </tr>\n",
       "    <tr>\n",
       "      <th>Category</th>\n",
       "      <th></th>\n",
       "    </tr>\n",
       "  </thead>\n",
       "  <tbody>\n",
       "    <tr>\n",
       "      <th>A</th>\n",
       "      <td>500</td>\n",
       "    </tr>\n",
       "    <tr>\n",
       "      <th>B</th>\n",
       "      <td>400</td>\n",
       "    </tr>\n",
       "  </tbody>\n",
       "</table>\n",
       "</div>"
      ],
      "text/plain": [
       "          Value2\n",
       "Category        \n",
       "A            500\n",
       "B            400"
      ]
     },
     "execution_count": 11,
     "metadata": {},
     "output_type": "execute_result"
    }
   ],
   "source": [
    "import pandas as pd\n",
    "\n",
    "# Sample DataFrame\n",
    "data = {'Category': ['A', 'B', 'A', 'B', 'A'], 'Value1': [10, 20, 30, 40, 50], 'Value2': [100, 200, 300, 400, 500]}\n",
    "\n",
    "df = pd.DataFrame(data)\n",
    "\n",
    "\n",
    "aggregations = {'Value2': 'max'} ##############<<<<<<<<<<<<<<<###############<<<<<<<<<< important\n",
    "\n",
    "\n",
    "\n",
    "result = df.groupby('Category').agg(aggregations).rename(columns=[str(key)+str(aggregations) for key in aggregations.keys()])\n",
    "\n",
    "result\n"
   ]
  },
  {
   "cell_type": "code",
   "execution_count": null,
   "id": "4f0fac81",
   "metadata": {},
   "outputs": [],
   "source": []
  },
  {
   "cell_type": "code",
   "execution_count": null,
   "id": "ad73aa3f",
   "metadata": {},
   "outputs": [],
   "source": []
  },
  {
   "cell_type": "code",
   "execution_count": null,
   "id": "bca8101a",
   "metadata": {},
   "outputs": [],
   "source": [
    "#i.e. This refers to the date when a decision was made regarding the approval of the loan."
   ]
  },
  {
   "cell_type": "code",
   "execution_count": 10,
   "id": "7ca62eeb",
   "metadata": {
    "execution": {
     "iopub.execute_input": "2024-03-11T20:22:26.565337Z",
     "iopub.status.busy": "2024-03-11T20:22:26.564999Z",
     "iopub.status.idle": "2024-03-11T20:22:38.552398Z",
     "shell.execute_reply": "2024-03-11T20:22:38.551267Z"
    },
    "papermill": {
     "duration": 11.999532,
     "end_time": "2024-03-11T20:22:38.554478",
     "exception": false,
     "start_time": "2024-03-11T20:22:26.554946",
     "status": "completed"
    },
    "tags": []
   },
   "outputs": [
    {
     "name": "stdout",
     "output_type": "stream",
     "text": [
      "train data shape:\t (1526659, 472)\n"
     ]
    }
   ],
   "source": [
    "class Pipeline:\n",
    "    @staticmethod\n",
    "    def set_table_dtypes(df):\n",
    "        for col in df.columns:\n",
    "            if col in [\"case_id\", \"WEEK_NUM\", \"num_group1\", \"num_group2\"]:\n",
    "                df.loc[:, col] = df.loc[:, col].astype('int32') #with_columns(pl.col(col).cast(pl.Int32))\n",
    "            elif col in [\"date_decision\"]:\n",
    "                df.loc[:, col] = df.loc[:, col].astype('datetime64[ns]') #with_columns(pl.col(col).cast(pl.Date))\n",
    "            elif col[-1] in (\"P\", \"A\"):\n",
    "                df.loc[:, col] = df.loc[:, col].astype('float64') #with_columns(pl.col(col).cast(pl.Float64))\n",
    "            elif col[-1] in (\"M\",):\n",
    "                df.loc[:, col] = df.loc[:, col].astype('string') #with_columns(pl.col(col).cast(pl.String))\n",
    "            elif col[-1] in (\"D\",):\n",
    "                df.loc[:, col] = df.loc[:, col].astype('datetime64[ns]') #with_columns(pl.col(col).cast(pl.Date))            \n",
    "\n",
    "        return df\n",
    "    \n",
    "    @staticmethod\n",
    "    def handle_dates(df):\n",
    "        '''Edit date to number of days before the loan approval/refusal/denial decision date'''\n",
    "        for col in df.columns:\n",
    "            if col[-1] in (\"D\",):\n",
    "                df.loc[:, col] = df.loc[:, col] - df.loc[:, 'date_decision'] #.with_columns(pl.col(col) - pl.col(\"date_decision\"))\n",
    "                df.loc[:, col] = df.loc[:, col].astype('timedelta64[D]') #df = df.with_columns(pl.col(col).dt.total_days())\n",
    "                #with_columns(pl.col(col).cast(pl.Float32))\n",
    "                \n",
    "        df = df.drop(\"date_decision\", \"MONTH\")\n",
    "\n",
    "        return df\n",
    "    \n",
    "    @staticmethod\n",
    "    def filter_cols(df):\n",
    "        for col in df.columns:\n",
    "            if col not in [\"target\", \"case_id\", \"WEEK_NUM\"]:\n",
    "                isnull = df[col].isnull().mean()\n",
    "\n",
    "                if isnull > 0.95:\n",
    "                    df = df.drop(columns=col)\n",
    "\n",
    "        for col in df.columns:\n",
    "            if (col not in [\"target\", \"case_id\", \"WEEK_NUM\"]) & (df[col].dtype == object):\n",
    "                freq = df[col].nunique()\n",
    "\n",
    "                if (freq == 1) | (freq > 200):\n",
    "                    df = df.drop(columns=col)\n",
    "\n",
    "        return df\n",
    "\n",
    "\n",
    "\n",
    "    \n",
    "    \n",
    "#V-- what does this Aggregator class do??? why do the methods return \"expr_max\"???? Is this feature engineering??\n",
    "\n",
    "class Aggregator:\n",
    "    @staticmethod\n",
    "    def num_expr(df):\n",
    "        '''P is for Transform DPD (Days past due);\n",
    "           A is for Transform amount\n",
    "        '''\n",
    "        cols = [col for col in df.columns if col[-1] in (\"P\", \"A\")]\n",
    "\n",
    "        expr_max = {col: 'max' for col in cols}\n",
    "\n",
    "        #cols_renamed_dictionary = dict(zip(cols, [f\"max_{col}\" for col in cols]))        \n",
    "        \n",
    "        return expr_max\n",
    "\n",
    "    @staticmethod\n",
    "    def date_expr(df):\n",
    "        '''D is for Transform date\n",
    "        '''\n",
    "        cols = [col for col in df.columns if col[-1] in (\"D\",)]\n",
    "\n",
    "        expr_max = {col: 'max' for col in cols} #expr_max = [pl.max(col).alias(f\"max_{col}\") for col in cols]\n",
    "\n",
    "        return expr_max\n",
    "\n",
    "    @staticmethod\n",
    "    def str_expr(df):\n",
    "        '''M is for  Masking categories\n",
    "        '''\n",
    "        cols = [col for col in df.columns if col[-1] in (\"M\",)]\n",
    "        \n",
    "        expr_max = {col: 'max' for col in cols} #expr_max = [pl.max(col).alias(f\"max_{col}\") for col in cols]\n",
    "\n",
    "        return expr_max\n",
    "\n",
    "    @staticmethod\n",
    "    def other_expr(df):\n",
    "        '''T is for Unspecified Transform\n",
    "           L is for Unspecified Transform\n",
    "        '''\n",
    "        cols = [col for col in df.columns if col[-1] in (\"T\", \"L\")]\n",
    "        \n",
    "        expr_max = {col: 'max' for col in cols} #expr_max = [pl.max(col).alias(f\"max_{col}\") for col in cols]\n",
    "\n",
    "        return expr_max\n",
    "    \n",
    "    @staticmethod\n",
    "    def count_expr(df):\n",
    "        cols = [col for col in df.columns if \"num_group\" in col]\n",
    "\n",
    "        expr_max = {col: 'max' for col in cols} #expr_max = [pl.max(col).alias(f\"max_{col}\") for col in cols]\n",
    "        \n",
    "        return expr_max\n",
    "\n",
    "    @staticmethod\n",
    "    def get_exprs(df):\n",
    "        exprs = Aggregator.num_expr(df) + \\\n",
    "                Aggregator.date_expr(df) + \\\n",
    "                Aggregator.str_expr(df) + \\\n",
    "                Aggregator.other_expr(df) + \\\n",
    "                Aggregator.count_expr(df)\n",
    "\n",
    "        return exprs\n",
    "    \n",
    "    @staticmethod    \n",
    "    def get_cols_dictionary(df):\n",
    "        exprs = Aggregator.exprs(df)\n",
    "        cols = exprs.keys()\n",
    "        cols_dictionary = {f'{col}':f'{exprs[col]}_{col}' for col in cols}\n",
    "        return cols_dictionary\n",
    "\n",
    "\n",
    "\n",
    "####v--- is read_file and read_files performing feature engineering??? or just reading in the data???\n",
    "\n",
    "def read_file(path, depth=None):\n",
    "    '''read in the file;\n",
    "       set the data type by column name or suffix\n",
    "    '''\n",
    "    df = pd.read_csv(path)\n",
    "    df = df.pipe(Pipeline.set_table_dtypes)\n",
    "    \n",
    "    if depth in [1, 2]:\n",
    "        df = df.groupby(\"case_id\").agg(Aggregator.get_exprs(df)).rename(columns=Aggregator.get_cols_dictionary(df)) #df = df.groupby(\"case_id\").agg(Aggregator.get_exprs(df))\n",
    "        \n",
    "    \n",
    "    return df\n",
    "\n",
    "def read_files(regex_path, depth=None):\n",
    "    chunks = []\n",
    "    for path in glob(str(regex_path)):\n",
    "        df = pd.read_csv(path)\n",
    "        df = df.pipe(Pipeline.set_table_dtypes)\n",
    "        \n",
    "        if depth in [1, 2]:\n",
    "            df = df.groupby(\"case_id\").agg(Aggregator.get_exprs(df)).rename(columns=Aggregator.get_cols_dictionary(df))\n",
    "        \n",
    "        chunks.append(df)\n",
    "        \n",
    "    df = pd.concat(chunks, axis=1) #pl.concat(chunks, how=\"vertical_relaxed\")\n",
    "    df = df.drop_duplicates()\n",
    "    #df = df.unique(subset=[\"case_id\"])\n",
    "    \n",
    "    return df\n",
    "\n",
    "\n",
    "    \n",
    "\n",
    "def feature_engineering(df_base, depth_0, depth_1, depth_2):\n",
    "    \n",
    "    #add 2 new columns\n",
    "    df_base = (df_base.with_columns(month_decision = pl.col(\"date_decision\").dt.month(), weekday_decision = pl.col(\"date_decision\").dt.weekday(),))\n",
    "    \n",
    "    #left join the DataFrame's in the list on 'case_id'\n",
    "    for i, df in enumerate(depth_0 + depth_1 + depth_2):\n",
    "        df_base = df_base.join(df, how=\"left\", on=\"case_id\", suffix=f\"_{i}\")\n",
    "        \n",
    "    df_base = df_base.pipe(Pipeline.handle_dates)\n",
    "    \n",
    "    return df_base\n",
    "\n",
    "\n",
    "\n",
    "\n",
    "TRAIN_DIR = \"../data/raw/train/\"\n",
    "\n",
    "data_store = {\n",
    "    \"df_base\": read_file(TRAIN_DIR + \"train_base.csv\"),\n",
    "    \"depth_0\": [\n",
    "        read_file(TRAIN_DIR + \"train_static_cb_0.csv\"),\n",
    "        read_files(TRAIN_DIR + \"train_static_0_*.csv\"),\n",
    "    ],\n",
    "    \"depth_1\": [\n",
    "        read_files(TRAIN_DIR + \"train_applprev_1_*.csv\", 1),\n",
    "        read_file(TRAIN_DIR + \"train_tax_registry_a_1.csv\", 1),\n",
    "        read_file(TRAIN_DIR + \"train_tax_registry_b_1.csv\", 1),\n",
    "        read_file(TRAIN_DIR + \"train_tax_registry_c_1.csv\", 1),\n",
    "        read_files(TRAIN_DIR + \"train_credit_bureau_a_1_*.csv\", 1),\n",
    "        read_file(TRAIN_DIR + \"train_credit_bureau_b_1.csv\", 1),\n",
    "        read_file(TRAIN_DIR + \"train_other_1.csv\", 1),\n",
    "        read_file(TRAIN_DIR + \"train_person_1.csv\", 1),\n",
    "        read_file(TRAIN_DIR + \"train_deposit_1.csv\", 1),\n",
    "        read_file(TRAIN_DIR + \"train_debitcard_1.csv\", 1),\n",
    "    ],\n",
    "    \"depth_2\": [\n",
    "        read_file(TRAIN_DIR + \"train_credit_bureau_b_2.csv\", 2),\n",
    "        read_files(TRAIN_DIR + \"train_credit_bureau_a_2_*.csv\", 2),\n",
    "    ]\n",
    "}\n",
    "\n",
    "#The *args will give you all positional arguments as a tuple\n",
    "#The **kwargs will give you all keyword arguments as a dictionary\n",
    "\n",
    "df_train = feature_engineering(**data_store)\n",
    "\n",
    "\n",
    "\n",
    "\n",
    "\n",
    "def preview_df(df):\n",
    "    \"\"\"Of this DataFrame, prints the row and column count and then returns the concatenated first 5 and last % rows.\n",
    "\n",
    "    Args:\n",
    "        df (DataFrame): This pandas DataFrame object.\n",
    "    Returns:\n",
    "        df (DataFrame): The concatenated first 5 and last 5 rows of this pandas DataFrame.\n",
    "    \"\"\"\n",
    "    if df.shape[0] > 9:\n",
    "        print(df.shape)\n",
    "        return pd.DataFrame(pd.concat([df.head(5), df.tail(5)]))\n",
    "    else:\n",
    "        return df\n",
    "\n",
    "preview_df(df_train)"
   ]
  },
  {
   "cell_type": "markdown",
   "id": "de51c4ea",
   "metadata": {
    "papermill": {
     "duration": 0.008776,
     "end_time": "2024-03-11T20:22:39.250093",
     "exception": false,
     "start_time": "2024-03-11T20:22:39.241317",
     "status": "completed"
    },
    "tags": []
   },
   "source": [
    "### Feature Elimination"
   ]
  },
  {
   "cell_type": "code",
   "execution_count": 13,
   "id": "b4053b07",
   "metadata": {
    "execution": {
     "iopub.execute_input": "2024-03-11T20:22:39.269947Z",
     "iopub.status.busy": "2024-03-11T20:22:39.269394Z",
     "iopub.status.idle": "2024-03-11T20:22:42.015546Z",
     "shell.execute_reply": "2024-03-11T20:22:42.014587Z"
    },
    "papermill": {
     "duration": 2.758307,
     "end_time": "2024-03-11T20:22:42.017667",
     "exception": false,
     "start_time": "2024-03-11T20:22:39.259360",
     "status": "completed"
    },
    "tags": []
   },
   "outputs": [
    {
     "name": "stdout",
     "output_type": "stream",
     "text": [
      "train data shape:\t (1526659, 361)\n",
      "test data shape:\t (10, 360)\n"
     ]
    }
   ],
   "source": [
    "df_train = df_train.pipe(Pipeline.filter_cols)\n",
    "\n",
    "print(\"train data shape:\\t\", df_train.shape)"
   ]
  },
  {
   "cell_type": "markdown",
   "id": "dce4218d",
   "metadata": {
    "papermill": {
     "duration": 0.00925,
     "end_time": "2024-03-11T20:23:00.767926",
     "exception": false,
     "start_time": "2024-03-11T20:23:00.758676",
     "status": "completed"
    },
    "tags": []
   },
   "source": [
    "### Garbage Collection"
   ]
  },
  {
   "cell_type": "code",
   "execution_count": 15,
   "id": "16e8b237",
   "metadata": {
    "execution": {
     "iopub.execute_input": "2024-03-11T20:23:00.787299Z",
     "iopub.status.busy": "2024-03-11T20:23:00.786797Z",
     "iopub.status.idle": "2024-03-11T20:23:00.911801Z",
     "shell.execute_reply": "2024-03-11T20:23:00.911010Z"
    },
    "papermill": {
     "duration": 0.137016,
     "end_time": "2024-03-11T20:23:00.913914",
     "exception": false,
     "start_time": "2024-03-11T20:23:00.776898",
     "status": "completed"
    },
    "tags": []
   },
   "outputs": [
    {
     "data": {
      "text/plain": [
       "0"
      ]
     },
     "execution_count": 15,
     "metadata": {},
     "output_type": "execute_result"
    }
   ],
   "source": [
    "del data_store\n",
    "\n",
    "gc.collect()"
   ]
  },
  {
   "cell_type": "markdown",
   "id": "0f2c782c",
   "metadata": {
    "papermill": {
     "duration": 0.009084,
     "end_time": "2024-03-11T20:23:00.932380",
     "exception": false,
     "start_time": "2024-03-11T20:23:00.923296",
     "status": "completed"
    },
    "tags": []
   },
   "source": [
    "### EDA"
   ]
  },
  {
   "cell_type": "code",
   "execution_count": 16,
   "id": "9a87b1ad",
   "metadata": {
    "execution": {
     "iopub.execute_input": "2024-03-11T20:23:00.952356Z",
     "iopub.status.busy": "2024-03-11T20:23:00.951810Z",
     "iopub.status.idle": "2024-03-11T20:23:00.978038Z",
     "shell.execute_reply": "2024-03-11T20:23:00.977167Z"
    },
    "papermill": {
     "duration": 0.038139,
     "end_time": "2024-03-11T20:23:00.979829",
     "exception": false,
     "start_time": "2024-03-11T20:23:00.941690",
     "status": "completed"
    },
    "tags": []
   },
   "outputs": [
    {
     "name": "stdout",
     "output_type": "stream",
     "text": [
      "Train is duplicated:\t False\n",
      "Train Week Range:\t (0, 91)\n",
      "\n",
      "Test is duplicated:\t False\n",
      "Test Week Range:\t (100, 100)\n"
     ]
    }
   ],
   "source": [
    "print(\"Train is duplicated:\\t\", df_train[\"case_id\"].duplicated().any())\n",
    "print(\"Train Week Range:\\t\", (df_train[\"WEEK_NUM\"].min(), df_train[\"WEEK_NUM\"].max()))\n"
   ]
  },
  {
   "cell_type": "code",
   "execution_count": 17,
   "id": "890cf105",
   "metadata": {
    "execution": {
     "iopub.execute_input": "2024-03-11T20:23:00.999694Z",
     "iopub.status.busy": "2024-03-11T20:23:00.999384Z",
     "iopub.status.idle": "2024-03-11T20:23:17.541463Z",
     "shell.execute_reply": "2024-03-11T20:23:17.540571Z"
    },
    "papermill": {
     "duration": 16.554713,
     "end_time": "2024-03-11T20:23:17.543990",
     "exception": false,
     "start_time": "2024-03-11T20:23:00.989277",
     "status": "completed"
    },
    "tags": []
   },
   "outputs": [
    {
     "data": {
      "image/png": "[encoded data removed]",
      "text/plain": [
       "<Figure size 640x480 with 1 Axes>"
      ]
     },
     "metadata": {},
     "output_type": "display_data"
    }
   ],
   "source": [
    "sns.lineplot(\n",
    "    data=df_train,\n",
    "    x=\"WEEK_NUM\",\n",
    "    y=\"target\",\n",
    ")\n",
    "plt.show()"
   ]
  },
  {
   "cell_type": "markdown",
   "id": "3c6f07d8",
   "metadata": {
    "papermill": {
     "duration": 0.01291,
     "end_time": "2024-03-11T20:23:17.567408",
     "exception": false,
     "start_time": "2024-03-11T20:23:17.554498",
     "status": "completed"
    },
    "tags": []
   },
   "source": [
    "### Training"
   ]
  },
  {
   "cell_type": "code",
   "execution_count": 18,
   "id": "ee57fad5",
   "metadata": {
    "execution": {
     "iopub.execute_input": "2024-03-11T20:23:17.595206Z",
     "iopub.status.busy": "2024-03-11T20:23:17.594787Z",
     "iopub.status.idle": "2024-03-11T20:40:29.888472Z",
     "shell.execute_reply": "2024-03-11T20:40:29.887312Z"
    },
    "papermill": {
     "duration": 1032.311042,
     "end_time": "2024-03-11T20:40:29.890585",
     "exception": false,
     "start_time": "2024-03-11T20:23:17.579543",
     "status": "completed"
    },
    "tags": []
   },
   "outputs": [
    {
     "name": "stderr",
     "output_type": "stream",
     "text": [
      "1 warning generated.\n",
      "1 warning generated.\n",
      "1 warning generated.\n",
      "1 warning generated.\n",
      "1 warning generated.\n",
      "1 warning generated.\n",
      "1 warning generated.\n",
      "1 warning generated.\n",
      "1 warning generated.\n",
      "1 warning generated.\n",
      "1 warning generated.\n",
      "1 warning generated.\n",
      "1 warning generated.\n",
      "1 warning generated.\n",
      "1 warning generated.\n",
      "1 warning generated.\n",
      "1 warning generated.\n",
      "1 warning generated.\n",
      "1 warning generated.\n",
      "1 warning generated.\n",
      "1 warning generated.\n",
      "1 warning generated.\n",
      "1 warning generated.\n",
      "1 warning generated.\n",
      "1 warning generated.\n",
      "1 warning generated.\n",
      "1 warning generated.\n",
      "1 warning generated.\n",
      "1 warning generated.\n",
      "1 warning generated.\n",
      "1 warning generated.\n",
      "1 warning generated.\n",
      "1 warning generated.\n"
     ]
    },
    {
     "name": "stdout",
     "output_type": "stream",
     "text": [
      "Training until validation scores don't improve for 100 rounds\n",
      "[100]\tvalid_0's auc: 0.837898\n",
      "[200]\tvalid_0's auc: 0.847311\n",
      "[300]\tvalid_0's auc: 0.850356\n",
      "[400]\tvalid_0's auc: 0.851658\n",
      "[500]\tvalid_0's auc: 0.852267\n",
      "[600]\tvalid_0's auc: 0.852681\n",
      "[700]\tvalid_0's auc: 0.852999\n",
      "[800]\tvalid_0's auc: 0.853257\n",
      "[900]\tvalid_0's auc: 0.853467\n",
      "[1000]\tvalid_0's auc: 0.853659\n",
      "Did not meet early stopping. Best iteration is:\n",
      "[999]\tvalid_0's auc: 0.853664\n",
      "Training until validation scores don't improve for 100 rounds\n",
      "[100]\tvalid_0's auc: 0.838944\n",
      "[200]\tvalid_0's auc: 0.847974\n",
      "[300]\tvalid_0's auc: 0.85079\n",
      "[400]\tvalid_0's auc: 0.851925\n",
      "[500]\tvalid_0's auc: 0.852596\n",
      "[600]\tvalid_0's auc: 0.853053\n",
      "[700]\tvalid_0's auc: 0.853198\n",
      "[800]\tvalid_0's auc: 0.853376\n",
      "[900]\tvalid_0's auc: 0.853481\n",
      "[1000]\tvalid_0's auc: 0.853607\n",
      "Did not meet early stopping. Best iteration is:\n",
      "[998]\tvalid_0's auc: 0.853617\n",
      "Training until validation scores don't improve for 100 rounds\n",
      "[100]\tvalid_0's auc: 0.843069\n",
      "[200]\tvalid_0's auc: 0.852456\n",
      "[300]\tvalid_0's auc: 0.855694\n",
      "[400]\tvalid_0's auc: 0.857192\n",
      "[500]\tvalid_0's auc: 0.857836\n",
      "[600]\tvalid_0's auc: 0.858152\n",
      "[700]\tvalid_0's auc: 0.858569\n",
      "[800]\tvalid_0's auc: 0.858797\n",
      "[900]\tvalid_0's auc: 0.859093\n",
      "[1000]\tvalid_0's auc: 0.859238\n",
      "Did not meet early stopping. Best iteration is:\n",
      "[999]\tvalid_0's auc: 0.859241\n",
      "Training until validation scores don't improve for 100 rounds\n",
      "[100]\tvalid_0's auc: 0.842527\n",
      "[200]\tvalid_0's auc: 0.851842\n",
      "[300]\tvalid_0's auc: 0.855138\n",
      "[400]\tvalid_0's auc: 0.856694\n",
      "[500]\tvalid_0's auc: 0.857326\n",
      "[600]\tvalid_0's auc: 0.857762\n",
      "[700]\tvalid_0's auc: 0.857983\n",
      "[800]\tvalid_0's auc: 0.858187\n",
      "[900]\tvalid_0's auc: 0.858284\n",
      "[1000]\tvalid_0's auc: 0.858374\n",
      "Did not meet early stopping. Best iteration is:\n",
      "[933]\tvalid_0's auc: 0.858382\n",
      "Training until validation scores don't improve for 100 rounds\n",
      "[100]\tvalid_0's auc: 0.837643\n",
      "[200]\tvalid_0's auc: 0.847269\n",
      "[300]\tvalid_0's auc: 0.850747\n",
      "[400]\tvalid_0's auc: 0.852485\n",
      "[500]\tvalid_0's auc: 0.853302\n",
      "[600]\tvalid_0's auc: 0.853842\n",
      "[700]\tvalid_0's auc: 0.854139\n",
      "[800]\tvalid_0's auc: 0.854264\n",
      "[900]\tvalid_0's auc: 0.854487\n",
      "[1000]\tvalid_0's auc: 0.854652\n",
      "Did not meet early stopping. Best iteration is:\n",
      "[992]\tvalid_0's auc: 0.854684\n"
     ]
    }
   ],
   "source": [
    "X = df_train.drop(columns=[\"target\", \"case_id\", \"WEEK_NUM\"])\n",
    "y = df_train[\"target\"]\n",
    "weeks = df_train[\"WEEK_NUM\"]\n",
    "\n",
    "cv = StratifiedGroupKFold(n_splits=5, shuffle=False)\n",
    "\n",
    "params = {\n",
    "    \"boosting_type\": \"gbdt\",\n",
    "    \"objective\": \"binary\",\n",
    "    \"metric\": \"auc\",\n",
    "    \"max_depth\": 8,\n",
    "    \"learning_rate\": 0.05,\n",
    "    \"n_estimators\": 1000,\n",
    "    \"colsample_bytree\": 0.8, \n",
    "    \"colsample_bynode\": 0.8,\n",
    "    \"verbose\": -1,\n",
    "    \"random_state\": 42,\n",
    "    \"device\": \"gpu\",\n",
    "}\n",
    "\n",
    "fitted_models = []\n",
    "\n",
    "for idx_train, idx_valid in cv.split(X, y, groups=weeks):\n",
    "    X_train, y_train = X.iloc[idx_train], y.iloc[idx_train]\n",
    "    X_valid, y_valid = X.iloc[idx_valid], y.iloc[idx_valid]\n",
    "\n",
    "    model = lgb.LGBMClassifier(**params)\n",
    "    model.fit(\n",
    "        X_train, y_train,\n",
    "        eval_set=[(X_valid, y_valid)],\n",
    "        callbacks=[lgb.log_evaluation(100), lgb.early_stopping(100)]\n",
    "    )\n",
    "\n",
    "    fitted_models.append(model)\n",
    "\n",
    "model = VotingModel(fitted_models)"
   ]
  },
  {
   "cell_type": "markdown",
   "id": "a2764c7f",
   "metadata": {
    "papermill": {
     "duration": 0.015335,
     "end_time": "2024-03-11T20:40:29.921663",
     "exception": false,
     "start_time": "2024-03-11T20:40:29.906328",
     "status": "completed"
    },
    "tags": []
   },
   "source": [
    "### Prediction"
   ]
  },
  {
   "cell_type": "code",
   "execution_count": 19,
   "id": "37fc8919",
   "metadata": {
    "execution": {
     "iopub.execute_input": "2024-03-11T20:40:29.953970Z",
     "iopub.status.busy": "2024-03-11T20:40:29.953671Z",
     "iopub.status.idle": "2024-03-11T20:40:30.231819Z",
     "shell.execute_reply": "2024-03-11T20:40:30.230927Z"
    },
    "papermill": {
     "duration": 0.29704,
     "end_time": "2024-03-11T20:40:30.234187",
     "exception": false,
     "start_time": "2024-03-11T20:40:29.937147",
     "status": "completed"
    },
    "tags": []
   },
   "outputs": [],
   "source": []
  },
  {
   "cell_type": "markdown",
   "id": "22d542aa",
   "metadata": {
    "papermill": {
     "duration": 0.015506,
     "end_time": "2024-03-11T20:40:30.266313",
     "exception": false,
     "start_time": "2024-03-11T20:40:30.250807",
     "status": "completed"
    },
    "tags": []
   },
   "source": [
    "### Submission"
   ]
  },
  {
   "cell_type": "code",
   "execution_count": 20,
   "id": "64927164",
   "metadata": {
    "execution": {
     "iopub.execute_input": "2024-03-11T20:40:30.299204Z",
     "iopub.status.busy": "2024-03-11T20:40:30.298476Z",
     "iopub.status.idle": "2024-03-11T20:40:30.315227Z",
     "shell.execute_reply": "2024-03-11T20:40:30.314249Z"
    },
    "papermill": {
     "duration": 0.035461,
     "end_time": "2024-03-11T20:40:30.317145",
     "exception": false,
     "start_time": "2024-03-11T20:40:30.281684",
     "status": "completed"
    },
    "tags": []
   },
   "outputs": [],
   "source": []
  }
 ],
 "metadata": {
  "kaggle": {
   "accelerator": "gpu",
   "dataSources": [
    {
     "databundleVersionId": 7921029,
     "sourceId": 50160,
     "sourceType": "competition"
    }
   ],
   "dockerImageVersionId": 30646,
   "isGpuEnabled": true,
   "isInternetEnabled": false,
   "language": "python",
   "sourceType": "notebook"
  },
  "kernelspec": {
   "display_name": "Python 3 (ipykernel)",
   "language": "python",
   "name": "python3"
  },
  "language_info": {
   "codemirror_mode": {
    "name": "ipython",
    "version": 3
   },
   "file_extension": ".py",
   "mimetype": "text/x-python",
   "name": "python",
   "nbconvert_exporter": "python",
   "pygments_lexer": "ipython3",
   "version": "3.9.12"
  },
  "papermill": {
   "default_parameters": {},
   "duration": 1221.035913,
   "end_time": "2024-03-11T20:40:31.474791",
   "environment_variables": {},
   "exception": null,
   "input_path": "__notebook__.ipynb",
   "output_path": "__notebook__.ipynb",
   "parameters": {},
   "start_time": "2024-03-11T20:20:10.438878",
   "version": "2.5.0"
  }
 },
 "nbformat": 4,
 "nbformat_minor": 5
}
